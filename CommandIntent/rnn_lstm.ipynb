{
 "cells": [
  {
   "cell_type": "markdown",
   "metadata": {},
   "source": [
    "### Trial 1 : RNN (LSTM) \n",
    "can handle sequential data (sentences) effectively\n",
    "1. Embedding layer\n",
    "2. LSTM layer (sequence processing)\n",
    "3. Two dense layers for classification\n"
   ]
  },
  {
   "cell_type": "code",
   "execution_count": 1,
   "metadata": {},
   "outputs": [],
   "source": [
    "# IMPORTS\n",
    "import utils\n",
    "import keras\n",
    "import numpy as np\n",
    "import tensorflow as tf\n",
    "from tqdm import tqdm\n",
    "import torch\n",
    "from sklearn.model_selection import train_test_split\n",
    "from sklearn.metrics import accuracy_score, f1_score, precision_score, recall_score"
   ]
  },
  {
   "cell_type": "code",
   "execution_count": 2,
   "metadata": {},
   "outputs": [],
   "source": [
    "# %pip install keras2onnx"
   ]
  },
  {
   "cell_type": "code",
   "execution_count": 3,
   "metadata": {},
   "outputs": [
    {
     "data": {
      "text/plain": [
       "device(type='cuda')"
      ]
     },
     "execution_count": 3,
     "metadata": {},
     "output_type": "execute_result"
    }
   ],
   "source": [
    "if torch.cuda.is_available():\n",
    "    device = torch.device('cuda')\n",
    "\n",
    "device"
   ]
  },
  {
   "cell_type": "markdown",
   "metadata": {},
   "source": [
    "#### 1. Load cleaned dataset"
   ]
  },
  {
   "cell_type": "code",
   "execution_count": 4,
   "metadata": {},
   "outputs": [],
   "source": [
    "import json\n",
    "\n",
    "def load_data(file_path):\n",
    "    '''\n",
    "    This function loads the data from the file_path\n",
    "\n",
    "    Given the path of the dataset this function reads and returns the intents and the corpus of the dataset\n",
    "\n",
    "    Args:\n",
    "        - file_path (str) : path of the dataset\n",
    "\n",
    "    Returns:\n",
    "        - unique_intents (list[str]) : list of unique intents in the dataset\n",
    "        - corpus (list[str]) : list of all the sentences in the dataset\n",
    "        - corpus_intents (list[str]) : list of intents for each sentence in the dataset\n",
    "        - responses (list[str]) : list of responses for each intent in the dataset\n",
    "    '''\n",
    "    unique_intents = []\n",
    "    corpus = []\n",
    "    corpus_intents = []\n",
    "    # responses = []\n",
    "\n",
    "    with open(file_path, 'r') as f:\n",
    "        dataset = json.load(f)\n",
    "\n",
    "        print(dataset.keys())\n",
    "        # intents = dataset['intents']\n",
    "\n",
    "        for intent, values in dataset.items():\n",
    "            print(intent.lower())\n",
    "            print(len(values))\n",
    "            if intent not in unique_intents:\n",
    "                unique_intents.append(intent)\n",
    "            for sentence in values:\n",
    "                corpus.append(utils.clean(sentence))\n",
    "                corpus_intents.append(intent)\n",
    "\n",
    "    return unique_intents, corpus, corpus_intents"
   ]
  },
  {
   "cell_type": "code",
   "execution_count": 5,
   "metadata": {},
   "outputs": [
    {
     "name": "stdout",
     "output_type": "stream",
     "text": [
      "dict_keys(['Variable Declaration', 'Constant Declaration', 'Function Declaration', 'Class Declaration', 'Assignment Operation', 'Conditional Operation', 'For Loop', 'While Loop', 'Bitwise Operation', 'Mathematical Operation', 'Membership Operation', 'Casting', 'Input', 'Output', 'Assertion', 'Libraries', 'File System', 'IDE Operation', 'Comment', 'Activate Mouse', 'Activate Interactive', 'Interactive Commands', 'Git Operation', 'Exit Block'])\n",
      "variable declaration\n",
      "239\n",
      "constant declaration\n",
      "200\n",
      "function declaration\n",
      "90\n",
      "class declaration\n",
      "30\n",
      "assignment operation\n",
      "80\n",
      "conditional operation\n",
      "160\n",
      "for loop\n",
      "120\n",
      "while loop\n",
      "60\n",
      "bitwise operation\n",
      "80\n",
      "mathematical operation\n",
      "370\n",
      "membership operation\n",
      "160\n",
      "casting\n",
      "60\n",
      "input\n",
      "50\n",
      "output\n",
      "120\n",
      "assertion\n",
      "40\n",
      "libraries\n",
      "47\n",
      "file system\n",
      "150\n",
      "ide operation\n",
      "292\n",
      "comment\n",
      "50\n",
      "activate mouse\n",
      "40\n",
      "activate interactive\n",
      "30\n",
      "interactive commands\n",
      "220\n",
      "git operation\n",
      "80\n",
      "exit block\n",
      "25\n",
      "Number of unique intents: 24\n",
      "Number of examples: 2793\n",
      "Number of examples: 2793\n",
      "Unique intents: ['Variable Declaration', 'Constant Declaration', 'Function Declaration', 'Class Declaration', 'Assignment Operation', 'Conditional Operation', 'For Loop', 'While Loop', 'Bitwise Operation', 'Mathematical Operation', 'Membership Operation', 'Casting', 'Input', 'Output', 'Assertion', 'Libraries', 'File System', 'IDE Operation', 'Comment', 'Activate Mouse', 'Activate Interactive', 'Interactive Commands', 'Git Operation', 'Exit Block']\n",
      "Samples: ['make start time as double and initialize', 'declare min value as integer and value', 'define settings as boolean and value false', 'define y as integer and assign to', 'initialize k as string and initialize it with Code Review']\n",
      "Training Sample:  ('make start time as double and initialize', 'Variable Declaration')\n"
     ]
    }
   ],
   "source": [
    "dataset_path = './intent_detection_dataset/final_intents_dataset.json'\n",
    "unique_intents, corpus, corpus_intents = load_data(dataset_path)\n",
    "\n",
    "# print shapes and sizes of the dataset\n",
    "print('Number of unique intents:', len(unique_intents))\n",
    "# print('Number of responses:', len(responses))\n",
    "print('Number of examples:', len(corpus))\n",
    "print('Number of examples:', len(corpus_intents))\n",
    "\n",
    "# print samples of the dataset\n",
    "print('Unique intents:', unique_intents)\n",
    "# print('Responses:', responses)\n",
    "print('Samples:', corpus[:5])\n",
    "\n",
    "data = list(zip(corpus, corpus_intents))\n",
    "\n",
    "print(\"Training Sample: \", data[0])"
   ]
  },
  {
   "cell_type": "markdown",
   "metadata": {},
   "source": [
    "#### 2. Tokenizing and Embedding "
   ]
  },
  {
   "cell_type": "code",
   "execution_count": 6,
   "metadata": {},
   "outputs": [
    {
     "name": "stdout",
     "output_type": "stream",
     "text": [
      "Vocabulary: {'<unk>': 1, 'the': 2, 'and': 3, 'to': 4, 'a': 5, 'is': 6, 'it': 7, 'in': 8, 'name': 9, 'new': 10, 'variable': 11, 'value': 12, 'user': 13, 'with': 14, 'of': 15, 'constant': 16, 'as': 17, 'assign': 18, 'equal': 19, 'set': 20, 'file': 21, 'whether': 22, 'if': 23, 'list': 24, 'for': 25, 'check': 26, 'message': 27, 'than': 28, 'initialize': 29, 'declare': 30, 'make': 31, 'loop': 32, 'create': 33, 'not': 34, 'or': 35, 'from': 36, 'date': 37, 'get': 38, 'type': 39, 'code': 40, 'data': 41, 'are': 42, 'all': 43, 'line': 44, 'define': 45, 'while': 46, 'bitwise': 47, 'comment': 48, 'under': 49, 'product': 50, 'number': 51, 'step': 52, 'range': 53, 'store': 54, 'config': 55, 'write': 56, 'me': 57, 'allocate': 58, 'power': 59, 'output': 60, 'time': 61, 'that': 62, 'last': 63, 'less': 64, 'using': 65, 'errors': 66, 'parameters': 67, 'same': 68, 'index': 69, 'show': 70, 'string': 71, 'end': 72, 'has': 73, 'amount': 74, 'labelled': 75, 'save': 76, 'algorithm': 77, 'greater': 78, 'go': 79, 'mode': 80, 'id': 81, 'please': 82, 'called': 83, 'display': 84, 'total': 85, 'array': 86, 'settings': 87, 'titled': 88, 'email': 89, 'terminal': 90, 'files': 91, 'item': 92, 'named': 93, 'order': 94, 'map': 95, 'project': 96, 'changes': 97, 'start': 98, 'identified': 99, 'address': 100, 'integer': 101, 'rate': 102, 'float': 103, 'on': 104, 'raise': 105, 'selected': 106, 'mouse': 107, 'folders': 108, 'add': 109, 'put': 110, 'fetch': 111, 'location': 112, 'equals': 113, 'multiplied': 114, 'char': 115, 'path': 116, 'this': 117, 'boolean': 118, 'result': 119, 'iteration': 120, 'dictionary': 121, 'contact': 122, 'class': 123, 'change': 124, 'int': 125, 'i': 126, 'place': 127, 'root': 128, 'commit': 129, 'count': 130, 'return': 131, 'returns': 132, 'operation': 133, 'enter': 134, 'interactive': 135, 'directories': 136, 'double': 137, 'by': 138, 'report': 139, 'max': 140, 'out': 141, 'shift': 142, 'character': 143, 'element': 144, 'key': 145, 'more': 146, 'iterate': 147, 'cube': 148, 'j': 149, 'average': 150, 'procedure': 151, 'tax': 152, 'feature': 153, 'preferences': 154, 'system': 155, 'score': 156, 'zip': 157, 'copy': 158, 'account': 159, 'balance': 160, 'call': 161, 'temp': 162, 'supplier': 163, 'region': 164, 'delete': 165, 'bool': 166, 'flags': 167, 'pos': 168, 'its': 169, 'app': 170, 'subroutine': 171, 'colleague': 172, 'classes': 173, 'min': 174, 'revenue': 175, 'reorder': 176, 'point': 177, 'learning': 178, 'city': 179, 'insert': 180, 'approved': 181, 'functions': 182, 'exit': 183, 'k': 184, 'employee': 185, 'record': 186, 'updated': 187, 'an': 188, 'added': 189, 'divided': 190, 'square': 191, 'print': 192, 'deleted': 193, 'counter': 194, 'expiry': 195, 'description': 196, 'queue': 197, 'use': 198, 'condition': 199, 'exponent': 200, 'ask': 201, 'library': 202, 'directory': 203, 'folder': 204, 'switch': 205, 'action': 206, 'true': 207, 'info': 208, 'enabled': 209, 'environment': 210, 'category': 211, 'position': 212, 'access': 213, 'empty': 214, 'default': 215, 'collection': 216, 'retrieve': 217, 'jump': 218, 'highlight': 219, 'logged': 220, 'visible': 221, 'expense': 222, 'current': 223, 'options': 224, 'budget': 225, 'allocation': 226, 'routine': 227, 'office': 228, 'building': 229, 'notes': 230, 'discount': 231, 'country': 232, 'buffer': 233, 'xor': 234, 'divide': 235, 'include': 236, 'false': 237, 'review': 238, 'database': 239, 'style': 240, 'e': 241, 'methods': 242, 'function': 243, 'mentor': 244, 'main': 245, 'evaluate': 246, 'determine': 247, 'read': 248, 'age': 249, 'verified': 250, 'development': 251, 'creation': 252, 'status': 253, 'alternate': 254, 'debit': 255, 'gender': 256, 'transaction': 257, 'due': 258, 'programming': 259, 'method': 260, 'guardian': 261, 'street': 262, 'update': 263, 'delivery': 264, 'generate': 265, 'left': 266, 'right': 267, 'plus': 268, 'division': 269, 'calculate': 270, 'solve': 271, 'subtraction': 272, 'require': 273, 'presentation': 274, 'pptx': 275, 'docx': 276, 'move': 277, 'models': 278, 'completed': 279, 'elapsed': 280, 'active': 281, 'customer': 282, 'properties': 283, 'stock': 284, 'quantity': 285, 'geo': 286, 'coordinates': 287, 'multiplication': 288, 'find': 289, 'text': 290, 'cast': 291, 'input': 292, 'txt': 293, 'log': 294, 'price': 295, 'technical': 296, 'gross': 297, 'income': 298, 'software': 299, 'inventory': 300, 'level': 301, 'language': 302, 'net': 303, 'profit': 304, 'emergency': 305, 'subtract': 306, 'login': 307, 'work': 308, 'remainder': 309, 'transform': 310, 'validate': 311, 'html': 312, 'mp': 313, 'cancel': 314, 'schedule': 315, 'credit': 316, 'limit': 317, 'clustering': 318, 'algorithms': 319, 'partner': 320, 'secondary': 321, 'role': 322, 'frame': 323, 'sum': 324, 'tree': 325, 'import': 326, 'duplicate': 327, 'script': 328, 'py': 329, 'json': 330, 'db': 331, 'open': 332, 'choose': 333, 'mark': 334, 'cut': 335, 'stage': 336, 'primary': 337, 'sibling': 338, 'form': 339, 'perform': 340, 'css': 341, 'convert': 342, 'provide': 343, 'imports': 344, 'csv': 345, 'rename': 346, 'logfile': 347, 'pdf': 348, 'archive': 349, 'image': 350, 'jpg': 351, 'pick': 352, 'entire': 353, 'restore': 354, 'previous': 355, 'what': 356, 'just': 357, 'did': 358, 'tracking': 359, 'tracker': 360, 'interface': 361, 'singular': 362, 'reverse': 363, 'apply': 364, 'multiply': 365, 'modulus': 366, 'addition': 367, 'remove': 368, 'navigate': 369, 'select': 370, 'revert': 371, 'redo': 372, 'disable': 373, 'pull': 374, 'discard': 375, 'stamp': 376, 'whose': 377, 'mining': 378, 'names': 379, 'support': 380, 'structures': 381, 'session': 382, 'having': 383, 'void': 384, 'including': 385, 'profile': 386, 'carry': 387, 'compute': 388, 'confirm': 389, 'diagram': 390, 'svg': 391, 'video': 392, 'repeat': 393, 'activte': 394, 'leave': 395, 'documentation': 396, 'regression': 397, 'management': 398, 'cascading': 399, 'sheets': 400, 'functional': 401, 'hypertext': 402, 'markup': 403, 'architecture': 404, 'qr': 405, 'lu': 406, 'cholesky': 407, 'accepts': 408, 'needs': 409, 'test': 410, 'table': 411, 'size': 412, 'module': 413, 'spreadsheet': 414, 'xlsx': 415, 'summary': 416, 'videos': 417, 'undo': 418, 'enable': 419, 'deactivate': 420, 'push': 421, 'engineering': 422, 'version': 423, 'science': 424, 'neural': 425, 'networks': 426, 'javascript': 427, 'framework': 428, 'statistical': 429, 'back': 430, 'hello': 431, 'world': 432, 'deep': 433, 'design': 434, 'supervised': 435, 'inverse': 436, 'containing': 437, 'givens': 438, 'rotation': 439, 'eigenvalue': 440, 'takes': 441, 'search': 442, 'do': 443, 'styles': 444, 'receive': 445, 'shape': 446, 'verify': 447, 'assert': 448, 'document': 449, 'photo': 450, 'png': 451, 'kill': 452, 'network': 453, 'natural': 454, 'processing': 455, 'python': 456, 'control': 457, 'continuous': 458, 'integration': 459, 'unsupervised': 460, 'full': 461, 'stack': 462, 'developer': 463, 'decomposition': 464, 'consisting': 465, 'jacobi': 466, 'loan': 467, 'username': 468, 'outcome': 469, 'solution': 470, 'details': 471, 'fields': 472, 'sample': 473, 'menus': 474, 'items': 475, 'take': 476, 'format': 477, 'welcome': 478, 'program': 479, 'diagrams': 480, 'close': 481, 'run': 482, 'single': 483, 'fixed': 484, 'y': 485, 'security': 486, 'analysis': 487, 'unit': 488, 'testing': 489, 'command': 490, 'debugging': 491, 'speech': 492, 'recognition': 493, 'rotate': 494, 'householder': 495, 'comprising': 496, 'requires': 497, 'svd': 498, 'visualization': 499, 'values': 500, 'answer': 501, 'cookies': 502, 'templates': 503, 'error': 504, 'between': 505, 'ensure': 506, 'manual': 507, 'doc': 508, 'audio': 509, 'databases': 510, 'photos': 511, 'launch': 512, 'paste': 513, 'revoke': 514, 'reset': 515, 'block': 516, 'begin': 517, 'typo': 518, 'front': 519, 'artificial': 520, 'intelligence': 521, 'x': 522, 'openai': 523, 'gpt': 524, 'computer': 525, 'vision': 526, 'reinforcement': 527, 'information': 528, 'technology': 529, 'rayleigh': 530, 'quotient': 531, 'gram': 532, 'schmidt': 533, 'transformation': 534, 'payment': 535, 'person': 536, 'view': 537, 'wishlist': 538, 'requests': 539, 'stats': 540, 'records': 541, 'routes': 542, 'variables': 543, 'points': 544, 'sets': 545, 'profiles': 546, 'leaderboard': 547, 'ranks': 548, 'sessions': 549, 'header': 550, 'object': 551, 'endpoints': 552, 'mask': 553, 'pandas': 554, 'mathlib': 555, 'documents': 556, 'configs': 557, 'optimize': 558, 'placeholder': 559, 'resolved': 560, 'conflict': 561, 'scope': 562, 'n': 563, 'machine': 564, 'graphical': 565, 'cofactor': 566, 'eigenvector': 567, 'shuffle': 568, 'split': 569, 'fibonacci': 570, 'determinant': 571, 'enemy': 572, 'dataset': 573, 'manager': 574, 'achievement': 575, 'invoice': 576, 'usernames': 577, 'ages': 578, 'payments': 579, 'measurement': 580, 'components': 581, 'observations': 582, 'attributes': 583, 'packets': 584, 'batches': 585, 'ratings': 586, 'responses': 587, 'skills': 588, 'response': 589, 'training': 590, 'logs': 591, 'orders': 592, 'request': 593, 'experience': 594, 'headers': 595, 'countries': 596, 'coefficients': 597, 'enemies': 598, 'oriented': 599, 'lease': 600, 'betweeen': 601, 'your': 602, 'failed': 603, 'statement': 604, 'passed': 605, 'semi': 606, 'utils': 607, 'sortlib': 608, 'cipherlib': 609, 'queuelib': 610, 'react': 611, 'probability': 612, 'jsonlib': 613, 'spreadsheets': 614, 'presentations': 615, 'manuals': 616, 'archives': 617, 'focus': 618, 'terminate': 619, 'temporary': 620, 'process': 621, 'warning': 622, 'handle': 623, 'refactored': 624, 'changed': 625, 'initial': 626, 'tests': 627, 'merged': 628, 'rebased': 629, 'branch': 630, 'optimized': 631, 't': 632, 'u': 633, 'q': 634, 'p': 635, 'z': 636, 'merge': 637, 'rank': 638, 'prime': 639, 'router': 640, 'gateway': 641, 'customerreview': 642, 'filewriter': 643, 'middleware': 644, 'preprocessor': 645, 'button': 646, 'radiobutton': 647, 'httprequest': 648, 'slider': 649, 'httpresponse': 650, 'equation': 651, 'elements': 652, 'scores': 653, 'ids': 654, 'amounts': 655, 'biases': 656, 'dropdowns': 657, 'layout': 658, 'js': 659, 'vector': 660, 'dns': 661, 'reviews': 662, 'packet': 663, 'wishlists': 664, 'vectors': 665, 'skill': 666, 'instances': 667, 'addresses': 668, 'cities': 669, 'samples': 670, 'game': 671, 'levels': 672, 'window': 673, 'accounts': 674, 'entry': 675, 'results': 676, 'api': 677, 'categories': 678, 'budgets': 679, 'shipment': 680, 'windows': 681, 'inventories': 682, 'expenses': 683, 'weight': 684, 'matrix': 685, 'series': 686, 'leaderboards': 687, 'menu': 688, 'quest': 689, 'players': 690, 'radiobuttons': 691, 'types': 692, 'sliders': 693, 'bias': 694, 'nodes': 695, 'connection': 696, 'pool': 697, 'epochs': 698, 'events': 699, 'entries': 700, 'objects': 701, 'loss': 702, 'label': 703, 'times': 704, 'predictions': 705, 'layers': 706, 'invoices': 707, 'discounts': 708, 'weapons': 709, 'dates': 710, 'dialogs': 711, 'give': 712, 'fill': 713, 'length': 714, 'there': 715, 's': 716, 'core': 717, 'dsautils': 718, 'common': 719, 'securitytoolkit': 720, 'geometry': 721, 'vue': 722, 'guimodule': 723, 'mlutils': 724, 'uiutils': 725, 'pydata': 726, 'django': 727, 'filesystem': 728, 'helpers': 729, 'shared': 730, 'websocketlib': 731, 'excellib': 732, 'parserlib': 733, 'decryption': 734, 'datastructures': 735, 'scicalc': 736, 'dateutils': 737, 'templateengine': 738, 'math': 739, 'numpy': 740, 'pytorch': 741, 'impor': 742, 'matplotlib': 743, 'tensorflow': 744, 'summaries': 745, 'images': 746, 'reports': 747, 'license': 748, 'timezone': 749, 'refactor': 750, 'todo': 751, 'necessary': 752, 'libraries': 753, 'client': 754, 'execute': 755, 'sql': 756, 'query': 757, 'fixme': 758, 'send': 759, 'through': 760, 'comments': 761, 'improved': 762, 'performance': 763, 'bug': 764}\n",
      "Vocabulary Size: 765\n",
      "Shape of Input Sequence (# of examples, longest sequence length): (2793, 20)\n",
      "Sample Input Sequence: [  0   0   0   0   0   0   0   0   0   0   0   0   0  31  98  61  17 137\n",
      "   3  29]\n"
     ]
    }
   ],
   "source": [
    "# create a tokenizer\n",
    "tokenizer = tf.keras.preprocessing.text.Tokenizer(filters='', oov_token='<unk>')\n",
    "\n",
    "# fit the tokenizer on the corpus -> updates internal vocabulary based on corpus\n",
    "tokenizer.fit_on_texts(corpus)\n",
    "\n",
    "# convert the corpus to sequences of integers -> each word is replaced by its index in the vocabulary for each sentence\n",
    "sequences = tokenizer.texts_to_sequences(corpus)\n",
    "\n",
    "# pad the sequences to the same length -> add padding tokens to the beginning of each sequence to fit the longest sequence\n",
    "padded_sequences = keras.preprocessing.sequence.pad_sequences(sequences, padding='pre')\n",
    "\n",
    "# get the number of unique words (vocabulary size)\n",
    "vocab_size = len(tokenizer.word_index) + 1\n",
    "\n",
    "# print the tokenizer properties\n",
    "print('Vocabulary:', tokenizer.word_index)\n",
    "print('Vocabulary Size:', vocab_size)\n",
    "print('Shape of Input Sequence (# of examples, longest sequence length):', padded_sequences.shape)\n",
    "print('Sample Input Sequence:', padded_sequences[0])"
   ]
  },
  {
   "cell_type": "markdown",
   "metadata": {},
   "source": [
    "#### 3. Feature Extraction\n",
    "map intents to indices"
   ]
  },
  {
   "cell_type": "code",
   "execution_count": 7,
   "metadata": {},
   "outputs": [
    {
     "name": "stdout",
     "output_type": "stream",
     "text": [
      "{0: 'Variable Declaration', 1: 'Constant Declaration', 2: 'Function Declaration', 3: 'Class Declaration', 4: 'Assignment Operation', 5: 'Conditional Operation', 6: 'For Loop', 7: 'While Loop', 8: 'Bitwise Operation', 9: 'Mathematical Operation', 10: 'Membership Operation', 11: 'Casting', 12: 'Input', 13: 'Output', 14: 'Assertion', 15: 'Libraries', 16: 'File System', 17: 'IDE Operation', 18: 'Comment', 19: 'Activate Mouse', 20: 'Activate Interactive', 21: 'Interactive Commands', 22: 'Git Operation', 23: 'Exit Block'}\n",
      "Categorial vector shape: (2793, 24)\n"
     ]
    }
   ],
   "source": [
    "# dictionary that maps each intent to a unique index\n",
    "intent_to_index = {intent: index for index, intent in enumerate(unique_intents)}\n",
    "\n",
    "# list for each sentence mapped to its corresponding intent index \n",
    "corpus_intent_mapped_to_index = [intent_to_index[intent] for intent in corpus_intents]\n",
    "\n",
    "# the number of classes to classify a sentence into\n",
    "number_of_classes = len(intent_to_index)\n",
    "\n",
    "# convert intent_to_index to index_to_intent \n",
    "index_to_intent = {index: intent for intent, index in intent_to_index.items()} \n",
    "\n",
    "print(index_to_intent)\n",
    "\n",
    "# one hot encoding for the intents -> length of each vector is equal to the number of classes\n",
    "# each sequence in the dataset is represented as a one-hot encoded vector that represents the intent of the sequence\n",
    "targets = keras.utils.to_categorical(corpus_intent_mapped_to_index, number_of_classes)\n",
    "\n",
    "print('Categorial vector shape:', targets.shape)"
   ]
  },
  {
   "cell_type": "code",
   "execution_count": 8,
   "metadata": {},
   "outputs": [
    {
     "name": "stdout",
     "output_type": "stream",
     "text": [
      "Number of training examples: 2234\n",
      "Number of testing examples: 559\n"
     ]
    }
   ],
   "source": [
    "x_train, x_test, y_train, y_test = train_test_split(padded_sequences, targets, test_size=0.2, random_state=42, shuffle=True)\n",
    "\n",
    "train_data = list(zip(x_train, y_train))\n",
    "test_data = list(zip(x_test, y_test))\n",
    "\n",
    "print('Number of training examples:', len(train_data))\n",
    "print('Number of testing examples:', len(test_data))"
   ]
  },
  {
   "cell_type": "markdown",
   "metadata": {},
   "source": [
    "#### 4. Building the Model"
   ]
  },
  {
   "cell_type": "code",
   "execution_count": 9,
   "metadata": {},
   "outputs": [
    {
     "name": "stdout",
     "output_type": "stream",
     "text": [
      "Input Dimension: 24, Output Dimension: 24\n"
     ]
    },
    {
     "data": {
      "text/html": [
       "<pre style=\"white-space:pre;overflow-x:auto;line-height:normal;font-family:Menlo,'DejaVu Sans Mono',consolas,'Courier New',monospace\"><span style=\"font-weight: bold\">Model: \"sequential\"</span>\n",
       "</pre>\n"
      ],
      "text/plain": [
       "\u001b[1mModel: \"sequential\"\u001b[0m\n"
      ]
     },
     "metadata": {},
     "output_type": "display_data"
    },
    {
     "data": {
      "text/html": [
       "<pre style=\"white-space:pre;overflow-x:auto;line-height:normal;font-family:Menlo,'DejaVu Sans Mono',consolas,'Courier New',monospace\">┏━━━━━━━━━━━━━━━━━━━━━━━━━━━━━━━━━┳━━━━━━━━━━━━━━━━━━━━━━━━┳━━━━━━━━━━━━━━━┓\n",
       "┃<span style=\"font-weight: bold\"> Layer (type)                    </span>┃<span style=\"font-weight: bold\"> Output Shape           </span>┃<span style=\"font-weight: bold\">       Param # </span>┃\n",
       "┡━━━━━━━━━━━━━━━━━━━━━━━━━━━━━━━━━╇━━━━━━━━━━━━━━━━━━━━━━━━╇━━━━━━━━━━━━━━━┩\n",
       "│ embedding (<span style=\"color: #0087ff; text-decoration-color: #0087ff\">Embedding</span>)           │ ?                      │   <span style=\"color: #00af00; text-decoration-color: #00af00\">0</span> (unbuilt) │\n",
       "├─────────────────────────────────┼────────────────────────┼───────────────┤\n",
       "│ bidirectional (<span style=\"color: #0087ff; text-decoration-color: #0087ff\">Bidirectional</span>)   │ ?                      │   <span style=\"color: #00af00; text-decoration-color: #00af00\">0</span> (unbuilt) │\n",
       "├─────────────────────────────────┼────────────────────────┼───────────────┤\n",
       "│ dense (<span style=\"color: #0087ff; text-decoration-color: #0087ff\">Dense</span>)                   │ ?                      │   <span style=\"color: #00af00; text-decoration-color: #00af00\">0</span> (unbuilt) │\n",
       "├─────────────────────────────────┼────────────────────────┼───────────────┤\n",
       "│ dropout (<span style=\"color: #0087ff; text-decoration-color: #0087ff\">Dropout</span>)               │ ?                      │   <span style=\"color: #00af00; text-decoration-color: #00af00\">0</span> (unbuilt) │\n",
       "├─────────────────────────────────┼────────────────────────┼───────────────┤\n",
       "│ dense_1 (<span style=\"color: #0087ff; text-decoration-color: #0087ff\">Dense</span>)                 │ ?                      │   <span style=\"color: #00af00; text-decoration-color: #00af00\">0</span> (unbuilt) │\n",
       "└─────────────────────────────────┴────────────────────────┴───────────────┘\n",
       "</pre>\n"
      ],
      "text/plain": [
       "┏━━━━━━━━━━━━━━━━━━━━━━━━━━━━━━━━━┳━━━━━━━━━━━━━━━━━━━━━━━━┳━━━━━━━━━━━━━━━┓\n",
       "┃\u001b[1m \u001b[0m\u001b[1mLayer (type)                   \u001b[0m\u001b[1m \u001b[0m┃\u001b[1m \u001b[0m\u001b[1mOutput Shape          \u001b[0m\u001b[1m \u001b[0m┃\u001b[1m \u001b[0m\u001b[1m      Param #\u001b[0m\u001b[1m \u001b[0m┃\n",
       "┡━━━━━━━━━━━━━━━━━━━━━━━━━━━━━━━━━╇━━━━━━━━━━━━━━━━━━━━━━━━╇━━━━━━━━━━━━━━━┩\n",
       "│ embedding (\u001b[38;5;33mEmbedding\u001b[0m)           │ ?                      │   \u001b[38;5;34m0\u001b[0m (unbuilt) │\n",
       "├─────────────────────────────────┼────────────────────────┼───────────────┤\n",
       "│ bidirectional (\u001b[38;5;33mBidirectional\u001b[0m)   │ ?                      │   \u001b[38;5;34m0\u001b[0m (unbuilt) │\n",
       "├─────────────────────────────────┼────────────────────────┼───────────────┤\n",
       "│ dense (\u001b[38;5;33mDense\u001b[0m)                   │ ?                      │   \u001b[38;5;34m0\u001b[0m (unbuilt) │\n",
       "├─────────────────────────────────┼────────────────────────┼───────────────┤\n",
       "│ dropout (\u001b[38;5;33mDropout\u001b[0m)               │ ?                      │   \u001b[38;5;34m0\u001b[0m (unbuilt) │\n",
       "├─────────────────────────────────┼────────────────────────┼───────────────┤\n",
       "│ dense_1 (\u001b[38;5;33mDense\u001b[0m)                 │ ?                      │   \u001b[38;5;34m0\u001b[0m (unbuilt) │\n",
       "└─────────────────────────────────┴────────────────────────┴───────────────┘\n"
      ]
     },
     "metadata": {},
     "output_type": "display_data"
    },
    {
     "data": {
      "text/html": [
       "<pre style=\"white-space:pre;overflow-x:auto;line-height:normal;font-family:Menlo,'DejaVu Sans Mono',consolas,'Courier New',monospace\"><span style=\"font-weight: bold\"> Total params: </span><span style=\"color: #00af00; text-decoration-color: #00af00\">0</span> (0.00 B)\n",
       "</pre>\n"
      ],
      "text/plain": [
       "\u001b[1m Total params: \u001b[0m\u001b[38;5;34m0\u001b[0m (0.00 B)\n"
      ]
     },
     "metadata": {},
     "output_type": "display_data"
    },
    {
     "data": {
      "text/html": [
       "<pre style=\"white-space:pre;overflow-x:auto;line-height:normal;font-family:Menlo,'DejaVu Sans Mono',consolas,'Courier New',monospace\"><span style=\"font-weight: bold\"> Trainable params: </span><span style=\"color: #00af00; text-decoration-color: #00af00\">0</span> (0.00 B)\n",
       "</pre>\n"
      ],
      "text/plain": [
       "\u001b[1m Trainable params: \u001b[0m\u001b[38;5;34m0\u001b[0m (0.00 B)\n"
      ]
     },
     "metadata": {},
     "output_type": "display_data"
    },
    {
     "data": {
      "text/html": [
       "<pre style=\"white-space:pre;overflow-x:auto;line-height:normal;font-family:Menlo,'DejaVu Sans Mono',consolas,'Courier New',monospace\"><span style=\"font-weight: bold\"> Non-trainable params: </span><span style=\"color: #00af00; text-decoration-color: #00af00\">0</span> (0.00 B)\n",
       "</pre>\n"
      ],
      "text/plain": [
       "\u001b[1m Non-trainable params: \u001b[0m\u001b[38;5;34m0\u001b[0m (0.00 B)\n"
      ]
     },
     "metadata": {},
     "output_type": "display_data"
    }
   ],
   "source": [
    "# the input is the the padded sequences with the target value being the one-hot encoded intents\n",
    "input_dimenstion = len(unique_intents)\n",
    "\n",
    "# the output is the one-hot encoded intents\n",
    "output_dimenstion = targets.shape[1]\n",
    "\n",
    "print(f\"Input Dimension: {input_dimenstion}, Output Dimension: {output_dimenstion}\")\n",
    "\n",
    "# Model description\n",
    "# The model is a sequential model that consists of:\n",
    "# 1. An embedding layer that converts the input sequences to dense vectors of fixed size\n",
    "# 2. A Bidirectional LSTM layer that processes the input sequences in both directions\n",
    "# 3. A Dense layer with 64 units and ReLU activation function\n",
    "# 4. A Dropout layer with a dropout rate of 0.5\n",
    "# 5. A Dense layer with the output dimension and softmax activation function for multi-class classification\n",
    "\n",
    "# define parameters\n",
    "epochs = 75\n",
    "\n",
    "# the embedding dimension is the size of the vector for which each word is represented\n",
    "# the embedding layer of a neural network, output_dim refers to the size of the dense vectors that the layer will generate for each input token (word). \n",
    "# essentially, it is the number of dimensions in which each word will be represented.\n",
    "embedding_dimension = 150\n",
    "\n",
    "# lstm units\n",
    "lstm_units = 64\n",
    "\n",
    "model = keras.Sequential([\n",
    "    keras.layers.Embedding(input_dim=vocab_size, output_dim=embedding_dimension),\n",
    "    keras.layers.Bidirectional(keras.layers.LSTM(lstm_units, dropout=0.2)),\n",
    "    keras.layers.Dense(lstm_units, activation='relu'),\n",
    "    keras.layers.Dropout(0.4),\n",
    "    keras.layers.Dense(output_dimenstion, activation='softmax')\n",
    "])\n",
    "\n",
    "optimizer = keras.optimizers.Adam(learning_rate=0.001)\n",
    "model.compile(optimizer=optimizer, loss='categorical_crossentropy', metrics=['accuracy', 'f1_score', 'precision', 'recall'])\n",
    "\n",
    "model.summary()"
   ]
  },
  {
   "cell_type": "markdown",
   "metadata": {},
   "source": [
    "#### 5. Train the Model"
   ]
  },
  {
   "cell_type": "code",
   "execution_count": 10,
   "metadata": {},
   "outputs": [
    {
     "name": "stdout",
     "output_type": "stream",
     "text": [
      "Epoch 1/75\n",
      "\u001b[1m88/88\u001b[0m \u001b[32m━━━━━━━━━━━━━━━━━━━━\u001b[0m\u001b[37m\u001b[0m \u001b[1m4s\u001b[0m 11ms/step - accuracy: 0.1331 - f1_score: 0.0411 - loss: 2.9527 - precision: 0.1684 - recall: 0.0015   \n",
      "Epoch 2/75\n",
      "\u001b[1m88/88\u001b[0m \u001b[32m━━━━━━━━━━━━━━━━━━━━\u001b[0m\u001b[37m\u001b[0m \u001b[1m1s\u001b[0m 12ms/step - accuracy: 0.4584 - f1_score: 0.2245 - loss: 1.7776 - precision: 0.8068 - recall: 0.2294\n",
      "Epoch 3/75\n",
      "\u001b[1m88/88\u001b[0m \u001b[32m━━━━━━━━━━━━━━━━━━━━\u001b[0m\u001b[37m\u001b[0m \u001b[1m1s\u001b[0m 13ms/step - accuracy: 0.7525 - f1_score: 0.4883 - loss: 0.8846 - precision: 0.9354 - recall: 0.6176\n",
      "Epoch 4/75\n",
      "\u001b[1m88/88\u001b[0m \u001b[32m━━━━━━━━━━━━━━━━━━━━\u001b[0m\u001b[37m\u001b[0m \u001b[1m1s\u001b[0m 11ms/step - accuracy: 0.8564 - f1_score: 0.6477 - loss: 0.4763 - precision: 0.9524 - recall: 0.7724\n",
      "Epoch 5/75\n",
      "\u001b[1m88/88\u001b[0m \u001b[32m━━━━━━━━━━━━━━━━━━━━\u001b[0m\u001b[37m\u001b[0m \u001b[1m1s\u001b[0m 11ms/step - accuracy: 0.9227 - f1_score: 0.8282 - loss: 0.3015 - precision: 0.9623 - recall: 0.8598\n",
      "Epoch 6/75\n",
      "\u001b[1m88/88\u001b[0m \u001b[32m━━━━━━━━━━━━━━━━━━━━\u001b[0m\u001b[37m\u001b[0m \u001b[1m1s\u001b[0m 12ms/step - accuracy: 0.9649 - f1_score: 0.8965 - loss: 0.1500 - precision: 0.9807 - recall: 0.9386\n",
      "Epoch 7/75\n",
      "\u001b[1m88/88\u001b[0m \u001b[32m━━━━━━━━━━━━━━━━━━━━\u001b[0m\u001b[37m\u001b[0m \u001b[1m1s\u001b[0m 11ms/step - accuracy: 0.9711 - f1_score: 0.9369 - loss: 0.1150 - precision: 0.9890 - recall: 0.9470\n",
      "Epoch 8/75\n",
      "\u001b[1m88/88\u001b[0m \u001b[32m━━━━━━━━━━━━━━━━━━━━\u001b[0m\u001b[37m\u001b[0m \u001b[1m1s\u001b[0m 11ms/step - accuracy: 0.9784 - f1_score: 0.9517 - loss: 0.0956 - precision: 0.9882 - recall: 0.9619\n",
      "Epoch 9/75\n",
      "\u001b[1m88/88\u001b[0m \u001b[32m━━━━━━━━━━━━━━━━━━━━\u001b[0m\u001b[37m\u001b[0m \u001b[1m1s\u001b[0m 11ms/step - accuracy: 0.9835 - f1_score: 0.9604 - loss: 0.0748 - precision: 0.9875 - recall: 0.9759\n",
      "Epoch 10/75\n",
      "\u001b[1m88/88\u001b[0m \u001b[32m━━━━━━━━━━━━━━━━━━━━\u001b[0m\u001b[37m\u001b[0m \u001b[1m1s\u001b[0m 12ms/step - accuracy: 0.9883 - f1_score: 0.9589 - loss: 0.0592 - precision: 0.9935 - recall: 0.9834\n",
      "Epoch 11/75\n",
      "\u001b[1m88/88\u001b[0m \u001b[32m━━━━━━━━━━━━━━━━━━━━\u001b[0m\u001b[37m\u001b[0m \u001b[1m1s\u001b[0m 12ms/step - accuracy: 0.9947 - f1_score: 0.9831 - loss: 0.0413 - precision: 0.9967 - recall: 0.9920\n",
      "Epoch 12/75\n",
      "\u001b[1m88/88\u001b[0m \u001b[32m━━━━━━━━━━━━━━━━━━━━\u001b[0m\u001b[37m\u001b[0m \u001b[1m1s\u001b[0m 12ms/step - accuracy: 0.9973 - f1_score: 0.9862 - loss: 0.0284 - precision: 0.9976 - recall: 0.9938\n",
      "Epoch 13/75\n",
      "\u001b[1m88/88\u001b[0m \u001b[32m━━━━━━━━━━━━━━━━━━━━\u001b[0m\u001b[37m\u001b[0m \u001b[1m1s\u001b[0m 11ms/step - accuracy: 0.9945 - f1_score: 0.9758 - loss: 0.0306 - precision: 0.9964 - recall: 0.9910\n",
      "Epoch 14/75\n",
      "\u001b[1m88/88\u001b[0m \u001b[32m━━━━━━━━━━━━━━━━━━━━\u001b[0m\u001b[37m\u001b[0m \u001b[1m1s\u001b[0m 12ms/step - accuracy: 0.9959 - f1_score: 0.9885 - loss: 0.0229 - precision: 0.9963 - recall: 0.9934\n",
      "Epoch 15/75\n",
      "\u001b[1m88/88\u001b[0m \u001b[32m━━━━━━━━━━━━━━━━━━━━\u001b[0m\u001b[37m\u001b[0m \u001b[1m1s\u001b[0m 11ms/step - accuracy: 0.9963 - f1_score: 0.9864 - loss: 0.0154 - precision: 0.9968 - recall: 0.9938\n",
      "Epoch 16/75\n",
      "\u001b[1m88/88\u001b[0m \u001b[32m━━━━━━━━━━━━━━━━━━━━\u001b[0m\u001b[37m\u001b[0m \u001b[1m1s\u001b[0m 11ms/step - accuracy: 0.9969 - f1_score: 0.9885 - loss: 0.0185 - precision: 0.9969 - recall: 0.9965\n",
      "Epoch 17/75\n",
      "\u001b[1m88/88\u001b[0m \u001b[32m━━━━━━━━━━━━━━━━━━━━\u001b[0m\u001b[37m\u001b[0m \u001b[1m1s\u001b[0m 11ms/step - accuracy: 0.9983 - f1_score: 0.9897 - loss: 0.0118 - precision: 0.9985 - recall: 0.9981\n",
      "Epoch 18/75\n",
      "\u001b[1m88/88\u001b[0m \u001b[32m━━━━━━━━━━━━━━━━━━━━\u001b[0m\u001b[37m\u001b[0m \u001b[1m1s\u001b[0m 11ms/step - accuracy: 0.9919 - f1_score: 0.9841 - loss: 0.0371 - precision: 0.9935 - recall: 0.9897\n",
      "Epoch 19/75\n",
      "\u001b[1m88/88\u001b[0m \u001b[32m━━━━━━━━━━━━━━━━━━━━\u001b[0m\u001b[37m\u001b[0m \u001b[1m1s\u001b[0m 11ms/step - accuracy: 0.9939 - f1_score: 0.9776 - loss: 0.0185 - precision: 0.9944 - recall: 0.9936\n",
      "Epoch 20/75\n",
      "\u001b[1m88/88\u001b[0m \u001b[32m━━━━━━━━━━━━━━━━━━━━\u001b[0m\u001b[37m\u001b[0m \u001b[1m1s\u001b[0m 11ms/step - accuracy: 0.9979 - f1_score: 0.9868 - loss: 0.0116 - precision: 0.9985 - recall: 0.9965\n",
      "Epoch 21/75\n",
      "\u001b[1m88/88\u001b[0m \u001b[32m━━━━━━━━━━━━━━━━━━━━\u001b[0m\u001b[37m\u001b[0m \u001b[1m1s\u001b[0m 12ms/step - accuracy: 0.9980 - f1_score: 0.9887 - loss: 0.0132 - precision: 0.9990 - recall: 0.9957\n",
      "Epoch 22/75\n",
      "\u001b[1m88/88\u001b[0m \u001b[32m━━━━━━━━━━━━━━━━━━━━\u001b[0m\u001b[37m\u001b[0m \u001b[1m1s\u001b[0m 11ms/step - accuracy: 0.9970 - f1_score: 0.9882 - loss: 0.0203 - precision: 0.9970 - recall: 0.9937\n",
      "Epoch 23/75\n",
      "\u001b[1m88/88\u001b[0m \u001b[32m━━━━━━━━━━━━━━━━━━━━\u001b[0m\u001b[37m\u001b[0m \u001b[1m1s\u001b[0m 11ms/step - accuracy: 0.9949 - f1_score: 0.9845 - loss: 0.0198 - precision: 0.9962 - recall: 0.9943\n",
      "Epoch 24/75\n",
      "\u001b[1m88/88\u001b[0m \u001b[32m━━━━━━━━━━━━━━━━━━━━\u001b[0m\u001b[37m\u001b[0m \u001b[1m1s\u001b[0m 13ms/step - accuracy: 0.9944 - f1_score: 0.9859 - loss: 0.0195 - precision: 0.9944 - recall: 0.9942\n",
      "Epoch 25/75\n",
      "\u001b[1m88/88\u001b[0m \u001b[32m━━━━━━━━━━━━━━━━━━━━\u001b[0m\u001b[37m\u001b[0m \u001b[1m1s\u001b[0m 13ms/step - accuracy: 0.9967 - f1_score: 0.9862 - loss: 0.0162 - precision: 0.9967 - recall: 0.9966\n",
      "Epoch 26/75\n",
      "\u001b[1m88/88\u001b[0m \u001b[32m━━━━━━━━━━━━━━━━━━━━\u001b[0m\u001b[37m\u001b[0m \u001b[1m1s\u001b[0m 12ms/step - accuracy: 0.9951 - f1_score: 0.9835 - loss: 0.0197 - precision: 0.9951 - recall: 0.9935\n",
      "Epoch 27/75\n",
      "\u001b[1m88/88\u001b[0m \u001b[32m━━━━━━━━━━━━━━━━━━━━\u001b[0m\u001b[37m\u001b[0m \u001b[1m1s\u001b[0m 11ms/step - accuracy: 0.9967 - f1_score: 0.9878 - loss: 0.0155 - precision: 0.9967 - recall: 0.9967\n",
      "Epoch 28/75\n",
      "\u001b[1m88/88\u001b[0m \u001b[32m━━━━━━━━━━━━━━━━━━━━\u001b[0m\u001b[37m\u001b[0m \u001b[1m1s\u001b[0m 12ms/step - accuracy: 0.9978 - f1_score: 0.9882 - loss: 0.0104 - precision: 0.9979 - recall: 0.9978\n",
      "Epoch 29/75\n",
      "\u001b[1m88/88\u001b[0m \u001b[32m━━━━━━━━━━━━━━━━━━━━\u001b[0m\u001b[37m\u001b[0m \u001b[1m1s\u001b[0m 12ms/step - accuracy: 1.0000 - f1_score: 0.9869 - loss: 0.0064 - precision: 1.0000 - recall: 0.9983\n",
      "Epoch 30/75\n",
      "\u001b[1m88/88\u001b[0m \u001b[32m━━━━━━━━━━━━━━━━━━━━\u001b[0m\u001b[37m\u001b[0m \u001b[1m1s\u001b[0m 13ms/step - accuracy: 0.9990 - f1_score: 0.9886 - loss: 0.0055 - precision: 0.9991 - recall: 0.9974\n",
      "Epoch 31/75\n",
      "\u001b[1m88/88\u001b[0m \u001b[32m━━━━━━━━━━━━━━━━━━━━\u001b[0m\u001b[37m\u001b[0m \u001b[1m1s\u001b[0m 12ms/step - accuracy: 0.9981 - f1_score: 0.9884 - loss: 0.0060 - precision: 0.9983 - recall: 0.9980\n",
      "Epoch 32/75\n",
      "\u001b[1m88/88\u001b[0m \u001b[32m━━━━━━━━━━━━━━━━━━━━\u001b[0m\u001b[37m\u001b[0m \u001b[1m1s\u001b[0m 12ms/step - accuracy: 0.9955 - f1_score: 0.9882 - loss: 0.0130 - precision: 0.9980 - recall: 0.9955\n",
      "Epoch 33/75\n",
      "\u001b[1m88/88\u001b[0m \u001b[32m━━━━━━━━━━━━━━━━━━━━\u001b[0m\u001b[37m\u001b[0m \u001b[1m1s\u001b[0m 12ms/step - accuracy: 0.9984 - f1_score: 0.9894 - loss: 0.0091 - precision: 0.9987 - recall: 0.9984\n",
      "Epoch 34/75\n",
      "\u001b[1m88/88\u001b[0m \u001b[32m━━━━━━━━━━━━━━━━━━━━\u001b[0m\u001b[37m\u001b[0m \u001b[1m1s\u001b[0m 12ms/step - accuracy: 0.9995 - f1_score: 0.9878 - loss: 0.0067 - precision: 0.9995 - recall: 0.9983\n",
      "Epoch 35/75\n",
      "\u001b[1m88/88\u001b[0m \u001b[32m━━━━━━━━━━━━━━━━━━━━\u001b[0m\u001b[37m\u001b[0m \u001b[1m1s\u001b[0m 12ms/step - accuracy: 0.9970 - f1_score: 0.9916 - loss: 0.0076 - precision: 0.9970 - recall: 0.9965\n",
      "Epoch 36/75\n",
      "\u001b[1m88/88\u001b[0m \u001b[32m━━━━━━━━━━━━━━━━━━━━\u001b[0m\u001b[37m\u001b[0m \u001b[1m1s\u001b[0m 12ms/step - accuracy: 0.9989 - f1_score: 0.9949 - loss: 0.0055 - precision: 0.9989 - recall: 0.9980\n",
      "Epoch 37/75\n",
      "\u001b[1m88/88\u001b[0m \u001b[32m━━━━━━━━━━━━━━━━━━━━\u001b[0m\u001b[37m\u001b[0m \u001b[1m1s\u001b[0m 12ms/step - accuracy: 0.9993 - f1_score: 0.9900 - loss: 0.0043 - precision: 0.9993 - recall: 0.9993\n",
      "Epoch 38/75\n",
      "\u001b[1m88/88\u001b[0m \u001b[32m━━━━━━━━━━━━━━━━━━━━\u001b[0m\u001b[37m\u001b[0m \u001b[1m1s\u001b[0m 11ms/step - accuracy: 0.9940 - f1_score: 0.9798 - loss: 0.0130 - precision: 0.9946 - recall: 0.9940\n",
      "Epoch 39/75\n",
      "\u001b[1m88/88\u001b[0m \u001b[32m━━━━━━━━━━━━━━━━━━━━\u001b[0m\u001b[37m\u001b[0m \u001b[1m1s\u001b[0m 12ms/step - accuracy: 0.9980 - f1_score: 0.9844 - loss: 0.0122 - precision: 0.9985 - recall: 0.9980\n",
      "Epoch 40/75\n",
      "\u001b[1m88/88\u001b[0m \u001b[32m━━━━━━━━━━━━━━━━━━━━\u001b[0m\u001b[37m\u001b[0m \u001b[1m1s\u001b[0m 12ms/step - accuracy: 0.9998 - f1_score: 0.9901 - loss: 0.0027 - precision: 0.9998 - recall: 0.9998\n",
      "Epoch 41/75\n",
      "\u001b[1m88/88\u001b[0m \u001b[32m━━━━━━━━━━━━━━━━━━━━\u001b[0m\u001b[37m\u001b[0m \u001b[1m1s\u001b[0m 12ms/step - accuracy: 0.9987 - f1_score: 0.9926 - loss: 0.0040 - precision: 0.9988 - recall: 0.9987\n",
      "Epoch 42/75\n",
      "\u001b[1m88/88\u001b[0m \u001b[32m━━━━━━━━━━━━━━━━━━━━\u001b[0m\u001b[37m\u001b[0m \u001b[1m1s\u001b[0m 12ms/step - accuracy: 0.9983 - f1_score: 0.9877 - loss: 0.0047 - precision: 0.9983 - recall: 0.9983\n",
      "Epoch 43/75\n",
      "\u001b[1m88/88\u001b[0m \u001b[32m━━━━━━━━━━━━━━━━━━━━\u001b[0m\u001b[37m\u001b[0m \u001b[1m1s\u001b[0m 12ms/step - accuracy: 0.9988 - f1_score: 0.9927 - loss: 0.0039 - precision: 0.9988 - recall: 0.9988\n",
      "Epoch 44/75\n",
      "\u001b[1m88/88\u001b[0m \u001b[32m━━━━━━━━━━━━━━━━━━━━\u001b[0m\u001b[37m\u001b[0m \u001b[1m1s\u001b[0m 12ms/step - accuracy: 0.9994 - f1_score: 0.9869 - loss: 0.0040 - precision: 0.9994 - recall: 0.9994\n",
      "Epoch 45/75\n",
      "\u001b[1m88/88\u001b[0m \u001b[32m━━━━━━━━━━━━━━━━━━━━\u001b[0m\u001b[37m\u001b[0m \u001b[1m1s\u001b[0m 12ms/step - accuracy: 0.9993 - f1_score: 0.9902 - loss: 0.0034 - precision: 0.9993 - recall: 0.9993\n",
      "Epoch 46/75\n",
      "\u001b[1m88/88\u001b[0m \u001b[32m━━━━━━━━━━━━━━━━━━━━\u001b[0m\u001b[37m\u001b[0m \u001b[1m1s\u001b[0m 11ms/step - accuracy: 0.9987 - f1_score: 0.9887 - loss: 0.0045 - precision: 0.9987 - recall: 0.9987\n",
      "Epoch 47/75\n",
      "\u001b[1m88/88\u001b[0m \u001b[32m━━━━━━━━━━━━━━━━━━━━\u001b[0m\u001b[37m\u001b[0m \u001b[1m1s\u001b[0m 12ms/step - accuracy: 0.9991 - f1_score: 0.9893 - loss: 0.0038 - precision: 0.9991 - recall: 0.9991\n",
      "Epoch 48/75\n",
      "\u001b[1m88/88\u001b[0m \u001b[32m━━━━━━━━━━━━━━━━━━━━\u001b[0m\u001b[37m\u001b[0m \u001b[1m1s\u001b[0m 12ms/step - accuracy: 0.9994 - f1_score: 0.9860 - loss: 0.0055 - precision: 0.9998 - recall: 0.9994\n",
      "Epoch 49/75\n",
      "\u001b[1m88/88\u001b[0m \u001b[32m━━━━━━━━━━━━━━━━━━━━\u001b[0m\u001b[37m\u001b[0m \u001b[1m1s\u001b[0m 12ms/step - accuracy: 0.9875 - f1_score: 0.9714 - loss: 0.0486 - precision: 0.9911 - recall: 0.9860\n",
      "Epoch 50/75\n",
      "\u001b[1m88/88\u001b[0m \u001b[32m━━━━━━━━━━━━━━━━━━━━\u001b[0m\u001b[37m\u001b[0m \u001b[1m1s\u001b[0m 12ms/step - accuracy: 0.9946 - f1_score: 0.9836 - loss: 0.0179 - precision: 0.9959 - recall: 0.9946\n",
      "Epoch 51/75\n",
      "\u001b[1m88/88\u001b[0m \u001b[32m━━━━━━━━━━━━━━━━━━━━\u001b[0m\u001b[37m\u001b[0m \u001b[1m1s\u001b[0m 11ms/step - accuracy: 0.9983 - f1_score: 0.9867 - loss: 0.0064 - precision: 0.9983 - recall: 0.9983\n",
      "Epoch 52/75\n",
      "\u001b[1m88/88\u001b[0m \u001b[32m━━━━━━━━━━━━━━━━━━━━\u001b[0m\u001b[37m\u001b[0m \u001b[1m1s\u001b[0m 12ms/step - accuracy: 0.9988 - f1_score: 0.9827 - loss: 0.0067 - precision: 0.9988 - recall: 0.9980\n",
      "Epoch 53/75\n",
      "\u001b[1m88/88\u001b[0m \u001b[32m━━━━━━━━━━━━━━━━━━━━\u001b[0m\u001b[37m\u001b[0m \u001b[1m1s\u001b[0m 12ms/step - accuracy: 0.9975 - f1_score: 0.9865 - loss: 0.0072 - precision: 0.9978 - recall: 0.9975\n",
      "Epoch 54/75\n",
      "\u001b[1m88/88\u001b[0m \u001b[32m━━━━━━━━━━━━━━━━━━━━\u001b[0m\u001b[37m\u001b[0m \u001b[1m1s\u001b[0m 12ms/step - accuracy: 0.9870 - f1_score: 0.9565 - loss: 0.0667 - precision: 0.9886 - recall: 0.9854\n",
      "Epoch 55/75\n",
      "\u001b[1m88/88\u001b[0m \u001b[32m━━━━━━━━━━━━━━━━━━━━\u001b[0m\u001b[37m\u001b[0m \u001b[1m1s\u001b[0m 12ms/step - accuracy: 0.9967 - f1_score: 0.9840 - loss: 0.0163 - precision: 0.9967 - recall: 0.9967\n",
      "Epoch 56/75\n",
      "\u001b[1m88/88\u001b[0m \u001b[32m━━━━━━━━━━━━━━━━━━━━\u001b[0m\u001b[37m\u001b[0m \u001b[1m1s\u001b[0m 12ms/step - accuracy: 0.9990 - f1_score: 0.9900 - loss: 0.0048 - precision: 0.9997 - recall: 0.9990\n",
      "Epoch 57/75\n",
      "\u001b[1m88/88\u001b[0m \u001b[32m━━━━━━━━━━━━━━━━━━━━\u001b[0m\u001b[37m\u001b[0m \u001b[1m1s\u001b[0m 12ms/step - accuracy: 0.9989 - f1_score: 0.9872 - loss: 0.0055 - precision: 0.9989 - recall: 0.9989\n",
      "Epoch 58/75\n",
      "\u001b[1m88/88\u001b[0m \u001b[32m━━━━━━━━━━━━━━━━━━━━\u001b[0m\u001b[37m\u001b[0m \u001b[1m1s\u001b[0m 12ms/step - accuracy: 0.9989 - f1_score: 0.9908 - loss: 0.0042 - precision: 0.9992 - recall: 0.9989\n",
      "Epoch 59/75\n",
      "\u001b[1m88/88\u001b[0m \u001b[32m━━━━━━━━━━━━━━━━━━━━\u001b[0m\u001b[37m\u001b[0m \u001b[1m1s\u001b[0m 12ms/step - accuracy: 0.9998 - f1_score: 0.9891 - loss: 0.0026 - precision: 0.9998 - recall: 0.9998\n",
      "Epoch 60/75\n",
      "\u001b[1m88/88\u001b[0m \u001b[32m━━━━━━━━━━━━━━━━━━━━\u001b[0m\u001b[37m\u001b[0m \u001b[1m1s\u001b[0m 12ms/step - accuracy: 0.9985 - f1_score: 0.9949 - loss: 0.0037 - precision: 0.9985 - recall: 0.9985\n",
      "Epoch 61/75\n",
      "\u001b[1m88/88\u001b[0m \u001b[32m━━━━━━━━━━━━━━━━━━━━\u001b[0m\u001b[37m\u001b[0m \u001b[1m1s\u001b[0m 12ms/step - accuracy: 0.9991 - f1_score: 0.9899 - loss: 0.0035 - precision: 0.9991 - recall: 0.9991\n",
      "Epoch 62/75\n",
      "\u001b[1m88/88\u001b[0m \u001b[32m━━━━━━━━━━━━━━━━━━━━\u001b[0m\u001b[37m\u001b[0m \u001b[1m1s\u001b[0m 11ms/step - accuracy: 1.0000 - f1_score: 0.9902 - loss: 0.0022 - precision: 1.0000 - recall: 0.9999\n",
      "Epoch 63/75\n",
      "\u001b[1m88/88\u001b[0m \u001b[32m━━━━━━━━━━━━━━━━━━━━\u001b[0m\u001b[37m\u001b[0m \u001b[1m1s\u001b[0m 12ms/step - accuracy: 0.9992 - f1_score: 0.9911 - loss: 0.0029 - precision: 0.9992 - recall: 0.9992\n",
      "Epoch 64/75\n",
      "\u001b[1m88/88\u001b[0m \u001b[32m━━━━━━━━━━━━━━━━━━━━\u001b[0m\u001b[37m\u001b[0m \u001b[1m1s\u001b[0m 13ms/step - accuracy: 0.9994 - f1_score: 0.9922 - loss: 0.0021 - precision: 0.9994 - recall: 0.9994\n",
      "Epoch 65/75\n",
      "\u001b[1m88/88\u001b[0m \u001b[32m━━━━━━━━━━━━━━━━━━━━\u001b[0m\u001b[37m\u001b[0m \u001b[1m1s\u001b[0m 15ms/step - accuracy: 0.9999 - f1_score: 0.9910 - loss: 0.0022 - precision: 0.9999 - recall: 0.9999\n",
      "Epoch 66/75\n",
      "\u001b[1m88/88\u001b[0m \u001b[32m━━━━━━━━━━━━━━━━━━━━\u001b[0m\u001b[37m\u001b[0m \u001b[1m1s\u001b[0m 15ms/step - accuracy: 1.0000 - f1_score: 0.9930 - loss: 0.0021 - precision: 1.0000 - recall: 1.0000\n",
      "Epoch 67/75\n",
      "\u001b[1m88/88\u001b[0m \u001b[32m━━━━━━━━━━━━━━━━━━━━\u001b[0m\u001b[37m\u001b[0m \u001b[1m1s\u001b[0m 14ms/step - accuracy: 0.9993 - f1_score: 0.9916 - loss: 0.0026 - precision: 0.9993 - recall: 0.9993\n",
      "Epoch 68/75\n",
      "\u001b[1m88/88\u001b[0m \u001b[32m━━━━━━━━━━━━━━━━━━━━\u001b[0m\u001b[37m\u001b[0m \u001b[1m1s\u001b[0m 11ms/step - accuracy: 0.9982 - f1_score: 0.9938 - loss: 0.0044 - precision: 0.9982 - recall: 0.9982\n",
      "Epoch 69/75\n",
      "\u001b[1m88/88\u001b[0m \u001b[32m━━━━━━━━━━━━━━━━━━━━\u001b[0m\u001b[37m\u001b[0m \u001b[1m1s\u001b[0m 11ms/step - accuracy: 0.9998 - f1_score: 0.9900 - loss: 0.0016 - precision: 0.9998 - recall: 0.9998\n",
      "Epoch 70/75\n",
      "\u001b[1m88/88\u001b[0m \u001b[32m━━━━━━━━━━━━━━━━━━━━\u001b[0m\u001b[37m\u001b[0m \u001b[1m1s\u001b[0m 11ms/step - accuracy: 0.9999 - f1_score: 0.9910 - loss: 0.0010 - precision: 0.9999 - recall: 0.9999 \n",
      "Epoch 71/75\n",
      "\u001b[1m88/88\u001b[0m \u001b[32m━━━━━━━━━━━━━━━━━━━━\u001b[0m\u001b[37m\u001b[0m \u001b[1m1s\u001b[0m 12ms/step - accuracy: 0.9997 - f1_score: 0.9879 - loss: 0.0013 - precision: 0.9998 - recall: 0.9997\n",
      "Epoch 72/75\n",
      "\u001b[1m88/88\u001b[0m \u001b[32m━━━━━━━━━━━━━━━━━━━━\u001b[0m\u001b[37m\u001b[0m \u001b[1m1s\u001b[0m 12ms/step - accuracy: 0.9999 - f1_score: 0.9962 - loss: 0.0021 - precision: 0.9999 - recall: 0.9999\n",
      "Epoch 73/75\n",
      "\u001b[1m88/88\u001b[0m \u001b[32m━━━━━━━━━━━━━━━━━━━━\u001b[0m\u001b[37m\u001b[0m \u001b[1m1s\u001b[0m 13ms/step - accuracy: 0.9995 - f1_score: 0.9898 - loss: 0.0013 - precision: 0.9995 - recall: 0.9993\n",
      "Epoch 74/75\n",
      "\u001b[1m88/88\u001b[0m \u001b[32m━━━━━━━━━━━━━━━━━━━━\u001b[0m\u001b[37m\u001b[0m \u001b[1m1s\u001b[0m 13ms/step - accuracy: 0.9997 - f1_score: 0.9905 - loss: 0.0012 - precision: 0.9997 - recall: 0.9997\n",
      "Epoch 75/75\n",
      "\u001b[1m88/88\u001b[0m \u001b[32m━━━━━━━━━━━━━━━━━━━━\u001b[0m\u001b[37m\u001b[0m \u001b[1m1s\u001b[0m 14ms/step - accuracy: 0.9999 - f1_score: 0.9873 - loss: 9.2278e-04 - precision: 0.9999 - recall: 0.9999\n"
     ]
    },
    {
     "data": {
      "text/plain": [
       "<keras.src.callbacks.history.History at 0x1714b0bd360>"
      ]
     },
     "execution_count": 10,
     "metadata": {},
     "output_type": "execute_result"
    }
   ],
   "source": [
    "model.fit(padded_sequences, targets, epochs=epochs, verbose=1)"
   ]
  },
  {
   "cell_type": "code",
   "execution_count": 11,
   "metadata": {},
   "outputs": [],
   "source": [
    "# x_train.shape"
   ]
  },
  {
   "cell_type": "code",
   "execution_count": 12,
   "metadata": {},
   "outputs": [],
   "source": [
    "# print(\"Model Input Shape:\", model.input_shape)\n",
    "# print(\"X_test shape\", x_test.shape)\n",
    "# print(x_test.dtype)\n",
    "# print(x_test)"
   ]
  },
  {
   "cell_type": "code",
   "execution_count": 13,
   "metadata": {},
   "outputs": [],
   "source": [
    "# Run a simple prediction with a smaller subset\n",
    "# sample_input = x_test[:1]  # Take a single sample\n",
    "# print(\"Sample input shape:\", sample_input.shape)\n",
    "# print(\"Sample input shape:\", sample_input.shape)\n",
    "# sample_prediction = model.predict(sample_input)\n",
    "# print(\"Sample prediction:\", sample_prediction)\n",
    "\n",
    "# # Check the model summary\n",
    "# model.summary()"
   ]
  },
  {
   "cell_type": "code",
   "execution_count": 14,
   "metadata": {},
   "outputs": [],
   "source": [
    "# try:\n",
    "#     predictions = model.predict(x_test)\n",
    "#     print(\"Predictions shape:\", predictions.shape)\n",
    "# except Exception as e:\n",
    "#     print(\"Error during prediction on entire dataset:\", e)\n",
    "# print(\"Checking for NaNs in x_test:\", np.isnan(x_test).any())\n",
    "# print(\"Checking for infs in x_test:\", np.isinf(x_test).any())\n",
    "# print(\"x_test mean:\", np.mean(x_test))\n",
    "# print(\"x_test std deviation:\", np.std(x_test))"
   ]
  },
  {
   "cell_type": "code",
   "execution_count": 15,
   "metadata": {},
   "outputs": [],
   "source": [
    "# predictions = []\n",
    "# for test_example in x_test:\n",
    "#     test_example = test_example.reshape(1, -1)\n",
    "#     print(\"Test example shape:\", test_example.shape)\n",
    "#     predictions = model.predict(test_example)\n",
    "\n",
    "# print(x_test.shape)\n",
    "# # x_test = x_test.reshape(x_test.shape[0], x_test.shape[1])\n",
    "# # print(x_test.shape)\n",
    "# # print(x_test.reshape(1, -1).shape)\n",
    "# # x_test_final = []\n",
    "# # for test in x_test:\n",
    "# #     test = test.reshape(1, -1)\n",
    "# #     print(test.shape)\n",
    "# #     x_test_final.append(test)\n",
    "\n",
    "# # print(\"X_test_final shape:\", x_test_final[0].shape)\n",
    "\n",
    "# print(x_test[0])\n",
    "# print(x_test[:1])\n",
    "# print(x_test[:1].shape)\n",
    "\n",
    "# print(x_test.shape)"
   ]
  },
  {
   "cell_type": "markdown",
   "metadata": {},
   "source": [
    "#### 6. Testing the Model"
   ]
  },
  {
   "cell_type": "code",
   "execution_count": 24,
   "metadata": {},
   "outputs": [
    {
     "name": "stdout",
     "output_type": "stream",
     "text": [
      "\u001b[1m1/1\u001b[0m \u001b[32m━━━━━━━━━━━━━━━━━━━━\u001b[0m\u001b[37m\u001b[0m \u001b[1m0s\u001b[0m 25ms/step\n",
      "Predicted Intent: Libraries\n"
     ]
    }
   ],
   "source": [
    "user = input(\"Sentence:\")\n",
    "\n",
    "test_sequences = tokenizer.texts_to_sequences([user])\n",
    "\n",
    "test_padded_sequences = keras.preprocessing.sequence.pad_sequences(test_sequences, padding='pre')\n",
    "\n",
    "predictions = model.predict(test_padded_sequences)\n",
    "\n",
    "predicted_intent_index = np.argmax(predictions)\n",
    "\n",
    "predicted_intent = index_to_intent[predicted_intent_index]\n",
    "\n",
    "print(f\"Predicted Intent: {predicted_intent}\")"
   ]
  },
  {
   "cell_type": "code",
   "execution_count": 17,
   "metadata": {},
   "outputs": [],
   "source": [
    "# model.save(\"./models/full_intent_detection_model.h5\")\n",
    "model.save(\"./models/full_intent_detection_model.keras\")"
   ]
  },
  {
   "cell_type": "code",
   "execution_count": 18,
   "metadata": {},
   "outputs": [],
   "source": [
    "# import tensorflow as tf\n",
    "# import tf2onnx\n",
    "\n",
    "# # Load your TensorFlow model\n",
    "# model = tf.keras.models.load_model('models\\intent_detection_model.keras')\n",
    "\n",
    "# # Convert the model to ONNX format\n",
    "# spec = (tf.TensorSpec((None, *model.input_shape[1:]), tf.float32, name=\"input\"),)\n",
    "# output_path = \"../models/intent_detection.onnx\"\n",
    "# model_proto, _ = tf2onnx.convert.from_keras(model, input_signature=spec, output_path=output_path)\n",
    "\n",
    "# # Save the ONNX model\n",
    "# with open(output_path, \"wb\") as f:\n",
    "#     f.write(model_proto.SerializeToString())\n"
   ]
  },
  {
   "cell_type": "code",
   "execution_count": 19,
   "metadata": {},
   "outputs": [],
   "source": [
    "# import tensorflow as tf\n",
    "# import tf2onnx\n",
    "# import numpy as np\n",
    "\n",
    "# # Define or load your Sequential model\n",
    "# model = tf.keras.models.Sequential([\n",
    "#     tf.keras.layers.Dense(10, activation='relu', input_shape=(784,)),\n",
    "#     tf.keras.layers.Dense(10, activation='softmax')\n",
    "# ])\n",
    "\n",
    "# # Provide a dummy input to the model for shape inference\n",
    "# spec = (tf.TensorSpec((None, 784), tf.float32, name=\"input\"),)\n",
    "\n",
    "# # Convert the model to ONNX format\n",
    "# output_path = \"path/to/save/model.onnx\"\n",
    "# # model_proto, _ = tf2onnx.convert.from_keras(model, input_signature=spec, output_path=output_path)\n",
    "# model_proto, _ = tf2onnx.convert.from_keras(model, input_signature=spec, output_path=output_path)\n",
    "\n",
    "# # Save the ONNX model\n",
    "# with open(output_path, \"wb\") as f:\n",
    "#     f.write(model_proto.SerializeToString())\n"
   ]
  },
  {
   "cell_type": "code",
   "execution_count": 20,
   "metadata": {},
   "outputs": [
    {
     "name": "stdout",
     "output_type": "stream",
     "text": [
      "\u001b[1m1/1\u001b[0m \u001b[32m━━━━━━━━━━━━━━━━━━━━\u001b[0m\u001b[37m\u001b[0m \u001b[1m0s\u001b[0m 277ms/step\n",
      "Predicted Intent: Output\n"
     ]
    }
   ],
   "source": [
    "loaded_model = tf.keras.models.load_model('models/full_intent_detection_model.keras')\n",
    "\n",
    "user_input = 'output the variable name to the user'\n",
    "\n",
    "test_sequences = tokenizer.texts_to_sequences([user_input])\n",
    "\n",
    "test_padded_sequences = keras.preprocessing.sequence.pad_sequences(test_sequences, padding='pre')\n",
    "\n",
    "predictions = loaded_model.predict(test_padded_sequences)\n",
    "\n",
    "predicted_intent_index = np.argmax(predictions)\n",
    "\n",
    "predicted_intent = index_to_intent[predicted_intent_index]\n",
    "\n",
    "print(f\"Predicted Intent: {predicted_intent}\")"
   ]
  },
  {
   "cell_type": "code",
   "execution_count": 21,
   "metadata": {},
   "outputs": [],
   "source": [
    "loaded_model = tf.keras.models.load_model('models/full_intent_detection_model.keras')\n"
   ]
  },
  {
   "cell_type": "code",
   "execution_count": 22,
   "metadata": {},
   "outputs": [
    {
     "name": "stdout",
     "output_type": "stream",
     "text": [
      "\u001b[1m1/1\u001b[0m \u001b[32m━━━━━━━━━━━━━━━━━━━━\u001b[0m\u001b[37m\u001b[0m \u001b[1m0s\u001b[0m 277ms/step\n",
      "Predicted Intent: Bitwise Operation\n",
      "\u001b[1m1/1\u001b[0m \u001b[32m━━━━━━━━━━━━━━━━━━━━\u001b[0m\u001b[37m\u001b[0m \u001b[1m0s\u001b[0m 34ms/step\n",
      "Predicted Intent: Bitwise Operation\n",
      "\u001b[1m1/1\u001b[0m \u001b[32m━━━━━━━━━━━━━━━━━━━━\u001b[0m\u001b[37m\u001b[0m \u001b[1m0s\u001b[0m 410ms/step\n",
      "Predicted Intent: Bitwise Operation\n",
      "\u001b[1m1/1\u001b[0m \u001b[32m━━━━━━━━━━━━━━━━━━━━\u001b[0m\u001b[37m\u001b[0m \u001b[1m0s\u001b[0m 44ms/step\n",
      "Predicted Intent: Bitwise Operation\n",
      "\u001b[1m1/1\u001b[0m \u001b[32m━━━━━━━━━━━━━━━━━━━━\u001b[0m\u001b[37m\u001b[0m \u001b[1m0s\u001b[0m 30ms/step\n",
      "Predicted Intent: Bitwise Operation\n",
      "\u001b[1m1/1\u001b[0m \u001b[32m━━━━━━━━━━━━━━━━━━━━\u001b[0m\u001b[37m\u001b[0m \u001b[1m0s\u001b[0m 20ms/step\n",
      "Predicted Intent: Bitwise Operation\n",
      "\u001b[1m1/1\u001b[0m \u001b[32m━━━━━━━━━━━━━━━━━━━━\u001b[0m\u001b[37m\u001b[0m \u001b[1m0s\u001b[0m 22ms/step\n",
      "Predicted Intent: Bitwise Operation\n",
      "\u001b[1m1/1\u001b[0m \u001b[32m━━━━━━━━━━━━━━━━━━━━\u001b[0m\u001b[37m\u001b[0m \u001b[1m0s\u001b[0m 31ms/step\n",
      "Predicted Intent: Bitwise Operation\n",
      "\u001b[1m1/1\u001b[0m \u001b[32m━━━━━━━━━━━━━━━━━━━━\u001b[0m\u001b[37m\u001b[0m \u001b[1m0s\u001b[0m 24ms/step\n",
      "Predicted Intent: Bitwise Operation\n",
      "\u001b[1m1/1\u001b[0m \u001b[32m━━━━━━━━━━━━━━━━━━━━\u001b[0m\u001b[37m\u001b[0m \u001b[1m0s\u001b[0m 30ms/step\n",
      "Predicted Intent: Bitwise Operation\n",
      "\u001b[1m1/1\u001b[0m \u001b[32m━━━━━━━━━━━━━━━━━━━━\u001b[0m\u001b[37m\u001b[0m \u001b[1m0s\u001b[0m 27ms/step\n",
      "Predicted Intent: Bitwise Operation\n"
     ]
    }
   ],
   "source": [
    "sentences =[\n",
    "    \"bitwise x and y\",\n",
    "    \"bitwise x or y\",\n",
    "    \"perform bitwise and on number and 10\",\n",
    "    \"perform bitwise or on number and 10\",\n",
    "    \"shift left x by 2\",\n",
    "    \"shift right x by 2\",\n",
    "    \"shift x left by 2\",\n",
    "    \"shift x right by 2\",\n",
    "    \"xor x and y\",\n",
    "    \"perform bitwise xor on x and y\",\n",
    "    \"perform bitwise xor on x and 10\"\n",
    "]\n",
    "for sentence in sentences:\n",
    "    test_sequences = tokenizer.texts_to_sequences([sentence])\n",
    "\n",
    "    test_padded_sequences = keras.preprocessing.sequence.pad_sequences(test_sequences, padding='pre')\n",
    "\n",
    "    predictions = loaded_model.predict(test_padded_sequences)\n",
    "\n",
    "    predicted_intent_index = np.argmax(predictions)\n",
    "\n",
    "    predicted_intent = index_to_intent[predicted_intent_index]\n",
    "\n",
    "    print(f\"Predicted Intent: {predicted_intent}\")"
   ]
  }
 ],
 "metadata": {
  "kernelspec": {
   "display_name": "Python 3",
   "language": "python",
   "name": "python3"
  },
  "language_info": {
   "codemirror_mode": {
    "name": "ipython",
    "version": 3
   },
   "file_extension": ".py",
   "mimetype": "text/x-python",
   "name": "python",
   "nbconvert_exporter": "python",
   "pygments_lexer": "ipython3",
   "version": "3.10.9"
  }
 },
 "nbformat": 4,
 "nbformat_minor": 2
}
