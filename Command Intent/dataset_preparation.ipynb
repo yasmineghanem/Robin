{
 "cells": [
  {
   "cell_type": "code",
   "execution_count": 103,
   "metadata": {},
   "outputs": [
    {
     "name": "stderr",
     "output_type": "stream",
     "text": [
      "c:\\Users\\yazmi\\AppData\\Local\\Programs\\Python\\Python310\\lib\\site-packages\\tqdm\\auto.py:21: TqdmWarning: IProgress not found. Please update jupyter and ipywidgets. See https://ipywidgets.readthedocs.io/en/stable/user_install.html\n",
      "  from .autonotebook import tqdm as notebook_tqdm\n",
      "c:\\Users\\yazmi\\AppData\\Local\\Programs\\Python\\Python310\\lib\\site-packages\\transformers\\utils\\generic.py:441: UserWarning: torch.utils._pytree._register_pytree_node is deprecated. Please use torch.utils._pytree.register_pytree_node instead.\n",
      "  _torch_pytree._register_pytree_node(\n"
     ]
    },
    {
     "name": "stdout",
     "output_type": "stream",
     "text": [
      "WARNING:tensorflow:From c:\\Users\\yazmi\\AppData\\Local\\Programs\\Python\\Python310\\lib\\site-packages\\keras\\src\\losses.py:2976: The name tf.losses.sparse_softmax_cross_entropy is deprecated. Please use tf.compat.v1.losses.sparse_softmax_cross_entropy instead.\n",
      "\n"
     ]
    },
    {
     "name": "stderr",
     "output_type": "stream",
     "text": [
      "c:\\Users\\yazmi\\AppData\\Local\\Programs\\Python\\Python310\\lib\\site-packages\\transformers\\utils\\generic.py:309: UserWarning: torch.utils._pytree._register_pytree_node is deprecated. Please use torch.utils._pytree.register_pytree_node instead.\n",
      "  _torch_pytree._register_pytree_node(\n"
     ]
    }
   ],
   "source": [
    "import utils"
   ]
  },
  {
   "cell_type": "code",
   "execution_count": 99,
   "metadata": {},
   "outputs": [
    {
     "name": "stdout",
     "output_type": "stream",
     "text": [
      "Variable Declaration\n",
      "21\n",
      "148\n",
      "Function Declaration\n",
      "9\n",
      "112\n",
      "Class Declaration\n",
      "3\n",
      "38\n",
      "Assignment Operation\n",
      "8\n",
      "108\n",
      "Conditional Statement\n",
      "9\n",
      "113\n",
      "Iterative Statement\n",
      "12\n",
      "158\n",
      "Array Operation\n",
      "11\n",
      "139\n",
      "Bitwise Operation\n",
      "8\n",
      "97\n",
      "Mathematical Operation\n",
      "11\n",
      "138\n",
      "Membership Operation\n",
      "16\n",
      "114\n",
      "Casting\n",
      "6\n",
      "78\n",
      "IO Operation\n",
      "9\n",
      "116\n",
      "Assertion\n",
      "4\n",
      "49\n",
      "Libraries\n",
      "4\n",
      "51\n",
      "File System\n",
      "0\n",
      "0\n",
      "IDE Operation\n",
      "0\n",
      "0\n",
      "Comments\n",
      "0\n",
      "0\n"
     ]
    }
   ],
   "source": [
    "utils.augment_data(\"./intent_detection_dataset/intents_pattern.json\")"
   ]
  },
  {
   "cell_type": "code",
   "execution_count": 102,
   "metadata": {},
   "outputs": [],
   "source": [
    "utils.ner_dataset_pre_annotations(\"./intent_detection_dataset/intents_pattern.json\")"
   ]
  },
  {
   "cell_type": "code",
   "execution_count": 104,
   "metadata": {},
   "outputs": [],
   "source": [
    "utils.reformat_json(\"./ner_dataset/annotations/variable_declaration.json\")"
   ]
  }
 ],
 "metadata": {
  "kernelspec": {
   "display_name": "Python 3",
   "language": "python",
   "name": "python3"
  },
  "language_info": {
   "codemirror_mode": {
    "name": "ipython",
    "version": 3
   },
   "file_extension": ".py",
   "mimetype": "text/x-python",
   "name": "python",
   "nbconvert_exporter": "python",
   "pygments_lexer": "ipython3",
   "version": "3.10.9"
  }
 },
 "nbformat": 4,
 "nbformat_minor": 2
}
