{
 "cells": [
  {
   "cell_type": "code",
   "execution_count": 9,
   "metadata": {},
   "outputs": [],
   "source": [
    "import json\n",
    "import re\n",
    "import random\n",
    "import itertools\n",
    "from string import Formatter"
   ]
  },
  {
   "cell_type": "code",
   "execution_count": 3,
   "metadata": {},
   "outputs": [],
   "source": [
    "with open('./ner_dataset/fallback.json') as f:\n",
    "    data = json.load(f)\n",
    "\n",
    "    intents = list(data.keys())"
   ]
  },
  {
   "cell_type": "code",
   "execution_count": 4,
   "metadata": {},
   "outputs": [
    {
     "data": {
      "text/plain": [
       "['Variable Declaration',\n",
       " 'Constant Declaration',\n",
       " 'Function Declaration',\n",
       " 'Class Declaration',\n",
       " 'Assignment Operation',\n",
       " 'Conditional Operation',\n",
       " 'For Loop',\n",
       " 'While Loop',\n",
       " 'Bitwise Operation',\n",
       " 'Mathematical Operation',\n",
       " 'Membership Operation',\n",
       " 'Casting',\n",
       " 'Input',\n",
       " 'Output',\n",
       " 'Assertion',\n",
       " 'Libraries',\n",
       " 'File System',\n",
       " 'IDE Operation',\n",
       " 'Comment',\n",
       " 'Interactive Commands',\n",
       " 'Git Operation',\n",
       " 'Activate Mouse',\n",
       " 'Activate Interactive',\n",
       " 'Exit Block',\n",
       " 'Mouse Click',\n",
       " 'Array Operation']"
      ]
     },
     "execution_count": 4,
     "metadata": {},
     "output_type": "execute_result"
    }
   ],
   "source": [
    "intents"
   ]
  },
  {
   "cell_type": "code",
   "execution_count": 11,
   "metadata": {},
   "outputs": [
    {
     "name": "stdout",
     "output_type": "stream",
     "text": [
      "Intent: book_flight\n",
      "Entities: {'destination': 'New York'}\n"
     ]
    }
   ],
   "source": [
    "templates = {\n",
    "    \"book_flight\": r\"Book a flight to (?P<destination>[\\w\\s]+)\",\n",
    "    \"get_weather\": r\"What's the weather in (?P<location>[\\w\\s]+)\",\n",
    "    \"play_music\": r\"Play (?P<song>.+)\"\n",
    "}\n",
    "\n",
    "def classify_intent_and_extract_entities(text):\n",
    "    for intent, pattern in templates.items():\n",
    "        match = re.match(pattern, text)\n",
    "        if match:\n",
    "            entities = match.groupdict()\n",
    "            return intent, entities\n",
    "    return \"unknown\", {}\n",
    "\n",
    "# Example usage\n",
    "text = \"Book a flight to New York\"\n",
    "intent, entities = classify_intent_and_extract_entities(text)\n",
    "print(f\"Intent: {intent}\")\n",
    "print(f\"Entities: {entities}\")\n"
   ]
  },
  {
   "cell_type": "code",
   "execution_count": 12,
   "metadata": {},
   "outputs": [
    {
     "name": "stdout",
     "output_type": "stream",
     "text": [
      "Text: Book a flight from San Francisco to New York\n",
      "Intent: book_flight\n",
      "Entities: {'origin': 'San Francisco', 'destination': 'New York'}\n",
      "\n",
      "Text: Book a flight to New York\n",
      "Intent: book_flight\n",
      "Entities: {'destination': 'New York'}\n",
      "\n",
      "Text: What's the weather in London\n",
      "Intent: get_weather\n",
      "Entities: {'location': 'London'}\n",
      "\n",
      "Text: How is the weather in Tokyo\n",
      "Intent: get_weather\n",
      "Entities: {'location': 'Tokyo'}\n",
      "\n",
      "Text: Play Shape of You by Ed Sheeran\n",
      "Intent: play_music\n",
      "Entities: {'song': 'Shape of You', 'artist': 'Ed Sheeran'}\n",
      "\n",
      "Text: Play the song Shape of You\n",
      "Intent: play_music\n",
      "Entities: {'song': 'Shape of You'}\n",
      "\n"
     ]
    }
   ],
   "source": [
    "import re\n",
    "\n",
    "# Define the templates with placeholders for slots\n",
    "templates = {\n",
    "    \"book_flight\": [\n",
    "        r\"Book a flight from (?P<origin>[\\w\\s]+) to (?P<destination>[\\w\\s]+)\",\n",
    "        r\"Book a flight to (?P<destination>[\\w\\s]+)\"\n",
    "    ],\n",
    "    \"get_weather\": [\n",
    "        r\"What's the weather in (?P<location>[\\w\\s]+)\",\n",
    "        r\"How is the weather in (?P<location>[\\w\\s]+)\"\n",
    "    ],\n",
    "    \"play_music\": [\n",
    "        r\"Play (?P<song>.+) by (?P<artist>.+)\",\n",
    "        r\"Play the song (?P<song>.+)\"\n",
    "    ]\n",
    "}\n",
    "\n",
    "def classify_intent_and_extract_entities(text):\n",
    "    for intent, patterns in templates.items():\n",
    "        for pattern in patterns:\n",
    "            match = re.match(pattern, text)\n",
    "            if match:\n",
    "                entities = match.groupdict()\n",
    "                return intent, entities\n",
    "    return \"unknown\", {}\n",
    "\n",
    "# Example usage\n",
    "texts = [\n",
    "    \"Book a flight from San Francisco to New York\",\n",
    "    \"Book a flight to New York\",\n",
    "    \"What's the weather in London\",\n",
    "    \"How is the weather in Tokyo\",\n",
    "    \"Play Shape of You by Ed Sheeran\",\n",
    "    \"Play the song Shape of You\"\n",
    "]\n",
    "\n",
    "for text in texts:\n",
    "    intent, entities = classify_intent_and_extract_entities(text)\n",
    "    print(f\"Text: {text}\")\n",
    "    print(f\"Intent: {intent}\")\n",
    "    print(f\"Entities: {entities}\")\n",
    "    print()\n"
   ]
  },
  {
   "cell_type": "code",
   "execution_count": 14,
   "metadata": {},
   "outputs": [
    {
     "name": "stdout",
     "output_type": "stream",
     "text": [
      "First Name: John\n",
      "Last Name: L\n"
     ]
    }
   ],
   "source": [
    "import re\n",
    "\n",
    "pattern = r\"(?P<first_name>\\w+) (?P<last_name>\\w+)\"\n",
    "text = \"John Doe\"\n",
    "\n",
    "match = re.match(pattern, text)\n",
    "if match:\n",
    "    first_name = match.group('first_name')\n",
    "    last_name = match.group('last_name')\n",
    "    print(f\"First Name: {first_name}\")\n",
    "    print(f\"Last Name: {last_name}\")\n"
   ]
  },
  {
   "cell_type": "code",
   "execution_count": 16,
   "metadata": {},
   "outputs": [
    {
     "data": {
      "text/plain": [
       "{'assign', 'declare', 'name', 'named', 'new', 'value'}"
      ]
     },
     "execution_count": 16,
     "metadata": {},
     "output_type": "execute_result"
    }
   ],
   "source": [
    "intents_dict = {\n",
    "    \"variable\" : [ \n",
    "    \"{declare} a {new} variable {named} {name} and {assign} {value}\",\n",
    "    \"{declare} a {new} {type} variable {named} {name} and {assign} {value}\",\n",
    "    \"{declare} a {new} {type} variable {named} {name} and {assign} {value}\"\n",
    "  ]}\n",
    "\n",
    "template = intents_dict['variable'][0]\n",
    "\n",
    "filtered_parameters = {field_name for _, field_name, _, _ in Formatter().parse(template) if field_name}\n",
    "\n",
    "filtered_parameters"
   ]
  },
  {
   "cell_type": "markdown",
   "metadata": {},
   "source": [
    "Done:\n",
    "- variable\n",
    "- constant\n",
    "- class\n",
    "- assignment\n",
    "- for\n",
    "- bitwise\n",
    "- membership\n",
    "- libraries\n",
    "- casting\n",
    "- output\n",
    "- input\n",
    "- assertion (check condition)\n",
    "- git\n",
    "- ide\n",
    "- interactive commands\n",
    "- mouse click\n",
    "- comment\n",
    "- activate mouse\n",
    "- activate interactive\n",
    "- file\n",
    "- while\n",
    "- function\n",
    "- conditional\n",
    "- mathematical\n"
   ]
  },
  {
   "cell_type": "code",
   "execution_count": 107,
   "metadata": {},
   "outputs": [
    {
     "name": "stdout",
     "output_type": "stream",
     "text": [
      "['(?P<action>push|pull|commit|discard|stash|stage) (the )?(changes )?in branch with message (?P<message>.+)', '(?P<action>push|pull|commit|discard|stash|stage) (the )?(changes )?with message (?P<message>.+)', '(?P<action>push|pull|commit|discard|stash|stage) (the )?changes with message (?P<message>.+)', '(?P<action>push|pull|commit|discard|stash|stage) (the )?(changes )?in branch (?P<branch>.+)', '(?P<action>push|pull|commit|discard|stash|stage) (the )?(changes )?', 'git (?P<action>push|pull|commit|discard|stash|stage)', '(?P<action>push|pull|commit|discard|stash|stage)']\n",
      "0\n",
      "1\n",
      "Text: commit the changes with message changed something\n",
      "Intent: git operation\n",
      "Entities: {'action': 'commit', 'message': 'changed something'}\n",
      "\n"
     ]
    }
   ],
   "source": [
    "import re\n",
    "import json\n",
    "\n",
    "# # Load templates from JSON file\n",
    "# templates = {\n",
    "#     \"mathematical\": [\n",
    "#         \"(calculate|compute|work out|solve|get the) the (?P<operation>\\\\w+) of (?P<lhs>[\\\\w\\\\s]+) (and|times|plus|minus|divide|power) (?P<rhs>[\\\\w\\\\s]+) and (assign|store|save) it to (?P<variable>[\\\\w\\\\s]+)\",\n",
    "#         \"(calculate|compute|work out|solve|get the) the (?P<operation>\\\\w+) of (?P<lhs>[\\\\w\\\\s]+) (and|times|plus|minus|divide|power) (?P<rhs>[\\\\w\\\\s]+)\",\n",
    "#         \"(calculate|compute|work out|solve|get the) the (?P<operation>\\\\w+) of (?P<lhs>[\\\\w\\\\s]+)\",\n",
    "#         \"(calculate|compute|work out|solve|get the) (?P<lhs>[\\\\w\\\\s]+) (?P<operation>\\\\w+) (?P<rhs>[\\\\w\\\\s]+) and (assign|store|save) it to (?P<variable>[\\\\w\\\\s]+)\",\n",
    "#         \"(calculate|compute|work out|solve|get the) (?P<lhs>[\\\\w\\\\s]+) (?P<operation>\\\\w+) (?P<rhs>[\\\\w\\\\s]+)\",\n",
    "#         \"(?P<operation>\\\\w+) (?P<lhs>[\\\\w\\\\s]+) (and|times|plus|minus|divide|power) (?P<rhs>[\\\\w\\\\s]+) and (assign|store|save) it to (?P<variable>[\\\\w\\\\s]+)\",\n",
    "#         \"(?P<operation>\\\\w+) (?P<lhs>[\\\\w\\\\s]+) (and|times|plus|minus|divide|power) (?P<rhs>[\\\\w\\\\s]+)\",\n",
    "#         \"(?P<lsh>[\\\\w\\\\s]+) (?P<operation>\\\\w+) (?P<rhs>[\\\\w\\\\s]+) and (assign|store|save) it to (?P<variable>[\\\\w\\\\s]+)\",\n",
    "#         \"(?P<lhs>[\\\\w\\\\s]+) (?P<operation>\\\\w+) (?P<rhs>[\\\\w\\\\s]+)\",\n",
    "#         \"(?P<operation>\\\\w+) (?P<lhs>[\\\\w\\\\s]+)\"\n",
    "#     ]\n",
    "# }\n",
    "\n",
    "with open('./ner_dataset/fallback_ner.json') as f:\n",
    "    intent_templates = json.load(f)\n",
    "\n",
    "    intent = 'git operation'\n",
    "\n",
    "    templates = intent_templates[intent]\n",
    "\n",
    "    print(templates)\n",
    "\n",
    "\n",
    "\n",
    "def extract_entities_from_regex(text, intent, patterns):\n",
    "    for i, pattern in enumerate(patterns):\n",
    "        print(i)\n",
    "        match = re.match(pattern, text, re.IGNORECASE)  # Case-insensitive matching\n",
    "        if match:\n",
    "            entities = match.groupdict()\n",
    "            return intent, entities\n",
    "    return intent, {}\n",
    "\n",
    "\n",
    "# Example usage\n",
    "texts = [\n",
    "    'declare a new string constant named pi and assign the value 3.14',\n",
    "]\n",
    "\n",
    "fallback_commands = [\n",
    "    \"commit the changes with message changed something\"\n",
    "]\n",
    "\n",
    "\n",
    "for text in fallback_commands:\n",
    "    intent, entities = extract_entities_from_regex(text, intent, templates)\n",
    "    print(f\"Text: {text}\")\n",
    "    print(f\"Intent: {intent}\")\n",
    "    print(f\"Entities: {entities}\")\n",
    "    print()\n"
   ]
  },
  {
   "cell_type": "code",
   "execution_count": 93,
   "metadata": {},
   "outputs": [
    {
     "name": "stdout",
     "output_type": "stream",
     "text": [
      "no\n"
     ]
    }
   ],
   "source": [
    "# extract entities given intent and template if the pattern matches\n",
    "fallback_commands ={}\n",
    "\n",
    "if fallback_commands:\n",
    "    print('yes')\n",
    "else:\n",
    "    print('no')"
   ]
  }
 ],
 "metadata": {
  "kernelspec": {
   "display_name": "Python 3",
   "language": "python",
   "name": "python3"
  },
  "language_info": {
   "codemirror_mode": {
    "name": "ipython",
    "version": 3
   },
   "file_extension": ".py",
   "mimetype": "text/x-python",
   "name": "python",
   "nbconvert_exporter": "python",
   "pygments_lexer": "ipython3",
   "version": "3.10.9"
  }
 },
 "nbformat": 4,
 "nbformat_minor": 2
}
