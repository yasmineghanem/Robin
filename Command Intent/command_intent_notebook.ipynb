{
 "cells": [
  {
   "cell_type": "code",
   "execution_count": 55,
   "metadata": {},
   "outputs": [],
   "source": [
    "# Imports \n",
    "import tensorflow as tf\n",
    "from tensorflow.keras.preprocessing.text import Tokenizer # preprocess text data to tokenize it into sequences\n",
    "from tensorflow.keras.preprocessing.sequence import pad_sequences # to pad tokenized sequence to a fixed length\n",
    "import numpy as np\n",
    "import random\n",
    "import json\n",
    "from utils import * \n",
    "import warnings\n",
    "# ignore warnings\n",
    "warnings.filterwarnings('ignore')"
   ]
  },
  {
   "cell_type": "code",
   "execution_count": 56,
   "metadata": {},
   "outputs": [
    {
     "name": "stdout",
     "output_type": "stream",
     "text": [
      "dict_keys(['intents'])\n",
      "<class 'list'>\n",
      "15\n",
      "dict_keys(['intent', 'keywords', 'responses', 'extension', 'entities'])\n",
      "{'intent': 'File System', 'keywords': ['create a file', 'open file'], 'responses': ['File System intent detected'], 'extension': {'function': '', 'entities': False, 'responses': []}, 'entities': []}\n"
     ]
    }
   ],
   "source": [
    "# load the dataset\n",
    "with open('intents.json', 'r') as f:\n",
    "    data = json.load(f)\n",
    "\n",
    "print(data.keys())\n",
    "print(type(data['intents']))\n",
    "print(len(data['intents']))\n",
    "print(data['intents'][0].keys())\n",
    "print(data['intents'][-1])"
   ]
  },
  {
   "cell_type": "code",
   "execution_count": 57,
   "metadata": {},
   "outputs": [
    {
     "name": "stdout",
     "output_type": "stream",
     "text": [
      "Unique Intents: ['Declaration', 'Assignment Operation', 'Conditional Statement', 'Iterative Operation', 'Insertion', 'Array Operation', 'Operators', 'OOP Operations', 'Casting', 'Exception Handling', 'I/O Operations', 'Assertion', 'Libraries', 'IDE Interactions', 'File System']\n",
      "Unique Intents: 15\n",
      "Intents : ['Declaration', 'Declaration', 'Declaration', 'Declaration', 'Declaration', 'Declaration', 'Declaration', 'Declaration', 'Declaration', 'Declaration', 'Declaration', 'Declaration', 'Declaration', 'Declaration', 'Declaration', 'Declaration', 'Declaration', 'Declaration', 'Declaration', 'Declaration', 'Declaration', 'Declaration', 'Declaration', 'Declaration', 'Declaration', 'Declaration', 'Declaration', 'Declaration', 'Declaration', 'Declaration', 'Declaration', 'Assignment Operation', 'Assignment Operation', 'Assignment Operation', 'Assignment Operation', 'Assignment Operation', 'Assignment Operation', 'Assignment Operation', 'Assignment Operation', 'Assignment Operation', 'Assignment Operation', 'Assignment Operation', 'Assignment Operation', 'Assignment Operation', 'Assignment Operation', 'Assignment Operation', 'Assignment Operation', 'Assignment Operation', 'Assignment Operation', 'Assignment Operation', 'Assignment Operation', 'Assignment Operation', 'Assignment Operation', 'Assignment Operation', 'Assignment Operation', 'Assignment Operation', 'Assignment Operation', 'Assignment Operation', 'Assignment Operation', 'Conditional Statement', 'Conditional Statement', 'Conditional Statement', 'Conditional Statement', 'Conditional Statement', 'Conditional Statement', 'Conditional Statement', 'Conditional Statement', 'Conditional Statement', 'Conditional Statement', 'Conditional Statement', 'Conditional Statement', 'Conditional Statement', 'Conditional Statement', 'Conditional Statement', 'Conditional Statement', 'Conditional Statement', 'Conditional Statement', 'Conditional Statement', 'Conditional Statement', 'Conditional Statement', 'Conditional Statement', 'Iterative Operation', 'Iterative Operation', 'Iterative Operation', 'Iterative Operation', 'Iterative Operation', 'Iterative Operation', 'Iterative Operation', 'Iterative Operation', 'Iterative Operation', 'Iterative Operation', 'Iterative Operation', 'Iterative Operation', 'Iterative Operation', 'Iterative Operation', 'Iterative Operation', 'Iterative Operation', 'Iterative Operation', 'Iterative Operation', 'Iterative Operation', 'Iterative Operation', 'Iterative Operation', 'Iterative Operation', 'Iterative Operation', 'Iterative Operation', 'Iterative Operation', 'Iterative Operation', 'Iterative Operation', 'Iterative Operation', 'Iterative Operation', 'Iterative Operation', 'Iterative Operation', 'Iterative Operation', 'Insertion', 'Insertion', 'Insertion', 'Insertion', 'Insertion', 'Insertion', 'Insertion', 'Insertion', 'Insertion', 'Insertion', 'Insertion', 'Insertion', 'Insertion', 'Insertion', 'Insertion', 'Insertion', 'Insertion', 'Insertion', 'Insertion', 'Insertion', 'Array Operation', 'Array Operation', 'Array Operation', 'Array Operation', 'Array Operation', 'Array Operation', 'Array Operation', 'Array Operation', 'Array Operation', 'Array Operation', 'Array Operation', 'Array Operation', 'Array Operation', 'Array Operation', 'Array Operation', 'Array Operation', 'Array Operation', 'Array Operation', 'Array Operation', 'Array Operation', 'Array Operation', 'Array Operation', 'Operators', 'OOP Operations', 'OOP Operations', 'OOP Operations', 'OOP Operations', 'OOP Operations', 'OOP Operations', 'OOP Operations', 'OOP Operations', 'OOP Operations', 'OOP Operations', 'OOP Operations', 'OOP Operations', 'OOP Operations', 'OOP Operations', 'OOP Operations', 'OOP Operations', 'OOP Operations', 'OOP Operations', 'OOP Operations', 'OOP Operations', 'Casting', 'Casting', 'Casting', 'Casting', 'Casting', 'Casting', 'Casting', 'Casting', 'Casting', 'Casting', 'Casting', 'Casting', 'Casting', 'Casting', 'Casting', 'Casting', 'Casting', 'Casting', 'Casting', 'Exception Handling', 'Exception Handling', 'Exception Handling', 'Exception Handling', 'Exception Handling', 'Exception Handling', 'Exception Handling', 'Exception Handling', 'Exception Handling', 'Exception Handling', 'Exception Handling', 'Exception Handling', 'Exception Handling', 'Exception Handling', 'Exception Handling', 'Exception Handling', 'Exception Handling', 'Exception Handling', 'Exception Handling', 'Exception Handling', 'I/O Operations', 'I/O Operations', 'I/O Operations', 'I/O Operations', 'I/O Operations', 'I/O Operations', 'I/O Operations', 'I/O Operations', 'I/O Operations', 'I/O Operations', 'I/O Operations', 'I/O Operations', 'I/O Operations', 'I/O Operations', 'I/O Operations', 'I/O Operations', 'I/O Operations', 'I/O Operations', 'I/O Operations', 'I/O Operations', 'Assertion', 'Assertion', 'Assertion', 'Assertion', 'Assertion', 'Assertion', 'Assertion', 'Assertion', 'Assertion', 'Assertion', 'Assertion', 'Assertion', 'Assertion', 'Assertion', 'Assertion', 'Assertion', 'Assertion', 'Assertion', 'Assertion', 'Assertion', 'Libraries', 'Libraries', 'Libraries', 'Libraries', 'Libraries', 'Libraries', 'Libraries', 'Libraries', 'Libraries', 'Libraries', 'Libraries', 'Libraries', 'Libraries', 'Libraries', 'Libraries', 'Libraries', 'Libraries', 'Libraries', 'Libraries', 'Libraries', 'IDE Interactions', 'File System', 'File System']\n",
      "Number of Intents: 278\n",
      "Text Input: ['new', 'declare', 'declare variable', 'declare function', 'define', 'define a new function named', 'create', 'create variable', 'create function', 'initialize', 'initialize a new variable', 'Create a new variable', 'Declare a variable', 'Initiate a new variable', 'Set up a variable', 'Introduce a new variable', 'Establish a variable', 'Declare a fresh variable', 'Instantiate a variable', 'Announce a variable', 'Define a variable', 'Declare an integer variable named count', 'Create a string variable called message', 'Initialize a float variable named temperature', 'Declare a boolean variable is enabled and set it to True', 'Create a list variable numbers to store numeric values', 'Initialize a dictionary variable user data for storing user information', 'Declare a constant variable PI and set it to', 'Create a tuple variable coordinates for storing x y pairs', 'Initialize a set variable unique values with distinct elements', 'Declare a variable config and assign a configuration object', 'assign', 'assign the value', 'set', 'set the varible to value', 'put', 'put the value', 'store', 'store the value', 'Set the variable count to', 'Initialize price with the value', 'Let quantity be equal to', 'Store the result in the variable result', 'Give score the value of', 'Put into the variable pi', 'Update counter to', 'Assign the string Hello to greeting', 'Initialize temperature with degrees', 'Assign the value to the variable total', 'Assign the value to the variable count', 'Set the string Hello to the variable greeting', 'Initialize the variable pi with the value', 'Assign the result of x y to the variable sum', 'Store the user input in the variable user response', 'Set the list to the variable numbers', 'Assign the current date to the variable current date', 'Initialize the boolean variable is ready to False', 'Assign the square root of x to the variable root x', 'Set the dictionary key value to the variable data', 'compare', 'and', 'or', 'if', 'else', 'condition', 'condition statement', 'equal', 'not equal', 'compare between', 'greater than', 'smaller than', 'If the temperature is above degrees turn on the air conditioner', 'When the account balance is less than send a low balance alert', 'If the input is not valid display an error message', 'When the variable status is active proceed with the operation', 'Check whether the file exists if so open it for editing', 'If the number is even double it otherwise leave it unchanged', 'Evaluate the condition and execute the code block if it s true', 'If the customer is a premium member offer a discount', 'Check if the response code is if not handle the error', 'Check if the user is logged in if true show the dashboard', 'loop', 'for', 'while', 'do', 'do while', 'repeat', 'iterate', 'iterate over', 'iterate through', 'search', 'search for', 'search in', 'Run a for loop to iterate over the array elements', 'Implement a while loop until the condition is false', 'Use a foreach loop to iterate through the collection', 'Apply a do while loop for at least one iteration', 'Execute a for loop from to for incremental steps', 'Run a while loop until the user input is valid', 'Utilize a for loop to process each character in the string', 'Implement a do while loop to prompt the user until they confirm', 'Use a foreach loop for concurrent processing of elements', 'Apply a nested for loop to traverse a two dimensional array', 'Iterate through the list and perform an action on each item', 'Repeat the process until a certain condition is met', 'Cycle through the elements and update their values', 'Continue processing until the specified criteria are satisfied', 'Go through the dataset and apply a transformation to each entry', 'Loop over the array and check for specific conditions', 'Perform an iterative operation on the given input', 'Iterate over the collection and extract relevant information', 'Keep executing the code block until a stopping condition is reached', 'Run a loop to handle multiple cases based on user input', 'Insert a semicolon at the end of the line', 'Place a space between the function parameters', 'Include a semicolon to terminate the statement', 'Append a colon to the label', 'Put a space around the arithmetic operator', 'Insert a semicolon to complete the statement', 'Add a colon for indentation', 'Include a space before and after the assignment operator', 'Place a semicolon to end the block', 'Add a colon after the condition', 'Insert a semicolon at the end of line', 'Add a colon after the condition in line', 'Place a space between parameters on line', 'Include a semicolon to terminate the statement at line', 'Append a colon to the label in line', 'Put a space around the arithmetic operator on line', 'Insert a semicolon to complete the statement at line', 'Add a colon for indentation in line', 'Include a space before and after the assignment operator on line', 'Place a semicolon to end the block at line', 'Perform element wise addition on two arrays', 'Apply a filter to the array to select specific elements', 'Combine two arrays into a new array', 'Find the maximum value in the array', 'Transpose the rows and columns of the matrix', 'Multiply each element in the array by a scalar', 'Concatenate multiple arrays along a specified axis', 'Search for a particular element in the array', 'Sort the elements of the array in ascending order', 'Sort the elements of the array in descending order', 'calculate the total of elements in the list', 'transform each item in the array', 'select specific elements from the list', 'Combine lists', 'Determine the maximum value in the array', 'Determine the minimum value in the array', 'Transpose a matrix', 'Multiply each element by a scalar', 'Concatenate lists using', 'Check for element existence with in keyword in Python', 'Sort the list in ascending order', 'Sort the list in descending order', 'operators', 'Create a class Student with a constructor initializing name and ID', 'Instantiate an object apple from the Fruit class with color and taste', 'Implement inheritance by creating a SUV class derived from Car', 'Encapsulate the BankAccount class to protect the balance attribute', 'Extend the Shape class to include a Triangle with additional properties', 'Demonstrate polymorphism with add method accepting different data types', 'Declare a constant PI in the Circle class for mathematical calculations', 'Instantiate a Person object and call the get age method', 'Abstract the Animal class with common methods for Dog and Cat', 'Create a class named Car with attributes for make model and year', 'Define a method calculate area in the Rectangle class', 'Instantiate an object of the Person class with name and age', 'Implement encapsulation by making the attributes of the Book class private', 'Inherit the Employee class from the Person class for shared properties', 'Override the display method in the Child class for custom behavior', 'Use polymorphism by accepting different types in the calculate method', 'Declare a static variable counter in the Counter class', 'Instantiate an object circle from the Circle class with a radius', 'Implement abstraction by defining abstract methods in the Shape class', 'Define a method calculate salary in the Employee class', 'Convert an integer to a float using type casting', 'Cast a string to an integer using the int function', 'Change a float to an integer using the int function', 'Perform explicit casting from a string to a boolean', 'Convert a number to a string using the str function', 'Cast a character to its ASCII value using ord', 'Change a boolean to an integer using type casting', 'Convert a list to a tuple using the tuple function', 'Cast a string representation of a number to a float', 'Change a float to a string using the str function', 'Convert the variable num str from a string to an integer', 'Cast the temperature variable from a float to an integer', 'Change the boolean flag bool to an integer', 'Transform the list num list str to integers and store in num list int', 'Convert the string grade char to an integer or another suitable type', 'Change the float price float to an integer or a string depending on the use case', 'Cast the integer quantity int to a boolean', 'Convert the variable count from an integer to a string', 'Transform the character grade char to its ASCII value or another relevant representation', 'Include error handling for potential exceptions in this block of code', 'Implement a mechanism to catch errors and handle exceptions gracefully', 'Surround this code with a try catch block to manage unexpected issues', 'Add a layer of protection by incorporating exception handling in this section', 'Wrap the critical section with error handling logic to ensure robustness', 'Guard against runtime errors by using a try except structure', 'Handle exceptions gracefully to prevent unexpected crashes', 'Surround the risky operation with a try catch block for error recovery', 'Incorporate defensive programming by adding exception handling here', 'Use a try except block to manage potential errors during execution', 'Ensure fault tolerance by incorporating a try except structure', 'Guard against runtime errors using a catch block for graceful handling', 'Surround this critical section with a try catch block for error resilience', 'Implement defensive programming with a mechanism to catch unexpected issues', 'Wrap this code snippet in a try except to manage potential exceptions', 'Add a layer of error protection using a try catch structure', 'Handle unforeseen errors gracefully by implementing exception handling', 'Secure this section with a try catch to capture and manage exceptions', 'Use a try except block for better control over unexpected runtime errors', 'Incorporate a try catch mechanism to gracefully handle exceptional cases', 'Read user input from the console and store it in a variable', 'Take input from the user through the console for further processing', 'Output the result to the console for user feedback', 'Print a menu to the console for user navigation', 'Read multiple values from the console and assign them to variables', 'Display a formatted message on the console with dynamic content', 'Prompt the user in the console for a yes no response', 'Take numerical input from the console for calculations', 'Output the contents of an array to the console', 'Accept a filename from the user via the console for file operations', 'Display error messages on the console for debugging purposes', 'Read a password input from the console with hidden characters', 'Prompt the user in the console to confirm an action', 'Take input from the console to set program configurations', 'Print a series of lines to the console for informational purposes', 'Display a progress indicator on the console for lengthy operations', 'Take input from the console to customize program settings', 'Output tabular data to the console in a readable format', 'Read user preferences from the console for personalized interactions', 'Display a message on the console to prompt user interaction', 'Include assert statements to confirm that the array index is within bounds', 'Use assertions to verify that the function result matches the expected output', 'Implement assert checks to ensure the validity of input parameters', 'Embed assert statements to confirm the non emptiness of a critical data structure', 'Include assertions to validate the consistency of internal data representations', 'Utilize assert checks to ensure that file handles are properly initialized', 'Introduce assert statements to confirm the correctness of mathematical calculations', 'Use assertions to enforce the expected state of an object after method calls', 'Embed assert statements to validate preconditions for algorithmic functions', 'Include assert checks to verify the integrity of database queries and results', 'Use assert statements to catch unexpected conditions during iterative processes', 'Implement assertions to ensure the invariance of class properties and attributes', 'Include assert statements to confirm the proper initialization of global variables', 'Utilize assertions for runtime validation of configuration file settings', 'Embed assert checks to enforce constraints on user input before processing', 'Introduce assert statements to catch potential divide by zero scenarios', 'Use assertions to validate the correctness of state transitions in a finite state machine', 'Include assert statements to confirm the expected behavior of concurrent processes', 'Embed assert checks to enforce constraints on network communication protocols', 'Utilize assertions for validating the consistency of serialized deserialized data', 'Import the math library for advanced mathematical functions', 'Use the requests library to make HTTP requests in the code', 'Include the numpy library for efficient array operations', 'Import the random module for generating random numbers', 'Utilize the pandas library for data manipulation and analysis', 'Include the matplotlib library for creating data visualizations', 'Use the datetime module to handle date and time operations', 'Import the json module for working with JSON data', 'Include the re module for regular expression pattern matching', 'Use the os module for interacting with the operating system', 'Import the csv module to read and write CSV files', 'Include the tkinter library for creating graphical user interfaces', 'Use the scikit learn library for machine learning tasks', 'Import the beautifulsoup library for web scraping', 'Include the tensorflow library for deep learning applications', 'Use the flask library to create web applications', 'Import the sqlite module for working with SQLite databases', 'Include the networkx library for graph based algorithms', 'Use the socket module for network communication tasks', 'Import the unittest module for writing and running unit tests', 'IDE', 'create a file', 'open file']\n",
      "Length of text_input: 278\n",
      "Sample Response:  {'Declaration': ['declaration intent detected'], 'Assignment Operation': ['assignment intent detected'], 'Conditional Statement': ['conditoinal intent detected'], 'Iterative Operation': ['iterative intent detected'], 'Insertion': ['Insertion intent detected'], 'Array Operation': ['Array intent detected'], 'Operators': ['iterative intent detected'], 'OOP Operations': ['OOP intent detected'], 'Casting': ['casting intent detected'], 'Exception Handling': ['exception handling intent detected'], 'I/O Operations': ['IO intent detected'], 'Assertion': ['Assertion intent detected'], 'Libraries': ['Libraries intent detected'], 'IDE Interactions': ['IDE Interactions intent detected'], 'File System': ['File System intent detected']}\n"
     ]
    }
   ],
   "source": [
    "# Data preprocessing\n",
    "# list of intents\n",
    "intents = []\n",
    "unique_intents = []\n",
    "\n",
    "text_input = [] # all text data to create a corpus\n",
    "\n",
    "response_for_intent = {} # dictionary mapping intent with appropriate response\n",
    "\n",
    "for intent in data['intents']:\n",
    "    # print(\"Intent:\",intent)\n",
    "    # list of unique intents\n",
    "    if intent['intent'] not in unique_intents:\n",
    "        unique_intents.append(intent['intent'])\n",
    "\n",
    "    for keyword in intent['keywords']:\n",
    "        # cleaning is done before adding text to corpus\n",
    "        # print(keyword, clean(keyword))\n",
    "        text_input.append(clean(keyword))\n",
    "        intents.append(intent['intent'])\n",
    "    \n",
    "    if intent['intent'] not in response_for_intent:\n",
    "        response_for_intent[intent['intent']] = []\n",
    "    \n",
    "    for response in intent['responses']:\n",
    "        response_for_intent[intent['intent']].append(response)\n",
    "\n",
    "print(\"Unique Intents:\", unique_intents)\n",
    "print(\"Unique Intents:\", len(unique_intents))\n",
    "print(\"Intents :\", intents)\n",
    "print(\"Number of Intents:\", len(intents))\n",
    "print(\"Text Input:\", text_input)\n",
    "print('Length of text_input:', len(text_input))\n",
    "print(\"Sample Response: \", response_for_intent)"
   ]
  },
  {
   "cell_type": "code",
   "execution_count": 58,
   "metadata": {},
   "outputs": [
    {
     "name": "stdout",
     "output_type": "stream",
     "text": [
      "[[51], [29], [29, 6], [29, 39], [77], [77, 3, 51, 39, 95], [30], [30, 6], [30, 39], [42]]\n",
      "Shape of Input Sequence: (278, 16)\n",
      "[[ 0  0  0  0  0  0  0  0  0  0  0  0  0  0  0 51]\n",
      " [ 0  0  0  0  0  0  0  0  0  0  0  0  0  0  0 29]\n",
      " [ 0  0  0  0  0  0  0  0  0  0  0  0  0  0 29  6]\n",
      " [ 0  0  0  0  0  0  0  0  0  0  0  0  0  0 29 39]\n",
      " [ 0  0  0  0  0  0  0  0  0  0  0  0  0  0  0 77]\n",
      " [ 0  0  0  0  0  0  0  0  0  0  0 77  3 51 39 95]\n",
      " [ 0  0  0  0  0  0  0  0  0  0  0  0  0  0  0 30]\n",
      " [ 0  0  0  0  0  0  0  0  0  0  0  0  0  0 30  6]\n",
      " [ 0  0  0  0  0  0  0  0  0  0  0  0  0  0 30 39]\n",
      " [ 0  0  0  0  0  0  0  0  0  0  0  0  0  0  0 42]]\n"
     ]
    }
   ],
   "source": [
    "# Tokenization and Embedding\n",
    "tokenizer = Tokenizer(filters='', oov_token='<unk>') # creates a tokenizer object\n",
    "tokenizer.fit_on_texts(text_input) # creates the vocabulary of the tokenizer\n",
    "sequences = tokenizer.texts_to_sequences(text_input) # maps the text to sequences of integers\n",
    "print(sequences[:10]) # each sequence is a list of integers where each integer represents a word in the sentence\n",
    "padded_sequences = pad_sequences(sequences, padding='pre') # pad the sequences to a fixed length for the model input\n",
    "print('Shape of Input Sequence:', padded_sequences.shape)   # the shape of the input sequence is (number of keyword sentences, length of the longest sequence)\n",
    "print(padded_sequences[:10])"
   ]
  },
  {
   "cell_type": "code",
   "execution_count": 59,
   "metadata": {},
   "outputs": [
    {
     "name": "stdout",
     "output_type": "stream",
     "text": [
      "Declaration\n",
      "Assignment Operation\n",
      "Conditional Statement\n",
      "Iterative Operation\n",
      "Insertion\n",
      "Array Operation\n",
      "Operators\n",
      "OOP Operations\n",
      "Casting\n",
      "Exception Handling\n",
      "I/O Operations\n",
      "Assertion\n",
      "Libraries\n",
      "IDE Interactions\n",
      "File System\n",
      "Categorial Target: [0, 0, 0, 0, 0, 0, 0, 0, 0, 0, 0, 0, 0, 0, 0, 0, 0, 0, 0, 0, 0, 0, 0, 0, 0, 0, 0, 0, 0, 0, 0, 1, 1, 1, 1, 1, 1, 1, 1, 1, 1, 1, 1, 1, 1, 1, 1, 1, 1, 1, 1, 1, 1, 1, 1, 1, 1, 1, 1, 2, 2, 2, 2, 2, 2, 2, 2, 2, 2, 2, 2, 2, 2, 2, 2, 2, 2, 2, 2, 2, 2, 3, 3, 3, 3, 3, 3, 3, 3, 3, 3, 3, 3, 3, 3, 3, 3, 3, 3, 3, 3, 3, 3, 3, 3, 3, 3, 3, 3, 3, 3, 3, 3, 4, 4, 4, 4, 4, 4, 4, 4, 4, 4, 4, 4, 4, 4, 4, 4, 4, 4, 4, 4, 5, 5, 5, 5, 5, 5, 5, 5, 5, 5, 5, 5, 5, 5, 5, 5, 5, 5, 5, 5, 5, 5, 6, 7, 7, 7, 7, 7, 7, 7, 7, 7, 7, 7, 7, 7, 7, 7, 7, 7, 7, 7, 7, 8, 8, 8, 8, 8, 8, 8, 8, 8, 8, 8, 8, 8, 8, 8, 8, 8, 8, 8, 9, 9, 9, 9, 9, 9, 9, 9, 9, 9, 9, 9, 9, 9, 9, 9, 9, 9, 9, 9, 10, 10, 10, 10, 10, 10, 10, 10, 10, 10, 10, 10, 10, 10, 10, 10, 10, 10, 10, 10, 11, 11, 11, 11, 11, 11, 11, 11, 11, 11, 11, 11, 11, 11, 11, 11, 11, 11, 11, 11, 12, 12, 12, 12, 12, 12, 12, 12, 12, 12, 12, 12, 12, 12, 12, 12, 12, 12, 12, 12, 13, 14, 14]\n",
      "Number of Intents : 15\n",
      "{0: 'Declaration', 1: 'Assignment Operation', 2: 'Conditional Statement', 3: 'Iterative Operation', 4: 'Insertion', 5: 'Array Operation', 6: 'Operators', 7: 'OOP Operations', 8: 'Casting', 9: 'Exception Handling', 10: 'I/O Operations', 11: 'Assertion', 12: 'Libraries', 13: 'IDE Interactions', 14: 'File System'}\n"
     ]
    }
   ],
   "source": [
    "# Feature extraction\n",
    "intent_to_index = {} # to map each intent to a unique index\n",
    "index_to_intent = {} # to map each index to a unique intent\n",
    "categorical_target = [] # similar to the intents list but with each intent replaced by its index\n",
    "index = 0\n",
    "\n",
    "for intent in intents: # intents is a list of intents for each keyword in the dataset (if we have 3 keywords for a single intent, the intent will be repeated 3 times in the list)\n",
    "    if intent not in intent_to_index: # because we have multiple entries for the same intent\n",
    "        print(intent)\n",
    "        intent_to_index[intent] = index # map the intent to a unique index\n",
    "        index_to_intent[index] = intent # map the index to the intent\n",
    "        index += 1\n",
    "    categorical_target.append(intent_to_index[intent]) # replace the intent with its index\n",
    "\n",
    "print('Categorial Target:', categorical_target)\n",
    "num_classes = len(intent_to_index) # number of possible classifications in our project (number of unique intents)\n",
    "print('Number of Intents :', num_classes)\n",
    "print(index_to_intent)"
   ]
  },
  {
   "cell_type": "code",
   "execution_count": 60,
   "metadata": {},
   "outputs": [
    {
     "name": "stdout",
     "output_type": "stream",
     "text": [
      "Shape of Categorial Vector (278, 15)\n",
      "[[1 0 0 0 0 0 0 0 0 0 0 0 0 0 0]\n",
      " [1 0 0 0 0 0 0 0 0 0 0 0 0 0 0]\n",
      " [1 0 0 0 0 0 0 0 0 0 0 0 0 0 0]\n",
      " [1 0 0 0 0 0 0 0 0 0 0 0 0 0 0]\n",
      " [1 0 0 0 0 0 0 0 0 0 0 0 0 0 0]]\n"
     ]
    }
   ],
   "source": [
    "# One-Hot Encoding\n",
    "categorical_vec = tf.keras.utils.to_categorical(categorical_target, num_classes=num_classes, dtype='int32') # this will convert the categorical target to one-hot encoded vector where each row is a vevtor (keyword sentence) and the 1 represents its classification (intent)\n",
    "print('Shape of Categorial Vector', categorical_vec.shape) # the shape of the categorical vector is (number of keyword sentences, number of unique intents)\n",
    "print(categorical_vec[:5])"
   ]
  },
  {
   "cell_type": "code",
   "execution_count": 63,
   "metadata": {},
   "outputs": [
    {
     "name": "stdout",
     "output_type": "stream",
     "text": [
      "Input Dimension :15, Output Dimension :15\n"
     ]
    }
   ],
   "source": [
    "epochs = 100\n",
    "embed_dim = 200\n",
    "lstm_num = 50\n",
    "output_dim = categorical_vec.shape[1]\n",
    "input_dim = len(unique_intents)\n",
    "print(f\"Input Dimension :{input_dim}, Output Dimension :{output_dim}\")"
   ]
  },
  {
   "cell_type": "code",
   "execution_count": 67,
   "metadata": {},
   "outputs": [
    {
     "name": "stdout",
     "output_type": "stream",
     "text": [
      "561\n",
      "Model: \"sequential_4\"\n",
      "_________________________________________________________________\n",
      " Layer (type)                Output Shape              Param #   \n",
      "=================================================================\n",
      " embedding_4 (Embedding)     (None, None, 200)         112200    \n",
      "                                                                 \n",
      " bidirectional_4 (Bidirecti  (None, 100)               100400    \n",
      " onal)                                                           \n",
      "                                                                 \n",
      " dense_8 (Dense)             (None, 50)                5050      \n",
      "                                                                 \n",
      " dropout_4 (Dropout)         (None, 50)                0         \n",
      "                                                                 \n",
      " dense_9 (Dense)             (None, 15)                765       \n",
      "                                                                 \n",
      "=================================================================\n",
      "Total params: 218415 (853.18 KB)\n",
      "Trainable params: 218415 (853.18 KB)\n",
      "Non-trainable params: 0 (0.00 Byte)\n",
      "_________________________________________________________________\n",
      "None\n"
     ]
    },
    {
     "data": {
      "text/plain": [
       "<keras.src.callbacks.History at 0x1731dbb3a60>"
      ]
     },
     "execution_count": 67,
     "metadata": {},
     "output_type": "execute_result"
    }
   ],
   "source": [
    "print(len(tokenizer.word_index) + 1)\n",
    "model = tf.keras.models.Sequential([\n",
    "    tf.keras.layers.Embedding(len(tokenizer.word_index) + 1, embed_dim),\n",
    "    tf.keras.layers.Bidirectional(tf.keras.layers.LSTM(lstm_num, dropout=0.1)),\n",
    "    tf.keras.layers.Dense(lstm_num, activation='relu'),\n",
    "    tf.keras.layers.Dropout(0.4),\n",
    "    tf.keras.layers.Dense(output_dim, activation='softmax')\n",
    "])\n",
    "\n",
    "optimizer = tf.optimizers.legacy.Adam(lr=0.001)\n",
    "model.compile(optimizer=optimizer,\n",
    "              loss='categorical_crossentropy', metrics=['accuracy'])\n",
    "print(model.summary())\n",
    "\n",
    "model.fit(padded_sequences, categorical_vec, epochs=epochs, verbose=0)"
   ]
  },
  {
   "cell_type": "code",
   "execution_count": 72,
   "metadata": {},
   "outputs": [
    {
     "name": "stdout",
     "output_type": "stream",
     "text": [
      "[[ 24  67   2   1  17 285   1]]\n",
      "[3]\n",
      "[[0. 0. 0. 1. 0. 0. 0. 0. 0. 0. 0. 0. 0. 0. 0.]]\n",
      "Iterative Operation\n",
      "1/1 [==============================] - 0s 51ms/step - loss: 0.5734 - accuracy: 1.0000\n"
     ]
    }
   ],
   "source": [
    "# Evaluation of the model\n",
    "# this should be the output from the speech recognition module\n",
    "# test_text_inputs = [\"declare and new variable\",\n",
    "#                     \"iterate over the array\",\n",
    "#                     \"compare between x and y\",\n",
    "#                     \"if the values are equal\",\n",
    "#                     \"define a function\",\n",
    "#                     \"set the value of x to 10\",\n",
    "#                     \"make a loop\",\n",
    "#                     \"make a function\"]\n",
    "\n",
    "test_intents = [\"Iterative Operation\"]\n",
    "\n",
    "test_sequences = tokenizer.texts_to_sequences([\"loop through the entire array called arr\"])\n",
    "test_padded_sequences = pad_sequences(test_sequences, padding='pre')\n",
    "print(test_padded_sequences)\n",
    "test_labels = np.array([unique_intents.index(intent)\n",
    "                       for intent in test_intents])\n",
    "print(test_labels)\n",
    "test_labels = tf.keras.utils.to_categorical(test_labels, num_classes=num_classes)\n",
    "print(test_labels)\n",
    "print(index_to_intent[np.where(test_labels[0]==1)[0][0]])\n",
    "loss, accuracy = model.evaluate(test_padded_sequences, test_labels)"
   ]
  },
  {
   "cell_type": "code",
   "execution_count": 73,
   "metadata": {},
   "outputs": [],
   "source": [
    "# Prediction \n",
    "def response(sentence):\n",
    "\tsent_tokens = []\n",
    "\t\n",
    "\t# Split the input sentence into words\n",
    "\twords = sentence.split()\n",
    "\t\n",
    "\t# Convert words to their corresponding word indices\n",
    "\tfor word in words:\t\t\t\t\t\t\t\t\t\t \n",
    "\t\tif word in tokenizer.word_index:\n",
    "\t\t\tsent_tokens.append(tokenizer.word_index[word])\n",
    "\t\telse:\n",
    "\t\t\t# Handle unknown words\n",
    "\t\t\tsent_tokens.append(tokenizer.word_index['<unk>'])\n",
    "\t\t\t\n",
    "\tsent_tokens = tf.expand_dims(sent_tokens, 0)\n",
    "\t\n",
    "\t#predict numerical category\n",
    "\tpred = model(sent_tokens) \n",
    "\t\n",
    "\t#category to intent\n",
    "\tpred_class = np.argmax(pred.numpy(), axis=1)\n",
    "\t\t\t\t \n",
    "\t# random response to that intent\n",
    "\treturn random.choice(\n",
    "\t\tresponse_for_intent[index_to_intent[pred_class[0]]]), index_to_intent[pred_class[0]]\n"
   ]
  },
  {
   "cell_type": "code",
   "execution_count": 76,
   "metadata": {},
   "outputs": [
    {
     "name": "stdout",
     "output_type": "stream",
     "text": [
      "Note: Enter 'quit' to break the loop.\n",
      "Geek: assignment intent detected -- TYPE: Assignment Operation\n",
      "\n",
      "Geek: iterative intent detected -- TYPE: Iterative Operation\n",
      "\n",
      "Geek: Array intent detected -- TYPE: Array Operation\n",
      "\n"
     ]
    }
   ],
   "source": [
    "# Intent Recognition\n",
    "print(\"Note: Enter 'quit' to break the loop.\")   \n",
    "while True:                                                \n",
    "    query = input('You: ')\n",
    "    if query.lower() == 'quit':\n",
    "        break\n",
    "    bot_response, type = response(query)\n",
    "    print(f'Geek: {bot_response} -- TYPE: {type}\\n')\n"
   ]
  }
 ],
 "metadata": {
  "kernelspec": {
   "display_name": "Python 3",
   "language": "python",
   "name": "python3"
  },
  "language_info": {
   "codemirror_mode": {
    "name": "ipython",
    "version": 3
   },
   "file_extension": ".py",
   "mimetype": "text/x-python",
   "name": "python",
   "nbconvert_exporter": "python",
   "pygments_lexer": "ipython3",
   "version": "3.10.9"
  }
 },
 "nbformat": 4,
 "nbformat_minor": 2
}
