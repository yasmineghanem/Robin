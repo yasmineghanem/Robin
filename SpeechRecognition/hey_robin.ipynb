{
 "cells": [
  {
   "cell_type": "code",
   "execution_count": 1,
   "metadata": {},
   "outputs": [
    {
     "name": "stdout",
     "output_type": "stream",
     "text": [
      "Collecting openwakeword\n",
      "  Using cached openwakeword-0.6.0-py3-none-any.whl (60 kB)\n",
      "Collecting onnxruntime<2,>=1.10.0\n",
      "  Downloading onnxruntime-1.18.1-cp39-cp39-win_amd64.whl (5.6 MB)\n",
      "     ---------------------------------------- 5.6/5.6 MB 3.4 MB/s eta 0:00:00\n",
      "Requirement already satisfied: scikit-learn<2,>=1 in c:\\users\\77\\anaconda3\\lib\\site-packages (from openwakeword) (1.0.2)\n",
      "Requirement already satisfied: requests<3,>=2.0 in c:\\users\\77\\anaconda3\\lib\\site-packages (from openwakeword) (2.28.1)\n",
      "Requirement already satisfied: tqdm<5.0,>=4.0 in c:\\users\\77\\anaconda3\\lib\\site-packages (from openwakeword) (4.64.1)\n",
      "Requirement already satisfied: scipy<2,>=1.3 in c:\\users\\77\\anaconda3\\lib\\site-packages (from openwakeword) (1.9.1)\n",
      "Requirement already satisfied: packaging in c:\\users\\77\\appdata\\roaming\\python\\python39\\site-packages (from onnxruntime<2,>=1.10.0->openwakeword) (21.3)\n",
      "Requirement already satisfied: protobuf in c:\\users\\77\\anaconda3\\lib\\site-packages (from onnxruntime<2,>=1.10.0->openwakeword) (4.23.4)\n",
      "Requirement already satisfied: flatbuffers in c:\\users\\77\\anaconda3\\lib\\site-packages (from onnxruntime<2,>=1.10.0->openwakeword) (23.5.26)\n",
      "Collecting coloredlogs\n",
      "  Using cached coloredlogs-15.0.1-py2.py3-none-any.whl (46 kB)\n",
      "Requirement already satisfied: numpy<2.0,>=1.21.6 in c:\\users\\77\\anaconda3\\lib\\site-packages (from onnxruntime<2,>=1.10.0->openwakeword) (1.24.3)\n",
      "Requirement already satisfied: sympy in c:\\users\\77\\anaconda3\\lib\\site-packages (from onnxruntime<2,>=1.10.0->openwakeword) (1.10.1)\n",
      "Requirement already satisfied: urllib3<1.27,>=1.21.1 in c:\\users\\77\\anaconda3\\lib\\site-packages (from requests<3,>=2.0->openwakeword) (1.26.11)\n",
      "Requirement already satisfied: certifi>=2017.4.17 in c:\\users\\77\\anaconda3\\lib\\site-packages (from requests<3,>=2.0->openwakeword) (2024.2.2)\n",
      "Requirement already satisfied: charset-normalizer<3,>=2 in c:\\users\\77\\anaconda3\\lib\\site-packages (from requests<3,>=2.0->openwakeword) (2.0.4)\n",
      "Requirement already satisfied: idna<4,>=2.5 in c:\\users\\77\\anaconda3\\lib\\site-packages (from requests<3,>=2.0->openwakeword) (3.3)\n",
      "Requirement already satisfied: joblib>=0.11 in c:\\users\\77\\anaconda3\\lib\\site-packages (from scikit-learn<2,>=1->openwakeword) (1.4.2)\n",
      "Requirement already satisfied: threadpoolctl>=2.0.0 in c:\\users\\77\\anaconda3\\lib\\site-packages (from scikit-learn<2,>=1->openwakeword) (2.2.0)\n",
      "Requirement already satisfied: colorama in c:\\users\\77\\appdata\\roaming\\python\\python39\\site-packages (from tqdm<5.0,>=4.0->openwakeword) (0.4.5)\n",
      "Collecting humanfriendly>=9.1\n",
      "  Using cached humanfriendly-10.0-py2.py3-none-any.whl (86 kB)\n",
      "Requirement already satisfied: pyparsing!=3.0.5,>=2.0.2 in c:\\users\\77\\appdata\\roaming\\python\\python39\\site-packages (from packaging->onnxruntime<2,>=1.10.0->openwakeword) (3.0.9)\n",
      "Requirement already satisfied: mpmath>=0.19 in c:\\users\\77\\anaconda3\\lib\\site-packages (from sympy->onnxruntime<2,>=1.10.0->openwakeword) (1.2.1)\n",
      "Collecting pyreadline3\n",
      "  Using cached pyreadline3-3.4.1-py3-none-any.whl (95 kB)\n",
      "Installing collected packages: pyreadline3, humanfriendly, coloredlogs, onnxruntime, openwakeword\n",
      "Successfully installed coloredlogs-15.0.1 humanfriendly-10.0 onnxruntime-1.18.1 openwakeword-0.6.0 pyreadline3-3.4.1\n",
      "Note: you may need to restart the kernel to use updated packages.\n"
     ]
    },
    {
     "name": "stderr",
     "output_type": "stream",
     "text": [
      "WARNING: Ignoring invalid distribution -umpy (c:\\users\\77\\anaconda3\\lib\\site-packages)\n",
      "WARNING: Ignoring invalid distribution -pencv-python-headless (c:\\users\\77\\anaconda3\\lib\\site-packages)\n",
      "WARNING: Ignoring invalid distribution -umpy (c:\\users\\77\\anaconda3\\lib\\site-packages)\n",
      "WARNING: Ignoring invalid distribution -pencv-python-headless (c:\\users\\77\\anaconda3\\lib\\site-packages)\n",
      "WARNING: Ignoring invalid distribution -umpy (c:\\users\\77\\anaconda3\\lib\\site-packages)\n",
      "WARNING: Ignoring invalid distribution -pencv-python-headless (c:\\users\\77\\anaconda3\\lib\\site-packages)\n",
      "WARNING: Ignoring invalid distribution -umpy (c:\\users\\77\\anaconda3\\lib\\site-packages)\n",
      "WARNING: Ignoring invalid distribution -pencv-python-headless (c:\\users\\77\\anaconda3\\lib\\site-packages)\n",
      "WARNING: Ignoring invalid distribution -umpy (c:\\users\\77\\anaconda3\\lib\\site-packages)\n",
      "WARNING: Ignoring invalid distribution -pencv-python-headless (c:\\users\\77\\anaconda3\\lib\\site-packages)\n",
      "WARNING: Ignoring invalid distribution -umpy (c:\\users\\77\\anaconda3\\lib\\site-packages)\n",
      "WARNING: Ignoring invalid distribution -pencv-python-headless (c:\\users\\77\\anaconda3\\lib\\site-packages)\n",
      "WARNING: Ignoring invalid distribution -umpy (c:\\users\\77\\anaconda3\\lib\\site-packages)\n",
      "WARNING: Ignoring invalid distribution -pencv-python-headless (c:\\users\\77\\anaconda3\\lib\\site-packages)\n",
      "WARNING: Ignoring invalid distribution -umpy (c:\\users\\77\\anaconda3\\lib\\site-packages)\n",
      "WARNING: Ignoring invalid distribution -pencv-python-headless (c:\\users\\77\\anaconda3\\lib\\site-packages)\n",
      "WARNING: Ignoring invalid distribution -umpy (c:\\users\\77\\anaconda3\\lib\\site-packages)\n",
      "WARNING: Ignoring invalid distribution -pencv-python-headless (c:\\users\\77\\anaconda3\\lib\\site-packages)\n",
      "WARNING: Ignoring invalid distribution -umpy (c:\\users\\77\\anaconda3\\lib\\site-packages)\n",
      "WARNING: Ignoring invalid distribution -pencv-python-headless (c:\\users\\77\\anaconda3\\lib\\site-packages)\n",
      "WARNING: Ignoring invalid distribution -umpy (c:\\users\\77\\anaconda3\\lib\\site-packages)\n",
      "WARNING: Ignoring invalid distribution -pencv-python-headless (c:\\users\\77\\anaconda3\\lib\\site-packages)\n"
     ]
    }
   ],
   "source": [
    "%pip install openwakeword"
   ]
  },
  {
   "cell_type": "code",
   "execution_count": 3,
   "metadata": {},
   "outputs": [
    {
     "name": "stdout",
     "output_type": "stream",
     "text": [
      "Collecting pyaudio\n",
      "  Downloading PyAudio-0.2.14-cp39-cp39-win_amd64.whl (164 kB)\n",
      "     ------------------------------------ 164.1/164.1 kB 979.8 kB/s eta 0:00:00\n",
      "Installing collected packages: pyaudio\n",
      "Successfully installed pyaudio-0.2.14\n",
      "Note: you may need to restart the kernel to use updated packages.\n"
     ]
    },
    {
     "name": "stderr",
     "output_type": "stream",
     "text": [
      "WARNING: Ignoring invalid distribution -umpy (c:\\users\\77\\anaconda3\\lib\\site-packages)\n",
      "WARNING: Ignoring invalid distribution -pencv-python-headless (c:\\users\\77\\anaconda3\\lib\\site-packages)\n",
      "WARNING: Ignoring invalid distribution -umpy (c:\\users\\77\\anaconda3\\lib\\site-packages)\n",
      "WARNING: Ignoring invalid distribution -pencv-python-headless (c:\\users\\77\\anaconda3\\lib\\site-packages)\n",
      "WARNING: Ignoring invalid distribution -umpy (c:\\users\\77\\anaconda3\\lib\\site-packages)\n",
      "WARNING: Ignoring invalid distribution -pencv-python-headless (c:\\users\\77\\anaconda3\\lib\\site-packages)\n",
      "WARNING: Ignoring invalid distribution -umpy (c:\\users\\77\\anaconda3\\lib\\site-packages)\n",
      "WARNING: Ignoring invalid distribution -pencv-python-headless (c:\\users\\77\\anaconda3\\lib\\site-packages)\n",
      "WARNING: Ignoring invalid distribution -umpy (c:\\users\\77\\anaconda3\\lib\\site-packages)\n",
      "WARNING: Ignoring invalid distribution -pencv-python-headless (c:\\users\\77\\anaconda3\\lib\\site-packages)\n",
      "WARNING: Ignoring invalid distribution -umpy (c:\\users\\77\\anaconda3\\lib\\site-packages)\n",
      "WARNING: Ignoring invalid distribution -pencv-python-headless (c:\\users\\77\\anaconda3\\lib\\site-packages)\n",
      "WARNING: Ignoring invalid distribution -umpy (c:\\users\\77\\anaconda3\\lib\\site-packages)\n",
      "WARNING: Ignoring invalid distribution -pencv-python-headless (c:\\users\\77\\anaconda3\\lib\\site-packages)\n"
     ]
    }
   ],
   "source": [
    "%pip install pyaudio"
   ]
  },
  {
   "cell_type": "code",
   "execution_count": 17,
   "metadata": {},
   "outputs": [
    {
     "name": "stderr",
     "output_type": "stream",
     "text": [
      "WARNING:root:Tried to import the tflite runtime, but it was not found. Trying to switching to onnxruntime instead, if appropriate models are available.\n"
     ]
    },
    {
     "name": "stdout",
     "output_type": "stream",
     "text": [
      "Listening for wake word...\n",
      "[ 0  0 -1 ...  0  0  0] (1024,)\n",
      "Wake word detected!\n"
     ]
    }
   ],
   "source": [
    "import pyaudio\n",
    "import numpy as np\n",
    "from openwakeword.model import Model\n",
    "\n",
    "# Initialize your trained model\n",
    "model = Model(wakeword_models=[\"./Hey_Robin.tflite\"],    )\n",
    "\n",
    "# Audio stream configuration\n",
    "FORMAT = pyaudio.paInt16\n",
    "CHANNELS = 1\n",
    "RATE = 16000  # Ensure this matches your model's requirements\n",
    "CHUNK = 1024\n",
    "\n",
    "# Initialize PyAudio\n",
    "audio = pyaudio.PyAudio()\n",
    "\n",
    "# Open audio stream\n",
    "stream = audio.open(format=FORMAT, channels=CHANNELS,\n",
    "                    rate=RATE, input=True, frames_per_buffer=CHUNK)\n",
    "\n",
    "print(\"Listening for wake word...\")\n",
    "\n",
    "try:\n",
    "    while True:\n",
    "        # Read a chunk of data from the audio stream\n",
    "        data = stream.read(CHUNK)\n",
    "        \n",
    "        # play that data\n",
    "        \n",
    "        # Convert audio data to numpy array\n",
    "        audio_data = np.frombuffer(data, dtype=np.int16)\n",
    "        print(audio_data, audio_data.shape)\n",
    "\n",
    "        # Preprocess the audio data if needed (e.g., normalization, feature extraction)\n",
    "        # preprocessed_audio_data = preprocess(audio_data)\n",
    "\n",
    "        # Use your model to detect the wake word\n",
    "        if model.predict(audio_data):  # Replace with the actual method to predict\n",
    "            print(\"Wake word detected!\")\n",
    "            # Trigger your action here\n",
    "            break  # Exit the loop or handle the wake word detection as needed\n",
    "\n",
    "except KeyboardInterrupt:\n",
    "    print(\"Interrupted by user\")\n",
    "\n",
    "finally:\n",
    "    # Close the audio stream\n",
    "    stream.stop_stream()\n",
    "    stream.close()\n",
    "    audio.terminate()\n"
   ]
  },
  {
   "cell_type": "code",
   "execution_count": 3,
   "metadata": {},
   "outputs": [
    {
     "name": "stderr",
     "output_type": "stream",
     "text": [
      "embedding_model.tflite: 100%|██████████| 1.33M/1.33M [00:00<00:00, 2.93MiB/s]\n",
      "embedding_model.onnx: 100%|██████████| 1.33M/1.33M [00:00<00:00, 2.87MiB/s]\n",
      "melspectrogram.tflite: 100%|██████████| 1.09M/1.09M [00:00<00:00, 1.97MiB/s]\n",
      "melspectrogram.onnx: 100%|██████████| 1.09M/1.09M [00:00<00:00, 2.01MiB/s]\n",
      "silero_vad.onnx: 100%|██████████| 1.81M/1.81M [00:00<00:00, 2.79MiB/s]\n",
      "alexa_v0.1.tflite: 100%|██████████| 855k/855k [00:00<00:00, 2.23MiB/s]\n",
      "alexa_v0.1.onnx: 100%|██████████| 854k/854k [00:00<00:00, 2.51MiB/s]\n",
      "hey_mycroft_v0.1.tflite: 100%|██████████| 860k/860k [00:00<00:00, 2.39MiB/s]\n",
      "hey_mycroft_v0.1.onnx: 100%|██████████| 858k/858k [00:00<00:00, 935kiB/s] \n",
      "hey_jarvis_v0.1.tflite: 100%|██████████| 1.28M/1.28M [00:00<00:00, 2.68MiB/s]\n",
      "hey_jarvis_v0.1.onnx: 100%|██████████| 1.27M/1.27M [00:00<00:00, 2.76MiB/s]\n",
      "hey_rhasspy_v0.1.tflite: 100%|██████████| 416k/416k [00:00<00:00, 1.84MiB/s]\n",
      "hey_rhasspy_v0.1.onnx: 100%|██████████| 204k/204k [00:00<00:00, 1.06MiB/s]\n",
      "timer_v0.1.tflite: 100%|██████████| 1.74M/1.74M [00:00<00:00, 2.57MiB/s]\n",
      "timer_v0.1.onnx: 100%|██████████| 1.74M/1.74M [00:00<00:00, 2.69MiB/s]\n",
      "weather_v0.1.tflite: 100%|██████████| 1.15M/1.15M [00:00<00:00, 2.62MiB/s]\n",
      "weather_v0.1.onnx: 100%|██████████| 1.15M/1.15M [00:00<00:00, 2.16MiB/s]\n",
      "WARNING:root:Tried to import the tflite runtime, but it was not found. Trying to switching to onnxruntime instead, if appropriate models are available.\n"
     ]
    },
    {
     "ename": "NameError",
     "evalue": "name 'get_audio_frame' is not defined",
     "output_type": "error",
     "traceback": [
      "\u001b[1;31m---------------------------------------------------------------------------\u001b[0m",
      "\u001b[1;31mNameError\u001b[0m                                 Traceback (most recent call last)",
      "Cell \u001b[1;32mIn [3], line 15\u001b[0m\n\u001b[0;32m      8\u001b[0m model \u001b[38;5;241m=\u001b[39m Model(\n\u001b[0;32m      9\u001b[0m     wakeword_models\u001b[38;5;241m=\u001b[39m[\u001b[38;5;124m\"\u001b[39m\u001b[38;5;124m./Hey_Robin.tflite\u001b[39m\u001b[38;5;124m\"\u001b[39m],  \u001b[38;5;66;03m# can also leave this argument empty to load all of the included pre-trained models\u001b[39;00m\n\u001b[0;32m     10\u001b[0m )\n\u001b[0;32m     12\u001b[0m \u001b[38;5;66;03m# Get audio data containing 16-bit 16khz PCM audio data from a file, microphone, network stream, etc.\u001b[39;00m\n\u001b[0;32m     13\u001b[0m \u001b[38;5;66;03m# For the best efficiency and latency, audio frames should be multiples of 80 ms, with longer frames\u001b[39;00m\n\u001b[0;32m     14\u001b[0m \u001b[38;5;66;03m# increasing overall efficiency at the cost of detection latency\u001b[39;00m\n\u001b[1;32m---> 15\u001b[0m frame \u001b[38;5;241m=\u001b[39m \u001b[43mget_audio_frame\u001b[49m()\n\u001b[0;32m     17\u001b[0m \u001b[38;5;66;03m# Get predictions for the frame\u001b[39;00m\n\u001b[0;32m     18\u001b[0m prediction \u001b[38;5;241m=\u001b[39m model\u001b[38;5;241m.\u001b[39mpredict(frame)\n",
      "\u001b[1;31mNameError\u001b[0m: name 'get_audio_frame' is not defined"
     ]
    }
   ],
   "source": [
    "import openwakeword\n",
    "from openwakeword.model import Model\n",
    "\n",
    "# One-time download of all pre-trained models (or only select models)\n",
    "openwakeword.utils.download_models()\n",
    "\n",
    "# Instantiate the model(s)\n",
    "model = Model(\n",
    "    wakeword_models=[\"./Hey_Robin.tflite\"],  # can also leave this argument empty to load all of the included pre-trained models\n",
    ")\n",
    "\n",
    "# Get audio data containing 16-bit 16khz PCM audio data from a file, microphone, network stream, etc.\n",
    "# For the best efficiency and latency, audio frames should be multiples of 80 ms, with longer frames\n",
    "# increasing overall efficiency at the cost of detection latency\n",
    "frame = get_audio_frame()\n",
    "\n",
    "# Get predictions for the frame\n",
    "prediction = model.predict(frame)"
   ]
  },
  {
   "cell_type": "code",
   "execution_count": 1,
   "metadata": {},
   "outputs": [
    {
     "name": "stdout",
     "output_type": "stream",
     "text": [
      "Collecting argparse\n",
      "  Downloading argparse-1.4.0-py2.py3-none-any.whl (23 kB)\n",
      "Installing collected packages: argparse\n",
      "Successfully installed argparse-1.4.0\n",
      "Note: you may need to restart the kernel to use updated packages.\n"
     ]
    },
    {
     "name": "stderr",
     "output_type": "stream",
     "text": [
      "WARNING: Ignoring invalid distribution -umpy (c:\\users\\77\\anaconda3\\lib\\site-packages)\n",
      "WARNING: Ignoring invalid distribution -pencv-python-headless (c:\\users\\77\\anaconda3\\lib\\site-packages)\n",
      "WARNING: Ignoring invalid distribution -umpy (c:\\users\\77\\anaconda3\\lib\\site-packages)\n",
      "WARNING: Ignoring invalid distribution -pencv-python-headless (c:\\users\\77\\anaconda3\\lib\\site-packages)\n",
      "WARNING: Ignoring invalid distribution -umpy (c:\\users\\77\\anaconda3\\lib\\site-packages)\n",
      "WARNING: Ignoring invalid distribution -pencv-python-headless (c:\\users\\77\\anaconda3\\lib\\site-packages)\n",
      "WARNING: Ignoring invalid distribution -umpy (c:\\users\\77\\anaconda3\\lib\\site-packages)\n",
      "WARNING: Ignoring invalid distribution -pencv-python-headless (c:\\users\\77\\anaconda3\\lib\\site-packages)\n",
      "WARNING: Ignoring invalid distribution -umpy (c:\\users\\77\\anaconda3\\lib\\site-packages)\n",
      "WARNING: Ignoring invalid distribution -pencv-python-headless (c:\\users\\77\\anaconda3\\lib\\site-packages)\n",
      "WARNING: Ignoring invalid distribution -umpy (c:\\users\\77\\anaconda3\\lib\\site-packages)\n",
      "WARNING: Ignoring invalid distribution -pencv-python-headless (c:\\users\\77\\anaconda3\\lib\\site-packages)\n",
      "WARNING: Ignoring invalid distribution -umpy (c:\\users\\77\\anaconda3\\lib\\site-packages)\n",
      "WARNING: Ignoring invalid distribution -pencv-python-headless (c:\\users\\77\\anaconda3\\lib\\site-packages)\n"
     ]
    }
   ],
   "source": [
    "%pip install argparse"
   ]
  },
  {
   "cell_type": "code",
   "execution_count": 3,
   "metadata": {},
   "outputs": [
    {
     "name": "stderr",
     "output_type": "stream",
     "text": [
      "usage: ipykernel_launcher.py [-h] [--chunk_size CHUNK_SIZE] --model_path\n",
      "                             MODEL_PATH\n",
      "                             [--inference_framework INFERENCE_FRAMEWORK]\n",
      "ipykernel_launcher.py: error: the following arguments are required: --model_path\n"
     ]
    },
    {
     "ename": "SystemExit",
     "evalue": "2",
     "output_type": "error",
     "traceback": [
      "An exception has occurred, use %tb to see the full traceback.\n",
      "\u001b[1;31mSystemExit\u001b[0m\u001b[1;31m:\u001b[0m 2\n"
     ]
    },
    {
     "name": "stderr",
     "output_type": "stream",
     "text": [
      "C:\\Users\\77\\AppData\\Roaming\\Python\\Python39\\site-packages\\IPython\\core\\interactiveshell.py:3386: UserWarning: To exit: use 'exit', 'quit', or Ctrl-D.\n",
      "  warn(\"To exit: use 'exit', 'quit', or Ctrl-D.\", stacklevel=1)\n"
     ]
    }
   ],
   "source": [
    "# Copyright 2022 David Scripka. All rights reserved.\n",
    "#\n",
    "# Licensed under the Apache License, Version 2.0 (the \"License\");\n",
    "# you may not use this file except in compliance with the License.\n",
    "# You may obtain a copy of the License at\n",
    "#\n",
    "#     http://www.apache.org/licenses/LICENSE-2.0\n",
    "#\n",
    "# Unless required by applicable law or agreed to in writing, software\n",
    "# distributed under the License is distributed on an \"AS IS\" BASIS,\n",
    "# WITHOUT WARRANTIES OR CONDITIONS OF ANY KIND, either express or implied.\n",
    "# See the License for the specific language governing permissions and\n",
    "# limitations under the License.\n",
    "\n",
    "# Imports\n",
    "import pyaudio\n",
    "import numpy as np\n",
    "from openwakeword.model import Model\n",
    "import argparse\n",
    "\n",
    "\n",
    "# Parse input arguments\n",
    "parser=argparse.ArgumentParser()\n",
    "parser.add_argument(\n",
    "    \"--chunk_size\",\n",
    "    help=\"How much audio (in number of samples) to predict on at once\",\n",
    "    type=int,\n",
    "    default=1280,\n",
    "    required=False\n",
    ")\n",
    "parser.add_argument(\n",
    "    \"--model_path\",\n",
    "    help=\"The path of a specific model to load\",\n",
    "    type=str,\n",
    "    default=\"\",\n",
    "    required=True\n",
    ")\n",
    "parser.add_argument(\n",
    "    \"--inference_framework\",\n",
    "    help=\"The inference framework to use (either 'onnx' or 'tflite'\",\n",
    "    type=str,\n",
    "    default='tflite',\n",
    "    required=False\n",
    ")\n",
    "\n",
    "args=parser.parse_args()\n",
    "print(args)\n",
    "\n",
    "# Get microphone stream\n",
    "FORMAT = pyaudio.paInt16\n",
    "CHANNELS = 1\n",
    "RATE = 16000\n",
    "CHUNK = args.chunk_size\n",
    "audio = pyaudio.PyAudio()\n",
    "mic_stream = audio.open(format=FORMAT, channels=CHANNELS, rate=RATE, input=True, frames_per_buffer=CHUNK)\n",
    "\n",
    "# Load pre-trained openwakeword models\n",
    "if args.model_path != \"\":\n",
    "    owwModel = Model(wakeword_models=[args.model_path], inference_framework=args.inference_framework)\n",
    "else:\n",
    "    owwModel = Model(inference_framework=args.inference_framework)\n",
    "\n",
    "n_models = len(owwModel.models.keys())\n",
    "\n",
    "# Run capture loop continuosly, checking for wakewords\n",
    "if __name__ == \"__main__\":\n",
    "    # Generate output string header\n",
    "    print(\"\\n\\n\")\n",
    "    print(\"#\"*100)\n",
    "    print(\"Listening for wakewords...\")\n",
    "    print(\"#\"*100)\n",
    "    print(\"\\n\"*(n_models*3))\n",
    "\n",
    "    while True:\n",
    "        # Get audio\n",
    "        audio = np.frombuffer(mic_stream.read(CHUNK), dtype=np.int16)\n",
    "\n",
    "        # Feed to openWakeWord model\n",
    "        prediction = owwModel.predict(audio)\n",
    "\n",
    "        # Column titles\n",
    "        n_spaces = 16\n",
    "        output_string_header = \"\"\"\n",
    "            Model Name         | Score | Wakeword Status\n",
    "            --------------------------------------\n",
    "            \"\"\"\n",
    "\n",
    "        for mdl in owwModel.prediction_buffer.keys():\n",
    "            # Add scores in formatted table\n",
    "            scores = list(owwModel.prediction_buffer[mdl])\n",
    "            curr_score = format(scores[-1], '.20f').replace(\"-\", \"\")\n",
    "\n",
    "            output_string_header += f\"\"\"{mdl}{\" \"*(n_spaces - len(mdl))}   | {curr_score[0:5]} | {\"--\"+\" \"*20 if scores[-1] <= 0.5 else \"Wakeword Detected!\"}\n",
    "            \"\"\"\n",
    "\n",
    "        # Print results table\n",
    "        print(\"\\033[F\"*(4*n_models+1))\n",
    "        print(output_string_header, \"                             \", end='\\r')"
   ]
  },
  {
   "cell_type": "code",
   "execution_count": 2,
   "metadata": {},
   "outputs": [
    {
     "ename": "SystemExit",
     "evalue": "2",
     "output_type": "error",
     "traceback": [
      "\u001b[1;31m---------------------------------------------------------------------------\u001b[0m",
      "\u001b[1;31mSystemExit\u001b[0m                                Traceback (most recent call last)",
      "Cell \u001b[1;32mIn [1], line 46\u001b[0m\n\u001b[0;32m     31\u001b[0m parser\u001b[38;5;241m.\u001b[39madd_argument(\n\u001b[0;32m     32\u001b[0m     \u001b[38;5;124m\"\u001b[39m\u001b[38;5;124m--model_path\u001b[39m\u001b[38;5;124m\"\u001b[39m,\n\u001b[0;32m     33\u001b[0m     help\u001b[38;5;241m=\u001b[39m\u001b[38;5;124m\"\u001b[39m\u001b[38;5;124mThe path of a specific model to load\u001b[39m\u001b[38;5;124m\"\u001b[39m,\n\u001b[1;32m   (...)\u001b[0m\n\u001b[0;32m     36\u001b[0m     required\u001b[38;5;241m=\u001b[39m\u001b[38;5;28;01mFalse\u001b[39;00m\n\u001b[0;32m     37\u001b[0m )\n\u001b[0;32m     38\u001b[0m parser\u001b[38;5;241m.\u001b[39madd_argument(\n\u001b[0;32m     39\u001b[0m     \u001b[38;5;124m\"\u001b[39m\u001b[38;5;124m--inference_framework\u001b[39m\u001b[38;5;124m\"\u001b[39m,\n\u001b[0;32m     40\u001b[0m     help\u001b[38;5;241m=\u001b[39m\u001b[38;5;124m\"\u001b[39m\u001b[38;5;124mThe inference framework to use (either \u001b[39m\u001b[38;5;124m'\u001b[39m\u001b[38;5;124monnx\u001b[39m\u001b[38;5;124m'\u001b[39m\u001b[38;5;124m or \u001b[39m\u001b[38;5;124m'\u001b[39m\u001b[38;5;124mtflite\u001b[39m\u001b[38;5;124m'\u001b[39m\u001b[38;5;124m\"\u001b[39m,\n\u001b[1;32m   (...)\u001b[0m\n\u001b[0;32m     43\u001b[0m     required\u001b[38;5;241m=\u001b[39m\u001b[38;5;28;01mFalse\u001b[39;00m\n\u001b[0;32m     44\u001b[0m )\n\u001b[1;32m---> 46\u001b[0m args\u001b[38;5;241m=\u001b[39m\u001b[43mparser\u001b[49m\u001b[38;5;241;43m.\u001b[39;49m\u001b[43mparse_args\u001b[49m\u001b[43m(\u001b[49m\u001b[43m)\u001b[49m\n\u001b[0;32m     47\u001b[0m \u001b[38;5;28mprint\u001b[39m(args)\n\u001b[0;32m     49\u001b[0m \u001b[38;5;66;03m# Get microphone stream\u001b[39;00m\n",
      "File \u001b[1;32mc:\\Users\\77\\anaconda3\\lib\\argparse.py:1828\u001b[0m, in \u001b[0;36mArgumentParser.parse_args\u001b[1;34m(self, args, namespace)\u001b[0m\n\u001b[0;32m   1826\u001b[0m \u001b[38;5;28;01mif\u001b[39;00m argv:\n\u001b[0;32m   1827\u001b[0m     msg \u001b[38;5;241m=\u001b[39m _(\u001b[38;5;124m'\u001b[39m\u001b[38;5;124munrecognized arguments: \u001b[39m\u001b[38;5;132;01m%s\u001b[39;00m\u001b[38;5;124m'\u001b[39m)\n\u001b[1;32m-> 1828\u001b[0m     \u001b[38;5;28;43mself\u001b[39;49m\u001b[38;5;241;43m.\u001b[39;49m\u001b[43merror\u001b[49m\u001b[43m(\u001b[49m\u001b[43mmsg\u001b[49m\u001b[43m \u001b[49m\u001b[38;5;241;43m%\u001b[39;49m\u001b[43m \u001b[49m\u001b[38;5;124;43m'\u001b[39;49m\u001b[38;5;124;43m \u001b[39;49m\u001b[38;5;124;43m'\u001b[39;49m\u001b[38;5;241;43m.\u001b[39;49m\u001b[43mjoin\u001b[49m\u001b[43m(\u001b[49m\u001b[43margv\u001b[49m\u001b[43m)\u001b[49m\u001b[43m)\u001b[49m\n\u001b[0;32m   1829\u001b[0m \u001b[38;5;28;01mreturn\u001b[39;00m args\n",
      "File \u001b[1;32mc:\\Users\\77\\anaconda3\\lib\\argparse.py:2582\u001b[0m, in \u001b[0;36mArgumentParser.error\u001b[1;34m(self, message)\u001b[0m\n\u001b[0;32m   2580\u001b[0m \u001b[38;5;28mself\u001b[39m\u001b[38;5;241m.\u001b[39mprint_usage(_sys\u001b[38;5;241m.\u001b[39mstderr)\n\u001b[0;32m   2581\u001b[0m args \u001b[38;5;241m=\u001b[39m {\u001b[38;5;124m'\u001b[39m\u001b[38;5;124mprog\u001b[39m\u001b[38;5;124m'\u001b[39m: \u001b[38;5;28mself\u001b[39m\u001b[38;5;241m.\u001b[39mprog, \u001b[38;5;124m'\u001b[39m\u001b[38;5;124mmessage\u001b[39m\u001b[38;5;124m'\u001b[39m: message}\n\u001b[1;32m-> 2582\u001b[0m \u001b[38;5;28;43mself\u001b[39;49m\u001b[38;5;241;43m.\u001b[39;49m\u001b[43mexit\u001b[49m\u001b[43m(\u001b[49m\u001b[38;5;241;43m2\u001b[39;49m\u001b[43m,\u001b[49m\u001b[43m \u001b[49m\u001b[43m_\u001b[49m\u001b[43m(\u001b[49m\u001b[38;5;124;43m'\u001b[39;49m\u001b[38;5;132;43;01m%(prog)s\u001b[39;49;00m\u001b[38;5;124;43m: error: \u001b[39;49m\u001b[38;5;132;43;01m%(message)s\u001b[39;49;00m\u001b[38;5;130;43;01m\\n\u001b[39;49;00m\u001b[38;5;124;43m'\u001b[39;49m\u001b[43m)\u001b[49m\u001b[43m \u001b[49m\u001b[38;5;241;43m%\u001b[39;49m\u001b[43m \u001b[49m\u001b[43margs\u001b[49m\u001b[43m)\u001b[49m\n",
      "File \u001b[1;32mc:\\Users\\77\\anaconda3\\lib\\argparse.py:2569\u001b[0m, in \u001b[0;36mArgumentParser.exit\u001b[1;34m(self, status, message)\u001b[0m\n\u001b[0;32m   2567\u001b[0m \u001b[38;5;28;01mif\u001b[39;00m message:\n\u001b[0;32m   2568\u001b[0m     \u001b[38;5;28mself\u001b[39m\u001b[38;5;241m.\u001b[39m_print_message(message, _sys\u001b[38;5;241m.\u001b[39mstderr)\n\u001b[1;32m-> 2569\u001b[0m \u001b[43m_sys\u001b[49m\u001b[38;5;241;43m.\u001b[39;49m\u001b[43mexit\u001b[49m\u001b[43m(\u001b[49m\u001b[43mstatus\u001b[49m\u001b[43m)\u001b[49m\n",
      "\u001b[1;31mSystemExit\u001b[0m: 2"
     ]
    }
   ],
   "source": [
    "%tb"
   ]
  }
 ],
 "metadata": {
  "kernelspec": {
   "display_name": "base",
   "language": "python",
   "name": "python3"
  },
  "language_info": {
   "codemirror_mode": {
    "name": "ipython",
    "version": 3
   },
   "file_extension": ".py",
   "mimetype": "text/x-python",
   "name": "python",
   "nbconvert_exporter": "python",
   "pygments_lexer": "ipython3",
   "version": "3.9.18"
  }
 },
 "nbformat": 4,
 "nbformat_minor": 2
}
