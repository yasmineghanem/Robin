{
 "cells": [
  {
   "cell_type": "markdown",
   "metadata": {},
   "source": [
    "### Trial 1 : RNN (LSTM) \n",
    "can handle sequential data (sentences) effectively\n",
    "1. Embedding layer\n",
    "2. LSTM layer (sequence processing)\n",
    "3. Two dense layers for classification\n"
   ]
  },
  {
   "cell_type": "code",
   "execution_count": 1,
   "metadata": {},
   "outputs": [],
   "source": [
    "# IMPORTS\n",
    "import utils\n",
    "import keras\n",
    "import numpy as np\n",
    "import tensorflow as tf\n",
    "from tqdm import tqdm\n",
    "import torch\n",
    "from sklearn.model_selection import train_test_split\n",
    "from sklearn.metrics import accuracy_score, f1_score, precision_score, recall_score"
   ]
  },
  {
   "cell_type": "code",
   "execution_count": 2,
   "metadata": {},
   "outputs": [],
   "source": [
    "# %pip install keras2onnx"
   ]
  },
  {
   "cell_type": "code",
   "execution_count": 3,
   "metadata": {},
   "outputs": [
    {
     "data": {
      "text/plain": [
       "device(type='cuda')"
      ]
     },
     "execution_count": 3,
     "metadata": {},
     "output_type": "execute_result"
    }
   ],
   "source": [
    "if torch.cuda.is_available():\n",
    "    device = torch.device('cuda')\n",
    "\n",
    "device"
   ]
  },
  {
   "cell_type": "markdown",
   "metadata": {},
   "source": [
    "#### 1. Load cleaned dataset"
   ]
  },
  {
   "cell_type": "code",
   "execution_count": 4,
   "metadata": {},
   "outputs": [],
   "source": [
    "import json\n",
    "\n",
    "def load_data(file_path):\n",
    "    '''\n",
    "    This function loads the data from the file_path\n",
    "\n",
    "    Given the path of the dataset this function reads and returns the intents and the corpus of the dataset\n",
    "\n",
    "    Args:\n",
    "        - file_path (str) : path of the dataset\n",
    "\n",
    "    Returns:\n",
    "        - unique_intents (list[str]) : list of unique intents in the dataset\n",
    "        - corpus (list[str]) : list of all the sentences in the dataset\n",
    "        - corpus_intents (list[str]) : list of intents for each sentence in the dataset\n",
    "        - responses (list[str]) : list of responses for each intent in the dataset\n",
    "    '''\n",
    "    unique_intents = []\n",
    "    corpus = []\n",
    "    corpus_intents = []\n",
    "    # responses = []\n",
    "\n",
    "    with open(file_path, 'r') as f:\n",
    "        dataset = json.load(f)\n",
    "\n",
    "        print(dataset.keys())\n",
    "        # intents = dataset['intents']\n",
    "\n",
    "        for intent, values in dataset.items():\n",
    "            print(intent.lower())\n",
    "            print(len(values))\n",
    "            if intent not in unique_intents:\n",
    "                unique_intents.append(intent)\n",
    "            for sentence in values:\n",
    "                corpus.append(utils.clean(sentence))\n",
    "                corpus_intents.append(intent)\n",
    "\n",
    "    return unique_intents, corpus, corpus_intents"
   ]
  },
  {
   "cell_type": "code",
   "execution_count": 5,
   "metadata": {},
   "outputs": [
    {
     "name": "stdout",
     "output_type": "stream",
     "text": [
      "dict_keys(['Variable Declaration', 'Constant Declaration', 'Function Declaration', 'Class Declaration', 'Assignment Operation', 'Conditional Operation', 'For Loop', 'While Loop', 'Bitwise Operation', 'Mathematical Operation', 'Membership Operation', 'Casting', 'Input', 'Output', 'Assertion', 'Libraries', 'File System', 'IDE Operation', 'Comment', 'Activate Mouse', 'Activate Interactive', 'Interactive Commands', 'Git Operation', 'Exit Block'])\n",
      "variable declaration\n",
      "239\n",
      "constant declaration\n",
      "200\n",
      "function declaration\n",
      "90\n",
      "class declaration\n",
      "30\n",
      "assignment operation\n",
      "80\n",
      "conditional operation\n",
      "160\n",
      "for loop\n",
      "120\n",
      "while loop\n",
      "60\n",
      "bitwise operation\n",
      "80\n",
      "mathematical operation\n",
      "370\n",
      "membership operation\n",
      "160\n",
      "casting\n",
      "60\n",
      "input\n",
      "50\n",
      "output\n",
      "120\n",
      "assertion\n",
      "40\n",
      "libraries\n",
      "40\n",
      "file system\n",
      "150\n",
      "ide operation\n",
      "292\n",
      "comment\n",
      "50\n",
      "activate mouse\n",
      "40\n",
      "activate interactive\n",
      "30\n",
      "interactive commands\n",
      "220\n",
      "git operation\n",
      "80\n",
      "exit block\n",
      "25\n",
      "Number of unique intents: 24\n",
      "Number of examples: 2786\n",
      "Number of examples: 2786\n",
      "Unique intents: ['Variable Declaration', 'Constant Declaration', 'Function Declaration', 'Class Declaration', 'Assignment Operation', 'Conditional Operation', 'For Loop', 'While Loop', 'Bitwise Operation', 'Mathematical Operation', 'Membership Operation', 'Casting', 'Input', 'Output', 'Assertion', 'Libraries', 'File System', 'IDE Operation', 'Comment', 'Activate Mouse', 'Activate Interactive', 'Interactive Commands', 'Git Operation', 'Exit Block']\n",
      "Samples: ['make start time as double and initialize', 'declare min value as integer and value', 'define settings as boolean and value false', 'define y as integer and assign to', 'initialize k as string and initialize it with Code Review']\n",
      "Training Sample:  ('make start time as double and initialize', 'Variable Declaration')\n"
     ]
    }
   ],
   "source": [
    "dataset_path = './intent_detection_dataset/final_intents_dataset.json'\n",
    "unique_intents, corpus, corpus_intents = load_data(dataset_path)\n",
    "\n",
    "# print shapes and sizes of the dataset\n",
    "print('Number of unique intents:', len(unique_intents))\n",
    "# print('Number of responses:', len(responses))\n",
    "print('Number of examples:', len(corpus))\n",
    "print('Number of examples:', len(corpus_intents))\n",
    "\n",
    "# print samples of the dataset\n",
    "print('Unique intents:', unique_intents)\n",
    "# print('Responses:', responses)\n",
    "print('Samples:', corpus[:5])\n",
    "\n",
    "data = list(zip(corpus, corpus_intents))\n",
    "\n",
    "print(\"Training Sample: \", data[0])"
   ]
  },
  {
   "cell_type": "markdown",
   "metadata": {},
   "source": [
    "#### 2. Tokenizing and Embedding "
   ]
  },
  {
   "cell_type": "code",
   "execution_count": 6,
   "metadata": {},
   "outputs": [
    {
     "name": "stdout",
     "output_type": "stream",
     "text": [
      "Vocabulary: {'<unk>': 1, 'the': 2, 'and': 3, 'to': 4, 'a': 5, 'is': 6, 'it': 7, 'in': 8, 'name': 9, 'new': 10, 'variable': 11, 'value': 12, 'user': 13, 'with': 14, 'of': 15, 'constant': 16, 'as': 17, 'assign': 18, 'equal': 19, 'set': 20, 'file': 21, 'whether': 22, 'if': 23, 'list': 24, 'for': 25, 'check': 26, 'message': 27, 'than': 28, 'initialize': 29, 'declare': 30, 'make': 31, 'loop': 32, 'create': 33, 'not': 34, 'or': 35, 'from': 36, 'date': 37, 'get': 38, 'type': 39, 'code': 40, 'data': 41, 'are': 42, 'all': 43, 'line': 44, 'define': 45, 'while': 46, 'bitwise': 47, 'comment': 48, 'under': 49, 'product': 50, 'number': 51, 'step': 52, 'range': 53, 'store': 54, 'config': 55, 'write': 56, 'me': 57, 'allocate': 58, 'power': 59, 'output': 60, 'time': 61, 'that': 62, 'last': 63, 'less': 64, 'using': 65, 'errors': 66, 'parameters': 67, 'same': 68, 'index': 69, 'show': 70, 'string': 71, 'end': 72, 'has': 73, 'amount': 74, 'labelled': 75, 'save': 76, 'algorithm': 77, 'greater': 78, 'go': 79, 'mode': 80, 'id': 81, 'please': 82, 'called': 83, 'display': 84, 'total': 85, 'array': 86, 'settings': 87, 'titled': 88, 'email': 89, 'terminal': 90, 'files': 91, 'item': 92, 'named': 93, 'order': 94, 'map': 95, 'project': 96, 'changes': 97, 'start': 98, 'identified': 99, 'address': 100, 'integer': 101, 'rate': 102, 'float': 103, 'on': 104, 'raise': 105, 'selected': 106, 'mouse': 107, 'folders': 108, 'put': 109, 'fetch': 110, 'location': 111, 'add': 112, 'equals': 113, 'multiplied': 114, 'char': 115, 'path': 116, 'this': 117, 'boolean': 118, 'result': 119, 'iteration': 120, 'dictionary': 121, 'contact': 122, 'class': 123, 'change': 124, 'int': 125, 'i': 126, 'place': 127, 'root': 128, 'commit': 129, 'count': 130, 'return': 131, 'returns': 132, 'operation': 133, 'enter': 134, 'interactive': 135, 'directories': 136, 'double': 137, 'by': 138, 'report': 139, 'max': 140, 'out': 141, 'shift': 142, 'character': 143, 'element': 144, 'key': 145, 'more': 146, 'iterate': 147, 'cube': 148, 'j': 149, 'average': 150, 'procedure': 151, 'tax': 152, 'feature': 153, 'preferences': 154, 'system': 155, 'score': 156, 'zip': 157, 'copy': 158, 'account': 159, 'balance': 160, 'call': 161, 'temp': 162, 'supplier': 163, 'region': 164, 'delete': 165, 'bool': 166, 'flags': 167, 'pos': 168, 'its': 169, 'app': 170, 'subroutine': 171, 'colleague': 172, 'classes': 173, 'min': 174, 'revenue': 175, 'reorder': 176, 'point': 177, 'learning': 178, 'city': 179, 'insert': 180, 'approved': 181, 'functions': 182, 'exit': 183, 'k': 184, 'employee': 185, 'record': 186, 'updated': 187, 'an': 188, 'added': 189, 'divided': 190, 'square': 191, 'print': 192, 'deleted': 193, 'counter': 194, 'expiry': 195, 'description': 196, 'queue': 197, 'condition': 198, 'exponent': 199, 'ask': 200, 'library': 201, 'directory': 202, 'folder': 203, 'switch': 204, 'action': 205, 'true': 206, 'info': 207, 'enabled': 208, 'environment': 209, 'category': 210, 'position': 211, 'access': 212, 'empty': 213, 'default': 214, 'use': 215, 'collection': 216, 'retrieve': 217, 'jump': 218, 'highlight': 219, 'logged': 220, 'visible': 221, 'expense': 222, 'current': 223, 'options': 224, 'budget': 225, 'allocation': 226, 'routine': 227, 'office': 228, 'building': 229, 'notes': 230, 'discount': 231, 'country': 232, 'buffer': 233, 'xor': 234, 'divide': 235, 'false': 236, 'review': 237, 'database': 238, 'style': 239, 'e': 240, 'methods': 241, 'function': 242, 'mentor': 243, 'main': 244, 'evaluate': 245, 'determine': 246, 'read': 247, 'include': 248, 'age': 249, 'verified': 250, 'development': 251, 'creation': 252, 'status': 253, 'alternate': 254, 'debit': 255, 'gender': 256, 'transaction': 257, 'due': 258, 'programming': 259, 'method': 260, 'guardian': 261, 'street': 262, 'update': 263, 'delivery': 264, 'generate': 265, 'left': 266, 'right': 267, 'plus': 268, 'division': 269, 'calculate': 270, 'solve': 271, 'subtraction': 272, 'require': 273, 'presentation': 274, 'pptx': 275, 'docx': 276, 'move': 277, 'models': 278, 'completed': 279, 'elapsed': 280, 'active': 281, 'customer': 282, 'properties': 283, 'stock': 284, 'quantity': 285, 'geo': 286, 'coordinates': 287, 'multiplication': 288, 'find': 289, 'text': 290, 'cast': 291, 'input': 292, 'txt': 293, 'log': 294, 'price': 295, 'technical': 296, 'gross': 297, 'income': 298, 'software': 299, 'inventory': 300, 'level': 301, 'language': 302, 'net': 303, 'profit': 304, 'emergency': 305, 'subtract': 306, 'login': 307, 'work': 308, 'remainder': 309, 'transform': 310, 'validate': 311, 'html': 312, 'mp': 313, 'cancel': 314, 'schedule': 315, 'credit': 316, 'limit': 317, 'clustering': 318, 'algorithms': 319, 'partner': 320, 'secondary': 321, 'role': 322, 'frame': 323, 'sum': 324, 'tree': 325, 'duplicate': 326, 'script': 327, 'py': 328, 'json': 329, 'db': 330, 'open': 331, 'choose': 332, 'mark': 333, 'cut': 334, 'stage': 335, 'primary': 336, 'sibling': 337, 'form': 338, 'perform': 339, 'css': 340, 'convert': 341, 'provide': 342, 'imports': 343, 'csv': 344, 'rename': 345, 'logfile': 346, 'pdf': 347, 'archive': 348, 'image': 349, 'jpg': 350, 'pick': 351, 'entire': 352, 'restore': 353, 'previous': 354, 'what': 355, 'just': 356, 'did': 357, 'tracking': 358, 'tracker': 359, 'interface': 360, 'singular': 361, 'reverse': 362, 'apply': 363, 'multiply': 364, 'modulus': 365, 'addition': 366, 'remove': 367, 'navigate': 368, 'select': 369, 'revert': 370, 'redo': 371, 'disable': 372, 'pull': 373, 'discard': 374, 'stamp': 375, 'whose': 376, 'mining': 377, 'names': 378, 'support': 379, 'structures': 380, 'session': 381, 'having': 382, 'void': 383, 'including': 384, 'profile': 385, 'carry': 386, 'compute': 387, 'confirm': 388, 'import': 389, 'diagram': 390, 'svg': 391, 'video': 392, 'repeat': 393, 'activte': 394, 'leave': 395, 'documentation': 396, 'regression': 397, 'management': 398, 'cascading': 399, 'sheets': 400, 'functional': 401, 'hypertext': 402, 'markup': 403, 'architecture': 404, 'qr': 405, 'lu': 406, 'cholesky': 407, 'accepts': 408, 'needs': 409, 'test': 410, 'table': 411, 'size': 412, 'spreadsheet': 413, 'xlsx': 414, 'summary': 415, 'videos': 416, 'undo': 417, 'enable': 418, 'deactivate': 419, 'push': 420, 'engineering': 421, 'version': 422, 'science': 423, 'neural': 424, 'networks': 425, 'javascript': 426, 'framework': 427, 'statistical': 428, 'back': 429, 'hello': 430, 'world': 431, 'deep': 432, 'design': 433, 'supervised': 434, 'inverse': 435, 'containing': 436, 'givens': 437, 'rotation': 438, 'eigenvalue': 439, 'takes': 440, 'search': 441, 'do': 442, 'styles': 443, 'receive': 444, 'shape': 445, 'verify': 446, 'assert': 447, 'document': 448, 'photo': 449, 'png': 450, 'kill': 451, 'network': 452, 'natural': 453, 'processing': 454, 'python': 455, 'control': 456, 'continuous': 457, 'integration': 458, 'unsupervised': 459, 'full': 460, 'stack': 461, 'developer': 462, 'decomposition': 463, 'consisting': 464, 'jacobi': 465, 'loan': 466, 'username': 467, 'outcome': 468, 'solution': 469, 'details': 470, 'fields': 471, 'sample': 472, 'menus': 473, 'items': 474, 'take': 475, 'format': 476, 'welcome': 477, 'program': 478, 'diagrams': 479, 'close': 480, 'run': 481, 'single': 482, 'fixed': 483, 'y': 484, 'security': 485, 'analysis': 486, 'unit': 487, 'testing': 488, 'command': 489, 'debugging': 490, 'speech': 491, 'recognition': 492, 'rotate': 493, 'householder': 494, 'comprising': 495, 'requires': 496, 'svd': 497, 'visualization': 498, 'values': 499, 'answer': 500, 'cookies': 501, 'templates': 502, 'error': 503, 'between': 504, 'ensure': 505, 'manual': 506, 'doc': 507, 'audio': 508, 'databases': 509, 'photos': 510, 'launch': 511, 'paste': 512, 'revoke': 513, 'reset': 514, 'block': 515, 'begin': 516, 'typo': 517, 'front': 518, 'artificial': 519, 'intelligence': 520, 'x': 521, 'openai': 522, 'gpt': 523, 'computer': 524, 'vision': 525, 'reinforcement': 526, 'information': 527, 'technology': 528, 'rayleigh': 529, 'quotient': 530, 'gram': 531, 'schmidt': 532, 'transformation': 533, 'payment': 534, 'person': 535, 'view': 536, 'wishlist': 537, 'requests': 538, 'stats': 539, 'records': 540, 'routes': 541, 'variables': 542, 'points': 543, 'sets': 544, 'profiles': 545, 'leaderboard': 546, 'ranks': 547, 'sessions': 548, 'header': 549, 'object': 550, 'endpoints': 551, 'mask': 552, 'mathlib': 553, 'documents': 554, 'configs': 555, 'optimize': 556, 'placeholder': 557, 'resolved': 558, 'conflict': 559, 'scope': 560, 'n': 561, 'machine': 562, 'graphical': 563, 'cofactor': 564, 'eigenvector': 565, 'shuffle': 566, 'split': 567, 'fibonacci': 568, 'determinant': 569, 'enemy': 570, 'dataset': 571, 'manager': 572, 'achievement': 573, 'invoice': 574, 'usernames': 575, 'ages': 576, 'payments': 577, 'measurement': 578, 'components': 579, 'observations': 580, 'attributes': 581, 'packets': 582, 'batches': 583, 'ratings': 584, 'responses': 585, 'skills': 586, 'response': 587, 'training': 588, 'logs': 589, 'orders': 590, 'request': 591, 'experience': 592, 'headers': 593, 'countries': 594, 'coefficients': 595, 'enemies': 596, 'oriented': 597, 'lease': 598, 'betweeen': 599, 'your': 600, 'failed': 601, 'statement': 602, 'passed': 603, 'semi': 604, 'utils': 605, 'sortlib': 606, 'cipherlib': 607, 'queuelib': 608, 'react': 609, 'probability': 610, 'jsonlib': 611, 'spreadsheets': 612, 'presentations': 613, 'manuals': 614, 'archives': 615, 'focus': 616, 'terminate': 617, 'temporary': 618, 'process': 619, 'warning': 620, 'handle': 621, 'refactored': 622, 'changed': 623, 'initial': 624, 'tests': 625, 'merged': 626, 'rebased': 627, 'branch': 628, 'optimized': 629, 't': 630, 'u': 631, 'q': 632, 'p': 633, 'z': 634, 'merge': 635, 'rank': 636, 'prime': 637, 'router': 638, 'gateway': 639, 'customerreview': 640, 'filewriter': 641, 'middleware': 642, 'preprocessor': 643, 'button': 644, 'radiobutton': 645, 'httprequest': 646, 'slider': 647, 'httpresponse': 648, 'equation': 649, 'elements': 650, 'scores': 651, 'ids': 652, 'amounts': 653, 'biases': 654, 'dropdowns': 655, 'layout': 656, 'js': 657, 'vector': 658, 'dns': 659, 'reviews': 660, 'packet': 661, 'wishlists': 662, 'vectors': 663, 'skill': 664, 'instances': 665, 'addresses': 666, 'cities': 667, 'samples': 668, 'game': 669, 'levels': 670, 'window': 671, 'accounts': 672, 'entry': 673, 'results': 674, 'api': 675, 'categories': 676, 'budgets': 677, 'shipment': 678, 'windows': 679, 'inventories': 680, 'expenses': 681, 'weight': 682, 'matrix': 683, 'series': 684, 'leaderboards': 685, 'menu': 686, 'quest': 687, 'players': 688, 'radiobuttons': 689, 'types': 690, 'sliders': 691, 'bias': 692, 'nodes': 693, 'connection': 694, 'pool': 695, 'epochs': 696, 'events': 697, 'entries': 698, 'objects': 699, 'loss': 700, 'label': 701, 'times': 702, 'predictions': 703, 'layers': 704, 'invoices': 705, 'discounts': 706, 'weapons': 707, 'dates': 708, 'dialogs': 709, 'give': 710, 'fill': 711, 'length': 712, 'there': 713, 's': 714, 'core': 715, 'dsautils': 716, 'common': 717, 'securitytoolkit': 718, 'pandas': 719, 'geometry': 720, 'vue': 721, 'guimodule': 722, 'mlutils': 723, 'uiutils': 724, 'pydata': 725, 'django': 726, 'filesystem': 727, 'helpers': 728, 'shared': 729, 'websocketlib': 730, 'excellib': 731, 'parserlib': 732, 'decryption': 733, 'datastructures': 734, 'scicalc': 735, 'dateutils': 736, 'templateengine': 737, 'summaries': 738, 'images': 739, 'reports': 740, 'license': 741, 'timezone': 742, 'refactor': 743, 'todo': 744, 'necessary': 745, 'libraries': 746, 'client': 747, 'execute': 748, 'sql': 749, 'query': 750, 'fixme': 751, 'send': 752, 'through': 753, 'comments': 754, 'improved': 755, 'performance': 756, 'bug': 757}\n",
      "Vocabulary Size: 758\n",
      "Shape of Input Sequence (# of examples, longest sequence length): (2786, 20)\n",
      "Sample Input Sequence: [  0   0   0   0   0   0   0   0   0   0   0   0   0  31  98  61  17 137\n",
      "   3  29]\n"
     ]
    }
   ],
   "source": [
    "# create a tokenizer\n",
    "tokenizer = tf.keras.preprocessing.text.Tokenizer(filters='', oov_token='<unk>')\n",
    "\n",
    "# fit the tokenizer on the corpus -> updates internal vocabulary based on corpus\n",
    "tokenizer.fit_on_texts(corpus)\n",
    "\n",
    "# convert the corpus to sequences of integers -> each word is replaced by its index in the vocabulary for each sentence\n",
    "sequences = tokenizer.texts_to_sequences(corpus)\n",
    "\n",
    "# pad the sequences to the same length -> add padding tokens to the beginning of each sequence to fit the longest sequence\n",
    "padded_sequences = keras.preprocessing.sequence.pad_sequences(sequences, padding='pre')\n",
    "\n",
    "# get the number of unique words (vocabulary size)\n",
    "vocab_size = len(tokenizer.word_index) + 1\n",
    "\n",
    "# print the tokenizer properties\n",
    "print('Vocabulary:', tokenizer.word_index)\n",
    "print('Vocabulary Size:', vocab_size)\n",
    "print('Shape of Input Sequence (# of examples, longest sequence length):', padded_sequences.shape)\n",
    "print('Sample Input Sequence:', padded_sequences[0])"
   ]
  },
  {
   "cell_type": "markdown",
   "metadata": {},
   "source": [
    "#### 3. Feature Extraction\n",
    "map intents to indices"
   ]
  },
  {
   "cell_type": "code",
   "execution_count": 7,
   "metadata": {},
   "outputs": [
    {
     "name": "stdout",
     "output_type": "stream",
     "text": [
      "{0: 'Variable Declaration', 1: 'Constant Declaration', 2: 'Function Declaration', 3: 'Class Declaration', 4: 'Assignment Operation', 5: 'Conditional Operation', 6: 'For Loop', 7: 'While Loop', 8: 'Bitwise Operation', 9: 'Mathematical Operation', 10: 'Membership Operation', 11: 'Casting', 12: 'Input', 13: 'Output', 14: 'Assertion', 15: 'Libraries', 16: 'File System', 17: 'IDE Operation', 18: 'Comment', 19: 'Activate Mouse', 20: 'Activate Interactive', 21: 'Interactive Commands', 22: 'Git Operation', 23: 'Exit Block'}\n",
      "Categorial vector shape: (2786, 24)\n"
     ]
    }
   ],
   "source": [
    "# dictionary that maps each intent to a unique index\n",
    "intent_to_index = {intent: index for index, intent in enumerate(unique_intents)}\n",
    "\n",
    "# list for each sentence mapped to its corresponding intent index \n",
    "corpus_intent_mapped_to_index = [intent_to_index[intent] for intent in corpus_intents]\n",
    "\n",
    "# the number of classes to classify a sentence into\n",
    "number_of_classes = len(intent_to_index)\n",
    "\n",
    "# convert intent_to_index to index_to_intent \n",
    "index_to_intent = {index: intent for intent, index in intent_to_index.items()} \n",
    "\n",
    "print(index_to_intent)\n",
    "\n",
    "# one hot encoding for the intents -> length of each vector is equal to the number of classes\n",
    "# each sequence in the dataset is represented as a one-hot encoded vector that represents the intent of the sequence\n",
    "targets = keras.utils.to_categorical(corpus_intent_mapped_to_index, number_of_classes)\n",
    "\n",
    "print('Categorial vector shape:', targets.shape)"
   ]
  },
  {
   "cell_type": "code",
   "execution_count": 8,
   "metadata": {},
   "outputs": [
    {
     "name": "stdout",
     "output_type": "stream",
     "text": [
      "Number of training examples: 2228\n",
      "Number of testing examples: 558\n"
     ]
    }
   ],
   "source": [
    "x_train, x_test, y_train, y_test = train_test_split(padded_sequences, targets, test_size=0.2, random_state=42, shuffle=True)\n",
    "\n",
    "train_data = list(zip(x_train, y_train))\n",
    "test_data = list(zip(x_test, y_test))\n",
    "\n",
    "print('Number of training examples:', len(train_data))\n",
    "print('Number of testing examples:', len(test_data))"
   ]
  },
  {
   "cell_type": "markdown",
   "metadata": {},
   "source": [
    "#### 4. Building the Model"
   ]
  },
  {
   "cell_type": "code",
   "execution_count": 9,
   "metadata": {},
   "outputs": [
    {
     "name": "stdout",
     "output_type": "stream",
     "text": [
      "Input Dimension: 24, Output Dimension: 24\n"
     ]
    },
    {
     "data": {
      "text/html": [
       "<pre style=\"white-space:pre;overflow-x:auto;line-height:normal;font-family:Menlo,'DejaVu Sans Mono',consolas,'Courier New',monospace\"><span style=\"font-weight: bold\">Model: \"sequential\"</span>\n",
       "</pre>\n"
      ],
      "text/plain": [
       "\u001b[1mModel: \"sequential\"\u001b[0m\n"
      ]
     },
     "metadata": {},
     "output_type": "display_data"
    },
    {
     "data": {
      "text/html": [
       "<pre style=\"white-space:pre;overflow-x:auto;line-height:normal;font-family:Menlo,'DejaVu Sans Mono',consolas,'Courier New',monospace\">┏━━━━━━━━━━━━━━━━━━━━━━━━━━━━━━━━━┳━━━━━━━━━━━━━━━━━━━━━━━━┳━━━━━━━━━━━━━━━┓\n",
       "┃<span style=\"font-weight: bold\"> Layer (type)                    </span>┃<span style=\"font-weight: bold\"> Output Shape           </span>┃<span style=\"font-weight: bold\">       Param # </span>┃\n",
       "┡━━━━━━━━━━━━━━━━━━━━━━━━━━━━━━━━━╇━━━━━━━━━━━━━━━━━━━━━━━━╇━━━━━━━━━━━━━━━┩\n",
       "│ embedding (<span style=\"color: #0087ff; text-decoration-color: #0087ff\">Embedding</span>)           │ ?                      │   <span style=\"color: #00af00; text-decoration-color: #00af00\">0</span> (unbuilt) │\n",
       "├─────────────────────────────────┼────────────────────────┼───────────────┤\n",
       "│ bidirectional (<span style=\"color: #0087ff; text-decoration-color: #0087ff\">Bidirectional</span>)   │ ?                      │   <span style=\"color: #00af00; text-decoration-color: #00af00\">0</span> (unbuilt) │\n",
       "├─────────────────────────────────┼────────────────────────┼───────────────┤\n",
       "│ dense (<span style=\"color: #0087ff; text-decoration-color: #0087ff\">Dense</span>)                   │ ?                      │   <span style=\"color: #00af00; text-decoration-color: #00af00\">0</span> (unbuilt) │\n",
       "├─────────────────────────────────┼────────────────────────┼───────────────┤\n",
       "│ dropout (<span style=\"color: #0087ff; text-decoration-color: #0087ff\">Dropout</span>)               │ ?                      │   <span style=\"color: #00af00; text-decoration-color: #00af00\">0</span> (unbuilt) │\n",
       "├─────────────────────────────────┼────────────────────────┼───────────────┤\n",
       "│ dense_1 (<span style=\"color: #0087ff; text-decoration-color: #0087ff\">Dense</span>)                 │ ?                      │   <span style=\"color: #00af00; text-decoration-color: #00af00\">0</span> (unbuilt) │\n",
       "└─────────────────────────────────┴────────────────────────┴───────────────┘\n",
       "</pre>\n"
      ],
      "text/plain": [
       "┏━━━━━━━━━━━━━━━━━━━━━━━━━━━━━━━━━┳━━━━━━━━━━━━━━━━━━━━━━━━┳━━━━━━━━━━━━━━━┓\n",
       "┃\u001b[1m \u001b[0m\u001b[1mLayer (type)                   \u001b[0m\u001b[1m \u001b[0m┃\u001b[1m \u001b[0m\u001b[1mOutput Shape          \u001b[0m\u001b[1m \u001b[0m┃\u001b[1m \u001b[0m\u001b[1m      Param #\u001b[0m\u001b[1m \u001b[0m┃\n",
       "┡━━━━━━━━━━━━━━━━━━━━━━━━━━━━━━━━━╇━━━━━━━━━━━━━━━━━━━━━━━━╇━━━━━━━━━━━━━━━┩\n",
       "│ embedding (\u001b[38;5;33mEmbedding\u001b[0m)           │ ?                      │   \u001b[38;5;34m0\u001b[0m (unbuilt) │\n",
       "├─────────────────────────────────┼────────────────────────┼───────────────┤\n",
       "│ bidirectional (\u001b[38;5;33mBidirectional\u001b[0m)   │ ?                      │   \u001b[38;5;34m0\u001b[0m (unbuilt) │\n",
       "├─────────────────────────────────┼────────────────────────┼───────────────┤\n",
       "│ dense (\u001b[38;5;33mDense\u001b[0m)                   │ ?                      │   \u001b[38;5;34m0\u001b[0m (unbuilt) │\n",
       "├─────────────────────────────────┼────────────────────────┼───────────────┤\n",
       "│ dropout (\u001b[38;5;33mDropout\u001b[0m)               │ ?                      │   \u001b[38;5;34m0\u001b[0m (unbuilt) │\n",
       "├─────────────────────────────────┼────────────────────────┼───────────────┤\n",
       "│ dense_1 (\u001b[38;5;33mDense\u001b[0m)                 │ ?                      │   \u001b[38;5;34m0\u001b[0m (unbuilt) │\n",
       "└─────────────────────────────────┴────────────────────────┴───────────────┘\n"
      ]
     },
     "metadata": {},
     "output_type": "display_data"
    },
    {
     "data": {
      "text/html": [
       "<pre style=\"white-space:pre;overflow-x:auto;line-height:normal;font-family:Menlo,'DejaVu Sans Mono',consolas,'Courier New',monospace\"><span style=\"font-weight: bold\"> Total params: </span><span style=\"color: #00af00; text-decoration-color: #00af00\">0</span> (0.00 B)\n",
       "</pre>\n"
      ],
      "text/plain": [
       "\u001b[1m Total params: \u001b[0m\u001b[38;5;34m0\u001b[0m (0.00 B)\n"
      ]
     },
     "metadata": {},
     "output_type": "display_data"
    },
    {
     "data": {
      "text/html": [
       "<pre style=\"white-space:pre;overflow-x:auto;line-height:normal;font-family:Menlo,'DejaVu Sans Mono',consolas,'Courier New',monospace\"><span style=\"font-weight: bold\"> Trainable params: </span><span style=\"color: #00af00; text-decoration-color: #00af00\">0</span> (0.00 B)\n",
       "</pre>\n"
      ],
      "text/plain": [
       "\u001b[1m Trainable params: \u001b[0m\u001b[38;5;34m0\u001b[0m (0.00 B)\n"
      ]
     },
     "metadata": {},
     "output_type": "display_data"
    },
    {
     "data": {
      "text/html": [
       "<pre style=\"white-space:pre;overflow-x:auto;line-height:normal;font-family:Menlo,'DejaVu Sans Mono',consolas,'Courier New',monospace\"><span style=\"font-weight: bold\"> Non-trainable params: </span><span style=\"color: #00af00; text-decoration-color: #00af00\">0</span> (0.00 B)\n",
       "</pre>\n"
      ],
      "text/plain": [
       "\u001b[1m Non-trainable params: \u001b[0m\u001b[38;5;34m0\u001b[0m (0.00 B)\n"
      ]
     },
     "metadata": {},
     "output_type": "display_data"
    }
   ],
   "source": [
    "# the input is the the padded sequences with the target value being the one-hot encoded intents\n",
    "input_dimenstion = len(unique_intents)\n",
    "\n",
    "# the output is the one-hot encoded intents\n",
    "output_dimenstion = targets.shape[1]\n",
    "\n",
    "print(f\"Input Dimension: {input_dimenstion}, Output Dimension: {output_dimenstion}\")\n",
    "\n",
    "# Model description\n",
    "# The model is a sequential model that consists of:\n",
    "# 1. An embedding layer that converts the input sequences to dense vectors of fixed size\n",
    "# 2. A Bidirectional LSTM layer that processes the input sequences in both directions\n",
    "# 3. A Dense layer with 64 units and ReLU activation function\n",
    "# 4. A Dropout layer with a dropout rate of 0.5\n",
    "# 5. A Dense layer with the output dimension and softmax activation function for multi-class classification\n",
    "\n",
    "# define parameters\n",
    "epochs = 100\n",
    "\n",
    "# the embedding dimension is the size of the vector for which each word is represented\n",
    "# the embedding layer of a neural network, output_dim refers to the size of the dense vectors that the layer will generate for each input token (word). \n",
    "# essentially, it is the number of dimensions in which each word will be represented.\n",
    "embedding_dimension = 150\n",
    "\n",
    "# lstm units\n",
    "lstm_units = 64\n",
    "\n",
    "model = keras.Sequential([\n",
    "    keras.layers.Embedding(input_dim=vocab_size, output_dim=embedding_dimension),\n",
    "    keras.layers.Bidirectional(keras.layers.LSTM(lstm_units, dropout=0.2)),\n",
    "    keras.layers.Dense(lstm_units, activation='relu'),\n",
    "    keras.layers.Dropout(0.4),\n",
    "    keras.layers.Dense(output_dimenstion, activation='softmax')\n",
    "])\n",
    "\n",
    "optimizer = keras.optimizers.Adam(learning_rate=0.001)\n",
    "model.compile(optimizer=optimizer, loss='categorical_crossentropy', metrics=['accuracy', 'f1_score', 'precision', 'recall'])\n",
    "\n",
    "model.summary()"
   ]
  },
  {
   "cell_type": "markdown",
   "metadata": {},
   "source": [
    "#### 5. Train the Model"
   ]
  },
  {
   "cell_type": "code",
   "execution_count": 10,
   "metadata": {},
   "outputs": [
    {
     "name": "stdout",
     "output_type": "stream",
     "text": [
      "Epoch 1/100\n",
      "\u001b[1m88/88\u001b[0m \u001b[32m━━━━━━━━━━━━━━━━━━━━\u001b[0m\u001b[37m\u001b[0m \u001b[1m4s\u001b[0m 13ms/step - accuracy: 0.1334 - f1_score: 0.0542 - loss: 2.9875 - precision: 0.1333 - recall: 8.7711e-04\n",
      "Epoch 2/100\n",
      "\u001b[1m88/88\u001b[0m \u001b[32m━━━━━━━━━━━━━━━━━━━━\u001b[0m\u001b[37m\u001b[0m \u001b[1m1s\u001b[0m 11ms/step - accuracy: 0.4531 - f1_score: 0.2038 - loss: 1.7886 - precision: 0.7060 - recall: 0.1929\n",
      "Epoch 3/100\n",
      "\u001b[1m88/88\u001b[0m \u001b[32m━━━━━━━━━━━━━━━━━━━━\u001b[0m\u001b[37m\u001b[0m \u001b[1m1s\u001b[0m 13ms/step - accuracy: 0.7083 - f1_score: 0.4960 - loss: 0.8998 - precision: 0.8601 - recall: 0.5810\n",
      "Epoch 4/100\n",
      "\u001b[1m88/88\u001b[0m \u001b[32m━━━━━━━━━━━━━━━━━━━━\u001b[0m\u001b[37m\u001b[0m \u001b[1m1s\u001b[0m 12ms/step - accuracy: 0.8705 - f1_score: 0.7226 - loss: 0.4738 - precision: 0.9557 - recall: 0.7812\n",
      "Epoch 5/100\n",
      "\u001b[1m88/88\u001b[0m \u001b[32m━━━━━━━━━━━━━━━━━━━━\u001b[0m\u001b[37m\u001b[0m \u001b[1m1s\u001b[0m 14ms/step - accuracy: 0.9121 - f1_score: 0.7701 - loss: 0.3035 - precision: 0.9595 - recall: 0.8729\n",
      "Epoch 6/100\n",
      "\u001b[1m88/88\u001b[0m \u001b[32m━━━━━━━━━━━━━━━━━━━━\u001b[0m\u001b[37m\u001b[0m \u001b[1m1s\u001b[0m 13ms/step - accuracy: 0.9365 - f1_score: 0.8604 - loss: 0.2014 - precision: 0.9699 - recall: 0.9182\n",
      "Epoch 7/100\n",
      "\u001b[1m88/88\u001b[0m \u001b[32m━━━━━━━━━━━━━━━━━━━━\u001b[0m\u001b[37m\u001b[0m \u001b[1m1s\u001b[0m 12ms/step - accuracy: 0.9702 - f1_score: 0.9419 - loss: 0.1257 - precision: 0.9788 - recall: 0.9524\n",
      "Epoch 8/100\n",
      "\u001b[1m88/88\u001b[0m \u001b[32m━━━━━━━━━━━━━━━━━━━━\u001b[0m\u001b[37m\u001b[0m \u001b[1m1s\u001b[0m 13ms/step - accuracy: 0.9801 - f1_score: 0.9391 - loss: 0.0964 - precision: 0.9877 - recall: 0.9749\n",
      "Epoch 9/100\n",
      "\u001b[1m88/88\u001b[0m \u001b[32m━━━━━━━━━━━━━━━━━━━━\u001b[0m\u001b[37m\u001b[0m \u001b[1m1s\u001b[0m 12ms/step - accuracy: 0.9782 - f1_score: 0.9498 - loss: 0.0789 - precision: 0.9826 - recall: 0.9742\n",
      "Epoch 10/100\n",
      "\u001b[1m88/88\u001b[0m \u001b[32m━━━━━━━━━━━━━━━━━━━━\u001b[0m\u001b[37m\u001b[0m \u001b[1m1s\u001b[0m 11ms/step - accuracy: 0.9895 - f1_score: 0.9697 - loss: 0.0528 - precision: 0.9898 - recall: 0.9839\n",
      "Epoch 11/100\n",
      "\u001b[1m88/88\u001b[0m \u001b[32m━━━━━━━━━━━━━━━━━━━━\u001b[0m\u001b[37m\u001b[0m \u001b[1m1s\u001b[0m 12ms/step - accuracy: 0.9888 - f1_score: 0.9763 - loss: 0.0457 - precision: 0.9922 - recall: 0.9854\n",
      "Epoch 12/100\n",
      "\u001b[1m88/88\u001b[0m \u001b[32m━━━━━━━━━━━━━━━━━━━━\u001b[0m\u001b[37m\u001b[0m \u001b[1m1s\u001b[0m 13ms/step - accuracy: 0.9967 - f1_score: 0.9862 - loss: 0.0324 - precision: 0.9980 - recall: 0.9936\n",
      "Epoch 13/100\n",
      "\u001b[1m88/88\u001b[0m \u001b[32m━━━━━━━━━━━━━━━━━━━━\u001b[0m\u001b[37m\u001b[0m \u001b[1m1s\u001b[0m 12ms/step - accuracy: 0.9948 - f1_score: 0.9829 - loss: 0.0340 - precision: 0.9959 - recall: 0.9919\n",
      "Epoch 14/100\n",
      "\u001b[1m88/88\u001b[0m \u001b[32m━━━━━━━━━━━━━━━━━━━━\u001b[0m\u001b[37m\u001b[0m \u001b[1m1s\u001b[0m 12ms/step - accuracy: 0.9990 - f1_score: 0.9929 - loss: 0.0196 - precision: 0.9992 - recall: 0.9978\n",
      "Epoch 15/100\n",
      "\u001b[1m88/88\u001b[0m \u001b[32m━━━━━━━━━━━━━━━━━━━━\u001b[0m\u001b[37m\u001b[0m \u001b[1m1s\u001b[0m 13ms/step - accuracy: 0.9979 - f1_score: 0.9892 - loss: 0.0167 - precision: 0.9981 - recall: 0.9956\n",
      "Epoch 16/100\n",
      "\u001b[1m88/88\u001b[0m \u001b[32m━━━━━━━━━━━━━━━━━━━━\u001b[0m\u001b[37m\u001b[0m \u001b[1m1s\u001b[0m 13ms/step - accuracy: 0.9963 - f1_score: 0.9854 - loss: 0.0202 - precision: 0.9964 - recall: 0.9963\n",
      "Epoch 17/100\n",
      "\u001b[1m88/88\u001b[0m \u001b[32m━━━━━━━━━━━━━━━━━━━━\u001b[0m\u001b[37m\u001b[0m \u001b[1m1s\u001b[0m 12ms/step - accuracy: 0.9997 - f1_score: 0.9870 - loss: 0.0132 - precision: 0.9997 - recall: 0.9989\n",
      "Epoch 18/100\n",
      "\u001b[1m88/88\u001b[0m \u001b[32m━━━━━━━━━━━━━━━━━━━━\u001b[0m\u001b[37m\u001b[0m \u001b[1m1s\u001b[0m 12ms/step - accuracy: 0.9984 - f1_score: 0.9886 - loss: 0.0130 - precision: 0.9984 - recall: 0.9984\n",
      "Epoch 19/100\n",
      "\u001b[1m88/88\u001b[0m \u001b[32m━━━━━━━━━━━━━━━━━━━━\u001b[0m\u001b[37m\u001b[0m \u001b[1m1s\u001b[0m 12ms/step - accuracy: 0.9970 - f1_score: 0.9883 - loss: 0.0143 - precision: 0.9970 - recall: 0.9970\n",
      "Epoch 20/100\n",
      "\u001b[1m88/88\u001b[0m \u001b[32m━━━━━━━━━━━━━━━━━━━━\u001b[0m\u001b[37m\u001b[0m \u001b[1m1s\u001b[0m 11ms/step - accuracy: 0.9962 - f1_score: 0.9844 - loss: 0.0163 - precision: 0.9980 - recall: 0.9956\n",
      "Epoch 21/100\n",
      "\u001b[1m88/88\u001b[0m \u001b[32m━━━━━━━━━━━━━━━━━━━━\u001b[0m\u001b[37m\u001b[0m \u001b[1m1s\u001b[0m 12ms/step - accuracy: 0.9942 - f1_score: 0.9820 - loss: 0.0323 - precision: 0.9950 - recall: 0.9938\n",
      "Epoch 22/100\n",
      "\u001b[1m88/88\u001b[0m \u001b[32m━━━━━━━━━━━━━━━━━━━━\u001b[0m\u001b[37m\u001b[0m \u001b[1m1s\u001b[0m 12ms/step - accuracy: 0.9972 - f1_score: 0.9782 - loss: 0.0134 - precision: 0.9986 - recall: 0.9966\n",
      "Epoch 23/100\n",
      "\u001b[1m88/88\u001b[0m \u001b[32m━━━━━━━━━━━━━━━━━━━━\u001b[0m\u001b[37m\u001b[0m \u001b[1m1s\u001b[0m 13ms/step - accuracy: 0.9991 - f1_score: 0.9902 - loss: 0.0094 - precision: 0.9991 - recall: 0.9986\n",
      "Epoch 24/100\n",
      "\u001b[1m88/88\u001b[0m \u001b[32m━━━━━━━━━━━━━━━━━━━━\u001b[0m\u001b[37m\u001b[0m \u001b[1m1s\u001b[0m 11ms/step - accuracy: 0.9987 - f1_score: 0.9881 - loss: 0.0090 - precision: 0.9988 - recall: 0.9986\n",
      "Epoch 25/100\n",
      "\u001b[1m88/88\u001b[0m \u001b[32m━━━━━━━━━━━━━━━━━━━━\u001b[0m\u001b[37m\u001b[0m \u001b[1m1s\u001b[0m 12ms/step - accuracy: 0.9982 - f1_score: 0.9893 - loss: 0.0114 - precision: 0.9983 - recall: 0.9978\n",
      "Epoch 26/100\n",
      "\u001b[1m88/88\u001b[0m \u001b[32m━━━━━━━━━━━━━━━━━━━━\u001b[0m\u001b[37m\u001b[0m \u001b[1m1s\u001b[0m 12ms/step - accuracy: 0.9976 - f1_score: 0.9863 - loss: 0.0130 - precision: 0.9980 - recall: 0.9971\n",
      "Epoch 27/100\n",
      "\u001b[1m88/88\u001b[0m \u001b[32m━━━━━━━━━━━━━━━━━━━━\u001b[0m\u001b[37m\u001b[0m \u001b[1m1s\u001b[0m 11ms/step - accuracy: 0.9973 - f1_score: 0.9844 - loss: 0.0168 - precision: 0.9973 - recall: 0.9967\n",
      "Epoch 28/100\n",
      "\u001b[1m88/88\u001b[0m \u001b[32m━━━━━━━━━━━━━━━━━━━━\u001b[0m\u001b[37m\u001b[0m \u001b[1m1s\u001b[0m 11ms/step - accuracy: 0.9978 - f1_score: 0.9854 - loss: 0.0096 - precision: 0.9982 - recall: 0.9978\n",
      "Epoch 29/100\n",
      "\u001b[1m88/88\u001b[0m \u001b[32m━━━━━━━━━━━━━━━━━━━━\u001b[0m\u001b[37m\u001b[0m \u001b[1m1s\u001b[0m 11ms/step - accuracy: 0.9965 - f1_score: 0.9859 - loss: 0.0132 - precision: 0.9965 - recall: 0.9965\n",
      "Epoch 30/100\n",
      "\u001b[1m88/88\u001b[0m \u001b[32m━━━━━━━━━━━━━━━━━━━━\u001b[0m\u001b[37m\u001b[0m \u001b[1m1s\u001b[0m 15ms/step - accuracy: 0.9970 - f1_score: 0.9830 - loss: 0.0132 - precision: 0.9981 - recall: 0.9968\n",
      "Epoch 31/100\n",
      "\u001b[1m88/88\u001b[0m \u001b[32m━━━━━━━━━━━━━━━━━━━━\u001b[0m\u001b[37m\u001b[0m \u001b[1m1s\u001b[0m 16ms/step - accuracy: 0.9984 - f1_score: 0.9881 - loss: 0.0072 - precision: 0.9984 - recall: 0.9982\n",
      "Epoch 32/100\n",
      "\u001b[1m88/88\u001b[0m \u001b[32m━━━━━━━━━━━━━━━━━━━━\u001b[0m\u001b[37m\u001b[0m \u001b[1m2s\u001b[0m 16ms/step - accuracy: 0.9985 - f1_score: 0.9907 - loss: 0.0082 - precision: 0.9985 - recall: 0.9985\n",
      "Epoch 33/100\n",
      "\u001b[1m88/88\u001b[0m \u001b[32m━━━━━━━━━━━━━━━━━━━━\u001b[0m\u001b[37m\u001b[0m \u001b[1m2s\u001b[0m 17ms/step - accuracy: 0.9987 - f1_score: 0.9862 - loss: 0.0054 - precision: 0.9989 - recall: 0.9984\n",
      "Epoch 34/100\n",
      "\u001b[1m88/88\u001b[0m \u001b[32m━━━━━━━━━━━━━━━━━━━━\u001b[0m\u001b[37m\u001b[0m \u001b[1m2s\u001b[0m 18ms/step - accuracy: 0.9990 - f1_score: 0.9903 - loss: 0.0056 - precision: 0.9990 - recall: 0.9990\n",
      "Epoch 35/100\n",
      "\u001b[1m88/88\u001b[0m \u001b[32m━━━━━━━━━━━━━━━━━━━━\u001b[0m\u001b[37m\u001b[0m \u001b[1m2s\u001b[0m 25ms/step - accuracy: 0.9976 - f1_score: 0.9886 - loss: 0.0074 - precision: 0.9983 - recall: 0.9972\n",
      "Epoch 36/100\n",
      "\u001b[1m88/88\u001b[0m \u001b[32m━━━━━━━━━━━━━━━━━━━━\u001b[0m\u001b[37m\u001b[0m \u001b[1m3s\u001b[0m 34ms/step - accuracy: 0.9990 - f1_score: 0.9906 - loss: 0.0058 - precision: 0.9990 - recall: 0.9988\n",
      "Epoch 37/100\n",
      "\u001b[1m88/88\u001b[0m \u001b[32m━━━━━━━━━━━━━━━━━━━━\u001b[0m\u001b[37m\u001b[0m \u001b[1m3s\u001b[0m 31ms/step - accuracy: 0.9981 - f1_score: 0.9856 - loss: 0.0070 - precision: 0.9983 - recall: 0.9981\n",
      "Epoch 38/100\n",
      "\u001b[1m88/88\u001b[0m \u001b[32m━━━━━━━━━━━━━━━━━━━━\u001b[0m\u001b[37m\u001b[0m \u001b[1m3s\u001b[0m 30ms/step - accuracy: 0.9999 - f1_score: 0.9905 - loss: 0.0037 - precision: 0.9999 - recall: 0.9996\n",
      "Epoch 39/100\n",
      "\u001b[1m88/88\u001b[0m \u001b[32m━━━━━━━━━━━━━━━━━━━━\u001b[0m\u001b[37m\u001b[0m \u001b[1m5s\u001b[0m 28ms/step - accuracy: 0.9982 - f1_score: 0.9870 - loss: 0.0042 - precision: 0.9982 - recall: 0.9981\n",
      "Epoch 40/100\n",
      "\u001b[1m88/88\u001b[0m \u001b[32m━━━━━━━━━━━━━━━━━━━━\u001b[0m\u001b[37m\u001b[0m \u001b[1m3s\u001b[0m 28ms/step - accuracy: 0.9992 - f1_score: 0.9855 - loss: 0.0036 - precision: 0.9992 - recall: 0.9992\n",
      "Epoch 41/100\n",
      "\u001b[1m88/88\u001b[0m \u001b[32m━━━━━━━━━━━━━━━━━━━━\u001b[0m\u001b[37m\u001b[0m \u001b[1m2s\u001b[0m 22ms/step - accuracy: 0.9996 - f1_score: 0.9904 - loss: 0.0031 - precision: 0.9996 - recall: 0.9994\n",
      "Epoch 42/100\n",
      "\u001b[1m88/88\u001b[0m \u001b[32m━━━━━━━━━━━━━━━━━━━━\u001b[0m\u001b[37m\u001b[0m \u001b[1m2s\u001b[0m 21ms/step - accuracy: 0.9966 - f1_score: 0.9849 - loss: 0.0120 - precision: 0.9968 - recall: 0.9966\n",
      "Epoch 43/100\n",
      "\u001b[1m88/88\u001b[0m \u001b[32m━━━━━━━━━━━━━━━━━━━━\u001b[0m\u001b[37m\u001b[0m \u001b[1m2s\u001b[0m 24ms/step - accuracy: 0.9983 - f1_score: 0.9907 - loss: 0.0072 - precision: 0.9995 - recall: 0.9983\n",
      "Epoch 44/100\n",
      "\u001b[1m88/88\u001b[0m \u001b[32m━━━━━━━━━━━━━━━━━━━━\u001b[0m\u001b[37m\u001b[0m \u001b[1m3s\u001b[0m 24ms/step - accuracy: 0.9991 - f1_score: 0.9915 - loss: 0.0062 - precision: 0.9991 - recall: 0.9991\n",
      "Epoch 45/100\n",
      "\u001b[1m88/88\u001b[0m \u001b[32m━━━━━━━━━━━━━━━━━━━━\u001b[0m\u001b[37m\u001b[0m \u001b[1m2s\u001b[0m 27ms/step - accuracy: 0.9987 - f1_score: 0.9895 - loss: 0.0044 - precision: 0.9987 - recall: 0.9984\n",
      "Epoch 46/100\n",
      "\u001b[1m88/88\u001b[0m \u001b[32m━━━━━━━━━━━━━━━━━━━━\u001b[0m\u001b[37m\u001b[0m \u001b[1m3s\u001b[0m 33ms/step - accuracy: 0.9977 - f1_score: 0.9872 - loss: 0.0071 - precision: 0.9977 - recall: 0.9977\n",
      "Epoch 47/100\n",
      "\u001b[1m88/88\u001b[0m \u001b[32m━━━━━━━━━━━━━━━━━━━━\u001b[0m\u001b[37m\u001b[0m \u001b[1m3s\u001b[0m 29ms/step - accuracy: 1.0000 - f1_score: 0.9906 - loss: 0.0026 - precision: 1.0000 - recall: 1.0000\n",
      "Epoch 48/100\n",
      "\u001b[1m88/88\u001b[0m \u001b[32m━━━━━━━━━━━━━━━━━━━━\u001b[0m\u001b[37m\u001b[0m \u001b[1m3s\u001b[0m 29ms/step - accuracy: 1.0000 - f1_score: 0.9892 - loss: 0.0021 - precision: 1.0000 - recall: 1.0000\n",
      "Epoch 49/100\n",
      "\u001b[1m88/88\u001b[0m \u001b[32m━━━━━━━━━━━━━━━━━━━━\u001b[0m\u001b[37m\u001b[0m \u001b[1m2s\u001b[0m 28ms/step - accuracy: 1.0000 - f1_score: 0.9930 - loss: 0.0037 - precision: 1.0000 - recall: 0.9999\n",
      "Epoch 50/100\n",
      "\u001b[1m88/88\u001b[0m \u001b[32m━━━━━━━━━━━━━━━━━━━━\u001b[0m\u001b[37m\u001b[0m \u001b[1m2s\u001b[0m 25ms/step - accuracy: 0.9998 - f1_score: 0.9896 - loss: 0.0015 - precision: 0.9998 - recall: 0.9998\n",
      "Epoch 51/100\n",
      "\u001b[1m88/88\u001b[0m \u001b[32m━━━━━━━━━━━━━━━━━━━━\u001b[0m\u001b[37m\u001b[0m \u001b[1m3s\u001b[0m 25ms/step - accuracy: 0.9988 - f1_score: 0.9956 - loss: 0.0040 - precision: 0.9988 - recall: 0.9988\n",
      "Epoch 52/100\n",
      "\u001b[1m88/88\u001b[0m \u001b[32m━━━━━━━━━━━━━━━━━━━━\u001b[0m\u001b[37m\u001b[0m \u001b[1m2s\u001b[0m 25ms/step - accuracy: 0.9979 - f1_score: 0.9913 - loss: 0.0040 - precision: 0.9997 - recall: 0.9979\n",
      "Epoch 53/100\n",
      "\u001b[1m88/88\u001b[0m \u001b[32m━━━━━━━━━━━━━━━━━━━━\u001b[0m\u001b[37m\u001b[0m \u001b[1m2s\u001b[0m 25ms/step - accuracy: 0.9996 - f1_score: 0.9951 - loss: 0.0026 - precision: 0.9996 - recall: 0.9996\n",
      "Epoch 54/100\n",
      "\u001b[1m88/88\u001b[0m \u001b[32m━━━━━━━━━━━━━━━━━━━━\u001b[0m\u001b[37m\u001b[0m \u001b[1m2s\u001b[0m 28ms/step - accuracy: 0.9998 - f1_score: 0.9924 - loss: 0.0034 - precision: 0.9998 - recall: 0.9998\n",
      "Epoch 55/100\n",
      "\u001b[1m88/88\u001b[0m \u001b[32m━━━━━━━━━━━━━━━━━━━━\u001b[0m\u001b[37m\u001b[0m \u001b[1m2s\u001b[0m 17ms/step - accuracy: 0.9989 - f1_score: 0.9924 - loss: 0.0044 - precision: 0.9993 - recall: 0.9989\n",
      "Epoch 56/100\n",
      "\u001b[1m88/88\u001b[0m \u001b[32m━━━━━━━━━━━━━━━━━━━━\u001b[0m\u001b[37m\u001b[0m \u001b[1m2s\u001b[0m 18ms/step - accuracy: 1.0000 - f1_score: 0.9934 - loss: 0.0021 - precision: 1.0000 - recall: 1.0000\n",
      "Epoch 57/100\n",
      "\u001b[1m88/88\u001b[0m \u001b[32m━━━━━━━━━━━━━━━━━━━━\u001b[0m\u001b[37m\u001b[0m \u001b[1m2s\u001b[0m 18ms/step - accuracy: 0.9997 - f1_score: 0.9896 - loss: 0.0019 - precision: 0.9997 - recall: 0.9997\n",
      "Epoch 58/100\n",
      "\u001b[1m88/88\u001b[0m \u001b[32m━━━━━━━━━━━━━━━━━━━━\u001b[0m\u001b[37m\u001b[0m \u001b[1m2s\u001b[0m 17ms/step - accuracy: 0.9997 - f1_score: 0.9839 - loss: 0.0030 - precision: 0.9997 - recall: 0.9997\n",
      "Epoch 59/100\n",
      "\u001b[1m88/88\u001b[0m \u001b[32m━━━━━━━━━━━━━━━━━━━━\u001b[0m\u001b[37m\u001b[0m \u001b[1m2s\u001b[0m 17ms/step - accuracy: 0.9999 - f1_score: 0.9920 - loss: 0.0017 - precision: 0.9999 - recall: 0.9997\n",
      "Epoch 60/100\n",
      "\u001b[1m88/88\u001b[0m \u001b[32m━━━━━━━━━━━━━━━━━━━━\u001b[0m\u001b[37m\u001b[0m \u001b[1m2s\u001b[0m 17ms/step - accuracy: 0.9999 - f1_score: 0.9892 - loss: 0.0020 - precision: 0.9999 - recall: 0.9999\n",
      "Epoch 61/100\n",
      "\u001b[1m88/88\u001b[0m \u001b[32m━━━━━━━━━━━━━━━━━━━━\u001b[0m\u001b[37m\u001b[0m \u001b[1m2s\u001b[0m 17ms/step - accuracy: 0.9942 - f1_score: 0.9856 - loss: 0.0217 - precision: 0.9942 - recall: 0.9927\n",
      "Epoch 62/100\n",
      "\u001b[1m88/88\u001b[0m \u001b[32m━━━━━━━━━━━━━━━━━━━━\u001b[0m\u001b[37m\u001b[0m \u001b[1m2s\u001b[0m 17ms/step - accuracy: 0.9939 - f1_score: 0.9791 - loss: 0.0214 - precision: 0.9953 - recall: 0.9937\n",
      "Epoch 63/100\n",
      "\u001b[1m88/88\u001b[0m \u001b[32m━━━━━━━━━━━━━━━━━━━━\u001b[0m\u001b[37m\u001b[0m \u001b[1m2s\u001b[0m 17ms/step - accuracy: 0.9987 - f1_score: 0.9895 - loss: 0.0067 - precision: 0.9987 - recall: 0.9987\n",
      "Epoch 64/100\n",
      "\u001b[1m88/88\u001b[0m \u001b[32m━━━━━━━━━━━━━━━━━━━━\u001b[0m\u001b[37m\u001b[0m \u001b[1m2s\u001b[0m 18ms/step - accuracy: 0.9985 - f1_score: 0.9848 - loss: 0.0044 - precision: 0.9985 - recall: 0.9985\n",
      "Epoch 65/100\n",
      "\u001b[1m88/88\u001b[0m \u001b[32m━━━━━━━━━━━━━━━━━━━━\u001b[0m\u001b[37m\u001b[0m \u001b[1m2s\u001b[0m 20ms/step - accuracy: 0.9976 - f1_score: 0.9894 - loss: 0.0061 - precision: 0.9976 - recall: 0.9976\n",
      "Epoch 66/100\n",
      "\u001b[1m88/88\u001b[0m \u001b[32m━━━━━━━━━━━━━━━━━━━━\u001b[0m\u001b[37m\u001b[0m \u001b[1m2s\u001b[0m 26ms/step - accuracy: 0.9967 - f1_score: 0.9884 - loss: 0.0088 - precision: 0.9967 - recall: 0.9967\n",
      "Epoch 67/100\n",
      "\u001b[1m88/88\u001b[0m \u001b[32m━━━━━━━━━━━━━━━━━━━━\u001b[0m\u001b[37m\u001b[0m \u001b[1m2s\u001b[0m 25ms/step - accuracy: 0.9977 - f1_score: 0.9874 - loss: 0.0037 - precision: 0.9977 - recall: 0.9977\n",
      "Epoch 68/100\n",
      "\u001b[1m88/88\u001b[0m \u001b[32m━━━━━━━━━━━━━━━━━━━━\u001b[0m\u001b[37m\u001b[0m \u001b[1m2s\u001b[0m 26ms/step - accuracy: 0.9998 - f1_score: 0.9937 - loss: 0.0039 - precision: 0.9998 - recall: 0.9998\n",
      "Epoch 69/100\n",
      "\u001b[1m88/88\u001b[0m \u001b[32m━━━━━━━━━━━━━━━━━━━━\u001b[0m\u001b[37m\u001b[0m \u001b[1m3s\u001b[0m 28ms/step - accuracy: 0.9999 - f1_score: 0.9858 - loss: 0.0017 - precision: 0.9999 - recall: 0.9999\n",
      "Epoch 70/100\n",
      "\u001b[1m88/88\u001b[0m \u001b[32m━━━━━━━━━━━━━━━━━━━━\u001b[0m\u001b[37m\u001b[0m \u001b[1m2s\u001b[0m 25ms/step - accuracy: 0.9990 - f1_score: 0.9929 - loss: 0.0031 - precision: 0.9996 - recall: 0.9990\n",
      "Epoch 71/100\n",
      "\u001b[1m88/88\u001b[0m \u001b[32m━━━━━━━━━━━━━━━━━━━━\u001b[0m\u001b[37m\u001b[0m \u001b[1m3s\u001b[0m 32ms/step - accuracy: 0.9974 - f1_score: 0.9913 - loss: 0.0037 - precision: 0.9974 - recall: 0.9974\n",
      "Epoch 72/100\n",
      "\u001b[1m88/88\u001b[0m \u001b[32m━━━━━━━━━━━━━━━━━━━━\u001b[0m\u001b[37m\u001b[0m \u001b[1m4s\u001b[0m 39ms/step - accuracy: 0.9999 - f1_score: 0.9882 - loss: 0.0015 - precision: 0.9999 - recall: 0.9999\n",
      "Epoch 73/100\n",
      "\u001b[1m88/88\u001b[0m \u001b[32m━━━━━━━━━━━━━━━━━━━━\u001b[0m\u001b[37m\u001b[0m \u001b[1m3s\u001b[0m 30ms/step - accuracy: 1.0000 - f1_score: 0.9892 - loss: 0.0014 - precision: 1.0000 - recall: 1.0000\n",
      "Epoch 74/100\n",
      "\u001b[1m88/88\u001b[0m \u001b[32m━━━━━━━━━━━━━━━━━━━━\u001b[0m\u001b[37m\u001b[0m \u001b[1m3s\u001b[0m 28ms/step - accuracy: 0.9994 - f1_score: 0.9894 - loss: 0.0020 - precision: 0.9994 - recall: 0.9992\n",
      "Epoch 75/100\n",
      "\u001b[1m88/88\u001b[0m \u001b[32m━━━━━━━━━━━━━━━━━━━━\u001b[0m\u001b[37m\u001b[0m \u001b[1m2s\u001b[0m 24ms/step - accuracy: 0.9999 - f1_score: 0.9920 - loss: 0.0013 - precision: 0.9999 - recall: 0.9999\n",
      "Epoch 76/100\n",
      "\u001b[1m88/88\u001b[0m \u001b[32m━━━━━━━━━━━━━━━━━━━━\u001b[0m\u001b[37m\u001b[0m \u001b[1m2s\u001b[0m 26ms/step - accuracy: 1.0000 - f1_score: 0.9925 - loss: 0.0014 - precision: 1.0000 - recall: 1.0000\n",
      "Epoch 77/100\n",
      "\u001b[1m88/88\u001b[0m \u001b[32m━━━━━━━━━━━━━━━━━━━━\u001b[0m\u001b[37m\u001b[0m \u001b[1m3s\u001b[0m 31ms/step - accuracy: 0.9952 - f1_score: 0.9840 - loss: 0.0251 - precision: 0.9952 - recall: 0.9947\n",
      "Epoch 78/100\n",
      "\u001b[1m88/88\u001b[0m \u001b[32m━━━━━━━━━━━━━━━━━━━━\u001b[0m\u001b[37m\u001b[0m \u001b[1m3s\u001b[0m 39ms/step - accuracy: 0.9996 - f1_score: 0.9946 - loss: 0.0023 - precision: 0.9996 - recall: 0.9996\n",
      "Epoch 79/100\n",
      "\u001b[1m88/88\u001b[0m \u001b[32m━━━━━━━━━━━━━━━━━━━━\u001b[0m\u001b[37m\u001b[0m \u001b[1m3s\u001b[0m 31ms/step - accuracy: 0.9999 - f1_score: 0.9929 - loss: 0.0012 - precision: 0.9999 - recall: 0.9999\n",
      "Epoch 80/100\n",
      "\u001b[1m88/88\u001b[0m \u001b[32m━━━━━━━━━━━━━━━━━━━━\u001b[0m\u001b[37m\u001b[0m \u001b[1m3s\u001b[0m 33ms/step - accuracy: 0.9995 - f1_score: 0.9912 - loss: 0.0016 - precision: 0.9995 - recall: 0.9995\n",
      "Epoch 81/100\n",
      "\u001b[1m88/88\u001b[0m \u001b[32m━━━━━━━━━━━━━━━━━━━━\u001b[0m\u001b[37m\u001b[0m \u001b[1m3s\u001b[0m 33ms/step - accuracy: 0.9996 - f1_score: 0.9815 - loss: 0.0016 - precision: 0.9996 - recall: 0.9996\n",
      "Epoch 82/100\n",
      "\u001b[1m88/88\u001b[0m \u001b[32m━━━━━━━━━━━━━━━━━━━━\u001b[0m\u001b[37m\u001b[0m \u001b[1m3s\u001b[0m 33ms/step - accuracy: 0.9998 - f1_score: 0.9905 - loss: 0.0017 - precision: 0.9998 - recall: 0.9996\n",
      "Epoch 83/100\n",
      "\u001b[1m88/88\u001b[0m \u001b[32m━━━━━━━━━━━━━━━━━━━━\u001b[0m\u001b[37m\u001b[0m \u001b[1m3s\u001b[0m 33ms/step - accuracy: 0.9992 - f1_score: 0.9934 - loss: 0.0021 - precision: 0.9992 - recall: 0.9992\n",
      "Epoch 84/100\n",
      "\u001b[1m88/88\u001b[0m \u001b[32m━━━━━━━━━━━━━━━━━━━━\u001b[0m\u001b[37m\u001b[0m \u001b[1m3s\u001b[0m 36ms/step - accuracy: 1.0000 - f1_score: 0.9897 - loss: 0.0012 - precision: 1.0000 - recall: 1.0000\n",
      "Epoch 85/100\n",
      "\u001b[1m88/88\u001b[0m \u001b[32m━━━━━━━━━━━━━━━━━━━━\u001b[0m\u001b[37m\u001b[0m \u001b[1m3s\u001b[0m 32ms/step - accuracy: 0.9996 - f1_score: 0.9866 - loss: 0.0018 - precision: 0.9996 - recall: 0.9996\n",
      "Epoch 86/100\n",
      "\u001b[1m88/88\u001b[0m \u001b[32m━━━━━━━━━━━━━━━━━━━━\u001b[0m\u001b[37m\u001b[0m \u001b[1m2s\u001b[0m 26ms/step - accuracy: 0.9995 - f1_score: 0.9894 - loss: 0.0018 - precision: 0.9995 - recall: 0.9995\n",
      "Epoch 87/100\n",
      "\u001b[1m88/88\u001b[0m \u001b[32m━━━━━━━━━━━━━━━━━━━━\u001b[0m\u001b[37m\u001b[0m \u001b[1m3s\u001b[0m 29ms/step - accuracy: 1.0000 - f1_score: 0.9939 - loss: 7.5553e-04 - precision: 1.0000 - recall: 1.0000\n",
      "Epoch 88/100\n",
      "\u001b[1m88/88\u001b[0m \u001b[32m━━━━━━━━━━━━━━━━━━━━\u001b[0m\u001b[37m\u001b[0m \u001b[1m2s\u001b[0m 22ms/step - accuracy: 0.9992 - f1_score: 0.9871 - loss: 0.0014 - precision: 0.9992 - recall: 0.9992\n",
      "Epoch 89/100\n",
      "\u001b[1m88/88\u001b[0m \u001b[32m━━━━━━━━━━━━━━━━━━━━\u001b[0m\u001b[37m\u001b[0m \u001b[1m2s\u001b[0m 17ms/step - accuracy: 0.9999 - f1_score: 0.9948 - loss: 0.0015 - precision: 1.0000 - recall: 0.9999\n",
      "Epoch 90/100\n",
      "\u001b[1m88/88\u001b[0m \u001b[32m━━━━━━━━━━━━━━━━━━━━\u001b[0m\u001b[37m\u001b[0m \u001b[1m2s\u001b[0m 19ms/step - accuracy: 0.9993 - f1_score: 0.9898 - loss: 0.0018 - precision: 0.9993 - recall: 0.9993\n",
      "Epoch 91/100\n",
      "\u001b[1m88/88\u001b[0m \u001b[32m━━━━━━━━━━━━━━━━━━━━\u001b[0m\u001b[37m\u001b[0m \u001b[1m2s\u001b[0m 19ms/step - accuracy: 0.9987 - f1_score: 0.9881 - loss: 0.0028 - precision: 0.9987 - recall: 0.9987\n",
      "Epoch 92/100\n",
      "\u001b[1m88/88\u001b[0m \u001b[32m━━━━━━━━━━━━━━━━━━━━\u001b[0m\u001b[37m\u001b[0m \u001b[1m2s\u001b[0m 22ms/step - accuracy: 0.9991 - f1_score: 0.9892 - loss: 0.0032 - precision: 0.9991 - recall: 0.9986\n",
      "Epoch 93/100\n",
      "\u001b[1m88/88\u001b[0m \u001b[32m━━━━━━━━━━━━━━━━━━━━\u001b[0m\u001b[37m\u001b[0m \u001b[1m2s\u001b[0m 21ms/step - accuracy: 0.9990 - f1_score: 0.9905 - loss: 0.0031 - precision: 0.9993 - recall: 0.9990\n",
      "Epoch 94/100\n",
      "\u001b[1m88/88\u001b[0m \u001b[32m━━━━━━━━━━━━━━━━━━━━\u001b[0m\u001b[37m\u001b[0m \u001b[1m2s\u001b[0m 21ms/step - accuracy: 0.9997 - f1_score: 0.9853 - loss: 8.8328e-04 - precision: 0.9998 - recall: 0.9997\n",
      "Epoch 95/100\n",
      "\u001b[1m88/88\u001b[0m \u001b[32m━━━━━━━━━━━━━━━━━━━━\u001b[0m\u001b[37m\u001b[0m \u001b[1m2s\u001b[0m 25ms/step - accuracy: 0.9983 - f1_score: 0.9892 - loss: 0.0035 - precision: 0.9983 - recall: 0.9983\n",
      "Epoch 96/100\n",
      "\u001b[1m88/88\u001b[0m \u001b[32m━━━━━━━━━━━━━━━━━━━━\u001b[0m\u001b[37m\u001b[0m \u001b[1m2s\u001b[0m 20ms/step - accuracy: 0.9997 - f1_score: 0.9918 - loss: 0.0017 - precision: 0.9997 - recall: 0.9997\n",
      "Epoch 97/100\n",
      "\u001b[1m88/88\u001b[0m \u001b[32m━━━━━━━━━━━━━━━━━━━━\u001b[0m\u001b[37m\u001b[0m \u001b[1m2s\u001b[0m 20ms/step - accuracy: 0.9997 - f1_score: 0.9895 - loss: 0.0014 - precision: 0.9997 - recall: 0.9997\n",
      "Epoch 98/100\n",
      "\u001b[1m88/88\u001b[0m \u001b[32m━━━━━━━━━━━━━━━━━━━━\u001b[0m\u001b[37m\u001b[0m \u001b[1m2s\u001b[0m 23ms/step - accuracy: 1.0000 - f1_score: 0.9916 - loss: 8.0902e-04 - precision: 1.0000 - recall: 1.0000\n",
      "Epoch 99/100\n",
      "\u001b[1m88/88\u001b[0m \u001b[32m━━━━━━━━━━━━━━━━━━━━\u001b[0m\u001b[37m\u001b[0m \u001b[1m2s\u001b[0m 18ms/step - accuracy: 0.9991 - f1_score: 0.9864 - loss: 0.0016 - precision: 0.9991 - recall: 0.9991\n",
      "Epoch 100/100\n",
      "\u001b[1m88/88\u001b[0m \u001b[32m━━━━━━━━━━━━━━━━━━━━\u001b[0m\u001b[37m\u001b[0m \u001b[1m2s\u001b[0m 17ms/step - accuracy: 0.9997 - f1_score: 0.9900 - loss: 8.4548e-04 - precision: 0.9997 - recall: 0.9997\n"
     ]
    },
    {
     "data": {
      "text/plain": [
       "<keras.src.callbacks.history.History at 0x24540ba1300>"
      ]
     },
     "execution_count": 10,
     "metadata": {},
     "output_type": "execute_result"
    }
   ],
   "source": [
    "model.fit(padded_sequences, targets, epochs=epochs, verbose=1)"
   ]
  },
  {
   "cell_type": "code",
   "execution_count": 11,
   "metadata": {},
   "outputs": [],
   "source": [
    "# x_train.shape"
   ]
  },
  {
   "cell_type": "code",
   "execution_count": 12,
   "metadata": {},
   "outputs": [],
   "source": [
    "# print(\"Model Input Shape:\", model.input_shape)\n",
    "# print(\"X_test shape\", x_test.shape)\n",
    "# print(x_test.dtype)\n",
    "# print(x_test)"
   ]
  },
  {
   "cell_type": "code",
   "execution_count": 13,
   "metadata": {},
   "outputs": [],
   "source": [
    "# Run a simple prediction with a smaller subset\n",
    "# sample_input = x_test[:1]  # Take a single sample\n",
    "# print(\"Sample input shape:\", sample_input.shape)\n",
    "# print(\"Sample input shape:\", sample_input.shape)\n",
    "# sample_prediction = model.predict(sample_input)\n",
    "# print(\"Sample prediction:\", sample_prediction)\n",
    "\n",
    "# # Check the model summary\n",
    "# model.summary()"
   ]
  },
  {
   "cell_type": "code",
   "execution_count": 14,
   "metadata": {},
   "outputs": [],
   "source": [
    "# try:\n",
    "#     predictions = model.predict(x_test)\n",
    "#     print(\"Predictions shape:\", predictions.shape)\n",
    "# except Exception as e:\n",
    "#     print(\"Error during prediction on entire dataset:\", e)\n",
    "# print(\"Checking for NaNs in x_test:\", np.isnan(x_test).any())\n",
    "# print(\"Checking for infs in x_test:\", np.isinf(x_test).any())\n",
    "# print(\"x_test mean:\", np.mean(x_test))\n",
    "# print(\"x_test std deviation:\", np.std(x_test))"
   ]
  },
  {
   "cell_type": "code",
   "execution_count": 15,
   "metadata": {},
   "outputs": [],
   "source": [
    "# predictions = []\n",
    "# for test_example in x_test:\n",
    "#     test_example = test_example.reshape(1, -1)\n",
    "#     print(\"Test example shape:\", test_example.shape)\n",
    "#     predictions = model.predict(test_example)\n",
    "\n",
    "# print(x_test.shape)\n",
    "# # x_test = x_test.reshape(x_test.shape[0], x_test.shape[1])\n",
    "# # print(x_test.shape)\n",
    "# # print(x_test.reshape(1, -1).shape)\n",
    "# # x_test_final = []\n",
    "# # for test in x_test:\n",
    "# #     test = test.reshape(1, -1)\n",
    "# #     print(test.shape)\n",
    "# #     x_test_final.append(test)\n",
    "\n",
    "# # print(\"X_test_final shape:\", x_test_final[0].shape)\n",
    "\n",
    "# print(x_test[0])\n",
    "# print(x_test[:1])\n",
    "# print(x_test[:1].shape)\n",
    "\n",
    "# print(x_test.shape)"
   ]
  },
  {
   "cell_type": "markdown",
   "metadata": {},
   "source": [
    "#### 6. Testing the Model"
   ]
  },
  {
   "cell_type": "code",
   "execution_count": 32,
   "metadata": {},
   "outputs": [
    {
     "name": "stdout",
     "output_type": "stream",
     "text": [
      "\u001b[1m1/1\u001b[0m \u001b[32m━━━━━━━━━━━━━━━━━━━━\u001b[0m\u001b[37m\u001b[0m \u001b[1m0s\u001b[0m 19ms/step\n",
      "Predicted Intent: Variable Declaration\n"
     ]
    }
   ],
   "source": [
    "user = input(\"Sentence:\")\n",
    "\n",
    "test_sequences = tokenizer.texts_to_sequences([user])\n",
    "\n",
    "test_padded_sequences = keras.preprocessing.sequence.pad_sequences(test_sequences, padding='pre')\n",
    "\n",
    "predictions = model.predict(test_padded_sequences)\n",
    "\n",
    "predicted_intent_index = np.argmax(predictions)\n",
    "\n",
    "predicted_intent = index_to_intent[predicted_intent_index]\n",
    "\n",
    "print(f\"Predicted Intent: {predicted_intent}\")"
   ]
  },
  {
   "cell_type": "code",
   "execution_count": 17,
   "metadata": {},
   "outputs": [],
   "source": [
    "# model.save(\"./models/full_intent_detection_model.h5\")\n",
    "model.save(\"./models/full_intent_detection_model.keras\")"
   ]
  },
  {
   "cell_type": "code",
   "execution_count": 18,
   "metadata": {},
   "outputs": [],
   "source": [
    "# import tensorflow as tf\n",
    "# import tf2onnx\n",
    "\n",
    "# # Load your TensorFlow model\n",
    "# model = tf.keras.models.load_model('models\\intent_detection_model.keras')\n",
    "\n",
    "# # Convert the model to ONNX format\n",
    "# spec = (tf.TensorSpec((None, *model.input_shape[1:]), tf.float32, name=\"input\"),)\n",
    "# output_path = \"../models/intent_detection.onnx\"\n",
    "# model_proto, _ = tf2onnx.convert.from_keras(model, input_signature=spec, output_path=output_path)\n",
    "\n",
    "# # Save the ONNX model\n",
    "# with open(output_path, \"wb\") as f:\n",
    "#     f.write(model_proto.SerializeToString())\n"
   ]
  },
  {
   "cell_type": "code",
   "execution_count": 19,
   "metadata": {},
   "outputs": [],
   "source": [
    "# import tensorflow as tf\n",
    "# import tf2onnx\n",
    "# import numpy as np\n",
    "\n",
    "# # Define or load your Sequential model\n",
    "# model = tf.keras.models.Sequential([\n",
    "#     tf.keras.layers.Dense(10, activation='relu', input_shape=(784,)),\n",
    "#     tf.keras.layers.Dense(10, activation='softmax')\n",
    "# ])\n",
    "\n",
    "# # Provide a dummy input to the model for shape inference\n",
    "# spec = (tf.TensorSpec((None, 784), tf.float32, name=\"input\"),)\n",
    "\n",
    "# # Convert the model to ONNX format\n",
    "# output_path = \"path/to/save/model.onnx\"\n",
    "# # model_proto, _ = tf2onnx.convert.from_keras(model, input_signature=spec, output_path=output_path)\n",
    "# model_proto, _ = tf2onnx.convert.from_keras(model, input_signature=spec, output_path=output_path)\n",
    "\n",
    "# # Save the ONNX model\n",
    "# with open(output_path, \"wb\") as f:\n",
    "#     f.write(model_proto.SerializeToString())\n"
   ]
  },
  {
   "cell_type": "code",
   "execution_count": 34,
   "metadata": {},
   "outputs": [
    {
     "name": "stdout",
     "output_type": "stream",
     "text": [
      "\u001b[1m1/1\u001b[0m \u001b[32m━━━━━━━━━━━━━━━━━━━━\u001b[0m\u001b[37m\u001b[0m \u001b[1m0s\u001b[0m 240ms/step\n",
      "Predicted Intent: Output\n"
     ]
    }
   ],
   "source": [
    "loaded_model = tf.keras.models.load_model('models/full_intent_detection_model.keras')\n",
    "\n",
    "user_input = 'output the variable name to the user'\n",
    "\n",
    "test_sequences = tokenizer.texts_to_sequences([user_input])\n",
    "\n",
    "test_padded_sequences = keras.preprocessing.sequence.pad_sequences(test_sequences, padding='pre')\n",
    "\n",
    "predictions = loaded_model.predict(test_padded_sequences)\n",
    "\n",
    "predicted_intent_index = np.argmax(predictions)\n",
    "\n",
    "predicted_intent = index_to_intent[predicted_intent_index]\n",
    "\n",
    "print(f\"Predicted Intent: {predicted_intent}\")"
   ]
  },
  {
   "cell_type": "code",
   "execution_count": 21,
   "metadata": {},
   "outputs": [],
   "source": [
    "loaded_model = tf.keras.models.load_model('models/full_intent_detection_model.keras')\n"
   ]
  },
  {
   "cell_type": "code",
   "execution_count": 22,
   "metadata": {},
   "outputs": [
    {
     "name": "stdout",
     "output_type": "stream",
     "text": [
      "\u001b[1m1/1\u001b[0m \u001b[32m━━━━━━━━━━━━━━━━━━━━\u001b[0m\u001b[37m\u001b[0m \u001b[1m0s\u001b[0m 260ms/step\n",
      "Predicted Intent: Bitwise Operation\n",
      "\u001b[1m1/1\u001b[0m \u001b[32m━━━━━━━━━━━━━━━━━━━━\u001b[0m\u001b[37m\u001b[0m \u001b[1m0s\u001b[0m 21ms/step\n",
      "Predicted Intent: Bitwise Operation\n",
      "\u001b[1m1/1\u001b[0m \u001b[32m━━━━━━━━━━━━━━━━━━━━\u001b[0m\u001b[37m\u001b[0m \u001b[1m0s\u001b[0m 442ms/step\n",
      "Predicted Intent: Bitwise Operation\n",
      "\u001b[1m1/1\u001b[0m \u001b[32m━━━━━━━━━━━━━━━━━━━━\u001b[0m\u001b[37m\u001b[0m \u001b[1m0s\u001b[0m 29ms/step\n",
      "Predicted Intent: Bitwise Operation\n",
      "\u001b[1m1/1\u001b[0m \u001b[32m━━━━━━━━━━━━━━━━━━━━\u001b[0m\u001b[37m\u001b[0m \u001b[1m0s\u001b[0m 21ms/step\n",
      "Predicted Intent: Bitwise Operation\n",
      "\u001b[1m1/1\u001b[0m \u001b[32m━━━━━━━━━━━━━━━━━━━━\u001b[0m\u001b[37m\u001b[0m \u001b[1m0s\u001b[0m 18ms/step\n",
      "Predicted Intent: Bitwise Operation\n",
      "\u001b[1m1/1\u001b[0m \u001b[32m━━━━━━━━━━━━━━━━━━━━\u001b[0m\u001b[37m\u001b[0m \u001b[1m0s\u001b[0m 22ms/step\n",
      "Predicted Intent: Bitwise Operation\n",
      "\u001b[1m1/1\u001b[0m \u001b[32m━━━━━━━━━━━━━━━━━━━━\u001b[0m\u001b[37m\u001b[0m \u001b[1m0s\u001b[0m 19ms/step\n",
      "Predicted Intent: Bitwise Operation\n",
      "\u001b[1m1/1\u001b[0m \u001b[32m━━━━━━━━━━━━━━━━━━━━\u001b[0m\u001b[37m\u001b[0m \u001b[1m0s\u001b[0m 18ms/step\n",
      "Predicted Intent: Bitwise Operation\n",
      "\u001b[1m1/1\u001b[0m \u001b[32m━━━━━━━━━━━━━━━━━━━━\u001b[0m\u001b[37m\u001b[0m \u001b[1m0s\u001b[0m 19ms/step\n",
      "Predicted Intent: Bitwise Operation\n",
      "\u001b[1m1/1\u001b[0m \u001b[32m━━━━━━━━━━━━━━━━━━━━\u001b[0m\u001b[37m\u001b[0m \u001b[1m0s\u001b[0m 19ms/step\n",
      "Predicted Intent: Bitwise Operation\n"
     ]
    }
   ],
   "source": [
    "sentences =[\n",
    "    \"bitwise x and y\",\n",
    "    \"bitwise x or y\",\n",
    "    \"perform bitwise and on number and 10\",\n",
    "    \"perform bitwise or on number and 10\",\n",
    "    \"shift left x by 2\",\n",
    "    \"shift right x by 2\",\n",
    "    \"shift x left by 2\",\n",
    "    \"shift x right by 2\",\n",
    "    \"xor x and y\",\n",
    "    \"perform bitwise xor on x and y\",\n",
    "    \"perform bitwise xor on x and 10\"\n",
    "]\n",
    "for sentence in sentences:\n",
    "    test_sequences = tokenizer.texts_to_sequences([sentence])\n",
    "\n",
    "    test_padded_sequences = keras.preprocessing.sequence.pad_sequences(test_sequences, padding='pre')\n",
    "\n",
    "    predictions = loaded_model.predict(test_padded_sequences)\n",
    "\n",
    "    predicted_intent_index = np.argmax(predictions)\n",
    "\n",
    "    predicted_intent = index_to_intent[predicted_intent_index]\n",
    "\n",
    "    print(f\"Predicted Intent: {predicted_intent}\")"
   ]
  }
 ],
 "metadata": {
  "kernelspec": {
   "display_name": "Python 3",
   "language": "python",
   "name": "python3"
  },
  "language_info": {
   "codemirror_mode": {
    "name": "ipython",
    "version": 3
   },
   "file_extension": ".py",
   "mimetype": "text/x-python",
   "name": "python",
   "nbconvert_exporter": "python",
   "pygments_lexer": "ipython3",
   "version": "3.10.9"
  }
 },
 "nbformat": 4,
 "nbformat_minor": 2
}
