{
 "cells": [
  {
   "cell_type": "markdown",
   "metadata": {},
   "source": [
    "### Trial 2\n",
    "#### Reference: https://medium.com/@reynxzz/building-a-smart-chatbot-with-intent-classification-and-named-entity-recognition-travelah-a-case-ee905f23fd9d\n",
    "1. Intent Deteecion Model: ALBERT + CNN\n",
    "    - 21 Intents\n",
    "2. Named Entity Recognition Model: spaCy\n",
    "    Entities:\n",
    "    - Variable Declaration:\n",
    "        - VARIABLE_NAME\n",
    "        - VARIABLE_VALUE\n",
    "        - VARIABLE_TYPE (optional)\n",
    "    - Function Declaration:\n",
    "        - FUNCTION_NAME\n",
    "        - PARAMETER\n",
    "        - RETURN_TYPE (python: optioanl)\n",
    "    - Class Declaration:\n",
    "        - CLASS_NAME\n",
    "        - SUPER_CLASS (optional)\n",
    "    - Assignment Operation: example -> x = expr\n",
    "        - VARIABLE\n",
    "        - EXPRESSION:\n",
    "            1. another variable\n",
    "            2. value\n",
    "            3. expression\n",
    "    - Conditional Statement: \n",
    "        - CONDITION (EXPR1 OPERATOR EXPR2)\n",
    "        - BODY -> (divided still msh 3arfa ezay)\n",
    "    - Iterative Operation:\n",
    "        - CONDITION (EXPR1 OPERATOR EXPR2)\n",
    "        - TYPE (for or while)\n",
    "        - BODY\n",
    "    - Array Operation\n",
    "    - Bitwise Operation\n",
    "    - Logical Operaion\n",
    "    - Comparison Operation\n",
    "    - Mathematical Operation\n",
    "    - Identity Operation\n",
    "    - Membership Operation\n",
    "    - Casting\n",
    "        - VARIABLE_NAME\n",
    "        - VARIABLE_TYPE\n",
    "    - Datatypes\n",
    "        - TYPE\n",
    "    - Exception Handling\n",
    "        - TRY_PHRASE\n",
    "        - CATCH_PHRASE\n",
    "    - I/O Operation\n",
    "    - Assertion\n",
    "        - VARIABLE_NAME\n",
    "        - EXPRESSION\n",
    "    - Libraries\n",
    "        - LIBRARY_NAME\n",
    "        - SUB_NAME (optional)\n",
    "\n",
    "\n",
    "Questions:\n",
    "1. Does 21 intents with different entities mean 21 different NER models?\n",
    "2. Single statement with different intents?\n",
    "\n",
    "    \n"
   ]
  },
  {
   "cell_type": "markdown",
   "metadata": {},
   "source": [
    "##"
   ]
  },
  {
   "cell_type": "markdown",
   "metadata": {},
   "source": [
    "## **1. Intent Detection Model**\n"
   ]
  },
  {
   "cell_type": "code",
   "execution_count": null,
   "metadata": {},
   "outputs": [],
   "source": []
  },
  {
   "cell_type": "markdown",
   "metadata": {},
   "source": [
    "## **2. Entity Extraction Model**"
   ]
  }
 ],
 "metadata": {
  "language_info": {
   "name": "python"
  }
 },
 "nbformat": 4,
 "nbformat_minor": 2
}
