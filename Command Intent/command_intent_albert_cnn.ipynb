{
 "cells": [
  {
   "cell_type": "markdown",
   "metadata": {},
   "source": [
    "### Trial 2\n",
    "#### Reference: https://medium.com/@reynxzz/building-a-smart-chatbot-with-intent-classification-and-named-entity-recognition-travelah-a-case-ee905f23fd9d\n",
    "1. Intent Deteecion Model: ALBERT + CNN\n",
    "    - 21 Intents\n",
    "2. Named Entity Recognition Model: spaCy\n",
    "    Entities:\n",
    "    - Variable Declaration:\n",
    "        - VARIABLE_NAME\n",
    "        - VARIABLE_VALUE\n",
    "        - VARIABLE_TYPE (optional)\n",
    "    - Function Declaration:\n",
    "        - FUNCTION_NAME\n",
    "        - PARAMETER\n",
    "        - RETURN_TYPE (python: optioanl)\n",
    "    - Class Declaration:\n",
    "        - CLASS_NAME\n",
    "        - SUPER_CLASS (optional)\n",
    "    - Assignment Operation: example -> x = expr\n",
    "        - VARIABLE\n",
    "        - EXPRESSION:\n",
    "            1. another variable\n",
    "            2. value\n",
    "            3. expression\n",
    "    - Conditional Statement: \n",
    "        - CONDITION (EXPR1 OPERATOR EXPR2)\n",
    "    - Iterative Operation:\n",
    "        - CONDITION (while)\n",
    "        - START/STOP (for)\n",
    "        - TYPE (for or while)\n",
    "        - LIST (for loop)\n",
    "    - Array Operation:\n",
    "        - ARRAY\n",
    "        - OPERATION\n",
    "        - VALUE (optional)\n",
    "    - Bitwise Operation\n",
    "    - Logical Operaion\n",
    "    - Comparison Operation\n",
    "    - Mathematical Operation\n",
    "    - Identity Operation\n",
    "    - Membership Operation\n",
    "    - Casting\n",
    "        - VARIABLE_NAME\n",
    "        - VARIABLE_TYPE\n",
    "    - Datatypes\n",
    "        - TYPE\n",
    "    - Exception Handling\n",
    "        - TRY_PHRASE\n",
    "        - CATCH_PHRASE\n",
    "    - I/O Operation\n",
    "    - Assertion\n",
    "        - VARIABLE_NAME\n",
    "        - EXPRESSION\n",
    "    - Libraries\n",
    "        - LIBRARY_NAME\n",
    "        - SUB_NAME (optional)\n",
    "\n",
    "\n",
    "Questions:\n",
    "1. Does 21 intents with different entities mean 21 different NER models?\n",
    "2. Single statement with different intents?\n",
    "\n",
    "    \n"
   ]
  },
  {
   "cell_type": "markdown",
   "metadata": {},
   "source": [
    "##"
   ]
  },
  {
   "cell_type": "markdown",
   "metadata": {},
   "source": [
    "#### Array Operations\n",
    "max\n",
    "min, sum, append, extend, sort, reverse, len, remove, clear"
   ]
  },
  {
   "cell_type": "code",
   "execution_count": 1,
   "metadata": {},
   "outputs": [
    {
     "name": "stdout",
     "output_type": "stream",
     "text": [
      "WARNING:tensorflow:From c:\\Users\\yazmi\\AppData\\Local\\Programs\\Python\\Python310\\lib\\site-packages\\keras\\src\\losses.py:2976: The name tf.losses.sparse_softmax_cross_entropy is deprecated. Please use tf.compat.v1.losses.sparse_softmax_cross_entropy instead.\n",
      "\n"
     ]
    }
   ],
   "source": [
    "# IMPORTS\n",
    "import os\n",
    "import json\n",
    "import tensorflow as tf\n",
    "import numpy as np"
   ]
  },
  {
   "cell_type": "markdown",
   "metadata": {},
   "source": [
    "## **1. Intent Detection Model**\n",
    "\n",
    "ALBERT: a lighter and faster variant of BERT, designed to be more efficient while retaining performance. -> word embeddings\n",
    "\n",
    "CNN: excellent for extracting local features and patterns in the data. \n"
   ]
  },
  {
   "cell_type": "code",
   "execution_count": 5,
   "metadata": {},
   "outputs": [
    {
     "name": "stdout",
     "output_type": "stream",
     "text": [
      "declare a new variable number of type double and assign to it\n"
     ]
    }
   ],
   "source": [
    "def clean(line):\n",
    "    cleaned_line = ''\n",
    "    for char in line:\n",
    "        if char.isalpha():\n",
    "            cleaned_line += char\n",
    "        else:\n",
    "            cleaned_line += ' '\n",
    "    cleaned_line = ' '.join(cleaned_line.split())\n",
    "    return cleaned_line"
   ]
  },
  {
   "cell_type": "code",
   "execution_count": 12,
   "metadata": {},
   "outputs": [
    {
     "name": "stdout",
     "output_type": "stream",
     "text": [
      "Unique intents: ['Varibale Declaration', 'Function Declaration', 'Class Declaration', 'Assignment Operation', 'Conditional Statement', 'Iterative Statement', 'Array Operation', 'Bitwise Operation', 'Mathematical Operation', 'Membership Operation', 'Casting', 'I/O Operation', 'Assertion', 'Libraries']\n",
      "Number of intents: 14\n",
      "Number of corpus sentences: 340\n",
      "Number of responses: 14\n",
      "Sample response: Variable declaration intent detected\n"
     ]
    },
    {
     "ename": "",
     "evalue": "",
     "output_type": "error",
     "traceback": [
      "\u001b[1;31mThe Kernel crashed while executing code in the current cell or a previous cell. \n",
      "\u001b[1;31mPlease review the code in the cell(s) to identify a possible cause of the failure. \n",
      "\u001b[1;31mClick <a href='https://aka.ms/vscodeJupyterKernelCrash'>here</a> for more info. \n",
      "\u001b[1;31mView Jupyter <a href='command:jupyter.viewOutput'>log</a> for further details."
     ]
    }
   ],
   "source": [
    "# Extract the data from the dataset\n",
    "\n",
    "# load the dataset\n",
    "with open('final_intents.json', 'r') as intent_file:\n",
    "    dataset = json.load(intent_file)\n",
    "\n",
    "intents = []\n",
    "unique_intents = []\n",
    "responses = []\n",
    "corpus_intents = []\n",
    "\n",
    "for intent in dataset['intents']:\n",
    "    unique_intents.append(intent['intent'])\n",
    "    responses.extend(intent['responses'])\n",
    "\n",
    "    for keyword in intent['keywords']:\n",
    "        cleaned_keyword = clean(keyword)\n",
    "        corpus_intents.append((cleaned_keyword, intent['intent']))\n",
    "        intents.append(intent['intent'])\n",
    "\n",
    "print(\"Unique intents:\", unique_intents)\n",
    "print(\"Number of intents:\", len(unique_intents))\n",
    "print(\"Number of corpus sentences:\", len(corpus_intents))\n",
    "print(\"Number of responses:\", len(responses))\n",
    "print(\"Sample response:\", responses[0])\n"
   ]
  },
  {
   "cell_type": "code",
   "execution_count": null,
   "metadata": {},
   "outputs": [],
   "source": []
  },
  {
   "cell_type": "markdown",
   "metadata": {},
   "source": [
    "## **2. Entity Extraction Model**"
   ]
  },
  {
   "cell_type": "code",
   "execution_count": null,
   "metadata": {},
   "outputs": [],
   "source": []
  }
 ],
 "metadata": {
  "kernelspec": {
   "display_name": "Python 3",
   "language": "python",
   "name": "python3"
  },
  "language_info": {
   "codemirror_mode": {
    "name": "ipython",
    "version": 3
   },
   "file_extension": ".py",
   "mimetype": "text/x-python",
   "name": "python",
   "nbconvert_exporter": "python",
   "pygments_lexer": "ipython3",
   "version": "3.10.9"
  }
 },
 "nbformat": 4,
 "nbformat_minor": 2
}
