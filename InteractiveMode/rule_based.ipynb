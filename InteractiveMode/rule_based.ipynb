{
 "cells": [
  {
   "cell_type": "code",
   "execution_count": 3,
   "metadata": {},
   "outputs": [],
   "source": [
    "# Importing modules\n",
    "import re\n",
    "from nltk.corpus import wordnet"
   ]
  },
  {
   "cell_type": "code",
   "execution_count": 4,
   "metadata": {},
   "outputs": [
    {
     "name": "stdout",
     "output_type": "stream",
     "text": [
      "{'if': {'providing that', 'if condition', 'assuming that', 'provided that', 'in case', 'if and only if', 'in the event that', 'supposing that', 'only if', 'presuming that', 'on condition that', 'if'}, 'while': {'whilst', 'while', 'as long as', 'during the time that', 'at the same time that'}}\n"
     ]
    }
   ],
   "source": [
    "# Building a list of Keywords\n",
    "list_words = [\"hello\", \"timings\", \"sadness\", \"condition\"]\n",
    "list_syn = {}\n",
    "for word in list_words:\n",
    "    synonyms = []\n",
    "    for syn in wordnet.synsets(word):\n",
    "        for lem in syn.lemmas():\n",
    "            # Remove any special characters from synonym strings\n",
    "            lem_name = re.sub(\"[^a-zA-Z0-9 \\n\\.]\", \" \", lem.name())\n",
    "            synonyms.append(lem_name)\n",
    "    list_syn[word] = set(synonyms)\n",
    "\n",
    "list_syn = {\n",
    "    \"if\": {\n",
    "        \"if\",\n",
    "        \"if condition\",\n",
    "        \"in case\",\n",
    "        \"in the event that\",\n",
    "        \"assuming that\",\n",
    "        \"on condition that\",\n",
    "        \"provided that\",\n",
    "        \"providing that\",\n",
    "        \"presuming that\",\n",
    "        \"supposing that\",\n",
    "        \"in the event that\",\n",
    "        \"in case\",\n",
    "        \"if and only if\",\n",
    "        \"only if\",\n",
    "        \"in the event that\",\n",
    "        \"in case\",\n",
    "    },\n",
    "    \"while\": {\n",
    "        \"while\",\n",
    "        \"whilst\",\n",
    "        \"during the time that\",\n",
    "        \"as long as\",\n",
    "        \"at the same time that\",\n",
    "        \"during the time that\",\n",
    "        \"as long as\",\n",
    "        \"at the same time that\",\n",
    "        \"during the time that\",\n",
    "        \"as long as\",\n",
    "        \"at the same time that\",\n",
    "        \"during the time that\",\n",
    "        \"as long as\",\n",
    "        \"at the same time that\",\n",
    "        \"during the time that\",\n",
    "        \"as long as\",\n",
    "        \"at the same time that\",\n",
    "        \"during the time that\",\n",
    "        \"as long as\",\n",
    "        \"at the same time that\",\n",
    "    },\n",
    "}\n",
    "print(list_syn)"
   ]
  },
  {
   "cell_type": "code",
   "execution_count": 5,
   "metadata": {},
   "outputs": [
    {
     "name": "stdout",
     "output_type": "stream",
     "text": [
      "{'if': re.compile('.*\\\\bproviding that\\\\b.*|.*\\\\bif condition\\\\b.*|.*\\\\bassuming that\\\\b.*|.*\\\\bprovided that\\\\b.*|.*\\\\bin case\\\\b.*|.*\\\\bif and only if\\\\b.*|.*\\\\bin the event that\\\\b.*|.*\\\\bsupposing that\\\\b.*|.*\\\\bon), 'while': re.compile('.*\\\\bwhilst\\\\b.*|.*\\\\bwhile\\\\b.*|.*\\\\bas long as\\\\b.*|.*\\\\bduring the time that\\\\b.*|.*\\\\bat the same time that\\\\b.*')}\n"
     ]
    }
   ],
   "source": [
    "# Building dictionary of Intents & Keywords\n",
    "keywords = {}\n",
    "keywords_dict = {}\n",
    "# Defining a new key in the keywords dictionary\n",
    "keywords[\"if\"] = []\n",
    "# Populating the values in the keywords dictionary with synonyms of keywords formatted with RegEx metacharacters\n",
    "for synonym in list(list_syn[\"if\"]):\n",
    "    keywords[\"if\"].append(\".*\\\\b\" + synonym + \"\\\\b.*\")\n",
    "\n",
    "# Defining a new key in the keywords dictionary\n",
    "keywords[\"while\"] = []\n",
    "# Populating the values in the keywords dictionary with synonyms of keywords formatted with RegEx metacharacters\n",
    "for synonym in list(list_syn[\"while\"]):\n",
    "    keywords[\"while\"].append(\".*\\\\b\" + synonym + \"\\\\b.*\")\n",
    "for intent, keys in keywords.items():\n",
    "    # Joining the values in the keywords dictionary with the OR (|) operator updating them in keywords_dict dictionary\n",
    "    keywords_dict[intent] = re.compile(\"|\".join(keys))\n",
    "print(keywords_dict)"
   ]
  },
  {
   "cell_type": "code",
   "execution_count": 7,
   "metadata": {},
   "outputs": [],
   "source": [
    "# Building a dictionary of responses\n",
    "responses = {\n",
    "    \"if\": \"I added an if condition at line %d\",\n",
    "    \"while\": \"I added a while loop at line %d\",\n",
    "    \"fallback\": \"I dont quite understand. Could you repeat that?\",\n",
    "}"
   ]
  },
  {
   "cell_type": "code",
   "execution_count": 13,
   "metadata": {},
   "outputs": [
    {
     "name": "stdout",
     "output_type": "stream",
     "text": [
      "Welcome to Robin. How may I help you?\n",
      "I added an if condition at line 5\n",
      "I added a while loop at line 5\n",
      "Thank you for visiting.\n"
     ]
    }
   ],
   "source": [
    "print(\"Welcome to Robin. How may I help you?\")\n",
    "# While loop to run the chatbot indefinetely\n",
    "while True:\n",
    "    # Takes the user input and converts all characters to lowercase\n",
    "    user_input = input().lower()\n",
    "    # Defining the Chatbot's exit condition\n",
    "    if user_input == \"quit\":\n",
    "        print(\"Thank you for visiting.\")\n",
    "        break\n",
    "    matched_intent = None\n",
    "    for intent, pattern in keywords_dict.items():\n",
    "        # Using the regular expression search function to look for keywords in user input\n",
    "        if re.search(pattern, user_input):\n",
    "            # if a keyword matches, select the corresponding intent from the keywords_dict dictionary\n",
    "            matched_intent = intent\n",
    "    # The fallback intent is selected by default\n",
    "    key = \"fallback\"\n",
    "    if matched_intent in responses:\n",
    "        # If a keyword matches, the fallback intent is replaced by the matched intent as the key for the responses dictionary\n",
    "        key = matched_intent\n",
    "\n",
    "    # get the intended line from the user input\n",
    "    line_pattern = re.compile(r\"line (\\d+)\")\n",
    "    line_match = re.search(line_pattern, user_input)\n",
    "\n",
    "    # The chatbot prints the response that matches the selected intent\n",
    "    print(responses[key] % int(line_match.group(1)))"
   ]
  },
  {
   "cell_type": "code",
   "execution_count": 14,
   "metadata": {},
   "outputs": [],
   "source": [
    "user_input = {\n",
    "    \"keyword\": \"if\",\n",
    "    \"operation\": \"add\",\n",
    "    \"line\": 10,\n",
    "    \"vars\": [\"a\", \"b\"],\n",
    "    \"conditional operators\": [\">\"],\n",
    "}"
   ]
  },
  {
   "cell_type": "code",
   "execution_count": 15,
   "metadata": {},
   "outputs": [],
   "source": [
    "responses = {\n",
    "    \"if\": \"I added an if condition at line %d, if %s %s %s\",\n",
    "    \"while\": \"I added a while loop at line %d, while %s %s %s\",\n",
    "    \"fallback\": \"I dont quite understand. Could you repeat that?\",\n",
    "}"
   ]
  },
  {
   "cell_type": "code",
   "execution_count": 28,
   "metadata": {},
   "outputs": [
    {
     "name": "stdout",
     "output_type": "stream",
     "text": [
      "I added an if condition at line 10, if A greater than b\n"
     ]
    }
   ],
   "source": [
    "keyword = user_input[\"keyword\"]\n",
    "res = responses[keyword] % (\n",
    "    user_input[\"line\"],\n",
    "    user_input[\"vars\"][0].upper(),\n",
    "    user_input[\"conditional operators\"][0] == \">=\"\n",
    "    and \"greater than or equal to\"\n",
    "    or \"greater than\",\n",
    "    user_input[\"vars\"][1],\n",
    ")\n",
    "\n",
    "print(res)"
   ]
  },
  {
   "cell_type": "code",
   "execution_count": 29,
   "metadata": {},
   "outputs": [
    {
     "name": "stdout",
     "output_type": "stream",
     "text": [
      "Requirement already satisfied: pyttsx3 in c:\\users\\77\\anaconda3\\lib\\site-packages (2.90)\n",
      "Requirement already satisfied: pypiwin32 in c:\\users\\77\\anaconda3\\lib\\site-packages (from pyttsx3) (223)\n",
      "Requirement already satisfied: pywin32 in c:\\users\\77\\anaconda3\\lib\\site-packages (from pyttsx3) (305.1)\n",
      "Requirement already satisfied: comtypes in c:\\users\\77\\anaconda3\\lib\\site-packages (from pyttsx3) (1.1.10)\n",
      "Note: you may need to restart the kernel to use updated packages.\n"
     ]
    },
    {
     "name": "stderr",
     "output_type": "stream",
     "text": [
      "WARNING: Ignoring invalid distribution -umpy (c:\\users\\77\\anaconda3\\lib\\site-packages)\n",
      "WARNING: Ignoring invalid distribution -pencv-python-headless (c:\\users\\77\\anaconda3\\lib\\site-packages)\n",
      "WARNING: Ignoring invalid distribution -umpy (c:\\users\\77\\anaconda3\\lib\\site-packages)\n",
      "WARNING: Ignoring invalid distribution -pencv-python-headless (c:\\users\\77\\anaconda3\\lib\\site-packages)\n",
      "WARNING: Ignoring invalid distribution -umpy (c:\\users\\77\\anaconda3\\lib\\site-packages)\n",
      "WARNING: Ignoring invalid distribution -pencv-python-headless (c:\\users\\77\\anaconda3\\lib\\site-packages)\n",
      "WARNING: Ignoring invalid distribution -umpy (c:\\users\\77\\anaconda3\\lib\\site-packages)\n",
      "WARNING: Ignoring invalid distribution -pencv-python-headless (c:\\users\\77\\anaconda3\\lib\\site-packages)\n",
      "WARNING: Ignoring invalid distribution -umpy (c:\\users\\77\\anaconda3\\lib\\site-packages)\n",
      "WARNING: Ignoring invalid distribution -pencv-python-headless (c:\\users\\77\\anaconda3\\lib\\site-packages)\n",
      "WARNING: Ignoring invalid distribution -umpy (c:\\users\\77\\anaconda3\\lib\\site-packages)\n",
      "WARNING: Ignoring invalid distribution -pencv-python-headless (c:\\users\\77\\anaconda3\\lib\\site-packages)\n"
     ]
    }
   ],
   "source": [
    "%pip install pyttsx3\n"
   ]
  },
  {
   "cell_type": "code",
   "execution_count": 18,
   "metadata": {},
   "outputs": [],
   "source": [
    "import pyttsx3"
   ]
  },
  {
   "cell_type": "code",
   "execution_count": 33,
   "metadata": {},
   "outputs": [
    {
     "name": "stdout",
     "output_type": "stream",
     "text": [
      "250\n",
      "1.0\n"
     ]
    }
   ],
   "source": [
    "engine = pyttsx3.init()\n",
    "\"\"\" RATE\"\"\"\n",
    "rate = engine.getProperty(\"rate\")  # getting details of current speaking rate\n",
    "print(rate)  # printing current voice rate\n",
    "engine.setProperty(\"rate\", 150)  # setting up new voice rate\n",
    "\n",
    "\n",
    "\"\"\"VOLUME\"\"\"\n",
    "volume = engine.getProperty(\n",
    "    \"volume\"\n",
    ")  # getting to know current volume level (min=0 and max=1)\n",
    "print(volume)  # printing current volume level\n",
    "engine.setProperty(\"volume\", 1.0)  # setting up volume level  between 0 and 1\n",
    "\n",
    "\"\"\"VOICE\"\"\"\n",
    "voices = engine.getProperty(\"voices\")  # getting details of current voice\n",
    "# engine.setProperty('voice', voices[0].id)  #changing index, changes voices. o for male\n",
    "engine.setProperty(\n",
    "    \"voice\", voices[1].id\n",
    ")  # changing index, changes voices. 1 for female\n",
    "\n",
    "engine.say(\"Hello World!\")\n",
    "engine.runAndWait()\n",
    "engine.stop()\n",
    "\n",
    "\"\"\"Saving Voice to a file\"\"\"\n",
    "engine.runAndWait()"
   ]
  },
  {
   "cell_type": "code",
   "execution_count": 30,
   "metadata": {},
   "outputs": [],
   "source": [
    "engine.say(res)\n",
    "engine.runAndWait()"
   ]
  }
 ],
 "metadata": {
  "kernelspec": {
   "display_name": "base",
   "language": "python",
   "name": "python3"
  },
  "language_info": {
   "codemirror_mode": {
    "name": "ipython",
    "version": 3
   },
   "file_extension": ".py",
   "mimetype": "text/x-python",
   "name": "python",
   "nbconvert_exporter": "python",
   "pygments_lexer": "ipython3",
   "version": "3.9.13"
  }
 },
 "nbformat": 4,
 "nbformat_minor": 2
}
