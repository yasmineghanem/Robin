{
 "cells": [
  {
   "cell_type": "markdown",
   "metadata": {},
   "source": [
    "### Trial 1 : RNN (LSTM) \n",
    "can handle sequential data (sentences) effectively\n",
    "1. Embedding layer\n",
    "2. LSTM layer (sequence processing)\n",
    "3. Two dense layers for classification\n"
   ]
  },
  {
   "cell_type": "code",
   "execution_count": 26,
   "metadata": {},
   "outputs": [],
   "source": [
    "# IMPORTS\n",
    "import utils\n",
    "import keras\n",
    "import numpy as np\n",
    "import tensorflow as tf\n",
    "from tqdm import tqdm\n",
    "import torch\n",
    "from sklearn.model_selection import train_test_split\n",
    "from sklearn.metrics import accuracy_score, f1_score, precision_score, recall_score"
   ]
  },
  {
   "cell_type": "code",
   "execution_count": 27,
   "metadata": {},
   "outputs": [
    {
     "data": {
      "text/plain": [
       "device(type='cuda')"
      ]
     },
     "execution_count": 27,
     "metadata": {},
     "output_type": "execute_result"
    }
   ],
   "source": [
    "if torch.cuda.is_available():\n",
    "    device = torch.device('cuda')\n",
    "\n",
    "device"
   ]
  },
  {
   "cell_type": "markdown",
   "metadata": {},
   "source": [
    "#### 1. Load cleaned dataset"
   ]
  },
  {
   "cell_type": "code",
   "execution_count": 28,
   "metadata": {},
   "outputs": [
    {
     "name": "stdout",
     "output_type": "stream",
     "text": [
      "Number of unique intents: 24\n",
      "Number of examples: 2870\n",
      "Number of examples: 2870\n",
      "Unique intents: ['Variable Declaration', 'Constant Declaration', 'Function Declaration', 'Class Declaration', 'Assignment Operation', 'Conditional Statement', 'For Loop', 'While Loop', 'Array Operation', 'Bitwise Operation', 'Mathematical Operation', 'Membership Operation', 'Casting', 'Input', 'Output', 'Assertion', 'Libraries', 'File System', 'IDE Operation', 'Comment', 'Activate Mouse', 'Activate Interactive', 'Interactive Commands', 'Git Operation']\n",
      "Samples: ['make start time as double and initialize', 'declare min value as integer and value', 'define settings as boolean and value false', 'define y as integer and assign to', 'initialize k as string and initialize it with Code Review']\n",
      "Training Sample:  ('make start time as double and initialize', 'Variable Declaration')\n"
     ]
    }
   ],
   "source": [
    "dataset_path = './intent_detection_dataset/more_intents_pattern.json'\n",
    "unique_intents, corpus, corpus_intents = utils.load_data(dataset_path)\n",
    "\n",
    "# print shapes and sizes of the dataset\n",
    "print('Number of unique intents:', len(unique_intents))\n",
    "# print('Number of responses:', len(responses))\n",
    "print('Number of examples:', len(corpus))\n",
    "print('Number of examples:', len(corpus_intents))\n",
    "\n",
    "# print samples of the dataset\n",
    "print('Unique intents:', unique_intents)\n",
    "# print('Responses:', responses)\n",
    "print('Samples:', corpus[:5])\n",
    "\n",
    "data = list(zip(corpus, corpus_intents))\n",
    "\n",
    "print(\"Training Sample: \", data[0])"
   ]
  },
  {
   "cell_type": "markdown",
   "metadata": {},
   "source": [
    "#### 2. Tokenizing and Embedding "
   ]
  },
  {
   "cell_type": "code",
   "execution_count": 29,
   "metadata": {},
   "outputs": [
    {
     "name": "stdout",
     "output_type": "stream",
     "text": [
      "Vocabulary: {'<unk>': 1, 'the': 2, 'and': 3, 'to': 4, 'a': 5, 'is': 6, 'it': 7, 'in': 8, 'name': 9, 'new': 10, 'value': 11, 'variable': 12, 'user': 13, 'with': 14, 'of': 15, 'constant': 16, 'list': 17, 'as': 18, 'assign': 19, 'set': 20, 'equal': 21, 'file': 22, 'whether': 23, 'if': 24, 'for': 25, 'check': 26, 'message': 27, 'than': 28, 'initialize': 29, 'declare': 30, 'make': 31, 'from': 32, 'create': 33, 'loop': 34, 'not': 35, 'or': 36, 'date': 37, 'array': 38, 'get': 39, 'type': 40, 'data': 41, 'code': 42, 'are': 43, 'all': 44, 'line': 45, 'define': 46, 'while': 47, 'bitwise': 48, 'comment': 49, 'under': 50, 'product': 51, 'number': 52, 'step': 53, 'config': 54, 'range': 55, 'store': 56, 'write': 57, 'me': 58, 'allocate': 59, 'power': 60, 'output': 61, 'time': 62, 'that': 63, 'parameters': 64, 'go': 65, 'last': 66, 'less': 67, 'using': 68, 'errors': 69, 'same': 70, 'index': 71, 'show': 72, 'string': 73, 'end': 74, 'has': 75, 'amount': 76, 'algorithm': 77, 'save': 78, 'total': 79, 'labelled': 80, 'greater': 81, 'terminal': 82, 'mode': 83, 'id': 84, 'please': 85, 'display': 86, 'settings': 87, 'titled': 88, 'called': 89, 'email': 90, 'project': 91, 'item': 92, 'named': 93, 'order': 94, 'files': 95, 'map': 96, 'add': 97, 'changes': 98, 'identified': 99, 'address': 100, 'put': 101, 'integer': 102, 'rate': 103, 'float': 104, 'on': 105, 'raise': 106, 'selected': 107, 'mouse': 108, 'folders': 109, 'fetch': 110, 'location': 111, 'equals': 112, 'multiplied': 113, 'char': 114, 'place': 115, 'start': 116, 'path': 117, 'this': 118, 'boolean': 119, 'count': 120, 'result': 121, 'iteration': 122, 'dictionary': 123, 'contact': 124, 'change': 125, 'int': 126, 'i': 127, 'retrieve': 128, 'root': 129, 'commit': 130, 'directories': 131, 'return': 132, 'returns': 133, 'class': 134, 'operation': 135, 'enter': 136, 'interactive': 137, 'double': 138, 'element': 139, 'max': 140, 'by': 141, 'character': 142, 'insert': 143, 'copy': 144, 'shift': 145, 'key': 146, 'more': 147, 'iterate': 148, 'cube': 149, 'tax': 150, 'j': 151, 'report': 152, 'average': 153, 'procedure': 154, 'min': 155, 'feature': 156, 'call': 157, 'preferences': 158, 'system': 159, 'score': 160, 'zip': 161, 'account': 162, 'balance': 163, 'its': 164, 'temp': 165, 'supplier': 166, 'learning': 167, 'region': 168, 'functions': 169, 'bool': 170, 'flags': 171, 'pos': 172, 'app': 173, 'subroutine': 174, 'colleague': 175, 'delete': 176, 'classes': 177, 'revenue': 178, 'reorder': 179, 'point': 180, 'queue': 181, 'city': 182, 'approved': 183, 'highlight': 184, 'k': 185, 'employee': 186, 'record': 187, 'updated': 188, 'an': 189, 'out': 190, 'added': 191, 'divided': 192, 'square': 193, 'print': 194, 'true': 195, 'deleted': 196, 'counter': 197, 'expiry': 198, 'description': 199, 'empty': 200, 'reverse': 201, 'collection': 202, 'condition': 203, 'include': 204, 'exponent': 205, 'ask': 206, 'library': 207, 'directory': 208, 'folder': 209, 'action': 210, 'review': 211, 'info': 212, 'expense': 213, 'enabled': 214, 'environment': 215, 'discount': 216, 'category': 217, 'position': 218, 'access': 219, 'default': 220, 'use': 221, 'mp': 222, 'logged': 223, 'visible': 224, 'current': 225, 'options': 226, 'e': 227, 'budget': 228, 'allocation': 229, 'routine': 230, 'office': 231, 'building': 232, 'find': 233, 'notes': 234, 'style': 235, 'methods': 236, 'country': 237, 'buffer': 238, 'xor': 239, 'divide': 240, 'false': 241, 'development': 242, 'transaction': 243, 'database': 244, 'mentor': 245, 'main': 246, 'evaluate': 247, 'determine': 248, 'read': 249, 'switch': 250, 'jump': 251, 'age': 252, 'verified': 253, 'creation': 254, 'status': 255, 'alternate': 256, 'input': 257, 'sum': 258, 'html': 259, 'exit': 260, 'debit': 261, 'gender': 262, 'due': 263, 'programming': 264, 'customer': 265, 'properties': 266, 'method': 267, 'guardian': 268, 'street': 269, 'coordinates': 270, 'update': 271, 'delivery': 272, 'generate': 273, 'left': 274, 'right': 275, 'plus': 276, 'division': 277, 'calculate': 278, 'solve': 279, 'subtraction': 280, 'require': 281, 'docx': 282, 'technical': 283, 'models': 284, 'completed': 285, 'elapsed': 286, 'active': 287, 'stock': 288, 'quantity': 289, 'function': 290, 'geo': 291, 'push': 292, 'identify': 293, 'tree': 294, 'multiplication': 295, 'text': 296, 'cast': 297, 'presentation': 298, 'pptx': 299, 'log': 300, 'navigate': 301, 'price': 302, 'gross': 303, 'income': 304, 'software': 305, 'inventory': 306, 'level': 307, 'language': 308, 'clustering': 309, 'algorithms': 310, 'net': 311, 'profit': 312, 'emergency': 313, 'subtract': 314, 'login': 315, 'addition': 316, 'work': 317, 'remainder': 318, 'transform': 319, 'validate': 320, 'schedule': 321, 'credit': 322, 'limit': 323, 'partner': 324, 'secondary': 325, 'role': 326, 'frame': 327, 'duplicate': 328, 'txt': 329, 'json': 330, 'db': 331, 'video': 332, 'select': 333, 'stage': 334, 'primary': 335, 'sibling': 336, 'form': 337, 'records': 338, 'discard': 339, 'remove': 340, 'sort': 341, 'clear': 342, 'perform': 343, 'css': 344, 'convert': 345, 'provide': 346, 'imports': 347, 'script': 348, 'py': 349, 'csv': 350, 'rename': 351, 'logfile': 352, 'archive': 353, 'pick': 354, 'entire': 355, 'previous': 356, 'what': 357, 'just': 358, 'did': 359, 'tracking': 360, 'tracker': 361, 'mining': 362, 'network': 363, 'management': 364, 'support': 365, 'interface': 366, 'session': 367, 'singular': 368, 'search': 369, 'items': 370, 'size': 371, 'apply': 372, 'multiply': 373, 'modulus': 374, 'photo': 375, 'png': 376, 'kill': 377, 'close': 378, 'mark': 379, 'revert': 380, 'disable': 381, 'pull': 382, 'stamp': 383, 'whose': 384, 'cascading': 385, 'sheets': 386, 'names': 387, 'structures': 388, 'having': 389, 'void': 390, 'including': 391, 'profile': 392, 'details': 393, 'carry': 394, 'compute': 395, 'confirm': 396, 'import': 397, 'pdf': 398, 'audio': 399, 'choose': 400, 'cancel': 401, 'revoke': 402, 'activte': 403, 'documentation': 404, 'regression': 405, 'functional': 406, 'hypertext': 407, 'markup': 408, 'architecture': 409, 'design': 410, 'qr': 411, 'lu': 412, 'cholesky': 413, 'accepts': 414, 'needs': 415, 'test': 416, 'cookies': 417, 'table': 418, 'manual': 419, 'doc': 420, 'image': 421, 'jpg': 422, 'summary': 423, 'videos': 424, 'terminate': 425, 'restore': 426, 'repeat': 427, 'enable': 428, 'deactivate': 429, 'engineering': 430, 'security': 431, 'version': 432, 'science': 433, 'neural': 434, 'networks': 435, 'javascript': 436, 'framework': 437, 'statistical': 438, 'back': 439, 'hello': 440, 'world': 441, 'deep': 442, 'supervised': 443, 'full': 444, 'stack': 445, 'developer': 446, 'inverse': 447, 'containing': 448, 'givens': 449, 'rotation': 450, 'eigenvalue': 451, 'takes': 452, 'payment': 453, 'elements': 454, 'append': 455, 'menus': 456, 'take': 457, 'do': 458, 'styles': 459, 'receive': 460, 'shape': 461, 'verify': 462, 'assert': 463, 'open': 464, 'move': 465, 'paste': 466, 'reset': 467, 'natural': 468, 'processing': 469, 'python': 470, 'control': 471, 'continuous': 472, 'integration': 473, 'unsupervised': 474, 'debugging': 475, 'decomposition': 476, 'consisting': 477, 'jacobi': 478, 'loan': 479, 'wishlist': 480, 'username': 481, 'routes': 482, 'templates': 483, 'attributes': 484, 'object': 485, 'sessions': 486, 'outcome': 487, 'solution': 488, 'fields': 489, 'sample': 490, 'format': 491, 'welcome': 492, 'program': 493, 'spreadsheet': 494, 'xlsx': 495, 'diagram': 496, 'svg': 497, 'diagrams': 498, 'cut': 499, 'undo': 500, 'single': 501, 'fixed': 502, 'y': 503, 'front': 504, 'analysis': 505, 'unit': 506, 'testing': 507, 'openai': 508, 'gpt': 509, 'command': 510, 'reinforcement': 511, 'speech': 512, 'recognition': 513, 'rotate': 514, 'householder': 515, 'comprising': 516, 'requires': 517, 'svd': 518, 'invoice': 519, 'visualization': 520, 'values': 521, 'label': 522, 'ratings': 523, 'stats': 524, 'responses': 525, 'dns': 526, 'smallest': 527, 'response': 528, 'headers': 529, 'length': 530, 'answer': 531, 'error': 532, 'between': 533, 'ensure': 534, 'document': 535, 'databases': 536, 'photos': 537, 'launch': 538, 'run': 539, 'focus': 540, 'begin': 541, 'typo': 542, 'artificial': 543, 'intelligence': 544, 'machine': 545, 'x': 546, 'computer': 547, 'vision': 548, 'information': 549, 'technology': 550, 'rayleigh': 551, 'quotient': 552, 'gram': 553, 'schmidt': 554, 'transformation': 555, 'person': 556, 'view': 557, 'quest': 558, 'shipment': 559, 'js': 560, 'logs': 561, 'nodes': 562, 'least': 563, 'training': 564, 'reviews': 565, 'skill': 566, 'samples': 567, 'eliminate': 568, 'measurement': 569, 'entry': 570, 'orders': 571, 'observations': 572, 'requests': 573, 'variables': 574, 'points': 575, 'sets': 576, 'profiles': 577, 'leaderboard': 578, 'ranks': 579, 'header': 580, 'endpoints': 581, 'mask': 582, 'mathlib': 583, 'documents': 584, 'configs': 585, 'optimize': 586, 'placeholder': 587, 'resolved': 588, 'conflict': 589, 'n': 590, 'graphical': 591, 'cofactor': 592, 'eigenvector': 593, 'shuffle': 594, 'split': 595, 'fibonacci': 596, 'determinant': 597, 'enemy': 598, 'dataset': 599, 'manager': 600, 'achievement': 601, 'button': 602, 'usernames': 603, 'scores': 604, 'ages': 605, 'instances': 606, 'reports': 607, 'codes': 608, 'weapons': 609, 'results': 610, 'highest': 611, 'largest': 612, 'maximum': 613, 'quests': 614, 'wishlists': 615, 'rid': 616, 'entries': 617, 'summation': 618, 'dialog': 619, 'boxes': 620, 'epochs': 621, 'dates': 622, 'addresses': 623, 'dialogs': 624, 'payments': 625, 'components': 626, 'packets': 627, 'batches': 628, 'skills': 629, 'request': 630, 'experience': 631, 'countries': 632, 'coefficients': 633, 'enemies': 634, 'oriented': 635, 'lease': 636, 'betweeen': 637, 'your': 638, 'failed': 639, 'statement': 640, 'passed': 641, 'semi': 642, 'utils': 643, 'sortlib': 644, 'cipherlib': 645, 'queuelib': 646, 'react': 647, 'probability': 648, 'jsonlib': 649, 'spreadsheets': 650, 'presentations': 651, 'manuals': 652, 'archives': 653, 'redo': 654, 'temporary': 655, 'process': 656, 'warning': 657, 'handle': 658, 'refactored': 659, 'changed': 660, 'initial': 661, 'tests': 662, 'merged': 663, 'rebased': 664, 'branch': 665, 'optimized': 666, 't': 667, 'u': 668, 'q': 669, 'p': 670, 'z': 671, 'merge': 672, 'rank': 673, 'prime': 674, 'router': 675, 'gateway': 676, 'customerreview': 677, 'filewriter': 678, 'middleware': 679, 'preprocessor': 680, 'radiobutton': 681, 'httprequest': 682, 'slider': 683, 'httpresponse': 684, 'equation': 685, 'ids': 686, 'amounts': 687, 'history': 688, 'epoch': 689, 'datasets': 690, 'biggest': 691, 'financial': 692, 'statements': 693, 'model': 694, 'lowest': 695, 'buttons': 696, 'minimum': 697, 'icon': 698, 'erase': 699, 'investments': 700, 'frequencies': 701, 'messages': 702, 'coordinate': 703, 'features': 704, 'aggregate': 705, 'ip': 706, 'labels': 707, 'weights': 708, 'achievements': 709, 'biases': 710, 'dropdowns': 711, 'layout': 712, 'vector': 713, 'packet': 714, 'vectors': 715, 'cities': 716, 'game': 717, 'levels': 718, 'window': 719, 'accounts': 720, 'api': 721, 'categories': 722, 'budgets': 723, 'windows': 724, 'inventories': 725, 'expenses': 726, 'weight': 727, 'matrix': 728, 'series': 729, 'leaderboards': 730, 'menu': 731, 'players': 732, 'radiobuttons': 733, 'types': 734, 'sliders': 735, 'bias': 736, 'connection': 737, 'pool': 738, 'events': 739, 'objects': 740, 'loss': 741, 'times': 742, 'predictions': 743, 'layers': 744, 'invoices': 745, 'discounts': 746, 'give': 747, 'fill': 748, 'there': 749, 's': 750, 'core': 751, 'dsautils': 752, 'common': 753, 'securitytoolkit': 754, 'pandas': 755, 'geometry': 756, 'vue': 757, 'guimodule': 758, 'mlutils': 759, 'uiutils': 760, 'pydata': 761, 'django': 762, 'filesystem': 763, 'helpers': 764, 'shared': 765, 'websocketlib': 766, 'excellib': 767, 'parserlib': 768, 'decryption': 769, 'datastructures': 770, 'scicalc': 771, 'dateutils': 772, 'templateengine': 773, 'summaries': 774, 'images': 775, 'license': 776, 'timezone': 777, 'refactor': 778, 'todo': 779, 'necessary': 780, 'libraries': 781, 'client': 782, 'execute': 783, 'sql': 784, 'query': 785, 'fixme': 786, 'send': 787, 'through': 788, 'block': 789, 'comments': 790, 'improved': 791, 'performance': 792, 'bug': 793}\n",
      "Vocabulary Size: 794\n",
      "Shape of Input Sequence (# of examples, longest sequence length): (2870, 20)\n",
      "Sample Input Sequence: [  0   0   0   0   0   0   0   0   0   0   0   0   0  31 116  62  18 138\n",
      "   3  29]\n"
     ]
    }
   ],
   "source": [
    "# create a tokenizer\n",
    "tokenizer = tf.keras.preprocessing.text.Tokenizer(filters='', oov_token='<unk>')\n",
    "\n",
    "# fit the tokenizer on the corpus -> updates internal vocabulary based on corpus\n",
    "tokenizer.fit_on_texts(corpus)\n",
    "\n",
    "# convert the corpus to sequences of integers -> each word is replaced by its index in the vocabulary for each sentence\n",
    "sequences = tokenizer.texts_to_sequences(corpus)\n",
    "\n",
    "# pad the sequences to the same length -> add padding tokens to the beginning of each sequence to fit the longest sequence\n",
    "padded_sequences = keras.preprocessing.sequence.pad_sequences(sequences, padding='pre')\n",
    "\n",
    "# get the number of unique words (vocabulary size)\n",
    "vocab_size = len(tokenizer.word_index) + 1\n",
    "\n",
    "# print the tokenizer properties\n",
    "print('Vocabulary:', tokenizer.word_index)\n",
    "print('Vocabulary Size:', vocab_size)\n",
    "print('Shape of Input Sequence (# of examples, longest sequence length):', padded_sequences.shape)\n",
    "print('Sample Input Sequence:', padded_sequences[0])"
   ]
  },
  {
   "cell_type": "markdown",
   "metadata": {},
   "source": [
    "#### 3. Feature Extraction\n",
    "map intents to indices"
   ]
  },
  {
   "cell_type": "code",
   "execution_count": 30,
   "metadata": {},
   "outputs": [
    {
     "name": "stdout",
     "output_type": "stream",
     "text": [
      "{0: 'Variable Declaration', 1: 'Constant Declaration', 2: 'Function Declaration', 3: 'Class Declaration', 4: 'Assignment Operation', 5: 'Conditional Statement', 6: 'For Loop', 7: 'While Loop', 8: 'Array Operation', 9: 'Bitwise Operation', 10: 'Mathematical Operation', 11: 'Membership Operation', 12: 'Casting', 13: 'Input', 14: 'Output', 15: 'Assertion', 16: 'Libraries', 17: 'File System', 18: 'IDE Operation', 19: 'Comment', 20: 'Activate Mouse', 21: 'Activate Interactive', 22: 'Interactive Commands', 23: 'Git Operation'}\n",
      "Categorial vector shape: (2870, 24)\n"
     ]
    }
   ],
   "source": [
    "# dictionary that maps each intent to a unique index\n",
    "intent_to_index = {intent: index for index, intent in enumerate(unique_intents)}\n",
    "\n",
    "# list for each sentence mapped to its corresponding intent index \n",
    "corpus_intent_mapped_to_index = [intent_to_index[intent] for intent in corpus_intents]\n",
    "\n",
    "# the number of classes to classify a sentence into\n",
    "number_of_classes = len(intent_to_index)\n",
    "\n",
    "# convert intent_to_index to index_to_intent \n",
    "index_to_intent = {index: intent for intent, index in intent_to_index.items()} \n",
    "\n",
    "print(index_to_intent)\n",
    "\n",
    "# one hot encoding for the intents -> length of each vector is equal to the number of classes\n",
    "# each sequence in the dataset is represented as a one-hot encoded vector that represents the intent of the sequence\n",
    "targets = keras.utils.to_categorical(corpus_intent_mapped_to_index, number_of_classes)\n",
    "\n",
    "print('Categorial vector shape:', targets.shape)"
   ]
  },
  {
   "cell_type": "code",
   "execution_count": 31,
   "metadata": {},
   "outputs": [
    {
     "name": "stdout",
     "output_type": "stream",
     "text": [
      "Number of training examples: 2296\n",
      "Number of testing examples: 574\n"
     ]
    }
   ],
   "source": [
    "x_train, x_test, y_train, y_test = train_test_split(padded_sequences, targets, test_size=0.2, random_state=42, shuffle=True)\n",
    "\n",
    "train_data = list(zip(x_train, y_train))\n",
    "test_data = list(zip(x_test, y_test))\n",
    "\n",
    "print('Number of training examples:', len(train_data))\n",
    "print('Number of testing examples:', len(test_data))"
   ]
  },
  {
   "cell_type": "markdown",
   "metadata": {},
   "source": [
    "#### 4. Building the Model"
   ]
  },
  {
   "cell_type": "code",
   "execution_count": 32,
   "metadata": {},
   "outputs": [
    {
     "name": "stdout",
     "output_type": "stream",
     "text": [
      "Input Dimension: 24, Output Dimension: 24\n"
     ]
    },
    {
     "data": {
      "text/html": [
       "<pre style=\"white-space:pre;overflow-x:auto;line-height:normal;font-family:Menlo,'DejaVu Sans Mono',consolas,'Courier New',monospace\"><span style=\"font-weight: bold\">Model: \"sequential_1\"</span>\n",
       "</pre>\n"
      ],
      "text/plain": [
       "\u001b[1mModel: \"sequential_1\"\u001b[0m\n"
      ]
     },
     "metadata": {},
     "output_type": "display_data"
    },
    {
     "data": {
      "text/html": [
       "<pre style=\"white-space:pre;overflow-x:auto;line-height:normal;font-family:Menlo,'DejaVu Sans Mono',consolas,'Courier New',monospace\">┏━━━━━━━━━━━━━━━━━━━━━━━━━━━━━━━━━┳━━━━━━━━━━━━━━━━━━━━━━━━┳━━━━━━━━━━━━━━━┓\n",
       "┃<span style=\"font-weight: bold\"> Layer (type)                    </span>┃<span style=\"font-weight: bold\"> Output Shape           </span>┃<span style=\"font-weight: bold\">       Param # </span>┃\n",
       "┡━━━━━━━━━━━━━━━━━━━━━━━━━━━━━━━━━╇━━━━━━━━━━━━━━━━━━━━━━━━╇━━━━━━━━━━━━━━━┩\n",
       "│ embedding_1 (<span style=\"color: #0087ff; text-decoration-color: #0087ff\">Embedding</span>)         │ ?                      │   <span style=\"color: #00af00; text-decoration-color: #00af00\">0</span> (unbuilt) │\n",
       "├─────────────────────────────────┼────────────────────────┼───────────────┤\n",
       "│ bidirectional_1 (<span style=\"color: #0087ff; text-decoration-color: #0087ff\">Bidirectional</span>) │ ?                      │   <span style=\"color: #00af00; text-decoration-color: #00af00\">0</span> (unbuilt) │\n",
       "├─────────────────────────────────┼────────────────────────┼───────────────┤\n",
       "│ dense_2 (<span style=\"color: #0087ff; text-decoration-color: #0087ff\">Dense</span>)                 │ ?                      │   <span style=\"color: #00af00; text-decoration-color: #00af00\">0</span> (unbuilt) │\n",
       "├─────────────────────────────────┼────────────────────────┼───────────────┤\n",
       "│ dropout_1 (<span style=\"color: #0087ff; text-decoration-color: #0087ff\">Dropout</span>)             │ ?                      │   <span style=\"color: #00af00; text-decoration-color: #00af00\">0</span> (unbuilt) │\n",
       "├─────────────────────────────────┼────────────────────────┼───────────────┤\n",
       "│ dense_3 (<span style=\"color: #0087ff; text-decoration-color: #0087ff\">Dense</span>)                 │ ?                      │   <span style=\"color: #00af00; text-decoration-color: #00af00\">0</span> (unbuilt) │\n",
       "└─────────────────────────────────┴────────────────────────┴───────────────┘\n",
       "</pre>\n"
      ],
      "text/plain": [
       "┏━━━━━━━━━━━━━━━━━━━━━━━━━━━━━━━━━┳━━━━━━━━━━━━━━━━━━━━━━━━┳━━━━━━━━━━━━━━━┓\n",
       "┃\u001b[1m \u001b[0m\u001b[1mLayer (type)                   \u001b[0m\u001b[1m \u001b[0m┃\u001b[1m \u001b[0m\u001b[1mOutput Shape          \u001b[0m\u001b[1m \u001b[0m┃\u001b[1m \u001b[0m\u001b[1m      Param #\u001b[0m\u001b[1m \u001b[0m┃\n",
       "┡━━━━━━━━━━━━━━━━━━━━━━━━━━━━━━━━━╇━━━━━━━━━━━━━━━━━━━━━━━━╇━━━━━━━━━━━━━━━┩\n",
       "│ embedding_1 (\u001b[38;5;33mEmbedding\u001b[0m)         │ ?                      │   \u001b[38;5;34m0\u001b[0m (unbuilt) │\n",
       "├─────────────────────────────────┼────────────────────────┼───────────────┤\n",
       "│ bidirectional_1 (\u001b[38;5;33mBidirectional\u001b[0m) │ ?                      │   \u001b[38;5;34m0\u001b[0m (unbuilt) │\n",
       "├─────────────────────────────────┼────────────────────────┼───────────────┤\n",
       "│ dense_2 (\u001b[38;5;33mDense\u001b[0m)                 │ ?                      │   \u001b[38;5;34m0\u001b[0m (unbuilt) │\n",
       "├─────────────────────────────────┼────────────────────────┼───────────────┤\n",
       "│ dropout_1 (\u001b[38;5;33mDropout\u001b[0m)             │ ?                      │   \u001b[38;5;34m0\u001b[0m (unbuilt) │\n",
       "├─────────────────────────────────┼────────────────────────┼───────────────┤\n",
       "│ dense_3 (\u001b[38;5;33mDense\u001b[0m)                 │ ?                      │   \u001b[38;5;34m0\u001b[0m (unbuilt) │\n",
       "└─────────────────────────────────┴────────────────────────┴───────────────┘\n"
      ]
     },
     "metadata": {},
     "output_type": "display_data"
    },
    {
     "data": {
      "text/html": [
       "<pre style=\"white-space:pre;overflow-x:auto;line-height:normal;font-family:Menlo,'DejaVu Sans Mono',consolas,'Courier New',monospace\"><span style=\"font-weight: bold\"> Total params: </span><span style=\"color: #00af00; text-decoration-color: #00af00\">0</span> (0.00 B)\n",
       "</pre>\n"
      ],
      "text/plain": [
       "\u001b[1m Total params: \u001b[0m\u001b[38;5;34m0\u001b[0m (0.00 B)\n"
      ]
     },
     "metadata": {},
     "output_type": "display_data"
    },
    {
     "data": {
      "text/html": [
       "<pre style=\"white-space:pre;overflow-x:auto;line-height:normal;font-family:Menlo,'DejaVu Sans Mono',consolas,'Courier New',monospace\"><span style=\"font-weight: bold\"> Trainable params: </span><span style=\"color: #00af00; text-decoration-color: #00af00\">0</span> (0.00 B)\n",
       "</pre>\n"
      ],
      "text/plain": [
       "\u001b[1m Trainable params: \u001b[0m\u001b[38;5;34m0\u001b[0m (0.00 B)\n"
      ]
     },
     "metadata": {},
     "output_type": "display_data"
    },
    {
     "data": {
      "text/html": [
       "<pre style=\"white-space:pre;overflow-x:auto;line-height:normal;font-family:Menlo,'DejaVu Sans Mono',consolas,'Courier New',monospace\"><span style=\"font-weight: bold\"> Non-trainable params: </span><span style=\"color: #00af00; text-decoration-color: #00af00\">0</span> (0.00 B)\n",
       "</pre>\n"
      ],
      "text/plain": [
       "\u001b[1m Non-trainable params: \u001b[0m\u001b[38;5;34m0\u001b[0m (0.00 B)\n"
      ]
     },
     "metadata": {},
     "output_type": "display_data"
    }
   ],
   "source": [
    "# the input is the the padded sequences with the target value being the one-hot encoded intents\n",
    "input_dimenstion = len(unique_intents)\n",
    "\n",
    "# the output is the one-hot encoded intents\n",
    "output_dimenstion = targets.shape[1]\n",
    "\n",
    "print(f\"Input Dimension: {input_dimenstion}, Output Dimension: {output_dimenstion}\")\n",
    "\n",
    "# Model description\n",
    "# The model is a sequential model that consists of:\n",
    "# 1. An embedding layer that converts the input sequences to dense vectors of fixed size\n",
    "# 2. A Bidirectional LSTM layer that processes the input sequences in both directions\n",
    "# 3. A Dense layer with 64 units and ReLU activation function\n",
    "# 4. A Dropout layer with a dropout rate of 0.5\n",
    "# 5. A Dense layer with the output dimension and softmax activation function for multi-class classification\n",
    "\n",
    "# define parameters\n",
    "epochs = 100\n",
    "\n",
    "# the embedding dimension is the size of the vector for which each word is represented\n",
    "# the embedding layer of a neural network, output_dim refers to the size of the dense vectors that the layer will generate for each input token (word). \n",
    "# essentially, it is the number of dimensions in which each word will be represented.\n",
    "embedding_dimension = 128\n",
    "\n",
    "# lstm units\n",
    "lstm_units = 64\n",
    "\n",
    "model = keras.Sequential([\n",
    "    keras.layers.Embedding(input_dim=vocab_size, output_dim=embedding_dimension),\n",
    "    keras.layers.Bidirectional(keras.layers.LSTM(lstm_units, dropout=0.2)),\n",
    "    keras.layers.Dense(lstm_units, activation='relu'),\n",
    "    keras.layers.Dropout(0.4),\n",
    "    keras.layers.Dense(output_dimenstion, activation='softmax')\n",
    "])\n",
    "\n",
    "optimizer = keras.optimizers.Adam(learning_rate=0.001)\n",
    "model.compile(optimizer=optimizer, loss='categorical_crossentropy', metrics=['accuracy', 'f1_score', 'precision', 'recall'])\n",
    "\n",
    "model.summary()"
   ]
  },
  {
   "cell_type": "markdown",
   "metadata": {},
   "source": [
    "#### 5. Train the Model"
   ]
  },
  {
   "cell_type": "code",
   "execution_count": 33,
   "metadata": {},
   "outputs": [
    {
     "data": {
      "text/plain": [
       "<keras.src.callbacks.history.History at 0x17ad277bac0>"
      ]
     },
     "execution_count": 33,
     "metadata": {},
     "output_type": "execute_result"
    }
   ],
   "source": [
    "model.fit(x_train, y_train, epochs=epochs, verbose=1)"
   ]
  },
  {
   "cell_type": "code",
   "execution_count": 34,
   "metadata": {},
   "outputs": [
    {
     "name": "stdout",
     "output_type": "stream",
     "text": [
      "\u001b[1m18/18\u001b[0m \u001b[32m━━━━━━━━━━━━━━━━━━━━\u001b[0m\u001b[37m\u001b[0m \u001b[1m1s\u001b[0m 34ms/step\n",
      "Accuracy: 0.9895470383275261\n",
      "Precision: 0.9897414496717633\n",
      "Recall: 0.9895470383275261\n",
      "F1 Score: 0.9895159962806788\n"
     ]
    }
   ],
   "source": [
    "predictions = model.predict(x_test)\n",
    "\n",
    "predicted_intents = [index_to_intent[np.argmax(prediction)] for prediction in predictions]\n",
    "true_intents = [index_to_intent[np.argmax(intent)] for intent in y_test]\n",
    "\n",
    "accuracy = accuracy_score(true_intents, predicted_intents)\n",
    "precision = precision_score(true_intents, predicted_intents, average='weighted')\n",
    "recall = recall_score(true_intents, predicted_intents, average='weighted')\n",
    "f1 = f1_score(true_intents, predicted_intents, average='weighted')\n",
    "\n",
    "print('Accuracy:', accuracy)\n",
    "print('Precision:', precision)\n",
    "print('Recall:', recall)\n",
    "print('F1 Score:', f1)"
   ]
  },
  {
   "cell_type": "code",
   "execution_count": 35,
   "metadata": {},
   "outputs": [
    {
     "name": "stdout",
     "output_type": "stream",
     "text": [
      "\u001b[1m18/18\u001b[0m \u001b[32m━━━━━━━━━━━━━━━━━━━━\u001b[0m\u001b[37m\u001b[0m \u001b[1m1s\u001b[0m 8ms/step - accuracy: 0.9903 - f1_score: 0.9545 - loss: 0.0894 - precision: 0.9903 - recall: 0.9903\n"
     ]
    },
    {
     "data": {
      "text/plain": [
       "[0.11303664743900299,\n",
       " 0.9895470142364502,\n",
       " <tf.Tensor: shape=(24,), dtype=float32, numpy=\n",
       " array([0.9894736 , 1.        , 1.        , 1.        , 0.9166666 ,\n",
       "        1.        , 0.9767441 , 1.        , 0.9545454 , 0.9756097 ,\n",
       "        1.        , 1.        , 0.96551716, 1.        , 1.        ,\n",
       "        1.        , 1.        , 0.9599999 , 0.9906541 , 0.9523809 ,\n",
       "        1.        , 1.        , 1.        , 1.        ], dtype=float32)>,\n",
       " 0.9895470142364502,\n",
       " 0.9895470142364502]"
      ]
     },
     "execution_count": 35,
     "metadata": {},
     "output_type": "execute_result"
    }
   ],
   "source": [
    "model.evaluate(x_test, y_test)"
   ]
  },
  {
   "cell_type": "markdown",
   "metadata": {},
   "source": [
    "#### 6. Testing the Model"
   ]
  },
  {
   "cell_type": "code",
   "execution_count": 51,
   "metadata": {},
   "outputs": [
    {
     "name": "stdout",
     "output_type": "stream",
     "text": [
      "\u001b[1m1/1\u001b[0m \u001b[32m━━━━━━━━━━━━━━━━━━━━\u001b[0m\u001b[37m\u001b[0m \u001b[1m0s\u001b[0m 27ms/step\n",
      "Predicted Intent: Input\n"
     ]
    }
   ],
   "source": [
    "user_input = input(\"Sentence:\")\n",
    "\n",
    "test_sequences = tokenizer.texts_to_sequences([user_input])\n",
    "\n",
    "test_padded_sequences = keras.preprocessing.sequence.pad_sequences(test_sequences, padding='pre')\n",
    "\n",
    "predictions = model.predict(test_padded_sequences)\n",
    "\n",
    "predicted_intent_index = np.argmax(predictions)\n",
    "\n",
    "predicted_intent = index_to_intent[predicted_intent_index]\n",
    "\n",
    "print(f\"Predicted Intent: {predicted_intent}\")"
   ]
  },
  {
   "cell_type": "code",
   "execution_count": 52,
   "metadata": {},
   "outputs": [],
   "source": [
    "model.save(\"./models/intent_detection_model.keras\")"
   ]
  }
 ],
 "metadata": {
  "kernelspec": {
   "display_name": "Python 3",
   "language": "python",
   "name": "python3"
  },
  "language_info": {
   "codemirror_mode": {
    "name": "ipython",
    "version": 3
   },
   "file_extension": ".py",
   "mimetype": "text/x-python",
   "name": "python",
   "nbconvert_exporter": "python",
   "pygments_lexer": "ipython3",
   "version": "3.10.9"
  }
 },
 "nbformat": 4,
 "nbformat_minor": 2
}
