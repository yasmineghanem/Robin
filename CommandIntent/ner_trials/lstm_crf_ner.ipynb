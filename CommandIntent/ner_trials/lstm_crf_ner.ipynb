{
 "cells": [
  {
   "cell_type": "code",
   "execution_count": 3,
   "metadata": {},
   "outputs": [],
   "source": [
    "# IMPORTS\n",
    "import pandas as pd\n",
    "import numpy as np\n",
    "\n",
    "import tensorflow as tf\n",
    "\n",
    "import keras\n",
    "\n",
    "# from keras.preprocessing.sequence import pad_sequences\n",
    "# from keras.utils import to_categorical\n",
    "# from keras.layers import LSTM, Dense, TimeDistributed, Embedding, Bidirectional\n",
    "# from keras.models import Model\n",
    "# from tensorflow.python.keras.layers import Input\n",
    "# import tensorflow_addons as tfa\n",
    "\n",
    "from tensorflow_addons.layers import CRF\n",
    "\n",
    "import warnings\n",
    "warnings.filterwarnings(\"ignore\")\n",
    "\n",
    "from sklearn.model_selection import train_test_split\n",
    "import matplotlib.pyplot as plt\n",
    "%matplotlib inline\n",
    "\n",
    "from sklearn_crfsuite.metrics import flat_classification_report\n",
    "from sklearn.metrics import f1_score\n",
    "from seqeval.metrics import precision_score, recall_score, f1_score, classification_report\n",
    "from keras import preprocessing\n",
    "import pickle"
   ]
  },
  {
   "cell_type": "code",
   "execution_count": 5,
   "metadata": {},
   "outputs": [
    {
     "name": "stdout",
     "output_type": "stream",
     "text": [
      "2.14.1\n",
      "2.14.0\n"
     ]
    }
   ],
   "source": [
    "print(tf.__version__)\n",
    "print(keras.__version__)"
   ]
  },
  {
   "cell_type": "markdown",
   "metadata": {},
   "source": [
    "#### Dataset Preparation"
   ]
  },
  {
   "cell_type": "code",
   "execution_count": 6,
   "metadata": {},
   "outputs": [
    {
     "name": "stdout",
     "output_type": "stream",
     "text": [
      "Index(['Sentence #', 'Word', 'Tag', 'Intent'], dtype='object')\n",
      "Columns: Index(['Sentence #', 'Word', 'Tag', 'Intent'], dtype='object') Index(['Sentence #', 'Word', 'Tag', 'Intent'], dtype='object')\n"
     ]
    },
    {
     "data": {
      "text/html": [
       "<div>\n",
       "<style scoped>\n",
       "    .dataframe tbody tr th:only-of-type {\n",
       "        vertical-align: middle;\n",
       "    }\n",
       "\n",
       "    .dataframe tbody tr th {\n",
       "        vertical-align: top;\n",
       "    }\n",
       "\n",
       "    .dataframe thead th {\n",
       "        text-align: right;\n",
       "    }\n",
       "</style>\n",
       "<table border=\"1\" class=\"dataframe\">\n",
       "  <thead>\n",
       "    <tr style=\"text-align: right;\">\n",
       "      <th></th>\n",
       "      <th>Sentence #</th>\n",
       "      <th>Word</th>\n",
       "      <th>Tag</th>\n",
       "      <th>Intent</th>\n",
       "    </tr>\n",
       "  </thead>\n",
       "  <tbody>\n",
       "    <tr>\n",
       "      <th>0</th>\n",
       "      <td>0</td>\n",
       "      <td>is  approved  equals  clustering  algorithms</td>\n",
       "      <td>[ B-VAR,  I-VAR,  O,  B-VAL,  I-VAL]</td>\n",
       "      <td>[ variable_declaration,  variable_declaration,...</td>\n",
       "    </tr>\n",
       "    <tr>\n",
       "      <th>1</th>\n",
       "      <td>1</td>\n",
       "      <td>file  path  equals  2023</td>\n",
       "      <td>[ B-VAR,  I-VAR,  O,  B-VAL]</td>\n",
       "      <td>[ variable_declaration,  variable_declaration,...</td>\n",
       "    </tr>\n",
       "    <tr>\n",
       "      <th>2</th>\n",
       "      <td>2</td>\n",
       "      <td>user  id  equals  REGRESSION  MODELS</td>\n",
       "      <td>[ B-VAR,  I-VAR,  O,  B-VAL,  I-VAL]</td>\n",
       "      <td>[ variable_declaration,  variable_declaration,...</td>\n",
       "    </tr>\n",
       "    <tr>\n",
       "      <th>3</th>\n",
       "      <td>3</td>\n",
       "      <td>temp  equals  car  bus  train  plane  bicycle</td>\n",
       "      <td>[ B-VAR,  O,  B-VAL,  B-VAL,  B-VAL,  B-VAL,  ...</td>\n",
       "      <td>[ variable_declaration,  variable_declaration,...</td>\n",
       "    </tr>\n",
       "    <tr>\n",
       "      <th>4</th>\n",
       "      <td>4</td>\n",
       "      <td>time  elapsed  equals  -555555</td>\n",
       "      <td>[ B-VAR,  I-VAR,  O,  B-VAL]</td>\n",
       "      <td>[ variable_declaration,  variable_declaration,...</td>\n",
       "    </tr>\n",
       "  </tbody>\n",
       "</table>\n",
       "</div>"
      ],
      "text/plain": [
       "   Sentence #                                            Word   \n",
       "0           0    is  approved  equals  clustering  algorithms  \\\n",
       "1           1                        file  path  equals  2023   \n",
       "2           2            user  id  equals  REGRESSION  MODELS   \n",
       "3           3   temp  equals  car  bus  train  plane  bicycle   \n",
       "4           4                  time  elapsed  equals  -555555   \n",
       "\n",
       "                                                 Tag   \n",
       "0               [ B-VAR,  I-VAR,  O,  B-VAL,  I-VAL]  \\\n",
       "1                       [ B-VAR,  I-VAR,  O,  B-VAL]   \n",
       "2               [ B-VAR,  I-VAR,  O,  B-VAL,  I-VAL]   \n",
       "3  [ B-VAR,  O,  B-VAL,  B-VAL,  B-VAL,  B-VAL,  ...   \n",
       "4                       [ B-VAR,  I-VAR,  O,  B-VAL]   \n",
       "\n",
       "                                              Intent  \n",
       "0  [ variable_declaration,  variable_declaration,...  \n",
       "1  [ variable_declaration,  variable_declaration,...  \n",
       "2  [ variable_declaration,  variable_declaration,...  \n",
       "3  [ variable_declaration,  variable_declaration,...  \n",
       "4  [ variable_declaration,  variable_declaration,...  "
      ]
     },
     "execution_count": 6,
     "metadata": {},
     "output_type": "execute_result"
    }
   ],
   "source": [
    "def read_dataset():\n",
    "    data = pd.read_csv('./ner_dataset/ner_dataset.csv', encoding='latin1')\n",
    "\n",
    "    # remove white spaces from column names\n",
    "    data.columns = data.columns.str.strip()\n",
    "\n",
    "    print(data.columns)\n",
    "    # print(data.columns)\n",
    "    # Group by 'Sentence #' and aggregate\n",
    "    grouped_data = data.groupby('Sentence #').agg({\n",
    "        'Word': lambda x: ' '.join(x),  # Join words into a single sentence\n",
    "        'Tag': lambda x: list(x),       # Collect tags into a list\n",
    "        'Intent': lambda x: x     # Collect intents into a list\n",
    "    }).reset_index()  # Reset index to make 'Sentence #' a regular column\n",
    "\n",
    "    return data, grouped_data\n",
    "\n",
    "\n",
    "def prepare_data(dataframe):\n",
    "    dataset = []\n",
    "    for index, row in dataframe.iterrows():\n",
    "        sentence = row['Word']\n",
    "        tags = row['Tag']\n",
    "        intents = row['Intent'][0]\n",
    "        dataset.append((sentence, tags, intents))\n",
    "\n",
    "    return dataset\n",
    "\n",
    "data, grouped_data = read_dataset()\n",
    "\n",
    "prepared_dataset = prepare_data(grouped_data)\n",
    "\n",
    "print(\"Columns:\", data.columns, grouped_data.columns)\n",
    "\n",
    "data.head()\n",
    "grouped_data.head()"
   ]
  },
  {
   "cell_type": "code",
   "execution_count": 7,
   "metadata": {},
   "outputs": [
    {
     "name": "stdout",
     "output_type": "stream",
     "text": [
      "Number of unique words in the dataset: 304\n",
      "Number of unique tags in the dataset: 6\n",
      "Number of unique intents in the dataset: 1\n",
      "Unique tags in the dataset: [' B-VAR' ' I-VAR' ' O' ' B-VAL' ' I-VAL' ' B-TYPE']\n"
     ]
    }
   ],
   "source": [
    "print(\"Number of unique words in the dataset:\", len(data['Word'].unique()) )# number of unique words in the dataset\n",
    "print(\"Number of unique tags in the dataset:\", len(data['Tag'].unique())) # number of unique tags in the dataset\n",
    "print(\"Number of unique intents in the dataset:\", len(data['Intent'].unique())) #number of unique intents in the dataset\n",
    "\n",
    "print(\"Unique tags in the dataset:\", data['Tag'].unique())"
   ]
  },
  {
   "cell_type": "code",
   "execution_count": 8,
   "metadata": {},
   "outputs": [
    {
     "data": {
      "text/plain": [
       "Sentence #    0\n",
       "Word          0\n",
       "Tag           0\n",
       "Intent        0\n",
       "dtype: int64"
      ]
     },
     "execution_count": 8,
     "metadata": {},
     "output_type": "execute_result"
    }
   ],
   "source": [
    "# check for missing values\n",
    "data.isnull().sum() # no missing values"
   ]
  },
  {
   "cell_type": "code",
   "execution_count": 9,
   "metadata": {},
   "outputs": [],
   "source": [
    "\n",
    "# Dictionary word:index pair\n",
    "\n",
    "# Dictionary lable:index pair\n"
   ]
  },
  {
   "cell_type": "code",
   "execution_count": 10,
   "metadata": {},
   "outputs": [
    {
     "name": "stdout",
     "output_type": "stream",
     "text": [
      "The word deckare is identified by the index: 79\n",
      "The label B-VAR for the variable is identified by the index: 1\n"
     ]
    }
   ],
   "source": [
    "print(\"The word declare is identified by the index: {}\".format(word_to_index[\"declare\"]))\n",
    "print(\"The label B-VAR for the variable is identified by the index: {}\".format(tag_to_index[\"B-VAR\"]))"
   ]
  },
  {
   "cell_type": "code",
   "execution_count": 11,
   "metadata": {},
   "outputs": [
    {
     "name": "stdout",
     "output_type": "stream",
     "text": [
      "[('is', 'B-VAR', 'variable_declaration'), ('approved', 'I-VAR', 'variable_declaration'), ('equals', 'O', 'variable_declaration'), ('clustering', 'B-VAL', 'variable_declaration'), ('algorithms', 'I-VAL', 'variable_declaration')]\n"
     ]
    }
   ],
   "source": [
    "# This is a class te get sentence. The each sentence will be list of tuples with its tag and pos.\n",
    "class Sentence(object):\n",
    "    def __init__(self, df):\n",
    "        self.n_sent = 0\n",
    "        self.df = df\n",
    "        self.empty = False\n",
    "        agg = lambda s : [(word.strip(), tag.strip(), intent.strip()) for word, tag, intent in zip(s['Word'].values.tolist(),\n",
    "                                                       s['Tag'].values.tolist(),\n",
    "                                                       s['Intent'].values.tolist())]\n",
    "        self.grouped = self.df.groupby(\"Sentence #\").apply(agg)\n",
    "        self.sentences = [s for s in self.grouped]\n",
    "        \n",
    "    def get_text(self):\n",
    "        try:\n",
    "            s = self.grouped[self.n_sent]\n",
    "            self.n_sent +=1\n",
    "            return s\n",
    "        except:\n",
    "            return None\n",
    "    \n",
    "    def records_to_tuples(self):\n",
    "        dataset = []\n",
    "\n",
    "        grouped_data = data.groupby('Sentence #').agg({\n",
    "        'Word': lambda x: ' '.join(x),  # Join words into a single sentence\n",
    "        'Tag': lambda x: list(x),       # Collect tags into a list\n",
    "        'Intent': lambda x: x     # Collect intents into a list\n",
    "        }).reset_index()\n",
    "\n",
    "        for index, row in grouped_data.iterrows():\n",
    "            sentence = row['Word']\n",
    "            tags = row['Tag']\n",
    "            intents = row['Intent'][0]\n",
    "            dataset.append((sentence, tags, intents))\n",
    "\n",
    "        return dataset\n",
    "        \n",
    "#Displaying one full sentence\n",
    "getter = Sentence(data)\n",
    "sentences = [''.join([s[0] for s in sentence]) for sentence in getter.sentences]\n",
    "sentences[0]\n",
    "\n",
    "#sentence with its pos and tag.\n",
    "sent = getter.get_text()\n",
    "print(sent)"
   ]
  },
  {
   "cell_type": "code",
   "execution_count": 12,
   "metadata": {},
   "outputs": [
    {
     "name": "stdout",
     "output_type": "stream",
     "text": [
      "[('is', 'B-VAR', 'variable_declaration'), ('approved', 'I-VAR', 'variable_declaration'), ('equals', 'O', 'variable_declaration'), ('clustering', 'B-VAL', 'variable_declaration'), ('algorithms', 'I-VAL', 'variable_declaration')]\n"
     ]
    }
   ],
   "source": [
    "sentences = getter.sentences\n",
    "print(sentences[0])"
   ]
  },
  {
   "cell_type": "code",
   "execution_count": 13,
   "metadata": {},
   "outputs": [
    {
     "name": "stdout",
     "output_type": "stream",
     "text": [
      "(' is  approved  equals  clustering  algorithms', [' B-VAR', ' I-VAR', ' O', ' B-VAL', ' I-VAL'], ' variable_declaration')\n"
     ]
    }
   ],
   "source": [
    "other_sentences = getter.records_to_tuples()\n",
    "\n",
    "print(other_sentences[0])"
   ]
  },
  {
   "cell_type": "code",
   "execution_count": 14,
   "metadata": {},
   "outputs": [
    {
     "name": "stdout",
     "output_type": "stream",
     "text": [
      "Max sentence length: 20\n"
     ]
    }
   ],
   "source": [
    "# Deine parameters for the model\n",
    "batch_size = 32\n",
    "epochs = 10\n",
    "max_sentence_length = max([len(sentence.split()) for sentence, _, _ in prepared_dataset])\n",
    "print(\"Max sentence length:\", max_sentence_length)\n",
    "\n",
    "word_embedding = 100\n",
    "intent_embedding = 50"
   ]
  },
  {
   "cell_type": "code",
   "execution_count": 15,
   "metadata": {},
   "outputs": [
    {
     "name": "stdout",
     "output_type": "stream",
     "text": [
      "[[('is', 'B-VAR', 'variable_declaration'), ('approved', 'I-VAR', 'variable_declaration'), ('equals', 'O', 'variable_declaration'), ('clustering', 'B-VAL', 'variable_declaration'), ('algorithms', 'I-VAL', 'variable_declaration')], [('file', 'B-VAR', 'variable_declaration'), ('path', 'I-VAR', 'variable_declaration'), ('equals', 'O', 'variable_declaration'), ('2023', 'B-VAL', 'variable_declaration')], [('user', 'B-VAR', 'variable_declaration'), ('id', 'I-VAR', 'variable_declaration'), ('equals', 'O', 'variable_declaration'), ('REGRESSION', 'B-VAL', 'variable_declaration'), ('MODELS', 'I-VAL', 'variable_declaration')], [('temp', 'B-VAR', 'variable_declaration'), ('equals', 'O', 'variable_declaration'), ('car', 'B-VAL', 'variable_declaration'), ('bus', 'B-VAL', 'variable_declaration'), ('train', 'B-VAL', 'variable_declaration'), ('plane', 'B-VAL', 'variable_declaration'), ('bicycle', 'B-VAL', 'variable_declaration')], [('time', 'B-VAR', 'variable_declaration'), ('elapsed', 'I-VAR', 'variable_declaration'), ('equals', 'O', 'variable_declaration'), ('-555555', 'B-VAL', 'variable_declaration')], [('supplier', 'B-VAR', 'variable_declaration'), ('name', 'I-VAR', 'variable_declaration'), ('equals', 'O', 'variable_declaration'), ('7.1234', 'B-VAL', 'variable_declaration')], [('order', 'B-VAR', 'variable_declaration'), ('number', 'I-VAR', 'variable_declaration'), ('equals', 'O', 'variable_declaration'), ('back', 'B-VAL', 'variable_declaration'), ('end', 'I-VAL', 'variable_declaration'), ('development', 'I-VAL', 'variable_declaration')], [('tax', 'B-VAR', 'variable_declaration'), ('rate', 'I-VAR', 'variable_declaration'), ('equals', 'O', 'variable_declaration'), ('70707', 'B-VAL', 'variable_declaration')], [('product', 'B-VAR', 'variable_declaration'), ('description', 'I-VAR', 'variable_declaration'), ('equals', 'O', 'variable_declaration'), ('-1.602176634', 'B-VAL', 'variable_declaration')], [('inventory', 'B-VAR', 'variable_declaration'), ('level', 'I-VAR', 'variable_declaration'), ('is', 'O', 'variable_declaration'), ('1.0', 'B-VAL', 'variable_declaration')], [('net', 'B-VAR', 'variable_declaration'), ('profit', 'I-VAR', 'variable_declaration'), ('is', 'O', 'variable_declaration'), ('CLUSTERING', 'B-VAL', 'variable_declaration'), ('ALGORITHMS', 'I-VAL', 'variable_declaration')], [('is', 'B-VAR', 'variable_declaration'), ('deleted', 'I-VAR', 'variable_declaration'), ('is', 'O', 'variable_declaration'), ('1.1', 'B-VAL', 'variable_declaration')], [('string', 'B-VAR', 'variable_declaration'), ('buffer', 'I-VAR', 'variable_declaration'), ('is', 'O', 'variable_declaration'), ('object', 'B-VAL', 'variable_declaration'), ('oriented', 'I-VAL', 'variable_declaration'), ('programming', 'I-VAL', 'variable_declaration')], [('is', 'B-VAR', 'variable_declaration'), ('verified', 'I-VAR', 'variable_declaration'), ('is', 'O', 'variable_declaration'), ('STATISTICAL', 'B-VAL', 'variable_declaration'), ('METHODS', 'I-VAL', 'variable_declaration')], [('user', 'B-VAR', 'variable_declaration'), ('settings', 'I-VAR', 'variable_declaration'), ('is', 'O', 'variable_declaration'), ('equal', 'O', 'variable_declaration'), ('to', 'O', 'variable_declaration'), ('UNSUPERVISED', 'B-VAL', 'variable_declaration'), ('LEARNING', 'I-VAL', 'variable_declaration')], [('product', 'B-VAR', 'variable_declaration'), ('description', 'I-VAR', 'variable_declaration'), ('is', 'O', 'variable_declaration'), ('equal', 'O', 'variable_declaration'), ('to', 'O', 'variable_declaration'), ('-1.61803398875', 'B-VAL', 'variable_declaration')], [('feature', 'B-VAR', 'variable_declaration'), ('flags', 'I-VAR', 'variable_declaration'), ('is', 'O', 'variable_declaration'), ('equal', 'O', 'variable_declaration'), ('to', 'O', 'variable_declaration'), ('7.7777', 'B-VAL', 'variable_declaration')], [('budget', 'B-VAR', 'variable_declaration'), ('allocation', 'I-VAR', 'variable_declaration'), ('is', 'O', 'variable_declaration'), ('equal', 'O', 'variable_declaration'), ('to', 'O', 'variable_declaration'), ('-0.999999', 'B-VAL', 'variable_declaration')], [('product', 'B-VAR', 'variable_declaration'), ('id', 'I-VAR', 'variable_declaration'), ('is', 'O', 'variable_declaration'), ('equal', 'O', 'variable_declaration'), ('to', 'O', 'variable_declaration'), ('car', 'B-VAL', 'variable_declaration'), ('bus', 'B-VAL', 'variable_declaration'), ('train', 'B-VAL', 'variable_declaration'), ('plane', 'B-VAL', 'variable_declaration'), ('bicycle', 'B-VAL', 'variable_declaration')], [('delivery', 'B-VAR', 'variable_declaration'), ('address', 'I-VAR', 'variable_declaration'), ('is', 'O', 'variable_declaration'), ('equal', 'O', 'variable_declaration'), ('to', 'O', 'variable_declaration'), ('Front', 'B-VAL', 'variable_declaration'), ('End', 'I-VAL', 'variable_declaration'), ('Development', 'I-VAL', 'variable_declaration')], [('set', 'O', 'variable_declaration'), ('mentor', 'B-VAR', 'variable_declaration'), ('id', 'I-VAR', 'variable_declaration'), ('as', 'O', 'variable_declaration'), ('int', 'B-TYPE', 'variable_declaration'), ('and', 'O', 'variable_declaration'), ('initialize', 'O', 'variable_declaration'), ('with', 'O', 'variable_declaration'), ('444444', 'B-VAL', 'variable_declaration')], [('declare', 'O', 'variable_declaration'), ('key', 'B-VAR', 'variable_declaration'), ('as', 'O', 'variable_declaration'), ('integer', 'B-TYPE', 'variable_declaration'), ('and', 'O', 'variable_declaration'), ('set', 'O', 'variable_declaration'), ('909090', 'B-VAL', 'variable_declaration')], [('make', 'O', 'variable_declaration'), ('current', 'B-VAR', 'variable_declaration'), ('date', 'I-VAR', 'variable_declaration'), ('as', 'O', 'variable_declaration'), ('boolean', 'B-TYPE', 'variable_declaration'), ('and', 'O', 'variable_declaration'), ('initialize', 'O', 'variable_declaration'), ('it', 'O', 'variable_declaration'), ('with', 'O', 'variable_declaration'), ('true', 'B-VAL', 'variable_declaration')], [('declare', 'O', 'variable_declaration'), ('expense', 'B-VAR', 'variable_declaration'), ('report', 'I-VAR', 'variable_declaration'), ('as', 'O', 'variable_declaration'), ('dictionary', 'B-TYPE', 'variable_declaration'), ('and', 'O', 'variable_declaration'), ('initialize', 'O', 'variable_declaration'), ('it', 'O', 'variable_declaration'), ('with', 'O', 'variable_declaration'), ('key1', 'O', 'variable_declaration'), ('value1', 'O', 'variable_declaration'), ('key2', 'O', 'variable_declaration'), ('value2', 'O', 'variable_declaration'), ('key3', 'O', 'variable_declaration'), ('value3', 'O', 'variable_declaration')], [('create', 'O', 'variable_declaration'), ('start', 'B-VAR', 'variable_declaration'), ('time', 'I-VAR', 'variable_declaration'), ('as', 'O', 'variable_declaration'), ('bool', 'B-TYPE', 'variable_declaration'), ('and', 'O', 'variable_declaration'), ('assign', 'O', 'variable_declaration'), ('it', 'O', 'variable_declaration'), ('to', 'O', 'variable_declaration'), ('false', 'B-VAL', 'variable_declaration')], [('initialize', 'O', 'variable_declaration'), ('position', 'B-VAR', 'variable_declaration'), ('as', 'O', 'variable_declaration'), ('bool', 'B-TYPE', 'variable_declaration'), ('and', 'O', 'variable_declaration'), ('value', 'O', 'variable_declaration'), ('false', 'B-VAL', 'variable_declaration')], [('define', 'O', 'variable_declaration'), ('total', 'B-VAR', 'variable_declaration'), ('amount', 'I-VAR', 'variable_declaration'), ('as', 'O', 'variable_declaration'), ('double', 'B-TYPE', 'variable_declaration'), ('and', 'O', 'variable_declaration'), ('initialize', 'O', 'variable_declaration'), ('it', 'O', 'variable_declaration'), ('with', 'O', 'variable_declaration'), ('-1.61803398875', 'B-VAL', 'variable_declaration')], [('initialize', 'O', 'variable_declaration'), ('j', 'B-VAR', 'variable_declaration'), ('as', 'O', 'variable_declaration'), ('double', 'B-TYPE', 'variable_declaration'), ('and', 'O', 'variable_declaration'), ('assign', 'O', 'variable_declaration'), ('to', 'O', 'variable_declaration'), ('-0.4567', 'B-VAL', 'variable_declaration')], [('create', 'O', 'variable_declaration'), ('country', 'B-VAR', 'variable_declaration'), ('code', 'I-VAR', 'variable_declaration'), ('as', 'O', 'variable_declaration'), ('boolean', 'B-TYPE', 'variable_declaration'), ('and', 'O', 'variable_declaration'), ('assign', 'O', 'variable_declaration'), ('it', 'O', 'variable_declaration'), ('to', 'O', 'variable_declaration'), ('true', 'B-VAL', 'variable_declaration')], [('create', 'O', 'variable_declaration'), ('primary', 'B-VAR', 'variable_declaration'), ('contact', 'I-VAR', 'variable_declaration'), ('as', 'O', 'variable_declaration'), ('list', 'B-TYPE', 'variable_declaration'), ('and', 'O', 'variable_declaration'), ('assign', 'O', 'variable_declaration'), ('with', 'O', 'variable_declaration'), ('dog', 'B-VAL', 'variable_declaration'), ('cat', 'B-VAL', 'variable_declaration'), ('bird', 'B-VAL', 'variable_declaration'), ('fish', 'B-VAL', 'variable_declaration'), ('hamster', 'B-VAL', 'variable_declaration'), ('to', 'O', 'variable_declaration'), ('it', 'O', 'variable_declaration')], [('define', 'O', 'variable_declaration'), ('iteration', 'O', 'variable_declaration'), ('as', 'O', 'variable_declaration'), ('float', 'O', 'variable_declaration'), ('and', 'O', 'variable_declaration'), ('assign', 'O', 'variable_declaration'), ('with', 'O', 'variable_declaration'), ('-1.1', 'O', 'variable_declaration'), ('to', 'O', 'variable_declaration'), ('it', 'O', 'variable_declaration')], [('initialize', 'O', 'variable_declaration'), ('customer', 'B-VAR', 'variable_declaration'), ('map', 'I-VAR', 'variable_declaration'), ('as', 'O', 'variable_declaration'), ('dictionary', 'B-TYPE', 'variable_declaration'), ('and', 'O', 'variable_declaration'), ('value', 'O', 'variable_declaration'), ('name', 'O', 'variable_declaration'), ('Alice', 'O', 'variable_declaration'), ('age', 'O', 'variable_declaration'), ('30', 'O', 'variable_declaration'), ('city', 'O', 'variable_declaration'), ('New', 'O', 'variable_declaration'), ('York', 'O', 'variable_declaration'), ('to', 'O', 'variable_declaration'), ('it', 'O', 'variable_declaration')], [('declare', 'O', 'variable_declaration'), ('is', 'B-VAR', 'variable_declaration'), ('visible', 'I-VAR', 'variable_declaration'), ('as', 'O', 'variable_declaration'), ('dictionary', 'B-TYPE', 'variable_declaration'), ('and', 'O', 'variable_declaration'), ('assign', 'O', 'variable_declaration'), ('with', 'O', 'variable_declaration'), ('name', 'O', 'variable_declaration'), ('John', 'O', 'variable_declaration'), ('Doe', 'O', 'variable_declaration'), ('email', 'O', 'variable_declaration'), ('dhfadgmailcom', 'O', 'variable_declaration'), ('phone', 'O', 'variable_declaration'), ('1234567890', 'O', 'variable_declaration'), ('to', 'O', 'variable_declaration'), ('it', 'O', 'variable_declaration')], [('set', 'O', 'variable_declaration'), ('end', 'B-VAR', 'variable_declaration'), ('date', 'I-VAR', 'variable_declaration'), ('as', 'O', 'variable_declaration'), ('boolean', 'B-TYPE', 'variable_declaration'), ('and', 'O', 'variable_declaration'), ('initialize', 'O', 'variable_declaration'), ('it', 'O', 'variable_declaration'), ('to', 'O', 'variable_declaration'), ('true', 'B-VAL', 'variable_declaration'), ('to', 'O', 'variable_declaration'), ('it', 'O', 'variable_declaration')], [('initialize', 'O', 'variable_declaration'), ('data', 'B-VAR', 'variable_declaration'), ('as', 'O', 'variable_declaration'), ('dictionary', 'B-TYPE', 'variable_declaration'), ('and', 'O', 'variable_declaration'), ('set', 'O', 'variable_declaration'), ('to', 'O', 'variable_declaration'), ('key1', 'O', 'variable_declaration'), ('value1', 'O', 'variable_declaration'), ('key2', 'O', 'variable_declaration'), ('value2', 'O', 'variable_declaration'), ('key3', 'O', 'variable_declaration'), ('value3', 'O', 'variable_declaration'), ('to', 'O', 'variable_declaration'), ('it', 'O', 'variable_declaration')], [('declare', 'O', 'variable_declaration'), ('secondary', 'B-VAR', 'variable_declaration'), ('contact', 'I-VAR', 'variable_declaration'), ('as', 'O', 'variable_declaration'), ('float', 'B-TYPE', 'variable_declaration'), ('and', 'O', 'variable_declaration'), ('assign', 'O', 'variable_declaration'), ('to', 'O', 'variable_declaration'), ('-6.62607015', 'B-VAL', 'variable_declaration'), ('to', 'O', 'variable_declaration'), ('it', 'O', 'variable_declaration')], [('make', 'O', 'variable_declaration'), ('is', 'B-VAR', 'variable_declaration'), ('approved', 'I-VAR', 'variable_declaration'), ('as', 'O', 'variable_declaration'), ('dictionary', 'B-TYPE', 'variable_declaration'), ('and', 'O', 'variable_declaration'), ('set', 'O', 'variable_declaration'), ('key1', 'O', 'variable_declaration'), ('1', 'O', 'variable_declaration'), ('key2', 'O', 'variable_declaration'), ('2', 'O', 'variable_declaration'), ('key3', 'O', 'variable_declaration'), ('3', 'O', 'variable_declaration'), ('to', 'O', 'variable_declaration'), ('it', 'O', 'variable_declaration')], [('declare', 'O', 'variable_declaration'), ('is', 'B-VAR', 'variable_declaration'), ('visible', 'I-VAR', 'variable_declaration'), ('as', 'O', 'variable_declaration'), ('array', 'B-TYPE', 'variable_declaration'), ('and', 'O', 'variable_declaration'), ('initialize', 'O', 'variable_declaration'), ('it', 'O', 'variable_declaration'), ('to', 'O', 'variable_declaration'), ('dog', 'B-VAL', 'variable_declaration'), ('cat', 'B-VAL', 'variable_declaration'), ('bird', 'B-VAL', 'variable_declaration'), ('fish', 'B-VAL', 'variable_declaration'), ('hamster', 'B-VAL', 'variable_declaration'), ('to', 'O', 'variable_declaration'), ('it', 'O', 'variable_declaration')], [('set', 'O', 'variable_declaration'), ('a', 'O', 'variable_declaration'), ('new', 'O', 'variable_declaration'), ('int', 'B-TYPE', 'variable_declaration'), ('variable', 'O', 'variable_declaration'), ('titled', 'O', 'variable_declaration'), ('is', 'B-VAR', 'variable_declaration'), ('active', 'I-VAR', 'variable_declaration'), ('and', 'O', 'variable_declaration'), ('assign', 'O', 'variable_declaration'), ('it', 'O', 'variable_declaration'), ('to', 'O', 'variable_declaration'), ('232323', 'B-VAL', 'variable_declaration')], [('define', 'O', 'variable_declaration'), ('a', 'O', 'variable_declaration'), ('new', 'O', 'variable_declaration'), ('integer', 'B-TYPE', 'variable_declaration'), ('variable', 'O', 'variable_declaration'), ('identified', 'B-VAR', 'variable_declaration'), ('product', 'I-VAR', 'variable_declaration'), ('set', 'O', 'variable_declaration'), ('and', 'O', 'variable_declaration'), ('initialize', 'O', 'variable_declaration'), ('with', 'O', 'variable_declaration'), ('70707', 'B-VAL', 'variable_declaration')], [('set', 'O', 'variable_declaration'), ('a', 'O', 'variable_declaration'), ('new', 'O', 'variable_declaration'), ('array', 'B-TYPE', 'variable_declaration'), ('variable', 'O', 'variable_declaration'), ('under', 'O', 'variable_declaration'), ('the', 'O', 'variable_declaration'), ('name', 'I-VAR', 'variable_declaration'), ('region', 'B-VAR', 'variable_declaration'), ('name', 'O', 'variable_declaration'), ('and', 'O', 'variable_declaration'), ('initialize', 'O', 'variable_declaration'), ('with', 'O', 'variable_declaration'), ('apple', 'B-VAL', 'variable_declaration'), ('banana', 'B-VAL', 'variable_declaration'), ('cherry', 'B-VAL', 'variable_declaration')], [('make', 'O', 'variable_declaration'), ('a', 'O', 'variable_declaration'), ('new', 'O', 'variable_declaration'), ('string', 'B-TYPE', 'variable_declaration'), ('variable', 'O', 'variable_declaration'), ('with', 'O', 'variable_declaration'), ('name', 'O', 'variable_declaration'), ('emergency', 'B-VAR', 'variable_declaration'), ('contact', 'I-VAR', 'variable_declaration'), ('and', 'O', 'variable_declaration'), ('initialize', 'O', 'variable_declaration'), ('SPEECH', 'B-VAL', 'variable_declaration'), ('RECOGNITION', 'I-VAL', 'variable_declaration')], [('declare', 'O', 'variable_declaration'), ('a', 'O', 'variable_declaration'), ('new', 'O', 'variable_declaration'), ('dictionary', 'B-TYPE', 'variable_declaration'), ('variable', 'O', 'variable_declaration'), ('with', 'O', 'variable_declaration'), ('name', 'O', 'variable_declaration'), ('key', 'B-VAR', 'variable_declaration'), ('and', 'O', 'variable_declaration'), ('set', 'O', 'variable_declaration'), ('it', 'O', 'variable_declaration'), ('with', 'O', 'variable_declaration'), ('key1', 'O', 'variable_declaration'), ('1', 'O', 'variable_declaration'), ('key2', 'O', 'variable_declaration'), ('2', 'O', 'variable_declaration'), ('key3', 'O', 'variable_declaration'), ('3', 'O', 'variable_declaration')], [('make', 'O', 'variable_declaration'), ('a', 'O', 'variable_declaration'), ('new', 'O', 'variable_declaration'), ('character', 'B-TYPE', 'variable_declaration'), ('variable', 'O', 'variable_declaration'), ('identified', 'O', 'variable_declaration'), ('as', 'O', 'variable_declaration'), ('step', 'B-VAR', 'variable_declaration'), ('and', 'O', 'variable_declaration'), ('initialize', 'O', 'variable_declaration'), ('v', 'B-VAL', 'variable_declaration'), ('to', 'O', 'variable_declaration'), ('it', 'O', 'variable_declaration')], [('set', 'O', 'variable_declaration'), ('a', 'O', 'variable_declaration'), ('new', 'O', 'variable_declaration'), ('bool', 'B-TYPE', 'variable_declaration'), ('variable', 'O', 'variable_declaration'), ('named', 'O', 'variable_declaration'), ('net', 'B-VAR', 'variable_declaration'), ('profit', 'I-VAR', 'variable_declaration'), ('and', 'O', 'variable_declaration'), ('assign', 'O', 'variable_declaration'), ('it', 'O', 'variable_declaration'), ('to', 'O', 'variable_declaration'), ('false', 'B-VAL', 'variable_declaration'), ('to', 'O', 'variable_declaration'), ('it', 'O', 'variable_declaration')], [('declare', 'O', 'variable_declaration'), ('a', 'O', 'variable_declaration'), ('new', 'O', 'variable_declaration'), ('integer', 'B-TYPE', 'variable_declaration'), ('variable', 'O', 'variable_declaration'), ('identified', 'O', 'variable_declaration'), ('user', 'B-VAR', 'variable_declaration'), ('login', 'I-VAR', 'variable_declaration'), ('and', 'O', 'variable_declaration'), ('assign', 'O', 'variable_declaration'), ('to', 'O', 'variable_declaration'), ('12345', 'B-VAL', 'variable_declaration'), ('to', 'O', 'variable_declaration'), ('it', 'O', 'variable_declaration')], [('set', 'O', 'variable_declaration'), ('a', 'O', 'variable_declaration'), ('new', 'O', 'variable_declaration'), ('list', 'B-TYPE', 'variable_declaration'), ('variable', 'O', 'variable_declaration'), ('called', 'O', 'variable_declaration'), ('as', 'O', 'variable_declaration'), ('user', 'B-VAR', 'variable_declaration'), ('id', 'I-VAR', 'variable_declaration'), ('and', 'O', 'variable_declaration'), ('assign', 'O', 'variable_declaration'), ('it', 'O', 'variable_declaration'), ('to', 'O', 'variable_declaration'), ('123', 'B-VAL', 'variable_declaration'), ('banana', 'B-VAL', 'variable_declaration'), ('-1.23', 'B-VAL', 'variable_declaration'), ('True', 'B-VAL', 'variable_declaration'), ('test', 'B-VAL', 'variable_declaration'), ('to', 'O', 'variable_declaration'), ('it', 'O', 'variable_declaration')], [('define', 'O', 'variable_declaration'), ('a', 'O', 'variable_declaration'), ('new', 'O', 'variable_declaration'), ('bool', 'B-TYPE', 'variable_declaration'), ('variable', 'O', 'variable_declaration'), ('named', 'O', 'variable_declaration'), ('transaction', 'B-VAR', 'variable_declaration'), ('amount', 'I-VAR', 'variable_declaration'), ('and', 'O', 'variable_declaration'), ('initialize', 'O', 'variable_declaration'), ('it', 'O', 'variable_declaration'), ('with', 'O', 'variable_declaration'), ('true', 'B-VAL', 'variable_declaration'), ('to', 'O', 'variable_declaration'), ('it', 'O', 'variable_declaration')], [('make', 'O', 'variable_declaration'), ('a', 'O', 'variable_declaration'), ('new', 'O', 'variable_declaration'), ('variable', 'O', 'variable_declaration'), ('titled', 'O', 'variable_declaration'), ('as', 'O', 'variable_declaration'), ('due', 'B-VAR', 'variable_declaration'), ('date', 'I-VAR', 'variable_declaration'), ('and', 'O', 'variable_declaration'), ('set', 'O', 'variable_declaration'), ('it', 'O', 'variable_declaration'), ('with', 'O', 'variable_declaration'), ('data', 'B-VAL', 'variable_declaration'), ('visualization', 'I-VAL', 'variable_declaration')], [('create', 'O', 'variable_declaration'), ('a', 'O', 'variable_declaration'), ('new', 'O', 'variable_declaration'), ('variable', 'O', 'variable_declaration'), ('under', 'O', 'variable_declaration'), ('the', 'O', 'variable_declaration'), ('name', 'O', 'variable_declaration'), ('completed', 'B-VAR', 'variable_declaration'), ('and', 'O', 'variable_declaration'), ('set', 'O', 'variable_declaration'), ('it', 'O', 'variable_declaration'), ('with', 'O', 'variable_declaration'), ('Version', 'B-VAL', 'variable_declaration'), ('Control', 'I-VAL', 'variable_declaration'), ('System', 'I-VAL', 'variable_declaration')], [('set', 'O', 'variable_declaration'), ('a', 'O', 'variable_declaration'), ('new', 'O', 'variable_declaration'), ('variable', 'O', 'variable_declaration'), ('with', 'O', 'variable_declaration'), ('the', 'O', 'variable_declaration'), ('name', 'O', 'variable_declaration'), ('transaction', 'B-VAR', 'variable_declaration'), ('amount', 'I-VAR', 'variable_declaration'), ('and', 'O', 'variable_declaration'), ('assign', 'O', 'variable_declaration'), ('it', 'O', 'variable_declaration'), ('to', 'O', 'variable_declaration'), ('-0.27182', 'B-VAL', 'variable_declaration')], [('initialize', 'O', 'variable_declaration'), ('a', 'O', 'variable_declaration'), ('new', 'O', 'variable_declaration'), ('variable', 'O', 'variable_declaration'), ('called', 'O', 'variable_declaration'), ('as', 'O', 'variable_declaration'), ('feature', 'B-VAR', 'variable_declaration'), ('flags', 'I-VAR', 'variable_declaration'), ('and', 'O', 'variable_declaration'), ('value', 'O', 'variable_declaration'), ('12345', 'B-VAL', 'variable_declaration')], [('set', 'O', 'variable_declaration'), ('a', 'O', 'variable_declaration'), ('new', 'O', 'variable_declaration'), ('variable', 'O', 'variable_declaration'), ('named', 'O', 'variable_declaration'), ('is', 'B-VAR', 'variable_declaration'), ('logged', 'I-VAR', 'variable_declaration'), ('in', 'O', 'variable_declaration'), ('and', 'O', 'variable_declaration'), ('initialize', 'O', 'variable_declaration'), ('it', 'O', 'variable_declaration'), ('with', 'O', 'variable_declaration'), ('deep', 'B-VAL', 'variable_declaration'), ('learning', 'I-VAL', 'variable_declaration'), ('models', 'I-VAL', 'variable_declaration')], [('define', 'O', 'variable_declaration'), ('a', 'O', 'variable_declaration'), ('new', 'O', 'variable_declaration'), ('variable', 'O', 'variable_declaration'), ('under', 'O', 'variable_declaration'), ('the', 'O', 'variable_declaration'), ('name', 'O', 'variable_declaration'), ('user', 'B-VAR', 'variable_declaration'), ('preferences', 'I-VAR', 'variable_declaration'), ('and', 'O', 'variable_declaration'), ('set', 'O', 'variable_declaration'), ('it', 'O', 'variable_declaration'), ('to', 'O', 'variable_declaration'), ('-456', 'B-VAL', 'variable_declaration')], [('under', 'O', 'variable_declaration'), ('the', 'O', 'variable_declaration'), ('name', 'O', 'variable_declaration'), ('file', 'B-VAR', 'variable_declaration'), ('path', 'I-VAR', 'variable_declaration'), ('initialize', 'O', 'variable_declaration'), ('a', 'O', 'variable_declaration'), ('new', 'O', 'variable_declaration'), ('bool', 'B-TYPE', 'variable_declaration'), ('variable', 'O', 'variable_declaration'), ('and', 'O', 'variable_declaration'), ('set', 'O', 'variable_declaration'), ('it', 'O', 'variable_declaration'), ('to', 'O', 'variable_declaration'), ('false', 'B-VAL', 'variable_declaration')], [('under', 'O', 'variable_declaration'), ('the', 'O', 'variable_declaration'), ('name', 'O', 'variable_declaration'), ('is', 'B-VAR', 'variable_declaration'), ('logged', 'I-VAR', 'variable_declaration'), ('in', 'O', 'variable_declaration'), ('initialize', 'O', 'variable_declaration'), ('a', 'O', 'variable_declaration'), ('new', 'O', 'variable_declaration'), ('array', 'B-TYPE', 'variable_declaration'), ('variable', 'O', 'variable_declaration'), ('and', 'O', 'variable_declaration'), ('set', 'O', 'variable_declaration'), ('it', 'O', 'variable_declaration'), ('to', 'O', 'variable_declaration'), ('10.5', 'B-VAL', 'variable_declaration'), ('20.5', 'B-VAL', 'variable_declaration'), ('30.5', 'B-VAL', 'variable_declaration'), ('40.5', 'B-VAL', 'variable_declaration'), ('50.5', 'B-VAL', 'variable_declaration')], [('under', 'O', 'variable_declaration'), ('the', 'O', 'variable_declaration'), ('name', 'O', 'variable_declaration'), ('user', 'B-VAR', 'variable_declaration'), ('settings', 'I-VAR', 'variable_declaration'), ('initialize', 'O', 'variable_declaration'), ('a', 'O', 'variable_declaration'), ('new', 'O', 'variable_declaration'), ('bool', 'B-TYPE', 'variable_declaration'), ('variable', 'O', 'variable_declaration'), ('and', 'O', 'variable_declaration'), ('set', 'O', 'variable_declaration'), ('it', 'O', 'variable_declaration'), ('to', 'O', 'variable_declaration'), ('true', 'B-VAL', 'variable_declaration')], [('under', 'O', 'variable_declaration'), ('the', 'O', 'variable_declaration'), ('name', 'O', 'variable_declaration'), ('product', 'B-VAR', 'variable_declaration'), ('price', 'I-VAR', 'variable_declaration'), ('initialize', 'O', 'variable_declaration'), ('a', 'O', 'variable_declaration'), ('new', 'O', 'variable_declaration'), ('bool', 'B-TYPE', 'variable_declaration'), ('variable', 'O', 'variable_declaration'), ('and', 'O', 'variable_declaration'), ('set', 'O', 'variable_declaration'), ('it', 'O', 'variable_declaration'), ('to', 'O', 'variable_declaration'), ('false', 'B-VAL', 'variable_declaration')], [('under', 'O', 'variable_declaration'), ('the', 'O', 'variable_declaration'), ('name', 'O', 'variable_declaration'), ('net', 'B-VAR', 'variable_declaration'), ('profit', 'I-VAR', 'variable_declaration'), ('set', 'O', 'variable_declaration'), ('a', 'O', 'variable_declaration'), ('new', 'O', 'variable_declaration'), ('bool', 'B-TYPE', 'variable_declaration'), ('variable', 'O', 'variable_declaration'), ('and', 'O', 'variable_declaration'), ('set', 'O', 'variable_declaration'), ('it', 'O', 'variable_declaration'), ('to', 'O', 'variable_declaration'), ('true', 'B-VAL', 'variable_declaration')], [('under', 'O', 'variable_declaration'), ('the', 'O', 'variable_declaration'), ('name', 'O', 'variable_declaration'), ('colleague', 'B-VAR', 'variable_declaration'), ('email', 'I-VAR', 'variable_declaration'), ('make', 'O', 'variable_declaration'), ('a', 'O', 'variable_declaration'), ('new', 'O', 'variable_declaration'), ('int', 'B-TYPE', 'variable_declaration'), ('variable', 'O', 'variable_declaration'), ('and', 'O', 'variable_declaration'), ('set', 'O', 'variable_declaration'), ('it', 'O', 'variable_declaration'), ('to', 'O', 'variable_declaration'), ('111111', 'B-VAL', 'variable_declaration')], [('under', 'O', 'variable_declaration'), ('the', 'O', 'variable_declaration'), ('name', 'O', 'variable_declaration'), ('position', 'B-VAR', 'variable_declaration'), ('make', 'O', 'variable_declaration'), ('a', 'O', 'variable_declaration'), ('new', 'O', 'variable_declaration'), ('float', 'B-TYPE', 'variable_declaration'), ('variable', 'O', 'variable_declaration'), ('and', 'O', 'variable_declaration'), ('set', 'O', 'variable_declaration'), ('it', 'O', 'variable_declaration'), ('to', 'O', 'variable_declaration'), ('-0.666667', 'B-VAL', 'variable_declaration')], [('under', 'O', 'variable_declaration'), ('the', 'O', 'variable_declaration'), ('name', 'O', 'variable_declaration'), ('colleague', 'B-VAR', 'variable_declaration'), ('email', 'I-VAR', 'variable_declaration'), ('initialize', 'O', 'variable_declaration'), ('a', 'O', 'variable_declaration'), ('new', 'O', 'variable_declaration'), ('array', 'B-TYPE', 'variable_declaration'), ('variable', 'O', 'variable_declaration'), ('and', 'O', 'variable_declaration'), ('set', 'O', 'variable_declaration'), ('it', 'O', 'variable_declaration'), ('to', 'O', 'variable_declaration'), ('-5.5', 'B-VAL', 'variable_declaration'), ('5.5', 'B-VAL', 'variable_declaration'), ('-10.1', 'B-VAL', 'variable_declaration'), ('10.1', 'B-VAL', 'variable_declaration'), ('and', 'O', 'variable_declaration'), ('0.0', 'B-VAL', 'variable_declaration')], [('under', 'O', 'variable_declaration'), ('the', 'O', 'variable_declaration'), ('name', 'O', 'variable_declaration'), ('temp', 'B-VAR', 'variable_declaration'), ('make', 'O', 'variable_declaration'), ('a', 'O', 'variable_declaration'), ('new', 'O', 'variable_declaration'), ('list', 'B-TYPE', 'variable_declaration'), ('variable', 'O', 'variable_declaration'), ('and', 'O', 'variable_declaration'), ('set', 'O', 'variable_declaration'), ('it', 'O', 'variable_declaration'), ('to', 'O', 'variable_declaration'), ('dog', 'B-VAL', 'variable_declaration'), ('cat', 'B-VAL', 'variable_declaration'), ('bird', 'B-VAL', 'variable_declaration'), ('fish', 'B-VAL', 'variable_declaration'), ('hamster', 'B-VAL', 'variable_declaration')], [('with', 'O', 'variable_declaration'), ('the', 'O', 'variable_declaration'), ('name', 'O', 'variable_declaration'), ('is', 'B-VAR', 'variable_declaration'), ('enabled', 'I-VAR', 'variable_declaration'), ('initialize', 'O', 'variable_declaration'), ('a', 'O', 'variable_declaration'), ('new', 'O', 'variable_declaration'), ('float', 'B-TYPE', 'variable_declaration'), ('variable', 'O', 'variable_declaration'), ('and', 'O', 'variable_declaration'), ('assign', 'O', 'variable_declaration'), ('1.1', 'B-VAL', 'variable_declaration'), ('to', 'O', 'variable_declaration'), ('it', 'O', 'variable_declaration')], [('with', 'O', 'variable_declaration'), ('the', 'O', 'variable_declaration'), ('name', 'O', 'variable_declaration'), ('completed', 'B-VAR', 'variable_declaration'), ('define', 'O', 'variable_declaration'), ('a', 'O', 'variable_declaration'), ('new', 'O', 'variable_declaration'), ('integer', 'B-TYPE', 'variable_declaration'), ('variable', 'O', 'variable_declaration'), ('and', 'O', 'variable_declaration'), ('assign', 'O', 'variable_declaration'), ('-555555', 'B-VAL', 'variable_declaration'), ('to', 'O', 'variable_declaration'), ('it', 'O', 'variable_declaration')], [('with', 'O', 'variable_declaration'), ('the', 'O', 'variable_declaration'), ('name', 'O', 'variable_declaration'), ('gross', 'B-VAR', 'variable_declaration'), ('income', 'I-VAR', 'variable_declaration'), ('initialize', 'O', 'variable_declaration'), ('a', 'O', 'variable_declaration'), ('new', 'O', 'variable_declaration'), ('char', 'B-TYPE', 'variable_declaration'), ('variable', 'O', 'variable_declaration'), ('and', 'O', 'variable_declaration'), ('assign', 'O', 'variable_declaration'), ('j', 'B-VAL', 'variable_declaration'), ('to', 'O', 'variable_declaration'), ('it', 'O', 'variable_declaration')], [('with', 'O', 'variable_declaration'), ('the', 'O', 'variable_declaration'), ('name', 'O', 'variable_declaration'), ('max', 'B-VAR', 'variable_declaration'), ('value', 'I-VAR', 'variable_declaration'), ('create', 'O', 'variable_declaration'), ('a', 'O', 'variable_declaration'), ('new', 'O', 'variable_declaration'), ('double', 'B-TYPE', 'variable_declaration'), ('variable', 'O', 'variable_declaration'), ('and', 'O', 'variable_declaration'), ('assign', 'O', 'variable_declaration'), ('-0.707', 'B-VAL', 'variable_declaration'), ('to', 'O', 'variable_declaration'), ('it', 'O', 'variable_declaration')], [('with', 'O', 'variable_declaration'), ('the', 'O', 'variable_declaration'), ('name', 'O', 'variable_declaration'), ('is', 'B-VAR', 'variable_declaration'), ('active', 'I-VAR', 'variable_declaration'), ('initialize', 'O', 'variable_declaration'), ('a', 'O', 'variable_declaration'), ('new', 'O', 'variable_declaration'), ('array', 'B-TYPE', 'variable_declaration'), ('variable', 'O', 'variable_declaration'), ('and', 'O', 'variable_declaration'), ('assign', 'O', 'variable_declaration'), ('hello', 'B-VAL', 'variable_declaration'), ('42', 'B-VAL', 'variable_declaration'), ('3.1415', 'B-VAL', 'variable_declaration'), ('False', 'B-VAL', 'variable_declaration'), ('-7', 'B-VAL', 'variable_declaration'), ('to', 'O', 'variable_declaration'), ('it', 'O', 'variable_declaration')], [('under', 'O', 'variable_declaration'), ('the', 'O', 'variable_declaration'), ('name', 'O', 'variable_declaration'), ('user', 'B-VAR', 'variable_declaration'), ('location', 'I-VAR', 'variable_declaration'), ('create', 'O', 'variable_declaration'), ('a', 'O', 'variable_declaration'), ('new', 'O', 'variable_declaration'), ('variable', 'O', 'variable_declaration'), ('and', 'O', 'variable_declaration'), ('initialize', 'O', 'variable_declaration'), ('with', 'O', 'variable_declaration'), ('27182', 'B-VAL', 'variable_declaration')], [('under', 'O', 'variable_declaration'), ('the', 'O', 'variable_declaration'), ('name', 'O', 'variable_declaration'), ('key', 'B-VAR', 'variable_declaration'), ('make', 'O', 'variable_declaration'), ('a', 'O', 'variable_declaration'), ('new', 'O', 'variable_declaration'), ('variable', 'O', 'variable_declaration'), ('and', 'O', 'variable_declaration'), ('set', 'O', 'variable_declaration'), ('data', 'B-VAL', 'variable_declaration'), ('analysis', 'I-VAL', 'variable_declaration')], [('under', 'O', 'variable_declaration'), ('the', 'O', 'variable_declaration'), ('name', 'I-VAR', 'variable_declaration'), ('supplier', 'B-VAR', 'variable_declaration'), ('name', 'O', 'variable_declaration'), ('set', 'O', 'variable_declaration'), ('a', 'O', 'variable_declaration'), ('new', 'O', 'variable_declaration'), ('variable', 'O', 'variable_declaration'), ('and', 'O', 'variable_declaration'), ('assign', 'O', 'variable_declaration'), ('it', 'O', 'variable_declaration'), ('to', 'O', 'variable_declaration'), ('-0.4567', 'B-VAL', 'variable_declaration')], [('under', 'O', 'variable_declaration'), ('the', 'O', 'variable_declaration'), ('name', 'O', 'variable_declaration'), ('is', 'B-VAR', 'variable_declaration'), ('verified', 'I-VAR', 'variable_declaration'), ('declare', 'O', 'variable_declaration'), ('a', 'O', 'variable_declaration'), ('new', 'O', 'variable_declaration'), ('variable', 'O', 'variable_declaration'), ('and', 'O', 'variable_declaration'), ('value', 'O', 'variable_declaration'), ('Neural', 'B-VAL', 'variable_declaration'), ('Networks', 'I-VAL', 'variable_declaration')], [('under', 'O', 'variable_declaration'), ('the', 'O', 'variable_declaration'), ('name', 'I-VAR', 'variable_declaration'), ('region', 'B-VAR', 'variable_declaration'), ('name', 'O', 'variable_declaration'), ('set', 'O', 'variable_declaration'), ('a', 'O', 'variable_declaration'), ('new', 'O', 'variable_declaration'), ('variable', 'O', 'variable_declaration'), ('and', 'O', 'variable_declaration'), ('assign', 'O', 'variable_declaration'), ('with', 'O', 'variable_declaration'), ('REGRESSION', 'B-VAL', 'variable_declaration'), ('MODELS', 'I-VAL', 'variable_declaration')], [('under', 'O', 'variable_declaration'), ('the', 'O', 'variable_declaration'), ('name', 'O', 'variable_declaration'), ('user', 'B-VAR', 'variable_declaration'), ('email', 'I-VAR', 'variable_declaration'), ('define', 'O', 'variable_declaration'), ('a', 'O', 'variable_declaration'), ('new', 'O', 'variable_declaration'), ('variable', 'O', 'variable_declaration'), ('and', 'O', 'variable_declaration'), ('assign', 'O', 'variable_declaration'), ('with', 'O', 'variable_declaration'), ('5.6789', 'B-VAL', 'variable_declaration')], [('with', 'O', 'variable_declaration'), ('the', 'O', 'variable_declaration'), ('name', 'B-VAR', 'variable_declaration'), ('info', 'I-VAR', 'variable_declaration'), ('set', 'O', 'variable_declaration'), ('a', 'O', 'variable_declaration'), ('new', 'O', 'variable_declaration'), ('variable', 'O', 'variable_declaration'), ('and', 'O', 'variable_declaration'), ('value', 'O', 'variable_declaration'), ('101010', 'B-VAL', 'variable_declaration')], [('with', 'O', 'variable_declaration'), ('the', 'O', 'variable_declaration'), ('name', 'O', 'variable_declaration'), ('customer', 'B-VAR', 'variable_declaration'), ('map', 'I-VAR', 'variable_declaration'), ('initialize', 'O', 'variable_declaration'), ('a', 'O', 'variable_declaration'), ('new', 'O', 'variable_declaration'), ('variable', 'O', 'variable_declaration'), ('and', 'O', 'variable_declaration'), ('value', 'O', 'variable_declaration'), ('cascading', 'B-VAL', 'variable_declaration'), ('style', 'I-VAL', 'variable_declaration'), ('sheets', 'I-VAL', 'variable_declaration')], [('with', 'O', 'variable_declaration'), ('the', 'O', 'variable_declaration'), ('name', 'I-VAR', 'variable_declaration'), ('product', 'B-VAR', 'variable_declaration'), ('name', 'O', 'variable_declaration'), ('make', 'O', 'variable_declaration'), ('a', 'O', 'variable_declaration'), ('new', 'O', 'variable_declaration'), ('variable', 'O', 'variable_declaration'), ('and', 'O', 'variable_declaration'), ('value', 'O', 'variable_declaration'), ('key1', 'O', 'variable_declaration'), ('1', 'O', 'variable_declaration'), ('key2', 'O', 'variable_declaration'), ('2', 'O', 'variable_declaration'), ('key3', 'O', 'variable_declaration'), ('3', 'O', 'variable_declaration')], [('with', 'O', 'variable_declaration'), ('the', 'O', 'variable_declaration'), ('name', 'O', 'variable_declaration'), ('user', 'B-VAR', 'variable_declaration'), ('list', 'I-VAR', 'variable_declaration'), ('initialize', 'O', 'variable_declaration'), ('a', 'O', 'variable_declaration'), ('new', 'O', 'variable_declaration'), ('variable', 'O', 'variable_declaration'), ('and', 'O', 'variable_declaration'), ('value', 'O', 'variable_declaration'), ('-202020', 'B-VAL', 'variable_declaration')], [('with', 'O', 'variable_declaration'), ('the', 'O', 'variable_declaration'), ('name', 'O', 'variable_declaration'), ('feature', 'B-VAR', 'variable_declaration'), ('flags', 'I-VAR', 'variable_declaration'), ('declare', 'O', 'variable_declaration'), ('a', 'O', 'variable_declaration'), ('new', 'O', 'variable_declaration'), ('variable', 'O', 'variable_declaration'), ('and', 'O', 'variable_declaration'), ('value', 'O', 'variable_declaration'), ('apple', 'B-VAL', 'variable_declaration'), ('banana', 'B-VAL', 'variable_declaration'), ('cherry', 'B-VAL', 'variable_declaration')], [('with', 'O', 'variable_declaration'), ('the', 'O', 'variable_declaration'), ('name', 'I-VAR', 'variable_declaration'), ('street', 'B-VAR', 'variable_declaration'), ('name', 'O', 'variable_declaration'), ('make', 'O', 'variable_declaration'), ('a', 'O', 'variable_declaration'), ('new', 'O', 'variable_declaration'), ('variable', 'O', 'variable_declaration'), ('and', 'O', 'variable_declaration'), ('value', 'O', 'variable_declaration'), ('-2.71828', 'B-VAL', 'variable_declaration')], [('with', 'O', 'variable_declaration'), ('the', 'O', 'variable_declaration'), ('name', 'O', 'variable_declaration'), ('country', 'B-VAR', 'variable_declaration'), ('code', 'I-VAR', 'variable_declaration'), ('make', 'O', 'variable_declaration'), ('a', 'O', 'variable_declaration'), ('new', 'O', 'variable_declaration'), ('variable', 'O', 'variable_declaration'), ('and', 'O', 'variable_declaration'), ('value', 'O', 'variable_declaration'), ('Continuous', 'B-VAL', 'variable_declaration'), ('Integration', 'I-VAL', 'variable_declaration')], [('with', 'O', 'variable_declaration'), ('the', 'O', 'variable_declaration'), ('name', 'O', 'variable_declaration'), ('net', 'B-VAR', 'variable_declaration'), ('profit', 'I-VAR', 'variable_declaration'), ('make', 'O', 'variable_declaration'), ('a', 'O', 'variable_declaration'), ('new', 'O', 'variable_declaration'), ('variable', 'O', 'variable_declaration'), ('and', 'O', 'variable_declaration'), ('value', 'O', 'variable_declaration'), ('User', 'B-VAL', 'variable_declaration'), ('Interface', 'I-VAL', 'variable_declaration')], [('with', 'O', 'variable_declaration'), ('the', 'O', 'variable_declaration'), ('name', 'O', 'variable_declaration'), ('data', 'B-VAR', 'variable_declaration'), ('create', 'O', 'variable_declaration'), ('a', 'O', 'variable_declaration'), ('new', 'O', 'variable_declaration'), ('variable', 'O', 'variable_declaration'), ('and', 'O', 'variable_declaration'), ('value', 'O', 'variable_declaration'), ('1', 'B-VAL', 'variable_declaration'), ('2', 'B-VAL', 'variable_declaration'), ('3', 'B-VAL', 'variable_declaration'), ('4', 'B-VAL', 'variable_declaration'), ('5', 'B-VAL', 'variable_declaration')], [('with', 'O', 'variable_declaration'), ('the', 'O', 'variable_declaration'), ('name', 'O', 'variable_declaration'), ('product', 'B-VAR', 'variable_declaration'), ('price', 'I-VAR', 'variable_declaration'), ('define', 'O', 'variable_declaration'), ('a', 'O', 'variable_declaration'), ('new', 'O', 'variable_declaration'), ('variable', 'O', 'variable_declaration'), ('and', 'O', 'variable_declaration'), ('value', 'O', 'variable_declaration'), ('-999999', 'B-VAL', 'variable_declaration')], [('under', 'O', 'variable_declaration'), ('the', 'O', 'variable_declaration'), ('name', 'O', 'variable_declaration'), ('customer', 'B-VAR', 'variable_declaration'), ('map', 'I-VAR', 'variable_declaration'), ('define', 'O', 'variable_declaration'), ('a', 'O', 'variable_declaration'), ('new', 'O', 'variable_declaration'), ('variable', 'O', 'variable_declaration'), ('and', 'O', 'variable_declaration'), ('value', 'O', 'variable_declaration'), ('-8.8888', 'B-VAL', 'variable_declaration')], [('under', 'O', 'variable_declaration'), ('the', 'O', 'variable_declaration'), ('name', 'I-VAR', 'variable_declaration'), ('city', 'B-VAR', 'variable_declaration'), ('name', 'O', 'variable_declaration'), ('initialize', 'O', 'variable_declaration'), ('a', 'O', 'variable_declaration'), ('new', 'O', 'variable_declaration'), ('variable', 'O', 'variable_declaration'), ('and', 'O', 'variable_declaration'), ('value', 'O', 'variable_declaration'), ('network', 'B-VAL', 'variable_declaration'), ('security', 'I-VAL', 'variable_declaration')], [('under', 'O', 'variable_declaration'), ('the', 'O', 'variable_declaration'), ('name', 'O', 'variable_declaration'), ('value', 'B-VAR', 'variable_declaration'), ('define', 'O', 'variable_declaration'), ('a', 'O', 'variable_declaration'), ('new', 'O', 'variable_declaration'), ('variable', 'O', 'variable_declaration'), ('and', 'O', 'variable_declaration'), ('value', 'O', 'variable_declaration'), ('software', 'B-VAL', 'variable_declaration'), ('development', 'I-VAL', 'variable_declaration')], [('under', 'O', 'variable_declaration'), ('the', 'O', 'variable_declaration'), ('name', 'O', 'variable_declaration'), ('last', 'B-VAR', 'variable_declaration'), ('updated', 'I-VAR', 'variable_declaration'), ('make', 'O', 'variable_declaration'), ('a', 'O', 'variable_declaration'), ('new', 'O', 'variable_declaration'), ('variable', 'O', 'variable_declaration'), ('and', 'O', 'variable_declaration'), ('value', 'O', 'variable_declaration'), ('full', 'B-VAL', 'variable_declaration'), ('stack', 'I-VAL', 'variable_declaration'), ('developer', 'I-VAL', 'variable_declaration')], [('under', 'O', 'variable_declaration'), ('the', 'O', 'variable_declaration'), ('name', 'O', 'variable_declaration'), ('position', 'B-VAR', 'variable_declaration'), ('initialize', 'O', 'variable_declaration'), ('a', 'O', 'variable_declaration'), ('new', 'O', 'variable_declaration'), ('variable', 'O', 'variable_declaration'), ('and', 'O', 'variable_declaration'), ('value', 'O', 'variable_declaration'), ('0.707', 'B-VAL', 'variable_declaration')], [('under', 'O', 'variable_declaration'), ('the', 'O', 'variable_declaration'), ('name', 'I-VAR', 'variable_declaration'), ('supplier', 'B-VAR', 'variable_declaration'), ('name', 'O', 'variable_declaration'), ('declare', 'O', 'variable_declaration'), ('a', 'O', 'variable_declaration'), ('new', 'O', 'variable_declaration'), ('variable', 'O', 'variable_declaration'), ('and', 'O', 'variable_declaration'), ('value', 'O', 'variable_declaration'), ('JAVASCRIPT', 'B-VAL', 'variable_declaration'), ('FRAMEWORK', 'I-VAL', 'variable_declaration')], [('under', 'O', 'variable_declaration'), ('the', 'O', 'variable_declaration'), ('name', 'I-VAR', 'variable_declaration'), ('supplier', 'B-VAR', 'variable_declaration'), ('name', 'O', 'variable_declaration'), ('create', 'O', 'variable_declaration'), ('a', 'O', 'variable_declaration'), ('new', 'O', 'variable_declaration'), ('variable', 'O', 'variable_declaration'), ('and', 'O', 'variable_declaration'), ('value', 'O', 'variable_declaration'), ('software', 'B-VAL', 'variable_declaration'), ('engineering', 'I-VAL', 'variable_declaration')], [('under', 'O', 'variable_declaration'), ('the', 'O', 'variable_declaration'), ('name', 'O', 'variable_declaration'), ('delivery', 'B-VAR', 'variable_declaration'), ('address', 'I-VAR', 'variable_declaration'), ('define', 'O', 'variable_declaration'), ('a', 'O', 'variable_declaration'), ('new', 'O', 'variable_declaration'), ('variable', 'O', 'variable_declaration'), ('and', 'O', 'variable_declaration'), ('value', 'O', 'variable_declaration'), ('car', 'B-VAL', 'variable_declaration'), ('bus', 'B-VAL', 'variable_declaration'), ('train', 'B-VAL', 'variable_declaration'), ('plane', 'B-VAL', 'variable_declaration'), ('bicycle', 'B-VAL', 'variable_declaration')], [('under', 'O', 'variable_declaration'), ('the', 'O', 'variable_declaration'), ('name', 'O', 'variable_declaration'), ('map', 'B-VAR', 'variable_declaration'), ('location', 'I-VAR', 'variable_declaration'), ('set', 'O', 'variable_declaration'), ('a', 'O', 'variable_declaration'), ('new', 'O', 'variable_declaration'), ('variable', 'O', 'variable_declaration'), ('and', 'O', 'variable_declaration'), ('value', 'O', 'variable_declaration'), ('SEMI-SUPERVISED', 'B-VAL', 'variable_declaration'), ('LEARNING', 'I-VAL', 'variable_declaration')], [('make', 'O', 'variable_declaration'), ('a', 'O', 'variable_declaration'), ('variable', 'O', 'variable_declaration'), ('called', 'O', 'variable_declaration'), ('building', 'B-VAR', 'variable_declaration'), ('number', 'I-VAR', 'variable_declaration'), ('and', 'O', 'variable_declaration'), ('set', 'O', 'variable_declaration'), ('it', 'O', 'variable_declaration'), ('to', 'O', 'variable_declaration'), ('Software', 'B-VAL', 'variable_declaration'), ('Development', 'I-VAL', 'variable_declaration')], [('set', 'O', 'variable_declaration'), ('a', 'O', 'variable_declaration'), ('variable', 'O', 'variable_declaration'), ('with', 'O', 'variable_declaration'), ('the', 'O', 'variable_declaration'), ('name', 'O', 'variable_declaration'), ('colleague', 'B-VAR', 'variable_declaration'), ('email', 'I-VAR', 'variable_declaration'), ('and', 'O', 'variable_declaration'), ('set', 'O', 'variable_declaration'), ('it', 'O', 'variable_declaration'), ('to', 'O', 'variable_declaration'), ('Full', 'B-VAL', 'variable_declaration'), ('Stack', 'I-VAL', 'variable_declaration'), ('Developer', 'I-VAL', 'variable_declaration')], [('initialize', 'O', 'variable_declaration'), ('a', 'O', 'variable_declaration'), ('variable', 'O', 'variable_declaration'), ('labelled', 'O', 'variable_declaration'), ('as', 'O', 'variable_declaration'), ('app', 'B-VAR', 'variable_declaration'), ('config', 'I-VAR', 'variable_declaration'), ('and', 'O', 'variable_declaration'), ('set', 'O', 'variable_declaration'), ('it', 'O', 'variable_declaration'), ('to', 'O', 'variable_declaration'), ('DATA', 'B-VAL', 'variable_declaration'), ('MINING', 'I-VAL', 'variable_declaration')], [('make', 'O', 'variable_declaration'), ('a', 'O', 'variable_declaration'), ('variable', 'O', 'variable_declaration'), ('titled', 'O', 'variable_declaration'), ('user', 'B-VAR', 'variable_declaration'), ('type', 'I-VAR', 'variable_declaration'), ('and', 'O', 'variable_declaration'), ('set', 'O', 'variable_declaration'), ('it', 'O', 'variable_declaration'), ('to', 'O', 'variable_declaration'), ('-555555', 'B-VAL', 'variable_declaration')], [('initialize', 'O', 'variable_declaration'), ('a', 'O', 'variable_declaration'), ('variable', 'O', 'variable_declaration'), ('called', 'O', 'variable_declaration'), ('count', 'B-VAR', 'variable_declaration'), ('and', 'O', 'variable_declaration'), ('set', 'O', 'variable_declaration'), ('it', 'O', 'variable_declaration'), ('to', 'O', 'variable_declaration'), ('444444', 'B-VAL', 'variable_declaration')], [('declare', 'O', 'variable_declaration'), ('a', 'O', 'variable_declaration'), ('variable', 'O', 'variable_declaration'), ('under', 'O', 'variable_declaration'), ('the', 'O', 'variable_declaration'), ('name', 'I-VAR', 'variable_declaration'), ('street', 'B-VAR', 'variable_declaration'), ('name', 'O', 'variable_declaration'), ('and', 'O', 'variable_declaration'), ('set', 'O', 'variable_declaration'), ('it', 'O', 'variable_declaration'), ('to', 'O', 'variable_declaration'), ('505050', 'B-VAL', 'variable_declaration')], [('initialize', 'O', 'variable_declaration'), ('a', 'O', 'variable_declaration'), ('variable', 'O', 'variable_declaration'), ('called', 'O', 'variable_declaration'), ('as', 'O', 'variable_declaration'), ('street', 'B-VAR', 'variable_declaration'), ('name', 'I-VAR', 'variable_declaration'), ('and', 'O', 'variable_declaration'), ('set', 'O', 'variable_declaration'), ('it', 'O', 'variable_declaration'), ('to', 'O', 'variable_declaration'), ('-54321', 'B-VAL', 'variable_declaration')], [('make', 'O', 'variable_declaration'), ('a', 'O', 'variable_declaration'), ('variable', 'O', 'variable_declaration'), ('under', 'O', 'variable_declaration'), ('the', 'O', 'variable_declaration'), ('name', 'O', 'variable_declaration'), ('current', 'B-VAR', 'variable_declaration'), ('date', 'I-VAR', 'variable_declaration'), ('and', 'O', 'variable_declaration'), ('assign', 'O', 'variable_declaration'), ('Code', 'B-VAL', 'variable_declaration'), ('Review', 'I-VAL', 'variable_declaration'), ('to', 'O', 'variable_declaration'), ('it', 'O', 'variable_declaration')], [('make', 'O', 'variable_declaration'), ('a', 'O', 'variable_declaration'), ('variable', 'O', 'variable_declaration'), ('called', 'O', 'variable_declaration'), ('as', 'O', 'variable_declaration'), ('account', 'B-VAR', 'variable_declaration'), ('balance', 'I-VAR', 'variable_declaration'), ('and', 'O', 'variable_declaration'), ('assign', 'O', 'variable_declaration'), ('apple', 'B-VAL', 'variable_declaration'), ('banana', 'B-VAL', 'variable_declaration'), ('and', 'O', 'variable_declaration'), ('cherry', 'B-VAL', 'variable_declaration'), ('to', 'O', 'variable_declaration'), ('it', 'O', 'variable_declaration')], [('initialize', 'O', 'variable_declaration'), ('a', 'O', 'variable_declaration'), ('variable', 'O', 'variable_declaration'), ('identified', 'O', 'variable_declaration'), ('as', 'O', 'variable_declaration'), ('secondary', 'B-VAR', 'variable_declaration'), ('contact', 'I-VAR', 'variable_declaration'), ('and', 'O', 'variable_declaration'), ('assign', 'O', 'variable_declaration'), ('-1e-07', 'B-VAL', 'variable_declaration'), ('to', 'O', 'variable_declaration'), ('it', 'O', 'variable_declaration')], [('make', 'O', 'variable_declaration'), ('a', 'O', 'variable_declaration'), ('variable', 'O', 'variable_declaration'), ('called', 'O', 'variable_declaration'), ('as', 'O', 'variable_declaration'), ('account', 'B-VAR', 'variable_declaration'), ('balance', 'I-VAR', 'variable_declaration'), ('and', 'O', 'variable_declaration'), ('assign', 'O', 'variable_declaration'), ('SEMI-SUPERVISED', 'B-VAL', 'variable_declaration'), ('LEARNING', 'I-VAL', 'variable_declaration'), ('to', 'O', 'variable_declaration'), ('it', 'O', 'variable_declaration')], [('initialize', 'O', 'variable_declaration'), ('a', 'O', 'variable_declaration'), ('variable', 'O', 'variable_declaration'), ('identified', 'O', 'variable_declaration'), ('as', 'O', 'variable_declaration'), ('iteration', 'B-VAR', 'variable_declaration'), ('and', 'O', 'variable_declaration'), ('assign', 'O', 'variable_declaration'), ('project', 'B-VAL', 'variable_declaration'), ('management', 'I-VAL', 'variable_declaration'), ('to', 'O', 'variable_declaration'), ('it', 'O', 'variable_declaration')], [('define', 'O', 'variable_declaration'), ('a', 'O', 'variable_declaration'), ('variable', 'O', 'variable_declaration'), ('titled', 'O', 'variable_declaration'), ('as', 'O', 'variable_declaration'), ('total', 'B-VAR', 'variable_declaration'), ('amount', 'I-VAR', 'variable_declaration'), ('and', 'O', 'variable_declaration'), ('assign', 'O', 'variable_declaration'), ('45', 'B-VAL', 'variable_declaration'), ('to', 'O', 'variable_declaration'), ('it', 'O', 'variable_declaration')], [('create', 'O', 'variable_declaration'), ('variable', 'O', 'variable_declaration'), ('named', 'O', 'variable_declaration'), ('as', 'O', 'variable_declaration'), ('user', 'B-VAR', 'variable_declaration'), ('name', 'I-VAR', 'variable_declaration'), ('and', 'O', 'variable_declaration'), ('initialize', 'O', 'variable_declaration'), ('it', 'O', 'variable_declaration'), ('to', 'O', 'variable_declaration'), ('232323', 'B-VAL', 'variable_declaration')], [('set', 'O', 'variable_declaration'), ('variable', 'O', 'variable_declaration'), ('under', 'O', 'variable_declaration'), ('the', 'O', 'variable_declaration'), ('name', 'O', 'variable_declaration'), ('count', 'B-VAR', 'variable_declaration'), ('and', 'O', 'variable_declaration'), ('assign', 'O', 'variable_declaration'), ('with', 'O', 'variable_declaration'), ('Artificial', 'B-VAL', 'variable_declaration'), ('Intelligence', 'I-VAL', 'variable_declaration')], [('create', 'O', 'variable_declaration'), ('variable', 'O', 'variable_declaration'), ('named', 'O', 'variable_declaration'), ('file', 'B-VAR', 'variable_declaration'), ('path', 'I-VAR', 'variable_declaration'), ('and', 'O', 'variable_declaration'), ('assign', 'O', 'variable_declaration'), ('with', 'O', 'variable_declaration'), ('232323', 'B-VAL', 'variable_declaration')], [('initialize', 'O', 'variable_declaration'), ('variable', 'O', 'variable_declaration'), ('called', 'O', 'variable_declaration'), ('account', 'B-VAR', 'variable_declaration'), ('balance', 'I-VAR', 'variable_declaration'), ('and', 'O', 'variable_declaration'), ('initialize', 'O', 'variable_declaration'), ('it', 'O', 'variable_declaration'), ('to', 'O', 'variable_declaration'), ('code', 'B-VAL', 'variable_declaration'), ('review', 'I-VAL', 'variable_declaration')], [('make', 'O', 'variable_declaration'), ('variable', 'O', 'variable_declaration'), ('with', 'O', 'variable_declaration'), ('name', 'O', 'variable_declaration'), ('loop', 'B-VAR', 'variable_declaration'), ('index', 'I-VAR', 'variable_declaration'), ('and', 'O', 'variable_declaration'), ('set', 'O', 'variable_declaration'), ('Machine', 'B-VAL', 'variable_declaration'), ('Learning', 'I-VAL', 'variable_declaration')], [('declare', 'O', 'variable_declaration'), ('variable', 'O', 'variable_declaration'), ('titled', 'O', 'variable_declaration'), ('net', 'B-VAR', 'variable_declaration'), ('profit', 'I-VAR', 'variable_declaration'), ('and', 'O', 'variable_declaration'), ('value', 'O', 'variable_declaration'), ('252525', 'B-VAL', 'variable_declaration')], [('create', 'O', 'variable_declaration'), ('variable', 'O', 'variable_declaration'), ('called', 'O', 'variable_declaration'), ('as', 'O', 'variable_declaration'), ('user', 'B-VAR', 'variable_declaration'), ('email', 'I-VAR', 'variable_declaration'), ('and', 'O', 'variable_declaration'), ('value', 'O', 'variable_declaration'), ('data', 'B-VAL', 'variable_declaration'), ('visualization', 'I-VAL', 'variable_declaration')], [('initialize', 'O', 'variable_declaration'), ('variable', 'O', 'variable_declaration'), ('called', 'O', 'variable_declaration'), ('as', 'O', 'variable_declaration'), ('emergency', 'B-VAR', 'variable_declaration'), ('contact', 'I-VAR', 'variable_declaration'), ('and', 'O', 'variable_declaration'), ('value', 'O', 'variable_declaration'), ('software', 'B-VAL', 'variable_declaration'), ('engineering', 'I-VAL', 'variable_declaration')], [('set', 'O', 'variable_declaration'), ('variable', 'O', 'variable_declaration'), ('labelled', 'O', 'variable_declaration'), ('employee', 'B-VAR', 'variable_declaration'), ('record', 'I-VAR', 'variable_declaration'), ('and', 'O', 'variable_declaration'), ('value', 'O', 'variable_declaration'), ('2.99792458', 'B-VAL', 'variable_declaration')], [('declare', 'O', 'variable_declaration'), ('variable', 'O', 'variable_declaration'), ('under', 'O', 'variable_declaration'), ('the', 'O', 'variable_declaration'), ('name', 'O', 'variable_declaration'), ('account', 'B-VAR', 'variable_declaration'), ('balance', 'I-VAR', 'variable_declaration'), ('and', 'O', 'variable_declaration'), ('value', 'O', 'variable_declaration'), ('functional', 'B-VAL', 'variable_declaration'), ('programming', 'I-VAL', 'variable_declaration')], [('define', 'O', 'variable_declaration'), ('variable', 'O', 'variable_declaration'), ('identified', 'O', 'variable_declaration'), ('as', 'O', 'variable_declaration'), ('alternate', 'B-VAR', 'variable_declaration'), ('address', 'I-VAR', 'variable_declaration'), ('and', 'O', 'variable_declaration'), ('value', 'O', 'variable_declaration'), ('false', 'B-VAL', 'variable_declaration')], [('set', 'O', 'variable_declaration'), ('variable', 'O', 'variable_declaration'), ('identified', 'O', 'variable_declaration'), ('as', 'O', 'variable_declaration'), ('settings', 'B-VAR', 'variable_declaration'), ('and', 'O', 'variable_declaration'), ('value', 'O', 'variable_declaration'), ('0.333333', 'B-VAL', 'variable_declaration')], [('initialize', 'O', 'variable_declaration'), ('variable', 'O', 'variable_declaration'), ('called', 'O', 'variable_declaration'), ('as', 'O', 'variable_declaration'), ('office', 'B-VAR', 'variable_declaration'), ('location', 'I-VAR', 'variable_declaration'), ('and', 'O', 'variable_declaration'), ('value', 'O', 'variable_declaration'), ('-262626', 'B-VAL', 'variable_declaration')], [('make', 'O', 'variable_declaration'), ('variable', 'O', 'variable_declaration'), ('named', 'O', 'variable_declaration'), ('as', 'O', 'variable_declaration'), ('category', 'B-VAR', 'variable_declaration'), ('type', 'I-VAR', 'variable_declaration'), ('and', 'O', 'variable_declaration'), ('value', 'O', 'variable_declaration'), ('object', 'B-VAL', 'variable_declaration'), ('oriented', 'I-VAL', 'variable_declaration'), ('programming', 'I-VAL', 'variable_declaration')], [('define', 'O', 'variable_declaration'), ('variable', 'O', 'variable_declaration'), ('under', 'O', 'variable_declaration'), ('the', 'O', 'variable_declaration'), ('name', 'O', 'variable_declaration'), ('net', 'B-VAR', 'variable_declaration'), ('profit', 'I-VAR', 'variable_declaration'), ('and', 'O', 'variable_declaration'), ('value', 'O', 'variable_declaration'), ('this', 'B-VAL', 'variable_declaration'), ('is', 'I-VAL', 'variable_declaration'), ('a', 'I-VAL', 'variable_declaration'), ('test', 'I-VAL', 'variable_declaration')], [('define', 'O', 'variable_declaration'), ('an', 'O', 'variable_declaration'), ('empty', 'B-VAL', 'variable_declaration'), ('array', 'B-TYPE', 'variable_declaration'), ('labelled', 'O', 'variable_declaration'), ('as', 'O', 'variable_declaration'), ('total', 'B-VAR', 'variable_declaration'), ('revenue', 'I-VAR', 'variable_declaration')], [('initialize', 'O', 'variable_declaration'), ('an', 'O', 'variable_declaration'), ('empty', 'B-VAL', 'variable_declaration'), ('array', 'B-TYPE', 'variable_declaration'), ('called', 'O', 'variable_declaration'), ('as', 'O', 'variable_declaration'), ('total', 'B-VAR', 'variable_declaration'), ('amount', 'I-VAR', 'variable_declaration')], [('initialize', 'O', 'variable_declaration'), ('an', 'O', 'variable_declaration'), ('empty', 'B-VAL', 'variable_declaration'), ('array', 'B-TYPE', 'variable_declaration'), ('with', 'O', 'variable_declaration'), ('name', 'I-VAR', 'variable_declaration'), ('user', 'B-VAR', 'variable_declaration'), ('name', 'O', 'variable_declaration')], [('initialize', 'O', 'variable_declaration'), ('an', 'O', 'variable_declaration'), ('empty', 'B-VAL', 'variable_declaration'), ('array', 'B-TYPE', 'variable_declaration'), ('labelled', 'O', 'variable_declaration'), ('as', 'O', 'variable_declaration'), ('data', 'B-VAR', 'variable_declaration')], [('create', 'O', 'variable_declaration'), ('an', 'O', 'variable_declaration'), ('empty', 'B-VAL', 'variable_declaration'), ('array', 'B-TYPE', 'variable_declaration'), ('called', 'O', 'variable_declaration'), ('as', 'O', 'variable_declaration'), ('k', 'B-VAR', 'variable_declaration')], [('make', 'O', 'variable_declaration'), ('an', 'O', 'variable_declaration'), ('empty', 'B-VAL', 'variable_declaration'), ('array', 'B-TYPE', 'variable_declaration'), ('labelled', 'O', 'variable_declaration'), ('as', 'O', 'variable_declaration'), ('system', 'B-VAR', 'variable_declaration'), ('properties', 'I-VAR', 'variable_declaration')], [('create', 'O', 'variable_declaration'), ('an', 'O', 'variable_declaration'), ('empty', 'B-VAL', 'variable_declaration'), ('array', 'B-TYPE', 'variable_declaration'), ('called', 'O', 'variable_declaration'), ('preferences', 'B-VAR', 'variable_declaration')], [('initialize', 'O', 'variable_declaration'), ('an', 'O', 'variable_declaration'), ('empty', 'B-VAL', 'variable_declaration'), ('array', 'B-TYPE', 'variable_declaration'), ('named', 'O', 'variable_declaration'), ('as', 'O', 'variable_declaration'), ('completed', 'B-VAR', 'variable_declaration')], [('declare', 'O', 'variable_declaration'), ('an', 'O', 'variable_declaration'), ('empty', 'B-VAL', 'variable_declaration'), ('array', 'B-TYPE', 'variable_declaration'), ('identified', 'O', 'variable_declaration'), ('product', 'B-VAR', 'variable_declaration'), ('set', 'I-VAR', 'variable_declaration')], [('declare', 'O', 'variable_declaration'), ('an', 'O', 'variable_declaration'), ('empty', 'B-VAL', 'variable_declaration'), ('list', 'B-TYPE', 'variable_declaration'), ('labelled', 'O', 'variable_declaration'), ('order', 'B-VAR', 'variable_declaration'), ('number', 'I-VAR', 'variable_declaration')], [('make', 'O', 'variable_declaration'), ('an', 'O', 'variable_declaration'), ('empty', 'B-VAL', 'variable_declaration'), ('list', 'B-TYPE', 'variable_declaration'), ('named', 'O', 'variable_declaration'), ('country', 'B-VAR', 'variable_declaration'), ('code', 'I-VAR', 'variable_declaration')], [('create', 'O', 'variable_declaration'), ('an', 'O', 'variable_declaration'), ('empty', 'B-VAL', 'variable_declaration'), ('list', 'B-TYPE', 'variable_declaration'), ('titled', 'O', 'variable_declaration'), ('user', 'B-VAR', 'variable_declaration'), ('name', 'I-VAR', 'variable_declaration')], [('initialize', 'O', 'variable_declaration'), ('an', 'O', 'variable_declaration'), ('empty', 'B-VAL', 'variable_declaration'), ('list', 'B-TYPE', 'variable_declaration'), ('identified', 'O', 'variable_declaration'), ('as', 'O', 'variable_declaration'), ('index', 'B-VAR', 'variable_declaration')], [('make', 'O', 'variable_declaration'), ('an', 'O', 'variable_declaration'), ('empty', 'B-VAL', 'variable_declaration'), ('list', 'B-TYPE', 'variable_declaration'), ('with', 'O', 'variable_declaration'), ('the', 'O', 'variable_declaration'), ('name', 'O', 'variable_declaration'), ('start', 'B-VAR', 'variable_declaration'), ('date', 'I-VAR', 'variable_declaration')], [('create', 'O', 'variable_declaration'), ('an', 'O', 'variable_declaration'), ('empty', 'B-VAL', 'variable_declaration'), ('list', 'B-TYPE', 'variable_declaration'), ('with', 'O', 'variable_declaration'), ('name', 'O', 'variable_declaration'), ('net', 'B-VAR', 'variable_declaration'), ('profit', 'I-VAR', 'variable_declaration')], [('define', 'O', 'variable_declaration'), ('an', 'O', 'variable_declaration'), ('empty', 'B-VAL', 'variable_declaration'), ('list', 'B-TYPE', 'variable_declaration'), ('identified', 'O', 'variable_declaration'), ('as', 'O', 'variable_declaration'), ('temp', 'B-VAR', 'variable_declaration')], [('define', 'O', 'variable_declaration'), ('an', 'O', 'variable_declaration'), ('empty', 'B-VAL', 'variable_declaration'), ('dictionary', 'B-TYPE', 'variable_declaration'), ('titled', 'O', 'variable_declaration'), ('config', 'B-VAR', 'variable_declaration'), ('path', 'I-VAR', 'variable_declaration')], [('make', 'O', 'variable_declaration'), ('an', 'O', 'variable_declaration'), ('empty', 'B-VAL', 'variable_declaration'), ('dictionary', 'B-TYPE', 'variable_declaration'), ('with', 'O', 'variable_declaration'), ('the', 'O', 'variable_declaration'), ('name', 'O', 'variable_declaration'), ('string', 'B-VAR', 'variable_declaration'), ('buffer', 'I-VAR', 'variable_declaration')], [('make', 'O', 'variable_declaration'), ('an', 'O', 'variable_declaration'), ('empty', 'B-VAL', 'variable_declaration'), ('dictionary', 'B-TYPE', 'variable_declaration'), ('titled', 'O', 'variable_declaration'), ('as', 'O', 'variable_declaration'), ('is', 'B-VAR', 'variable_declaration'), ('deleted', 'I-VAR', 'variable_declaration')], [('set', 'O', 'variable_declaration'), ('an', 'O', 'variable_declaration'), ('empty', 'B-VAL', 'variable_declaration'), ('dictionary', 'B-TYPE', 'variable_declaration'), ('labelled', 'O', 'variable_declaration'), ('reorder', 'B-VAR', 'variable_declaration'), ('point', 'I-VAR', 'variable_declaration')], [('define', 'O', 'variable_declaration'), ('an', 'O', 'variable_declaration'), ('empty', 'B-VAL', 'variable_declaration'), ('dictionary', 'B-TYPE', 'variable_declaration'), ('labelled', 'O', 'variable_declaration'), ('as', 'O', 'variable_declaration'), ('sibling', 'B-VAR', 'variable_declaration'), ('count', 'I-VAR', 'variable_declaration')], [('set', 'O', 'variable_declaration'), ('a', 'O', 'variable_declaration'), ('new', 'O', 'variable_declaration'), ('list', 'B-TYPE', 'variable_declaration'), ('identified', 'O', 'variable_declaration'), ('current', 'B-VAR', 'variable_declaration'), ('date', 'I-VAR', 'variable_declaration'), ('and', 'O', 'variable_declaration'), ('set', 'O', 'variable_declaration'), ('it', 'O', 'variable_declaration'), ('to', 'O', 'variable_declaration'), ('1.1', 'B-VAL', 'variable_declaration'), ('2.2', 'B-VAL', 'variable_declaration'), ('3.3', 'B-VAL', 'variable_declaration'), ('4.4', 'B-VAL', 'variable_declaration'), ('5.5', 'B-VAL', 'variable_declaration')], [('define', 'O', 'variable_declaration'), ('a', 'O', 'variable_declaration'), ('new', 'O', 'variable_declaration'), ('double', 'B-TYPE', 'variable_declaration'), ('called', 'O', 'variable_declaration'), ('counter', 'B-VAR', 'variable_declaration'), ('and', 'O', 'variable_declaration'), ('set', 'O', 'variable_declaration'), ('it', 'O', 'variable_declaration'), ('to', 'O', 'variable_declaration'), ('7.1234', 'B-VAL', 'variable_declaration')], [('create', 'O', 'variable_declaration'), ('a', 'O', 'variable_declaration'), ('new', 'O', 'variable_declaration'), ('int', 'B-TYPE', 'variable_declaration'), ('called', 'O', 'variable_declaration'), ('guardian', 'B-VAR', 'variable_declaration'), ('name', 'I-VAR', 'variable_declaration'), ('and', 'O', 'variable_declaration'), ('set', 'O', 'variable_declaration'), ('it', 'O', 'variable_declaration'), ('to', 'O', 'variable_declaration'), ('8675309', 'B-VAL', 'variable_declaration')], [('declare', 'O', 'variable_declaration'), ('a', 'O', 'variable_declaration'), ('new', 'O', 'variable_declaration'), ('character', 'B-TYPE', 'variable_declaration'), ('identified', 'O', 'variable_declaration'), ('is', 'B-VAR', 'variable_declaration'), ('active', 'I-VAR', 'variable_declaration'), ('and', 'O', 'variable_declaration'), ('set', 'O', 'variable_declaration'), ('it', 'O', 'variable_declaration'), ('to', 'O', 'variable_declaration'), ('', 'O', 'variable_declaration')], [('create', 'O', 'variable_declaration'), ('a', 'O', 'variable_declaration'), ('new', 'O', 'variable_declaration'), ('string', 'B-TYPE', 'variable_declaration'), ('named', 'O', 'variable_declaration'), ('iteration', 'B-VAR', 'variable_declaration'), ('and', 'O', 'variable_declaration'), ('set', 'O', 'variable_declaration'), ('it', 'O', 'variable_declaration'), ('to', 'O', 'variable_declaration'), ('algorithm', 'B-VAL', 'variable_declaration'), ('design', 'I-VAL', 'variable_declaration')], [('create', 'O', 'variable_declaration'), ('a', 'O', 'variable_declaration'), ('new', 'O', 'variable_declaration'), ('boolean', 'B-TYPE', 'variable_declaration'), ('named', 'O', 'variable_declaration'), ('as', 'O', 'variable_declaration'), ('mentor', 'B-VAR', 'variable_declaration'), ('id', 'I-VAR', 'variable_declaration'), ('and', 'O', 'variable_declaration'), ('set', 'O', 'variable_declaration'), ('it', 'O', 'variable_declaration'), ('to', 'O', 'variable_declaration'), ('false', 'B-VAL', 'variable_declaration')]]\n"
     ]
    }
   ],
   "source": []
  },
  {
   "cell_type": "code",
   "execution_count": 16,
   "metadata": {},
   "outputs": [],
   "source": [
    "# Convert label to index\n",
    "y = [[tag_to_index[w[1]] for w in s] for s in sentences]\n",
    "\n",
    "# padding\n",
    "y = keras.utils.pad_sequences(maxlen = max_sentence_length, sequences = y, padding = \"post\", value = tag_to_index[\"PAD\"])"
   ]
  },
  {
   "cell_type": "code",
   "execution_count": 17,
   "metadata": {},
   "outputs": [
    {
     "name": "stdout",
     "output_type": "stream",
     "text": [
      "Number of tags: 6\n"
     ]
    }
   ],
   "source": [
    "num_tag = data['Tag'].nunique()\n",
    "print(\"Number of tags:\", num_tag)\n",
    "# One hot encoded labels\n",
    "y = [keras.utils.to_categorical(i, num_classes = num_tag + 1) for i in y]"
   ]
  },
  {
   "cell_type": "code",
   "execution_count": 18,
   "metadata": {},
   "outputs": [],
   "source": [
    "X_train, X_test, y_train, y_test = train_test_split(X, y, test_size = 0.15)"
   ]
  },
  {
   "cell_type": "code",
   "execution_count": 19,
   "metadata": {},
   "outputs": [
    {
     "name": "stdout",
     "output_type": "stream",
     "text": [
      "Size of training input data :  (125, 20)\n",
      "Size of training output data :  (125, 20, 7)\n",
      "Size of testing input data :  (23, 20)\n",
      "Size of testing output data :  (23, 20, 7)\n"
     ]
    }
   ],
   "source": [
    "print(\"Size of training input data : \", X_train.shape)\n",
    "print(\"Size of training output data : \", np.array(y_train).shape)\n",
    "print(\"Size of testing input data : \", X_test.shape)\n",
    "print(\"Size of testing output data : \", np.array(y_test).shape)"
   ]
  },
  {
   "cell_type": "code",
   "execution_count": 20,
   "metadata": {},
   "outputs": [
    {
     "name": "stdout",
     "output_type": "stream",
     "text": [
      "*****Before Processing first sentence : *****\n",
      " is approved equals clustering algorithms\n",
      "*****After Processing first sentence : *****\n",
      "  [2 3 4 5 6 0 0 0 0 0 0 0 0 0 0 0 0 0 0 0]\n"
     ]
    }
   ],
   "source": [
    "# Let's check the first sentence before and after processing.\n",
    "print('*****Before Processing first sentence : *****\\n', ' '.join([w[0] for w in sentences[0]]))\n",
    "print('*****After Processing first sentence : *****\\n ', X[0])"
   ]
  },
  {
   "cell_type": "code",
   "execution_count": 21,
   "metadata": {},
   "outputs": [
    {
     "name": "stdout",
     "output_type": "stream",
     "text": [
      "*****Before Processing first sentence : *****\n",
      " B-VAR I-VAR O B-VAL I-VAL\n",
      "*****After Processing first sentence : *****\n",
      "  [[0. 1. 0. 0. 0. 0. 0.]\n",
      " [0. 0. 1. 0. 0. 0. 0.]\n",
      " [0. 0. 0. 1. 0. 0. 0.]\n",
      " [0. 0. 0. 0. 1. 0. 0.]\n",
      " [0. 0. 0. 0. 0. 1. 0.]\n",
      " [1. 0. 0. 0. 0. 0. 0.]\n",
      " [1. 0. 0. 0. 0. 0. 0.]\n",
      " [1. 0. 0. 0. 0. 0. 0.]\n",
      " [1. 0. 0. 0. 0. 0. 0.]\n",
      " [1. 0. 0. 0. 0. 0. 0.]\n",
      " [1. 0. 0. 0. 0. 0. 0.]\n",
      " [1. 0. 0. 0. 0. 0. 0.]\n",
      " [1. 0. 0. 0. 0. 0. 0.]\n",
      " [1. 0. 0. 0. 0. 0. 0.]\n",
      " [1. 0. 0. 0. 0. 0. 0.]\n",
      " [1. 0. 0. 0. 0. 0. 0.]\n",
      " [1. 0. 0. 0. 0. 0. 0.]\n",
      " [1. 0. 0. 0. 0. 0. 0.]\n",
      " [1. 0. 0. 0. 0. 0. 0.]\n",
      " [1. 0. 0. 0. 0. 0. 0.]]\n"
     ]
    }
   ],
   "source": [
    "# First label before and after processing.\n",
    "print('*****Before Processing first sentence : *****\\n', ' '.join([w[1] for w in sentences[0]]))\n",
    "print('*****After Processing first sentence : *****\\n ', y[0])"
   ]
  },
  {
   "cell_type": "code",
   "execution_count": 22,
   "metadata": {},
   "outputs": [],
   "source": [
    "\n",
    "num_tags = data['Tag'].nunique()\n",
    "\n",
    "# Define custom CRF loss function\n",
    "def crf_loss(y_true, y_pred):\n",
    "    crf_layer = tfa.layers.CRF(num_tags + 1)\n",
    "    # Get log likelihood loss\n",
    "    log_likelihood, _ = crf_layer(y_true, y_pred)\n",
    "    return -log_likelihood\n",
    "\n",
    "# Define custom accuracy metric for CRF\n",
    "def crf_accuracy(y_true, y_pred):\n",
    "    crf_layer = tfa.layers.CRF(num_tags + 1)\n",
    "    # Predict tags\n",
    "    pred_tags, _ = crf_layer.viterbi_decoding(y_pred)\n",
    "    true_tags = tf.argmax(y_true, axis=-1)\n",
    "    # Calculate accuracy excluding padding\n",
    "    mask = tf.not_equal(true_tags, 0)\n",
    "    matches = tf.equal(pred_tags, true_tags)\n",
    "    matches = tf.logical_and(matches, mask)\n",
    "    accuracy = tf.reduce_sum(tf.cast(matches, tf.float32)) / tf.reduce_sum(tf.cast(mask, tf.float32))\n",
    "    return accuracy"
   ]
  },
  {
   "cell_type": "code",
   "execution_count": 29,
   "metadata": {},
   "outputs": [
    {
     "ename": "AttributeError",
     "evalue": "'CRF' object has no attribute 'loss'",
     "output_type": "error",
     "traceback": [
      "\u001b[1;31m---------------------------------------------------------------------------\u001b[0m",
      "\u001b[1;31mAttributeError\u001b[0m                            Traceback (most recent call last)",
      "Cell \u001b[1;32mIn[29], line 12\u001b[0m\n\u001b[0;32m     10\u001b[0m model \u001b[38;5;241m=\u001b[39m keras\u001b[38;5;241m.\u001b[39mmodels\u001b[38;5;241m.\u001b[39mModel(\u001b[38;5;28minput\u001b[39m, out)\n\u001b[0;32m     11\u001b[0m \u001b[38;5;66;03m# model = ModelWithCRFLoss(model, sparse_target=True)\u001b[39;00m\n\u001b[1;32m---> 12\u001b[0m model\u001b[38;5;241m.\u001b[39mcompile(optimizer\u001b[38;5;241m=\u001b[39m\u001b[38;5;124m\"\u001b[39m\u001b[38;5;124mrmsprop\u001b[39m\u001b[38;5;124m\"\u001b[39m, loss\u001b[38;5;241m=\u001b[39m\u001b[43mcrf\u001b[49m\u001b[38;5;241;43m.\u001b[39;49m\u001b[43mloss\u001b[49m)\n\u001b[0;32m     14\u001b[0m model\u001b[38;5;241m.\u001b[39msummary()\n",
      "\u001b[1;31mAttributeError\u001b[0m: 'CRF' object has no attribute 'loss'"
     ]
    },
    {
     "ename": "",
     "evalue": "",
     "output_type": "error",
     "traceback": [
      "\u001b[1;31mThe Kernel crashed while executing code in the current cell or a previous cell. \n",
      "\u001b[1;31mPlease review the code in the cell(s) to identify a possible cause of the failure. \n",
      "\u001b[1;31mClick <a href='https://aka.ms/vscodeJupyterKernelCrash'>here</a> for more info. \n",
      "\u001b[1;31mView Jupyter <a href='command:jupyter.viewOutput'>log</a> for further details."
     ]
    }
   ],
   "source": [
    "# Model architecture\n",
    "input = keras.layers.Input(shape = (max_sentence_length,))\n",
    "model = keras.layers.Embedding(input_dim = len(words) + 2, output_dim = word_embedding, input_length = max_sentence_length, mask_zero = True)(input)\n",
    "model = keras.layers.Bidirectional(keras.layers.LSTM(units = 50, return_sequences=True, recurrent_dropout=0.1))(model)\n",
    "model = keras.layers.TimeDistributed(keras.layers.Dense(50, activation=\"relu\"))(model)\n",
    "crf = CRF(num_tags+1)  # CRF layer\n",
    "out = crf(model)  # output\n",
    "\n",
    "model = keras.models.Model(input, out)\n",
    "model.compile(optimizer=\"rmsprop\")\n",
    "\n",
    "model.summary()"
   ]
  },
  {
   "cell_type": "code",
   "execution_count": null,
   "metadata": {},
   "outputs": [],
   "source": [
    "checkpointer = keras.callbacks.ModelCheckpoint(filepath = 'model.h5',\n",
    "                       verbose = 0,\n",
    "                       mode = 'auto',\n",
    "                       save_best_only = True,\n",
    "                       monitor='val_loss')"
   ]
  },
  {
   "cell_type": "code",
   "execution_count": 28,
   "metadata": {},
   "outputs": [
    {
     "name": "stdout",
     "output_type": "stream",
     "text": [
      "Epoch 1/10\n"
     ]
    },
    {
     "ename": "ValueError",
     "evalue": "in user code:\n\n    File \"c:\\Users\\yazmi\\AppData\\Local\\Programs\\Python\\Python310\\lib\\site-packages\\keras\\src\\engine\\training.py\", line 1377, in train_function  *\n        return step_function(self, iterator)\n    File \"c:\\Users\\yazmi\\AppData\\Local\\Programs\\Python\\Python310\\lib\\site-packages\\keras\\src\\engine\\training.py\", line 1360, in step_function  **\n        outputs = model.distribute_strategy.run(run_step, args=(data,))\n    File \"c:\\Users\\yazmi\\AppData\\Local\\Programs\\Python\\Python310\\lib\\site-packages\\keras\\src\\engine\\training.py\", line 1349, in run_step  **\n        outputs = model.train_step(data)\n    File \"c:\\Users\\yazmi\\AppData\\Local\\Programs\\Python\\Python310\\lib\\site-packages\\keras\\src\\engine\\training.py\", line 1128, in train_step\n        self._validate_target_and_loss(y, loss)\n    File \"c:\\Users\\yazmi\\AppData\\Local\\Programs\\Python\\Python310\\lib\\site-packages\\keras\\src\\engine\\training.py\", line 1092, in _validate_target_and_loss\n        raise ValueError(\n\n    ValueError: No loss found. You may have forgotten to provide a `loss` argument in the `compile()` method.\n",
     "output_type": "error",
     "traceback": [
      "\u001b[1;31m---------------------------------------------------------------------------\u001b[0m",
      "\u001b[1;31mValueError\u001b[0m                                Traceback (most recent call last)",
      "Cell \u001b[1;32mIn[28], line 1\u001b[0m\n\u001b[1;32m----> 1\u001b[0m history \u001b[38;5;241m=\u001b[39m \u001b[43mmodel\u001b[49m\u001b[38;5;241;43m.\u001b[39;49m\u001b[43mfit\u001b[49m\u001b[43m(\u001b[49m\u001b[43mX_train\u001b[49m\u001b[43m,\u001b[49m\u001b[43m \u001b[49m\u001b[43mnp\u001b[49m\u001b[38;5;241;43m.\u001b[39;49m\u001b[43marray\u001b[49m\u001b[43m(\u001b[49m\u001b[43my_train\u001b[49m\u001b[43m)\u001b[49m\u001b[43m,\u001b[49m\u001b[43m \u001b[49m\u001b[43mbatch_size\u001b[49m\u001b[38;5;241;43m=\u001b[39;49m\u001b[43mbatch_size\u001b[49m\u001b[43m,\u001b[49m\u001b[43m \u001b[49m\u001b[43mepochs\u001b[49m\u001b[38;5;241;43m=\u001b[39;49m\u001b[43mepochs\u001b[49m\u001b[43m,\u001b[49m\u001b[43m \u001b[49m\u001b[43mvalidation_split\u001b[49m\u001b[38;5;241;43m=\u001b[39;49m\u001b[38;5;241;43m0.1\u001b[39;49m\u001b[43m)\u001b[49m\n",
      "File \u001b[1;32mc:\\Users\\yazmi\\AppData\\Local\\Programs\\Python\\Python310\\lib\\site-packages\\keras\\src\\utils\\traceback_utils.py:70\u001b[0m, in \u001b[0;36mfilter_traceback.<locals>.error_handler\u001b[1;34m(*args, **kwargs)\u001b[0m\n\u001b[0;32m     67\u001b[0m     filtered_tb \u001b[38;5;241m=\u001b[39m _process_traceback_frames(e\u001b[38;5;241m.\u001b[39m__traceback__)\n\u001b[0;32m     68\u001b[0m     \u001b[38;5;66;03m# To get the full stack trace, call:\u001b[39;00m\n\u001b[0;32m     69\u001b[0m     \u001b[38;5;66;03m# `tf.debugging.disable_traceback_filtering()`\u001b[39;00m\n\u001b[1;32m---> 70\u001b[0m     \u001b[38;5;28;01mraise\u001b[39;00m e\u001b[38;5;241m.\u001b[39mwith_traceback(filtered_tb) \u001b[38;5;28;01mfrom\u001b[39;00m \u001b[38;5;28;01mNone\u001b[39;00m\n\u001b[0;32m     71\u001b[0m \u001b[38;5;28;01mfinally\u001b[39;00m:\n\u001b[0;32m     72\u001b[0m     \u001b[38;5;28;01mdel\u001b[39;00m filtered_tb\n",
      "File \u001b[1;32m~\\AppData\\Local\\Temp\\__autograph_generated_file28bwqfh3.py:15\u001b[0m, in \u001b[0;36mouter_factory.<locals>.inner_factory.<locals>.tf__train_function\u001b[1;34m(iterator)\u001b[0m\n\u001b[0;32m     13\u001b[0m \u001b[38;5;28;01mtry\u001b[39;00m:\n\u001b[0;32m     14\u001b[0m     do_return \u001b[38;5;241m=\u001b[39m \u001b[38;5;28;01mTrue\u001b[39;00m\n\u001b[1;32m---> 15\u001b[0m     retval_ \u001b[38;5;241m=\u001b[39m ag__\u001b[38;5;241m.\u001b[39mconverted_call(ag__\u001b[38;5;241m.\u001b[39mld(step_function), (ag__\u001b[38;5;241m.\u001b[39mld(\u001b[38;5;28mself\u001b[39m), ag__\u001b[38;5;241m.\u001b[39mld(iterator)), \u001b[38;5;28;01mNone\u001b[39;00m, fscope)\n\u001b[0;32m     16\u001b[0m \u001b[38;5;28;01mexcept\u001b[39;00m:\n\u001b[0;32m     17\u001b[0m     do_return \u001b[38;5;241m=\u001b[39m \u001b[38;5;28;01mFalse\u001b[39;00m\n",
      "\u001b[1;31mValueError\u001b[0m: in user code:\n\n    File \"c:\\Users\\yazmi\\AppData\\Local\\Programs\\Python\\Python310\\lib\\site-packages\\keras\\src\\engine\\training.py\", line 1377, in train_function  *\n        return step_function(self, iterator)\n    File \"c:\\Users\\yazmi\\AppData\\Local\\Programs\\Python\\Python310\\lib\\site-packages\\keras\\src\\engine\\training.py\", line 1360, in step_function  **\n        outputs = model.distribute_strategy.run(run_step, args=(data,))\n    File \"c:\\Users\\yazmi\\AppData\\Local\\Programs\\Python\\Python310\\lib\\site-packages\\keras\\src\\engine\\training.py\", line 1349, in run_step  **\n        outputs = model.train_step(data)\n    File \"c:\\Users\\yazmi\\AppData\\Local\\Programs\\Python\\Python310\\lib\\site-packages\\keras\\src\\engine\\training.py\", line 1128, in train_step\n        self._validate_target_and_loss(y, loss)\n    File \"c:\\Users\\yazmi\\AppData\\Local\\Programs\\Python\\Python310\\lib\\site-packages\\keras\\src\\engine\\training.py\", line 1092, in _validate_target_and_loss\n        raise ValueError(\n\n    ValueError: No loss found. You may have forgotten to provide a `loss` argument in the `compile()` method.\n"
     ]
    }
   ],
   "source": [
    "history = model.fit(X_train, np.array(y_train), batch_size=batch_size, epochs=epochs, validation_split=0.1)"
   ]
  }
 ],
 "metadata": {
  "kernelspec": {
   "display_name": "Python 3",
   "language": "python",
   "name": "python3"
  },
  "language_info": {
   "codemirror_mode": {
    "name": "ipython",
    "version": 3
   },
   "file_extension": ".py",
   "mimetype": "text/x-python",
   "name": "python",
   "nbconvert_exporter": "python",
   "pygments_lexer": "ipython3",
   "version": "3.10.9"
  }
 },
 "nbformat": 4,
 "nbformat_minor": 2
}
